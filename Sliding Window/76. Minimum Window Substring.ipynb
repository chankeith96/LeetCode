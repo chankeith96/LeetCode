{
 "cells": [
  {
   "cell_type": "markdown",
   "metadata": {},
   "source": [
    "[76. Minimum Window Substring](https://leetcode.com/problems/minimum-window-substring/)"
   ]
  },
  {
   "cell_type": "code",
   "execution_count": null,
   "metadata": {},
   "outputs": [],
   "source": [
    "class Solution:\n",
    "    def minWindow(self, s: str, t: str) -> str:\n",
    "        # Solution 1:\n",
    "        # - create 2 dictionaries for the char freqs in t and window\n",
    "        # - use two ints to compare how many chars we have in the window vs need from t\n",
    "        # - use l and r pointers. expand right pointer until have all chars.\n",
    "        # - move the left pointer to shrink the window until you no longer have all the chars we need\n",
    "        # - repeat prev 2 steps\n",
    "        # Time: O(n) \n",
    "        # Space: O(1)\n",
    "        t_counts, window = {}, {}\n",
    "        for c in t:\n",
    "            t_counts[c] = t_counts.get(c, 0) + 1\n",
    "\n",
    "        have, need = 0, len(t_counts)\n",
    "        left = 0 \n",
    "        min_window = (-1, -1)\n",
    "        min_window_len = float(\"infinity\")\n",
    "        for right in range(len(s)):\n",
    "            window[s[right]] = window.get(s[right], 0) + 1\n",
    "            if s[right] in t_counts and window[s[right]] == t_counts[s[right]]: #Must be == not >= else double counting\n",
    "                have += 1\n",
    "            \n",
    "            while have == need:\n",
    "                if right - left + 1 < min_window_len:\n",
    "                    min_window = (left, right)\n",
    "                    min_window_len = right - left + 1\n",
    "\n",
    "                window[s[left]] -= 1\n",
    "                if s[left] in t_counts and window[s[left]] < t_counts[s[left]]:\n",
    "                    have -= 1\n",
    "                left += 1    \n",
    "        return s[min_window[0]: min_window[1]+1]"
   ]
  },
  {
   "cell_type": "markdown",
   "metadata": {},
   "source": [
    "##### Edge Cases\n",
    "- \n"
   ]
  },
  {
   "cell_type": "markdown",
   "metadata": {},
   "source": [
    "##### Optimizations\n",
    "- Solution only stores left and right pointers, instead of storing min length substring. This is space optimization so you don't have to store a whole substring"
   ]
  },
  {
   "cell_type": "markdown",
   "metadata": {},
   "source": [
    "##### Learnings\n",
    "- float(\"infinity\")"
   ]
  }
 ],
 "metadata": {
  "kernelspec": {
   "display_name": "base",
   "language": "python",
   "name": "python3"
  },
  "language_info": {
   "codemirror_mode": {
    "name": "ipython",
    "version": 3
   },
   "file_extension": ".py",
   "mimetype": "text/x-python",
   "name": "python",
   "nbconvert_exporter": "python",
   "pygments_lexer": "ipython3",
   "version": "3.9.7"
  }
 },
 "nbformat": 4,
 "nbformat_minor": 2
}
