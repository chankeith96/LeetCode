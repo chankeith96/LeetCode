{
 "cells": [
  {
   "cell_type": "markdown",
   "metadata": {},
   "source": [
    "[121. Best Time to Buy and Sell Stock](https://leetcode.com/problems/best-time-to-buy-and-sell-stock/)"
   ]
  },
  {
   "cell_type": "code",
   "execution_count": null,
   "metadata": {},
   "outputs": [],
   "source": [
    "class Solution:\n",
    "    def maxProfit(self, prices: List[int]) -> int:\n",
    "        # # Solution 1: double for loop \n",
    "        # # Time: O(n^2) \n",
    "        # # Space: O(1)\n",
    "        # max_profit = 0\n",
    "        # for i in range(len(prices) - 1): \n",
    "        #     for j in range(i+1, len(prices)):\n",
    "        #         profit = prices[j] - prices[i]\n",
    "        #         max_profit = max(max_profit, profit)\n",
    "        # return max_profit\n",
    "\n",
    "        # Solution 2: Two pointer/sliding window \n",
    "        # - left pointer = 0, right pointer = 1\n",
    "        # - if left <= right, profit = price_r - price_l, shift right\n",
    "        # - if left > right, shift left all the way to right and right by 1\n",
    "        # Time: O(n)\n",
    "        # Space: O(1) \n",
    "        max_profit = 0\n",
    "        left_ptr = 0\n",
    "        right_ptr = 1\n",
    "        if len(prices) < 2:\n",
    "            return 0\n",
    "\n",
    "        while right_ptr < len(prices):\n",
    "            if prices[left_ptr] <= prices[right_ptr]:\n",
    "                profit = prices[right_ptr] - prices[left_ptr]\n",
    "                max_profit = max(max_profit, profit)\n",
    "                right_ptr += 1\n",
    "            else: \n",
    "                left_ptr = right_ptr\n",
    "                right_ptr += 1 \n",
    "        return max_profit\n"
   ]
  },
  {
   "cell_type": "markdown",
   "metadata": {},
   "source": [
    "##### Edge Cases\n",
    "- prices only go down, return 0"
   ]
  },
  {
   "cell_type": "markdown",
   "metadata": {},
   "source": [
    "##### Optimizations\n",
    "- "
   ]
  },
  {
   "cell_type": "markdown",
   "metadata": {},
   "source": [
    "##### Learnings\n",
    "- "
   ]
  }
 ],
 "metadata": {
  "kernelspec": {
   "display_name": "base",
   "language": "python",
   "name": "python3"
  },
  "language_info": {
   "codemirror_mode": {
    "name": "ipython",
    "version": 3
   },
   "file_extension": ".py",
   "mimetype": "text/x-python",
   "name": "python",
   "nbconvert_exporter": "python",
   "pygments_lexer": "ipython3",
   "version": "3.9.7"
  }
 },
 "nbformat": 4,
 "nbformat_minor": 2
}
