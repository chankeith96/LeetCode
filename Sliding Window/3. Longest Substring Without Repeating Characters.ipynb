{
 "cells": [
  {
   "cell_type": "markdown",
   "metadata": {},
   "source": [
    "[3. Longest Substring Without Repeating Characters](https://leetcode.com/problems/longest-substring-without-repeating-characters/)"
   ]
  },
  {
   "cell_type": "code",
   "execution_count": null,
   "metadata": {},
   "outputs": [],
   "source": [
    "class Solution:\n",
    "    def lengthOfLongestSubstring(self, s: str) -> int:\n",
    "        # # Solution 1: Check every substring\n",
    "        # # - double for loop to check all substrings\n",
    "        # # - check if substrings have repeated chars\n",
    "        # # - take the max length\n",
    "        # # Time: O(n^2)\n",
    "        # # Space: O(1) \n",
    "        # window = set()\n",
    "        # max_len = 0\n",
    "        # for i in range(len(s)):\n",
    "        #     for j in range(len(s)):\n",
    "        #         substring = s[i:j+1]\n",
    "        #         if len(substring) == len(set(substring)):\n",
    "        #             max_len = max(max_len, len(substring))\n",
    "        # return max_len\n",
    "\n",
    "        # # Solution 2: Sliding window - my implementation\n",
    "        # # Time: O(n)\n",
    "        # # Space: O(1)\n",
    "        # if len(s) == 0:\n",
    "        #     return 0\n",
    "\n",
    "        # window = set(s[0])\n",
    "        # left_ptr = 0\n",
    "        # right_ptr = 0\n",
    "        # max_len = 1\n",
    "\n",
    "        # while left_ptr < len(s) and right_ptr < len(s):\n",
    "        #     if left_ptr == right_ptr:\n",
    "        #         right_ptr += 1\n",
    "        #     if  right_ptr >= len(s):\n",
    "        #         break\n",
    "        #     while s[right_ptr] in window:\n",
    "        #         window.remove(s[left_ptr])\n",
    "        #         left_ptr += 1\n",
    "        #     window.add(s[right_ptr])\n",
    "        #     right_ptr += 1\n",
    "            \n",
    "        #     max_len = max(max_len, len(window))\n",
    "\n",
    "        # return max_len\n",
    "\n",
    "        # Solution 3: Sliding window - Neetcode Solution\n",
    "        # Time: O(n)\n",
    "        # Space: O(1)\n",
    "        window = set()\n",
    "        left_ptr = 0\n",
    "        max_len = 0\n",
    "\n",
    "        for right_ptr in range(len(s)):\n",
    "            while s[right_ptr] in window:\n",
    "                window.remove(s[left_ptr])\n",
    "                left_ptr += 1\n",
    "            window.add(s[right_ptr])\n",
    "            right_ptr += 1\n",
    "            max_len = max(max_len, len(window))\n",
    "        return max_len\n"
   ]
  },
  {
   "cell_type": "markdown",
   "metadata": {},
   "source": [
    "##### Edge Cases\n",
    "- all repeating chars\n",
    "- no repeating chars\n",
    "- empty string\n"
   ]
  },
  {
   "cell_type": "markdown",
   "metadata": {},
   "source": [
    "##### Optimizations\n",
    "- "
   ]
  },
  {
   "cell_type": "markdown",
   "metadata": {},
   "source": [
    "##### Learnings\n",
    "- Solution 2 was my implementation of sliding window. While it works, it took a lot of thinking, additional lines of code to handle edge cases (like len(s) == 0), and was just messier.\n",
    "- Solution 3 is clean code and a nice implementation of sliding window. Should just memorize this implementation"
   ]
  }
 ],
 "metadata": {
  "kernelspec": {
   "display_name": "base",
   "language": "python",
   "name": "python3"
  },
  "language_info": {
   "codemirror_mode": {
    "name": "ipython",
    "version": 3
   },
   "file_extension": ".py",
   "mimetype": "text/x-python",
   "name": "python",
   "nbconvert_exporter": "python",
   "pygments_lexer": "ipython3",
   "version": "3.9.7"
  }
 },
 "nbformat": 4,
 "nbformat_minor": 2
}
