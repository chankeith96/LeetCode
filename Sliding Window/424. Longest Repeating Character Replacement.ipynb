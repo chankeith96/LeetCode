{
 "cells": [
  {
   "cell_type": "markdown",
   "metadata": {},
   "source": [
    "[424. Longest Repeating Character Replacement](https://leetcode.com/problems/longest-repeating-character-replacement/)"
   ]
  },
  {
   "cell_type": "code",
   "execution_count": null,
   "metadata": {},
   "outputs": [],
   "source": [
    "class Solution:\n",
    "    def characterReplacement(self, s: str, k: int) -> int:\n",
    "    #     # Solution 1: Check every substring\n",
    "    #     # - double for loop to create all substrings\n",
    "    #     # - for each substring, count the most frequent char, O(26) bc max 26 unique chars\n",
    "    #     # - calculate len(substring) - count_most_freq \n",
    "    #     # - take the max len(substring) if calculation <= k\n",
    "    #     # Time: O(n^2)\n",
    "    #     # Space: O(1)\n",
    "    #     max_len = 0\n",
    "    #     for i in range(len(s)):\n",
    "    #         for j in range(i, len(s)): \n",
    "    #             substring = s[i:j+1]\n",
    "    #             char_counter = self.count_chars(substring)\n",
    "    #             max_freq = max(char_counter.values())\n",
    "    #             if len(substring) - max_freq <= k:\n",
    "    #                 max_len = max(max_len, len(substring))\n",
    "    #     return max_len\n",
    "    # def count_chars(self, string):\n",
    "    #     char_counter = {}\n",
    "    #     for c in string:\n",
    "    #         char_counter[c] = char_counter.get(c, 0) + 1\n",
    "    #     return char_counter\n",
    "\n",
    "\n",
    "    #     # Solution 2: Sliding Window\n",
    "    #     # - start w left and right pointers at beginning\n",
    "    #     # - if substring length - count_most_freq <= k, then shift right ptr\n",
    "    #     # - max_len = substring length\n",
    "    #     # - if substring length - count_most_freq > k, then shift left ptr until <= k \n",
    "    #     # Time: O(n)\n",
    "    #     # Space: O(1)\n",
    "    #     left = 0\n",
    "    #     max_len = 0\n",
    "    #     char_counter = {}\n",
    "    #     for right in range(len(s)):\n",
    "    #         char_counter[s[right]] = char_counter.get(s[right], 0) + 1\n",
    "    #         if len(s[left:right+1]) - self.find_max_value(char_counter) <= k:\n",
    "    #             max_len = max(max_len, right - left + 1)\n",
    "    #         else: \n",
    "    #             while len(s[left:right+1]) - self.find_max_value(char_counter) > k:\n",
    "    #                 char_counter[s[left]] -= 1\n",
    "    #                 left += 1\n",
    "    #     return max_len\n",
    "\n",
    "    # def find_max_value(self, count_dict):\n",
    "    #     count_most_freq = 0\n",
    "    #     for value in count_dict.values():\n",
    "    #         count_most_freq = max(count_most_freq, value)\n",
    "    #     return count_most_freq\n",
    "\n",
    "        # Solution 3: Sliding Window - Neetcode\n",
    "        # Time: O(n)\n",
    "        # Space: O(1)\n",
    "        left = 0\n",
    "        max_len = 0\n",
    "        char_counter = {}\n",
    "        for right in range(len(s)):\n",
    "            char_counter[s[right]] = char_counter.get(s[right], 0) + 1\n",
    "            while len(s[left:right+1]) - max(char_counter.values()) > k:\n",
    "                char_counter[s[left]] -= 1\n",
    "                left += 1\n",
    "            max_len = max(max_len, right - left + 1)\n",
    "        return max_len"
   ]
  },
  {
   "cell_type": "markdown",
   "metadata": {},
   "source": [
    "##### Edge Cases\n",
    "- \n"
   ]
  },
  {
   "cell_type": "markdown",
   "metadata": {},
   "source": [
    "##### Optimizations\n",
    "- "
   ]
  },
  {
   "cell_type": "markdown",
   "metadata": {},
   "source": [
    "##### Learnings\n",
    "- Solution2 is my implementation of sliding window. Works well, but Solution 3 is more efficient. However, either works, and by the time I was implementing Solution 2, I probably wouldn't have cleaned it up to solution 3.\n",
    "- Remember that I can call max(dict.values()). In Solution 2, I implemented my own function which is not bad; I recognized a need to create a helper function\n",
    "-  "
   ]
  }
 ],
 "metadata": {
  "kernelspec": {
   "display_name": "base",
   "language": "python",
   "name": "python3"
  },
  "language_info": {
   "codemirror_mode": {
    "name": "ipython",
    "version": 3
   },
   "file_extension": ".py",
   "mimetype": "text/x-python",
   "name": "python",
   "nbconvert_exporter": "python",
   "pygments_lexer": "ipython3",
   "version": "3.9.7"
  }
 },
 "nbformat": 4,
 "nbformat_minor": 2
}
