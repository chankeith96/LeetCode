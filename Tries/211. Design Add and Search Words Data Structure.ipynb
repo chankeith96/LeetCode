{
 "cells": [
  {
   "cell_type": "markdown",
   "metadata": {},
   "source": [
    "[211. Design Add and Search Words Data Structure](https://leetcode.com/problems/design-add-and-search-words-data-structure/)"
   ]
  },
  {
   "cell_type": "code",
   "execution_count": null,
   "metadata": {},
   "outputs": [],
   "source": [
    "class TrieNode:\n",
    "    def __init__(self):\n",
    "        self.children = {}\n",
    "        self.end_of_word = False\n",
    "\n",
    "class WordDictionary:\n",
    "\n",
    "    def __init__(self):\n",
    "        self.root = TrieNode()\n",
    "\n",
    "    def addWord(self, word: str) -> None:\n",
    "        cur = self.root\n",
    "        for c in word:\n",
    "            if c not in cur.children:\n",
    "                cur.children[c] = TrieNode()\n",
    "            cur = cur.children[c]\n",
    "        cur.end_of_word = True\n",
    "        \n",
    "\n",
    "    def search(self, word: str) -> bool:\n",
    "        def search_helper(j, node):\n",
    "            cur = node\n",
    "            for i in range(j, len(word)):\n",
    "                c = word[i]\n",
    "                # Case 1: char is a \".\"\n",
    "                if c == \".\": \n",
    "                    for child in cur.children.values():\n",
    "                        if search_helper(i+1, child):\n",
    "                            return True\n",
    "                    return False\n",
    "                # Case 2: char is not a \".\" and char not in trie\n",
    "                else: \n",
    "                    if c not in cur.children:\n",
    "                        return False\n",
    "                    # Case 3: char is not a \".\" and char is in trie\n",
    "                    cur = cur.children[c] \n",
    "            return cur.end_of_word\n",
    "\n",
    "        return search_helper(0, self.root)"
   ]
  },
  {
   "cell_type": "markdown",
   "metadata": {},
   "source": [
    "##### Edge Cases\n",
    "- "
   ]
  },
  {
   "cell_type": "markdown",
   "metadata": {},
   "source": [
    "##### Optimizations\n",
    "- "
   ]
  },
  {
   "cell_type": "markdown",
   "metadata": {},
   "source": [
    "##### Learnings\n",
    "- This problem was pretty tricky to implement, but not sure if it's a very helpful question either"
   ]
  },
  {
   "cell_type": "markdown",
   "metadata": {},
   "source": []
  }
 ],
 "metadata": {
  "kernelspec": {
   "display_name": "base",
   "language": "python",
   "name": "python3"
  },
  "language_info": {
   "codemirror_mode": {
    "name": "ipython",
    "version": 3
   },
   "file_extension": ".py",
   "mimetype": "text/x-python",
   "name": "python",
   "nbconvert_exporter": "python",
   "pygments_lexer": "ipython3",
   "version": "3.9.7"
  }
 },
 "nbformat": 4,
 "nbformat_minor": 2
}
