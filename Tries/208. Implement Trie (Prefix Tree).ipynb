{
 "cells": [
  {
   "cell_type": "markdown",
   "metadata": {},
   "source": [
    "[208. Implement Trie (Prefix Tree)](https://leetcode.com/problems/implement-trie-prefix-tree/)"
   ]
  },
  {
   "cell_type": "code",
   "execution_count": null,
   "metadata": {},
   "outputs": [],
   "source": [
    "class TrieNode:\n",
    "    def __init__(self, value = \"\"): \n",
    "        # self.val = value #unnecessary \n",
    "        self.children = {}\n",
    "        self.end_of_word = False\n",
    "\n",
    "\n",
    "class Trie:\n",
    "    def __init__(self):\n",
    "        self.root = TrieNode()\n",
    "\n",
    "    def insert(self, word: str) -> None:\n",
    "        cur = self.root\n",
    "        for c in word:\n",
    "            if c not in cur.children:\n",
    "                cur.children[c] = TrieNode()\n",
    "            cur = cur.children[c]\n",
    "        cur.end_of_word = True\n",
    "\n",
    "    def search(self, word: str) -> bool:\n",
    "        cur = self.root\n",
    "        for c in word:\n",
    "            if c not in cur.children:\n",
    "                return False\n",
    "            cur = cur.children[c]\n",
    "        return cur.end_of_word\n",
    "\n",
    "    def startsWith(self, prefix: str) -> bool:\n",
    "        cur = self.root\n",
    "        for c in prefix:\n",
    "            if c not in cur.children:\n",
    "                return False\n",
    "            cur = cur.children[c]\n",
    "        return True"
   ]
  },
  {
   "cell_type": "markdown",
   "metadata": {},
   "source": [
    "##### Edge Cases\n",
    "- "
   ]
  },
  {
   "cell_type": "markdown",
   "metadata": {},
   "source": [
    "##### Optimizations\n",
    "- "
   ]
  },
  {
   "cell_type": "markdown",
   "metadata": {},
   "source": [
    "##### Learnings\n",
    "- Important to remember that you need to implement a TrieNode class. Each instance of the TrieNode should have children nodes stored in a hashmap, and a boolean showing if it is the end_of_word. You NEED both of these attributes.  \n",
    "\n",
    "\n",
    "\n",
    "Time complexity :\n",
    "\n",
    "Insertion: O(L), where L is the length of the word being inserted. In the worst case, we have to traverse the entire length of the word to insert it into the Trie.\n",
    "\n",
    "Search: O(L), where L is the length of the word being searched. In the worst case, we have to traverse the entire length of the word to search for it in the Trie.\n",
    "\n",
    "StartsWith: O(P), where P is the length of the prefix being searched. In the worst case, we have to traverse the entire length of the prefix to check if it exists in the Trie.\n",
    "\n",
    "Space complexity :\n",
    "The space complexity of the Trie data structure depends on the number of words being inserted and their length. In the worst case, if all the words in the Trie have no common prefixes, then the Trie will have N nodes (where N is the total number of characters in all the words) and each node will have 26 child nodes (assuming we are dealing with lowercase English alphabets). Therefore, the space complexity of the Trie data structure in the worst case is O(26N), which simplifies to O(N). This is because the maximum number of nodes in the Trie is limited to the number of characters in all the words, and the maximum number of child nodes a node can have is 26. In practice, the space complexity will be much lower than the worst case as many nodes will have common prefixes."
   ]
  },
  {
   "cell_type": "markdown",
   "metadata": {},
   "source": []
  }
 ],
 "metadata": {
  "kernelspec": {
   "display_name": "base",
   "language": "python",
   "name": "python3"
  },
  "language_info": {
   "codemirror_mode": {
    "name": "ipython",
    "version": 3
   },
   "file_extension": ".py",
   "mimetype": "text/x-python",
   "name": "python",
   "nbconvert_exporter": "python",
   "pygments_lexer": "ipython3",
   "version": "3.9.7"
  }
 },
 "nbformat": 4,
 "nbformat_minor": 2
}
