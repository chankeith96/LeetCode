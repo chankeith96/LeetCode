{
 "cells": [
  {
   "cell_type": "markdown",
   "metadata": {},
   "source": [
    "[212. Word Search II](https://leetcode.com/problems/word-search-ii/)"
   ]
  },
  {
   "cell_type": "code",
   "execution_count": null,
   "metadata": {},
   "outputs": [],
   "source": [
    "class TrieNode:\n",
    "    def __init__(self):\n",
    "        self.children = {}\n",
    "        self.end_of_word = False\n",
    "\n",
    "    def addWord(self, word):\n",
    "        cur = self\n",
    "        for c in word:\n",
    "            if c not in cur.children:\n",
    "                cur.children[c] = TrieNode()\n",
    "            cur = cur.children[c]\n",
    "        cur.end_of_word = True\n",
    "        \n",
    "\n",
    "class Solution:\n",
    "    def findWords(self, board: List[List[str]], words: List[str]) -> List[str]:\n",
    "        # Solution 1: Backtracking DFS + Trie\n",
    "        # - add all words into a prefix tree (trie) \n",
    "        # - run DFS from each cell in grid\n",
    "        # - at each cell, search trie to see if any words start with that letter\n",
    "        # - if yes, explore 4 neighboring cells and see if any words start with first two letters\n",
    "        # - if node in trie is end of word, then add to result\n",
    "        # Time: \n",
    "        # Space: \n",
    "\n",
    "        # add all words into prefix tree\n",
    "        root = TrieNode()\n",
    "        for w in words:\n",
    "            root.addWord(w)\n",
    "        \n",
    "        ROWS, COLS = len(board), len(board[0])\n",
    "        result = set()\n",
    "        path = set()\n",
    "\n",
    "        # define backtracking dfs\n",
    "        def dfs(r, c, node, word):\n",
    "            # Base cases\n",
    "            if ((r < 0 or c < 0) or\n",
    "                (r >= ROWS or c >= COLS) or\n",
    "                board[r][c] not in node.children or\n",
    "                (r,c) in path):\n",
    "                return\n",
    "            \n",
    "            # Recursive case\n",
    "            path.add((r,c))\n",
    "            node = node.children[board[r][c]] \n",
    "            word += board[r][c]\n",
    "            if node.end_of_word:\n",
    "                result.add(word)\n",
    "            \n",
    "            dfs(r-1, c, node, word) \n",
    "            dfs(r+1, c, node, word) \n",
    "            dfs(r, c-1, node, word)\n",
    "            dfs(r, c+1, node, word)\n",
    "            path.remove((r,c))\n",
    "\n",
    "        for r in range(ROWS):\n",
    "            for c in range(COLS):\n",
    "                dfs(r, c, root, \"\")\n",
    "        return result"
   ]
  },
  {
   "cell_type": "markdown",
   "metadata": {},
   "source": [
    "##### Edge Cases\n",
    "- "
   ]
  },
  {
   "cell_type": "markdown",
   "metadata": {},
   "source": [
    "##### Optimizations\n",
    "- "
   ]
  },
  {
   "cell_type": "markdown",
   "metadata": {},
   "source": [
    "##### Learnings\n",
    "- "
   ]
  },
  {
   "cell_type": "markdown",
   "metadata": {},
   "source": []
  }
 ],
 "metadata": {
  "kernelspec": {
   "display_name": "base",
   "language": "python",
   "name": "python3"
  },
  "language_info": {
   "codemirror_mode": {
    "name": "ipython",
    "version": 3
   },
   "file_extension": ".py",
   "mimetype": "text/x-python",
   "name": "python",
   "nbconvert_exporter": "python",
   "pygments_lexer": "ipython3",
   "version": "3.9.7"
  }
 },
 "nbformat": 4,
 "nbformat_minor": 2
}
