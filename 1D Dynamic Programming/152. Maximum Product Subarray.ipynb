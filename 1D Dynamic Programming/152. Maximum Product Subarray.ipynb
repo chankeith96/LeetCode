{
 "cells": [
  {
   "cell_type": "markdown",
   "metadata": {},
   "source": [
    "[152. Maximum Product Subarray](https://leetcode.com/problems/maximum-product-subarray/description/)"
   ]
  },
  {
   "cell_type": "code",
   "execution_count": null,
   "metadata": {},
   "outputs": [],
   "source": [
    "class Solution:\n",
    "    def maxProduct(self, nums: List[int]) -> int:\n",
    "        # Edge cases\n",
    "        # - all positive numbers \n",
    "        # - all neg numbers\n",
    "        # - zeroes\n",
    "        \n",
    "        # Solution 1: Brute Force - create all subarray combos \n",
    "        # - double for loop to create all combos, O(n^2)\n",
    "        # - for each combo, do multiplication, O(n) \n",
    "        # Time: O(n^2) * O(n) = O(n^3)\n",
    "        # Space: O(1) \n",
    "\n",
    "        # Solution 2: DP - keep track of max and min products\n",
    "        # - let dp[i] = (min, max) products of subarray nums[:i+1]\n",
    "        # - Recurrence:\n",
    "        #     Base cases: dp[0] = (nums[0], nums[0])\n",
    "        #     General recurrence for 1 <= i < n: \n",
    "        #         dp[i] = ( min{nums[i], nums[i]*dp[i-1][0], nums[i]*dp[i-1][0] }, \n",
    "        #                   max{nums[i], nums[i]*dp[i-1][1], nums[i]*dp[i-1][1] } ) if nums[i] != 0 \n",
    "        #         dp[i] = (1, 1) if nums[i] == 0\n",
    "        # Time: O(n)\n",
    "        # Space: O(n)\n",
    "        \n",
    "        dp = [(0,0)] * len(nums)\n",
    "        dp[0] = (nums[0], nums[0])\n",
    "        res = nums[0]\n",
    "\n",
    "        for i in range(1, len(nums)):\n",
    "            if nums[i] == 0:\n",
    "                dp[i] == (0, 0)\n",
    "            else:\n",
    "                dp[i] = ( min(nums[i], nums[i]*dp[i-1][0], nums[i]*dp[i-1][1] ), \n",
    "                          max(nums[i], nums[i]*dp[i-1][0], nums[i]*dp[i-1][1] ) )\n",
    "            res = max(res, dp[i][1])\n",
    "        # print(dp)\n",
    "        return res\n",
    "\n"
   ]
  },
  {
   "cell_type": "markdown",
   "metadata": {},
   "source": [
    "##### Edge Cases\n",
    "- "
   ]
  },
  {
   "cell_type": "markdown",
   "metadata": {},
   "source": [
    "##### Optimizations\n",
    "- "
   ]
  },
  {
   "cell_type": "markdown",
   "metadata": {},
   "source": [
    "##### Learnings\n",
    "- It's good to realize which previous solutions you're actually using in DP problems. For ex, in this problem we only use the (min, max) products of the previous dp array, so we only need to keep track of that rather than the entire dp array. \n",
    "- This would be space optimization to O(1) "
   ]
  }
 ],
 "metadata": {
  "kernelspec": {
   "display_name": "base",
   "language": "python",
   "name": "python3"
  },
  "language_info": {
   "codemirror_mode": {
    "name": "ipython",
    "version": 3
   },
   "file_extension": ".py",
   "mimetype": "text/x-python",
   "name": "python",
   "nbconvert_exporter": "python",
   "pygments_lexer": "ipython3",
   "version": "3.9.7"
  }
 },
 "nbformat": 4,
 "nbformat_minor": 2
}
