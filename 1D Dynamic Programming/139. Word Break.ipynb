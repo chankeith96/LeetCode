{
 "cells": [
  {
   "cell_type": "markdown",
   "metadata": {},
   "source": [
    "[139. Word Break](https://leetcode.com/problems/word-break/description/)"
   ]
  },
  {
   "cell_type": "code",
   "execution_count": null,
   "metadata": {},
   "outputs": [],
   "source": [
    "class Solution:\n",
    "    def wordBreak(self, s: str, wordDict: List[str]) -> bool:\n",
    "        # Solution 1:\n",
    "        # - iterate through s and at each char we scan backwards for words in wordDict\n",
    "        # - at each char, check backwards to see if any words \n",
    "        # - Let dp[i] = if string s[:i] can be segmented into words from wordDict\n",
    "        # - Recurrence:\n",
    "        #     Base cases: dp[0] = True\n",
    "        #     General recurrence for 1 <= i <= len(s): dp[i] = \n",
    "        # Time: \n",
    "        # Space: \n",
    "        dp = [False] * (len(s) + 1)\n",
    "        dp[0] = True\n",
    "        max_len = max(map(len, wordDict))\n",
    "\n",
    "        for i in range(1, len(s)+1):\n",
    "            for j in range(i - 1, max(i - max_len - 1, -1), -1):\n",
    "                if dp[j] and s[j:i] in wordDict:\n",
    "                    dp[i] = True\n",
    "                    # break\n",
    "        return dp[-1]"
   ]
  },
  {
   "cell_type": "markdown",
   "metadata": {},
   "source": [
    "##### Edge Cases\n",
    "- "
   ]
  },
  {
   "cell_type": "markdown",
   "metadata": {},
   "source": [
    "##### Optimizations\n",
    "- "
   ]
  },
  {
   "cell_type": "markdown",
   "metadata": {},
   "source": [
    "##### Learnings\n",
    "- Solution comes from https://www.youtube.com/watch?v=9ZIQwa1wCNA&t=256s&ab_channel=vanAmsen\n",
    "- A lot of DP problems get tricky with indexing, esp with strings (e.g. the index of string doesn't match index of dp array). This is another reason to REALLY explain what you're intending to do BEFORE jumping into code so you can get that partial credit\n",
    "- I like the neetcode video that explains the brute force method, and also creates a decision tree that shows the need for dp"
   ]
  }
 ],
 "metadata": {
  "kernelspec": {
   "display_name": "base",
   "language": "python",
   "name": "python3"
  },
  "language_info": {
   "codemirror_mode": {
    "name": "ipython",
    "version": 3
   },
   "file_extension": ".py",
   "mimetype": "text/x-python",
   "name": "python",
   "nbconvert_exporter": "python",
   "pygments_lexer": "ipython3",
   "version": "3.9.7"
  }
 },
 "nbformat": 4,
 "nbformat_minor": 2
}
