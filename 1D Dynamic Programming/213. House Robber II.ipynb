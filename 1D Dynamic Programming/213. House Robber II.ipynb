{
 "cells": [
  {
   "cell_type": "markdown",
   "metadata": {},
   "source": [
    "[213. House Robber II](https://leetcode.com/problems/house-robber-ii/description/)"
   ]
  },
  {
   "cell_type": "code",
   "execution_count": null,
   "metadata": {},
   "outputs": [],
   "source": [
    "class Solution:\n",
    "    def rob(self, nums: List[int]) -> int:\n",
    "        # Solution 1: DP\n",
    "        # Basically the same problem as House Robber 1, but now you can either rob houses 1 to n-1 or houses 2 to n\n",
    "        # Let DP[i] = max $ you can rob up to house i \n",
    "        # Recurrence:\n",
    "        #     Base cases: DP[0] = nums[0], DP[1] = max(nums[0], nums[1]) \n",
    "        #     General recurrence: DP[i] = max(nums[i] + DP[i-2], DP[i-1]) for 2 <= i <= len(nums)  \n",
    "        # Time: O(n)\n",
    "        # Space: O(n)\n",
    "\n",
    "        # def helper(array):\n",
    "        #     if len(array) == 1:\n",
    "        #         return array[0]\n",
    "\n",
    "        #     dp = [0] * len(array)\n",
    "        #     dp[0] = array[0]\n",
    "        #     dp[1] = max(array[0], array[1])\n",
    "\n",
    "        #     for i in range(2, len(array)):\n",
    "        #         dp[i] = max(array[i] + dp[i-2], dp[i-1])\n",
    "\n",
    "        #     return max(dp)\n",
    "\n",
    "        # Solution 2:\n",
    "        # Time: O(n)\n",
    "        # Space: O(1)\n",
    "        def helper(array):\n",
    "            rob1, rob2 = 0, 0\n",
    "            for n in array:\n",
    "                rob1, rob2 = rob2, max(n + rob1, rob2)\n",
    "            return rob2\n",
    "\n",
    "        \n",
    "        return max(nums[0], helper(nums[:-1]), helper(nums[1:]))"
   ]
  },
  {
   "cell_type": "markdown",
   "metadata": {},
   "source": [
    "##### Edge Cases\n",
    "- I forgot to account for the edge case where len(nums) = 1"
   ]
  },
  {
   "cell_type": "markdown",
   "metadata": {},
   "source": [
    "##### Optimizations\n",
    "- "
   ]
  },
  {
   "cell_type": "markdown",
   "metadata": {},
   "source": [
    "##### Learnings\n",
    "- "
   ]
  }
 ],
 "metadata": {
  "kernelspec": {
   "display_name": "base",
   "language": "python",
   "name": "python3"
  },
  "language_info": {
   "codemirror_mode": {
    "name": "ipython",
    "version": 3
   },
   "file_extension": ".py",
   "mimetype": "text/x-python",
   "name": "python",
   "nbconvert_exporter": "python",
   "pygments_lexer": "ipython3",
   "version": "3.9.7"
  }
 },
 "nbformat": 4,
 "nbformat_minor": 2
}
