{
 "cells": [
  {
   "cell_type": "markdown",
   "metadata": {},
   "source": [
    "[647. Palindromic Substrings](https://leetcode.com/problems/palindromic-substrings/description/)"
   ]
  },
  {
   "cell_type": "code",
   "execution_count": null,
   "metadata": {},
   "outputs": [],
   "source": [
    "class Solution:\n",
    "    def countSubstrings(self, s: str) -> int:\n",
    "        # Solution 1: Brute Force\n",
    "        # - generate all substrings in O(n^2) and check each for palindrome (O^n)\n",
    "        # Time: O(n^3)\n",
    "        # Space: O(n^2)\n",
    "\n",
    "        # Solution 2: \n",
    "        # - iterate through each char and check if palindrome\n",
    "        # Time: O(n^2)\n",
    "        # Space: O()\n",
    "        result = 0\n",
    "\n",
    "        for i in range(len(s)):\n",
    "            # Count odd-length palindrome\n",
    "            result += self.countPalindromes(s, i, i)\n",
    "\n",
    "            # Count even-length palindrome\n",
    "            result += self.countPalindromes(s, i, i+1)\n",
    "        return result\n",
    "    \n",
    "    def countPalindromes(self, s, l, r):\n",
    "        count = 0\n",
    "        while l >= 0 and r < len(s) and s[l]==s[r]:\n",
    "            count += 1\n",
    "            l -= 1 \n",
    "            r += 1\n",
    "        return count"
   ]
  },
  {
   "cell_type": "markdown",
   "metadata": {},
   "source": [
    "##### Edge Cases\n",
    "- "
   ]
  },
  {
   "cell_type": "markdown",
   "metadata": {},
   "source": [
    "##### Optimizations\n",
    "- "
   ]
  },
  {
   "cell_type": "markdown",
   "metadata": {},
   "source": [
    "##### Learnings\n",
    "- "
   ]
  }
 ],
 "metadata": {
  "kernelspec": {
   "display_name": "base",
   "language": "python",
   "name": "python3"
  },
  "language_info": {
   "codemirror_mode": {
    "name": "ipython",
    "version": 3
   },
   "file_extension": ".py",
   "mimetype": "text/x-python",
   "name": "python",
   "nbconvert_exporter": "python",
   "pygments_lexer": "ipython3",
   "version": "3.9.7"
  }
 },
 "nbformat": 4,
 "nbformat_minor": 2
}
