{
 "cells": [
  {
   "cell_type": "markdown",
   "metadata": {},
   "source": [
    "[91. Decode Ways](https://leetcode.com/problems/decode-ways/description/)"
   ]
  },
  {
   "cell_type": "code",
   "execution_count": null,
   "metadata": {},
   "outputs": [],
   "source": [
    "class Solution:\n",
    "    def numDecodings(self, s: str) -> int:\n",
    "        # Solution 1: DP\n",
    "        # - Let dp[i] represent the number of ways to decode the substring s[:i]. \n",
    "        # - Iterate through the string and update the dp array based on the current digit and the previous digits.\n",
    "        # - Recurrence:\n",
    "        #     Base cases: DP[0] = 1, DP[1] = 1\n",
    "        #     General recurrence for 2 <= i <= n: DP[i] = dp[i-1] if 1 <= s <= 9\n",
    "        #                                         DP[i] = dp[i] + dp[i-2] if 10 <= ss <= 26\n",
    "        #                                         DP[i] = dp[i-2] if s == 0  \n",
    "        # Time: O(n)\n",
    "        # Space: O(n)\n",
    "        \n",
    "        dp = [0] * (len(s) + 1)\n",
    "        dp[0] = 1\n",
    "        dp[1] = 1\n",
    "\n",
    "        if not s or s[0] == '0':\n",
    "            return 0\n",
    "        \n",
    "        for i in range(2, len(s)+1):\n",
    "            digit = int(s[i-1])\n",
    "            dub_digit = int(s[i-2:i])\n",
    "\n",
    "            if digit == 0:\n",
    "                # invalid case\n",
    "                if (dub_digit < 10 or dub_digit > 26):\n",
    "                    return 0     \n",
    "                else:\n",
    "                    dp[i] = dp[i-2]\n",
    "                    continue\n",
    "            else:\n",
    "                dp[i] = dp[i-1]\n",
    "            \n",
    "            if dub_digit >= 10 and dub_digit <= 26:\n",
    "                dp[i] += dp[i-2]\n",
    "\n",
    "        return dp[len(s)]\n",
    "\n",
    "\n",
    "        # Solution: https://leetcode.com/problems/decode-ways/solutions/4454037/97-43-easy-solution-with-explanation/\n",
    "        # if not s or s[0] == '0':\n",
    "        #     return 0\n",
    "\n",
    "        # n = len(s)\n",
    "        # dp = [0] * (n + 1)\n",
    "        # dp[0] = 1\n",
    "        # dp[1] = 1\n",
    "\n",
    "        # for i in range(2, n + 1):\n",
    "        #     one_digit = int(s[i - 1])\n",
    "        #     two_digits = int(s[i - 2:i])\n",
    "\n",
    "        #     if one_digit != 0:\n",
    "        #         dp[i] += dp[i - 1]\n",
    "\n",
    "        #     if 10 <= two_digits <= 26:\n",
    "        #         dp[i] += dp[i - 2]\n",
    "\n",
    "        # print(dp)\n",
    "        # return dp[n]"
   ]
  },
  {
   "cell_type": "markdown",
   "metadata": {},
   "source": [
    "##### Edge Cases\n",
    "- "
   ]
  },
  {
   "cell_type": "markdown",
   "metadata": {},
   "source": [
    "##### Optimizations\n",
    "- "
   ]
  },
  {
   "cell_type": "markdown",
   "metadata": {},
   "source": [
    "##### Learnings\n",
    "- This question is a doooozy! There are diff ways to solve (recursion, top-down dp, bottom-up dp)\n",
    "- I still don't fully understand the answer and intuition\n",
    "- there are learnings about indexing. Indexing the dp array and string is trippy"
   ]
  }
 ],
 "metadata": {
  "kernelspec": {
   "display_name": "base",
   "language": "python",
   "name": "python3"
  },
  "language_info": {
   "codemirror_mode": {
    "name": "ipython",
    "version": 3
   },
   "file_extension": ".py",
   "mimetype": "text/x-python",
   "name": "python",
   "nbconvert_exporter": "python",
   "pygments_lexer": "ipython3",
   "version": "3.9.7"
  }
 },
 "nbformat": 4,
 "nbformat_minor": 2
}
