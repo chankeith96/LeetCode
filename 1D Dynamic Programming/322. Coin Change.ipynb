{
 "cells": [
  {
   "cell_type": "markdown",
   "metadata": {},
   "source": [
    "[322. Coin Change](https://leetcode.com/problems/coin-change/description/)"
   ]
  },
  {
   "cell_type": "code",
   "execution_count": null,
   "metadata": {},
   "outputs": [],
   "source": [
    "class Solution:\n",
    "    def coinChange(self, coins: List[int], amount: int) -> int:\n",
    "        # Solution 1: Greeduy (does not work)\n",
    "        # - sort coins array\n",
    "        # - Keep taking largest coins until can't, then move to next denomination\n",
    "\n",
    "\n",
    "        # # Solution 2: Brute Force: Recursive approach w memoization\n",
    "        # # - make decision tree with num_coins amount of branches at each node\n",
    "        # # Time: O(coins^depth)\n",
    "        # # Space: O(depth) \n",
    "        # cache = {}\n",
    "        # cache[0] = 0\n",
    "\n",
    "        # def dfs(amount):\n",
    "        #     # Base case\n",
    "        #     if amount in cache:\n",
    "        #         return cache[amount]\n",
    "\n",
    "        #     # Recursive case\n",
    "        #     min_coins = float(\"inf\")\n",
    "        #     for c in coins:\n",
    "        #         if amount - c >= 0:\n",
    "        #             min_coins = min(min_coins, 1 + dfs(amount - c))\n",
    "        #     cache[amount] = min_coins\n",
    "        #     return cache[amount]\n",
    "\n",
    "        # dfs(amount)\n",
    "\n",
    "        # if cache[amount] == float(\"inf\"):\n",
    "        #     return -1\n",
    "        # return cache[amount]\n",
    "\n",
    "        # Solution 3: DP bottom-up\n",
    "        # - Let dp[i] be fewest coins needed to make up i amount \n",
    "        # - Recurrence:\n",
    "        #     Base cases: dp[0] = 0\n",
    "        #     General recurrence for 1 <= i <= n: \n",
    "        #         dp[i] = min{1 + dp[i-coin] for all coins}\n",
    "        # Time: O(amount) \n",
    "        # Space: O(amount)\n",
    "\n",
    "        # Initialize dp array to an impossible amount\n",
    "        dp = [amount + 1] * (amount + 1) # amount + 1 is not possible\n",
    "        dp[0] = 0\n",
    "\n",
    "        for a in range(1, amount + 1):\n",
    "            for c in coins:\n",
    "                if a - c >= 0: #non-negative\n",
    "                    dp[a] = min(dp[a], 1 + dp[a-c])\n",
    "                    \n",
    "        if dp[amount] == amount + 1:\n",
    "            return -1\n",
    "        else:\n",
    "            return dp[amount]\n",
    "            "
   ]
  },
  {
   "cell_type": "markdown",
   "metadata": {},
   "source": [
    "##### Edge Cases\n",
    "- "
   ]
  },
  {
   "cell_type": "markdown",
   "metadata": {},
   "source": [
    "##### Optimizations\n",
    "- "
   ]
  },
  {
   "cell_type": "markdown",
   "metadata": {},
   "source": [
    "##### Learnings\n",
    "- This was a really good problem that I could understand AND think about why DP is better than recursion\n",
    "- Greedy approach does not work, but remember to \"think through it\". Ex: coins=[1,3,4,5] and amount=7"
   ]
  }
 ],
 "metadata": {
  "kernelspec": {
   "display_name": "base",
   "language": "python",
   "name": "python3"
  },
  "language_info": {
   "codemirror_mode": {
    "name": "ipython",
    "version": 3
   },
   "file_extension": ".py",
   "mimetype": "text/x-python",
   "name": "python",
   "nbconvert_exporter": "python",
   "pygments_lexer": "ipython3",
   "version": "3.9.7"
  }
 },
 "nbformat": 4,
 "nbformat_minor": 2
}
