{
 "cells": [
  {
   "cell_type": "markdown",
   "metadata": {},
   "source": [
    "[5. Longest Palindromic Substring](https://leetcode.com/problems/longest-palindromic-substring/description/)"
   ]
  },
  {
   "cell_type": "code",
   "execution_count": null,
   "metadata": {},
   "outputs": [],
   "source": [
    "class Solution:\n",
    "    def longestPalindrome(self, s: str) -> str:\n",
    "        # Solution 1: Brute force\n",
    "        # - Create every combination of substrings using double for loop, O(n^2) \n",
    "        # - check if each substring is palindrome, O(n/2) on avg \n",
    "        # Time: O(n^3)\n",
    "        # Space: O(n^2)\n",
    "        \n",
    "        \n",
    "        # Solution 2:\n",
    "        # - loop through string and check each char to be center of palidrome by expanding outwards\n",
    "        # - must do two checks for odd-length and even-length palindrome \n",
    "        # Time: O(n^2)\n",
    "        # Space: O(n)\n",
    "        max_palindrome = \"\"\n",
    "        max_len = 0 \n",
    "        for i in range(len(s)):\n",
    "            l, r = i, i\n",
    "            while l >= 0 and r < len(s) and s[l] == s[r]:\n",
    "                l -= 1\n",
    "                r += 1\n",
    "            if r - (l + 1) > max_len: \n",
    "                max_palindrome = s[l+1:r] \n",
    "                max_len = r - (l + 1)\n",
    "\n",
    "            l, r = i, i + 1\n",
    "            while l >= 0 and r < len(s) and s[l] == s[r]:\n",
    "                l -= 1\n",
    "                r += 1\n",
    "            if r - (l + 1) > max_len: \n",
    "                max_palindrome = s[l+1:r]\n",
    "                max_len = r - (l + 1)\n",
    "\n",
    "        return max_palindrome"
   ]
  },
  {
   "cell_type": "markdown",
   "metadata": {},
   "source": [
    "##### Edge Cases\n",
    "- "
   ]
  },
  {
   "cell_type": "markdown",
   "metadata": {},
   "source": [
    "##### Optimizations\n",
    "- "
   ]
  },
  {
   "cell_type": "markdown",
   "metadata": {},
   "source": [
    "##### Learnings\n",
    "- Neetcode puts the if statement inside the while loop. Does the same thing but maybe the pointer subtraction is more intuitive? but runs slower\n",
    "while l>=0 and r<len(s) and s[l]==s[r]:\n",
    "    if (r-l+1) > len(res):\n",
    "        res = s[l:r+1]\n",
    "    l -= 1\n",
    "    r += 1"
   ]
  }
 ],
 "metadata": {
  "kernelspec": {
   "display_name": "base",
   "language": "python",
   "name": "python3"
  },
  "language_info": {
   "codemirror_mode": {
    "name": "ipython",
    "version": 3
   },
   "file_extension": ".py",
   "mimetype": "text/x-python",
   "name": "python",
   "nbconvert_exporter": "python",
   "pygments_lexer": "ipython3",
   "version": "3.9.7"
  }
 },
 "nbformat": 4,
 "nbformat_minor": 2
}
