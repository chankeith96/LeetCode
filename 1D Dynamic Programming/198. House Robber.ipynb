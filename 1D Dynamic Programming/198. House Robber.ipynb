{
 "cells": [
  {
   "cell_type": "markdown",
   "metadata": {},
   "source": [
    "[198. House Robber](https://leetcode.com/problems/house-robber/description/)"
   ]
  },
  {
   "cell_type": "code",
   "execution_count": null,
   "metadata": {},
   "outputs": [],
   "source": [
    "class Solution:\n",
    "    def rob(self, nums: List[int]) -> int:\n",
    "        # # Solution 1: DP\n",
    "        # # Let DP[i] = max $ you can rob up to house i \n",
    "        # # Recurrence:\n",
    "        # #     Base cases: DP[0] = nums[0], DP[1] = max(nums[0], nums[1]) \n",
    "        # #     General recurrence: DP[i] = max(nums[i] + DP[i-2], DP[i-1]) for 2 <= i <= len(nums)  \n",
    "        # # Time: O(n)\n",
    "        # # Space: O(n)\n",
    "\n",
    "        # if len(nums) == 1:\n",
    "        #     return nums[0]\n",
    "\n",
    "        # dp = [0] * len(nums)\n",
    "        # dp[0] = nums[0]\n",
    "        # dp[1] = max(nums[0], nums[1])\n",
    "\n",
    "        # for i in range(2, len(nums)):\n",
    "        #     dp[i] = max(nums[i] + dp[i-2], dp[i-1])\n",
    "\n",
    "        # return max(dp)\n",
    "\n",
    "        # Solution 2: Optimized space\n",
    "        # - notice you only need to store last two results\n",
    "        # Time: O(n)\n",
    "        # Space: O(1)\n",
    "        rob1, rob2 = 0, 0\n",
    "\n",
    "        for n in nums:\n",
    "            rob1, rob2 = rob2, max(n + rob1, rob2)\n",
    "        \n",
    "        return rob2\n"
   ]
  },
  {
   "cell_type": "markdown",
   "metadata": {},
   "source": [
    "##### Edge Cases\n",
    "- "
   ]
  },
  {
   "cell_type": "markdown",
   "metadata": {},
   "source": [
    "##### Optimizations\n",
    "- "
   ]
  },
  {
   "cell_type": "markdown",
   "metadata": {},
   "source": [
    "##### Learnings\n",
    "- "
   ]
  }
 ],
 "metadata": {
  "kernelspec": {
   "display_name": "base",
   "language": "python",
   "name": "python3"
  },
  "language_info": {
   "codemirror_mode": {
    "name": "ipython",
    "version": 3
   },
   "file_extension": ".py",
   "mimetype": "text/x-python",
   "name": "python",
   "nbconvert_exporter": "python",
   "pygments_lexer": "ipython3",
   "version": "3.9.7"
  }
 },
 "nbformat": 4,
 "nbformat_minor": 2
}
