{
 "cells": [
  {
   "cell_type": "markdown",
   "metadata": {},
   "source": [
    "[70. Climbing Stairs](https://leetcode.com/problems/climbing-stairs/description/)"
   ]
  },
  {
   "cell_type": "code",
   "execution_count": null,
   "metadata": {},
   "outputs": [],
   "source": [
    "class Solution:\n",
    "    def climbStairs(self, n: int) -> int:\n",
    "        # Solution 1: DP\n",
    "        # Let L(i) = num distinct ways to climb to top of i steps\n",
    "        # Recurrence:\n",
    "        #     Base cases: L(0) = 0, L(1) = 1\n",
    "        #     General recurrence: L(i) = L(i-2) + L(i-1)\n",
    "        # Time: O(n)\n",
    "        # Space: O(1)\n",
    "        a, b = 1, 1\n",
    "        for i in range(n):\n",
    "            a, b = b, a + b\n",
    "        return a\n"
   ]
  },
  {
   "cell_type": "markdown",
   "metadata": {},
   "source": [
    "##### Edge Cases\n",
    "- "
   ]
  },
  {
   "cell_type": "markdown",
   "metadata": {},
   "source": [
    "##### Optimizations\n",
    "- "
   ]
  },
  {
   "cell_type": "markdown",
   "metadata": {},
   "source": [
    "##### Learnings\n",
    "- This problem is kinda strange to me. I don't understand how intuitively the way to climb i steps comes from i-1 and i-2\n",
    "- But I understand the recursive approach with memoization"
   ]
  }
 ],
 "metadata": {
  "kernelspec": {
   "display_name": "base",
   "language": "python",
   "name": "python3"
  },
  "language_info": {
   "codemirror_mode": {
    "name": "ipython",
    "version": 3
   },
   "file_extension": ".py",
   "mimetype": "text/x-python",
   "name": "python",
   "nbconvert_exporter": "python",
   "pygments_lexer": "ipython3",
   "version": "3.9.7"
  }
 },
 "nbformat": 4,
 "nbformat_minor": 2
}
