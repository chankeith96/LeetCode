{
 "cells": [
  {
   "cell_type": "markdown",
   "metadata": {},
   "source": [
    "[124. Binary Tree Maximum Path Sum](https://leetcode.com/problems/binary-tree-maximum-path-sum/)"
   ]
  },
  {
   "cell_type": "code",
   "execution_count": null,
   "metadata": {},
   "outputs": [],
   "source": [
    "# Definition for a binary tree node.\n",
    "# class TreeNode:\n",
    "#     def __init__(self, val=0, left=None, right=None):\n",
    "#         self.val = val\n",
    "#         self.left = left\n",
    "#         self.right = right\n",
    "class Solution:\n",
    "    def maxPathSum(self, root: Optional[TreeNode]) -> int:\n",
    "        # Solution 1: Brute force - don't know how to implement \n",
    "        # - iterate through each node in the tree. At each node, imagine it to be the \"top\" node where the path splits\n",
    "        # - for every node below the top node, choose the max node to be in the path\n",
    "        # - EDIT: actually choosing max node is not good bc it's a greedy approach. There might be a big positive node somewhere. Need to use dynamic programming? \n",
    "        # Time: O(n*logn), iterate through n nodes, and at each node below choose one path\n",
    "        # Space: O(n), use array to store all nodes from dfs so that you can iterate\n",
    "        \n",
    "\n",
    "        # Solution 2: Recursion\n",
    "        # Time: O(n)\n",
    "        # Space: O(d) where d is depth of tree\n",
    "        result = [root.val]\n",
    "\n",
    "        # return max path sum without split\n",
    "        def maxPathSum_helper(root):\n",
    "            cur = root\n",
    "            # Base case\n",
    "            if cur == None:\n",
    "                return 0\n",
    "\n",
    "            left_max = max(0, maxPathSum_helper(cur.left))\n",
    "            right_max = max(0, maxPathSum_helper(cur.right))\n",
    "\n",
    "            # return max path sum WITH split\n",
    "            result[0] = max(result[0], cur.val + left_max + right_max) \n",
    "\n",
    "            # Recursive case\n",
    "            return cur.val + max(left_max, right_max)\n",
    "        \n",
    "        maxPathSum_helper(root)\n",
    "        return result[0]"
   ]
  },
  {
   "cell_type": "markdown",
   "metadata": {},
   "source": [
    "##### Edge Cases\n",
    "- "
   ]
  },
  {
   "cell_type": "markdown",
   "metadata": {},
   "source": [
    "##### Optimizations\n",
    "- "
   ]
  },
  {
   "cell_type": "markdown",
   "metadata": {},
   "source": [
    "##### Learnings\n",
    "- Solution 1: a key fact for this solution is to notice that you can only split once (maximum 1 split, but could also not split at all). After the split, you just follow the path of the max child nodes\n",
    "- Used a mutable list to act as a global variable. Wouldn't work if ```result = 0```"
   ]
  },
  {
   "cell_type": "markdown",
   "metadata": {},
   "source": []
  }
 ],
 "metadata": {
  "kernelspec": {
   "display_name": "base",
   "language": "python",
   "name": "python3"
  },
  "language_info": {
   "codemirror_mode": {
    "name": "ipython",
    "version": 3
   },
   "file_extension": ".py",
   "mimetype": "text/x-python",
   "name": "python",
   "nbconvert_exporter": "python",
   "pygments_lexer": "ipython3",
   "version": "3.9.7"
  }
 },
 "nbformat": 4,
 "nbformat_minor": 2
}
