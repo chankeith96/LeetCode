{
 "cells": [
  {
   "cell_type": "markdown",
   "metadata": {},
   "source": [
    "[100. Same Tree](https://leetcode.com/problems/same-tree/)"
   ]
  },
  {
   "cell_type": "code",
   "execution_count": null,
   "metadata": {},
   "outputs": [],
   "source": [
    "# Definition for a binary tree node.\n",
    "# class TreeNode:\n",
    "#     def __init__(self, val=0, left=None, right=None):\n",
    "#         self.val = val\n",
    "#         self.left = left\n",
    "#         self.right = right\n",
    "class Solution:\n",
    "    def isSameTree(self, p: Optional[TreeNode], q: Optional[TreeNode]) -> bool:\n",
    "        # Solution 1: Recursive check\n",
    "        # Time: O(p + q) need to traverse through all nodes\n",
    "        # Space: O(p + q) recursive call stack is logp + logq for balanced tree but p + q for worst case \n",
    "\n",
    "        # Base case\n",
    "        if not p and not q:\n",
    "            return True\n",
    "        if not p or not q: \n",
    "            return False\n",
    "        # if p and not q: #simplified above\n",
    "        #     return False\n",
    "        # if q and not p:\n",
    "        #     return False\n",
    "        \n",
    "        # Recursive case\n",
    "        if p.val == q.val:\n",
    "            return (self.isSameTree(p.left, q.left) and self.isSameTree(p.right, q.right))\n",
    "        else:\n",
    "            return False\n",
    "\n",
    "        # # Solution 2: Compare BFS queues or DFS stacks. Does not work since the nodes are not exactly the same. They don't refer to the same address in memory\n",
    "        # # Time: O(p+q)\n",
    "        # # Space: O(p+q)\n",
    "        \n",
    "        # if not p and not q:\n",
    "        #     return True\n",
    "        # if not p or not q: \n",
    "        #     return False\n",
    "\n",
    "        # # DFS traverse p\n",
    "        # visited_p = []\n",
    "        # visited_q = []\n",
    "        # stack_p = [p]\n",
    "        # stack_q = [q]\n",
    "\n",
    "        # while stack_p:\n",
    "        #     node = stack_p.pop()\n",
    "        #     if node:\n",
    "        #         visited_p.append(node)\n",
    "        #         stack_p.append(node.left)\n",
    "        #         stack_p.append(node.right) \n",
    "        # while stack_q:\n",
    "        #     node = stack_q.pop()\n",
    "        #     if node:\n",
    "        #         visited_q.append(node)\n",
    "        #         stack_q.append(node.left)\n",
    "        #         stack_q.append(node.right) \n",
    "        # print(visited_p)\n",
    "        # print(visited_q)\n",
    "        # return visited_p == visited_q"
   ]
  },
  {
   "cell_type": "markdown",
   "metadata": {},
   "source": [
    "##### Edge Cases\n",
    "- "
   ]
  },
  {
   "cell_type": "markdown",
   "metadata": {},
   "source": [
    "##### Optimizations\n",
    "- "
   ]
  },
  {
   "cell_type": "markdown",
   "metadata": {},
   "source": [
    "##### Learnings\n",
    "- Solution was is super simple, but I still stumbled implementing. Try doing it again without looking at solution\n",
    "- Solution 2 doesn't work, but is still a good learning. It shows how to traverse a tree using DFS and stack, and storing nodes in visited list. \n"
   ]
  },
  {
   "cell_type": "markdown",
   "metadata": {},
   "source": []
  }
 ],
 "metadata": {
  "kernelspec": {
   "display_name": "base",
   "language": "python",
   "name": "python3"
  },
  "language_info": {
   "codemirror_mode": {
    "name": "ipython",
    "version": 3
   },
   "file_extension": ".py",
   "mimetype": "text/x-python",
   "name": "python",
   "nbconvert_exporter": "python",
   "pygments_lexer": "ipython3",
   "version": "3.9.7"
  }
 },
 "nbformat": 4,
 "nbformat_minor": 2
}
