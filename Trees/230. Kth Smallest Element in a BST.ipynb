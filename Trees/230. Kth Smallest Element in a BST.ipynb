{
 "cells": [
  {
   "cell_type": "markdown",
   "metadata": {},
   "source": [
    "[230. Kth Smallest Element in a BST](https://leetcode.com/problems/kth-smallest-element-in-a-bst/)"
   ]
  },
  {
   "cell_type": "code",
   "execution_count": null,
   "metadata": {},
   "outputs": [],
   "source": [
    "# Definition for a binary tree node.\n",
    "# class TreeNode:\n",
    "#     def __init__(self, val=0, left=None, right=None):\n",
    "#         self.val = val\n",
    "#         self.left = left\n",
    "#         self.right = right\n",
    "class Solution:\n",
    "    def kthSmallest(self, root: Optional[TreeNode], k: int) -> int:\n",
    "        # # Solution 1: Recursive DFS - in order traversal\n",
    "        # # - do \"in-order\" traversal of the BST\n",
    "        # # - add nodes in order to an array\n",
    "        # # - keep track of how many nodes are in array and return kth node\n",
    "        # # - or take the final array and return kth smallest\n",
    "        # # Time: O(n)\n",
    "        # # Space: O(n + logd) --> O(n) where d is depth of tree\n",
    "        # array = []\n",
    "        # self.inOrderTraversal(root, array)\n",
    "        # return array[k-1]\n",
    "\n",
    "        # Solution 2: Iterative DFS using stack\n",
    "        # - imitate in-order traversal using a stack \n",
    "        # - add node to stack, then check left. If nothing is on left, then pop node and check right\n",
    "        # Time: O(n)\n",
    "        # Space: O(d) where d is depth of tree\n",
    "        node = root\n",
    "        stack = []\n",
    "        n = 0\n",
    "        while node or stack:\n",
    "            while node:\n",
    "                stack.append(node)\n",
    "                node = node.left\n",
    "            node = stack.pop()\n",
    "            n += 1 \n",
    "            if n == k:\n",
    "                return node.val\n",
    "            node = node.right\n",
    "\n",
    "    def inOrderTraversal(self, root, array):\n",
    "        # Base case:\n",
    "        if root == None:\n",
    "            return \n",
    "\n",
    "        # Recursive case\n",
    "        self.inOrderTraversal(root.left, array)\n",
    "        array.append(root.val)\n",
    "        self.inOrderTraversal(root.right, array) "
   ]
  },
  {
   "cell_type": "markdown",
   "metadata": {},
   "source": [
    "##### Edge Cases\n",
    "- "
   ]
  },
  {
   "cell_type": "markdown",
   "metadata": {},
   "source": [
    "##### Optimizations\n",
    "- "
   ]
  },
  {
   "cell_type": "markdown",
   "metadata": {},
   "source": [
    "##### Learnings\n",
    "- I had a hard time implementing the iterative DFS from scratch "
   ]
  },
  {
   "cell_type": "markdown",
   "metadata": {},
   "source": []
  }
 ],
 "metadata": {
  "kernelspec": {
   "display_name": "base",
   "language": "python",
   "name": "python3"
  },
  "language_info": {
   "codemirror_mode": {
    "name": "ipython",
    "version": 3
   },
   "file_extension": ".py",
   "mimetype": "text/x-python",
   "name": "python",
   "nbconvert_exporter": "python",
   "pygments_lexer": "ipython3",
   "version": "3.9.7"
  }
 },
 "nbformat": 4,
 "nbformat_minor": 2
}
