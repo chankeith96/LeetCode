{
 "cells": [
  {
   "cell_type": "markdown",
   "metadata": {},
   "source": [
    "[105. Construct Binary Tree from Preorder and Inorder Traversal](https://leetcode.com/problems/construct-binary-tree-from-preorder-and-inorder-traversal/)"
   ]
  },
  {
   "cell_type": "code",
   "execution_count": null,
   "metadata": {},
   "outputs": [],
   "source": [
    "# Definition for a binary tree node.\n",
    "# class TreeNode:\n",
    "#     def __init__(self, val=0, left=None, right=None):\n",
    "#         self.val = val\n",
    "#         self.left = left\n",
    "#         self.right = right\n",
    "class Solution:\n",
    "    def buildTree(self, preorder: List[int], inorder: List[int]) -> Optional[TreeNode]:\n",
    "        # Solution 1: \n",
    "        # - first node in preorder is always the root node\n",
    "        # - find the root node in the inorder array. Elements to the left fall in left subtree. Elements to the right fall in right subtree\n",
    "        # - Recursively construct the left and right subtrees\n",
    "        # Time: O(n)\n",
    "        # Space: O(d) where d is depth of tree\n",
    "        # Base case\n",
    "        if not preorder or not inorder:\n",
    "            return None\n",
    "\n",
    "        # Recursive case\n",
    "        root = TreeNode(preorder[0])\n",
    "        mid = inorder.index(root.val)\n",
    "        root.left = self.buildTree(preorder=preorder[1:mid+1], inorder=inorder[0:mid])\n",
    "        root.right = self.buildTree(preorder=preorder[mid+1:], inorder=inorder[mid+1:])\n",
    "        return root"
   ]
  },
  {
   "cell_type": "markdown",
   "metadata": {},
   "source": [
    "##### Edge Cases\n",
    "- "
   ]
  },
  {
   "cell_type": "markdown",
   "metadata": {},
   "source": [
    "##### Optimizations\n",
    "- "
   ]
  },
  {
   "cell_type": "markdown",
   "metadata": {},
   "source": [
    "##### Learnings\n",
    "- would not have come up with the solution without watching solution video"
   ]
  },
  {
   "cell_type": "markdown",
   "metadata": {},
   "source": []
  }
 ],
 "metadata": {
  "kernelspec": {
   "display_name": "base",
   "language": "python",
   "name": "python3"
  },
  "language_info": {
   "codemirror_mode": {
    "name": "ipython",
    "version": 3
   },
   "file_extension": ".py",
   "mimetype": "text/x-python",
   "name": "python",
   "nbconvert_exporter": "python",
   "pygments_lexer": "ipython3",
   "version": "3.9.7"
  }
 },
 "nbformat": 4,
 "nbformat_minor": 2
}
