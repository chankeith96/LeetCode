{
 "cells": [
  {
   "cell_type": "markdown",
   "metadata": {},
   "source": [
    "[235. Lowest Common Ancestor of a Binary Search Tree](https://leetcode.com/problems/lowest-common-ancestor-of-a-binary-search-tree/)"
   ]
  },
  {
   "cell_type": "code",
   "execution_count": null,
   "metadata": {},
   "outputs": [],
   "source": [
    "# Definition for a binary tree node.\n",
    "# class TreeNode:\n",
    "#     def __init__(self, x):\n",
    "#         self.val = x\n",
    "#         self.left = None\n",
    "#         self.right = None\n",
    "\n",
    "class Solution:\n",
    "    def lowestCommonAncestor(self, root: 'TreeNode', p: 'TreeNode', q: 'TreeNode') -> 'TreeNode':\n",
    "        # # Solution 1: \n",
    "        # # - BST has the property that the node is strictly larger than left child and smaller than right child\n",
    "        # # - Traverse from the root node. At any node, if p and q are on either side of a node, then that node is the LCA\n",
    "        # # - if the node value equals either p or q, then that node is LCA\n",
    "        # # Case 1: p & q < root --> go left\n",
    "        # # Case 2: p & q > root --> go right\n",
    "        # # Case 3: p<root and q>root --> return root\n",
    "        # # Case 4: q<root and p>root --> return root\n",
    "        # # Case 5: q=root --> return root\n",
    "        # # Case 6: p=root --> return root\n",
    "        # # Time: O(logn) bc don't need to traverse every node, only one node per level (aka the height of the tree). O(n) in worst case\n",
    "        # # Space: O(n)\n",
    "\n",
    "        # # Base case\n",
    "        # if root.val == p.val or root.val == q.val:\n",
    "        #     return root\n",
    "        # if p.val < root.val and q.val > root.val:\n",
    "        #     return root\n",
    "        # if q.val < root.val and p.val > root.val:\n",
    "        #     return root\n",
    "\n",
    "        # # Recursive case\n",
    "        # if p.val < root.val and q.val < root.val:\n",
    "        #     return self.lowestCommonAncestor(root.left, p, q)\n",
    "        # else:\n",
    "        #     return self.lowestCommonAncestor(root.right, p, q)\n",
    "\n",
    "        # Solution 2: Without recursion, but same idea\n",
    "        # Time: O(logn)\n",
    "        # Space: O(1) \n",
    "        cur = root\n",
    "        while cur:\n",
    "            if p.val < cur.val and q.val < cur.val:\n",
    "                cur = cur.left\n",
    "            elif p.val > cur.val and q.val > cur.val:\n",
    "                cur = cur.right\n",
    "            else:\n",
    "                return cur"
   ]
  },
  {
   "cell_type": "markdown",
   "metadata": {},
   "source": [
    "##### Edge Cases\n",
    "- "
   ]
  },
  {
   "cell_type": "markdown",
   "metadata": {},
   "source": [
    "##### Optimizations\n",
    "- "
   ]
  },
  {
   "cell_type": "markdown",
   "metadata": {},
   "source": [
    "##### Learnings\n",
    "- Note there is a difference between a binary tree and a Binary Search Tree; BST has the property that the node is strictly larger than left child and smaller than right child\n",
    "- I failed to notice this at first, so couldn't think of a solution. \n",
    "- Know how to solve this problem recursively and using while loop"
   ]
  },
  {
   "cell_type": "markdown",
   "metadata": {},
   "source": []
  }
 ],
 "metadata": {
  "kernelspec": {
   "display_name": "base",
   "language": "python",
   "name": "python3"
  },
  "language_info": {
   "codemirror_mode": {
    "name": "ipython",
    "version": 3
   },
   "file_extension": ".py",
   "mimetype": "text/x-python",
   "name": "python",
   "nbconvert_exporter": "python",
   "pygments_lexer": "ipython3",
   "version": "3.9.7"
  }
 },
 "nbformat": 4,
 "nbformat_minor": 2
}
