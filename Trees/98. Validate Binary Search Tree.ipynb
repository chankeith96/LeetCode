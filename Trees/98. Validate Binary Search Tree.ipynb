{
 "cells": [
  {
   "cell_type": "markdown",
   "metadata": {},
   "source": [
    "[98. Validate Binary Search Tree](https://leetcode.com/problems/validate-binary-search-tree/)"
   ]
  },
  {
   "cell_type": "code",
   "execution_count": null,
   "metadata": {},
   "outputs": [],
   "source": [
    "# Definition for a binary tree node.\n",
    "# class TreeNode:\n",
    "#     def __init__(self, val=0, left=None, right=None):\n",
    "#         self.val = val\n",
    "#         self.left = left\n",
    "#         self.right = right\n",
    "class Solution:\n",
    "    def isValidBST(self, root: Optional[TreeNode]) -> bool:\n",
    "        # Solution 1: Recursively check subtrees \n",
    "        # - for each node, check if left is less and right is greater. \n",
    "        # - Also, must be less than upper limit and greater than lower limit\n",
    "        # Time: O(n)\n",
    "        # Space: O(logn)\n",
    "        return self.isValidBSTHelper(root, float(\"-inf\"), float(\"inf\"))\n",
    "\n",
    "    def isValidBSTHelper(self, root, lower_limit, upper_limit):\n",
    "        # Base case\n",
    "        if root == None:\n",
    "            return True\n",
    "        \n",
    "        # Recursive case\n",
    "        if root.val > lower_limit and root.val < upper_limit:\n",
    "            return (self.isValidBSTHelper(root.left, lower_limit, root.val) and\n",
    "                    self.isValidBSTHelper(root.right, root.val, upper_limit))\n",
    "        else:\n",
    "            return False\n",
    "            "
   ]
  },
  {
   "cell_type": "markdown",
   "metadata": {},
   "source": [
    "##### Edge Cases\n",
    "- "
   ]
  },
  {
   "cell_type": "markdown",
   "metadata": {},
   "source": [
    "##### Optimizations\n",
    "- "
   ]
  },
  {
   "cell_type": "markdown",
   "metadata": {},
   "source": [
    "##### Learnings\n",
    "- "
   ]
  },
  {
   "cell_type": "markdown",
   "metadata": {},
   "source": []
  }
 ],
 "metadata": {
  "kernelspec": {
   "display_name": "base",
   "language": "python",
   "name": "python3"
  },
  "language_info": {
   "codemirror_mode": {
    "name": "ipython",
    "version": 3
   },
   "file_extension": ".py",
   "mimetype": "text/x-python",
   "name": "python",
   "nbconvert_exporter": "python",
   "pygments_lexer": "ipython3",
   "version": "3.9.7"
  }
 },
 "nbformat": 4,
 "nbformat_minor": 2
}
