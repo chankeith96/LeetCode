{
 "cells": [
  {
   "cell_type": "markdown",
   "metadata": {},
   "source": [
    "[314. Binary Tree Vertical Order Traversal](https://leetcode.com/problems/binary-tree-vertical-order-traversal/description/)"
   ]
  },
  {
   "cell_type": "code",
   "execution_count": null,
   "metadata": {},
   "outputs": [],
   "source": [
    "# Definition for a binary tree node.\n",
    "# class TreeNode:\n",
    "#     def __init__(self, val=0, left=None, right=None):\n",
    "#         self.val = val\n",
    "#         self.left = left\n",
    "#         self.right = right\n",
    "class Solution:\n",
    "    def verticalOrder(self, root: Optional[TreeNode]) -> List[List[int]]:\n",
    "        # # Solution 1: BFS\n",
    "        # # Time: O(nlogn), nlogn for sorting, but BFS is O(n)\n",
    "        # # Space: O(n) , hashtable is O(n), queue is O(n), results is O(n)\n",
    "\n",
    "        # columnTable = {0: [root.val]}\n",
    "        # q = deque([(root, 0)])\n",
    "\n",
    "        # if not root:\n",
    "        #     return []\n",
    "\n",
    "        # while q:\n",
    "        #     node, col = q.popleft()\n",
    "        #     if node.left:\n",
    "        #         q.append((node.left, col - 1))\n",
    "        #         columnTable[col-1] = columnTable.get(col - 1, [])\n",
    "        #         columnTable[col-1].append(node.left.val)\n",
    "        #     if node.right:\n",
    "        #         q.append((node.right, col + 1)) \n",
    "        #         columnTable[col+1] = columnTable.get(col + 1, [])\n",
    "        #         columnTable[col+1].append(node.right.val)\n",
    "\n",
    "        # return [columnTable[key] for key in sorted(columnTable.keys())]\n",
    "    \n",
    "        # Solution 2: BFS\n",
    "        # Essentially the same logic as solution 1 but better implementation! \n",
    "        # It is better to add None nodes into queue but only do something if node is not None\n",
    "        # as opposed to checking if node.left and node.right are both valid nodes. This \n",
    "        # allows for the root node to be None, less edge case handling, no need to pre-initialize\n",
    "        # columnTable, etc. Same thing for Leetcode 102. Binary Tree Level Order Traversal\n",
    "        # Time: O(nlogn), nlogn for sorting, but BFS is O(n)\n",
    "        # Space: O(n) , hashtable is O(n), queue is O(n), results is O(n)\n",
    "\n",
    "        columnTable = {} \n",
    "        q = deque([(root, 0)])\n",
    "\n",
    "        while q:\n",
    "            node, col = q.popleft()\n",
    "\n",
    "            if node is not None:\n",
    "                columnTable[col] = columnTable.get(col, [])\n",
    "                columnTable[col].append(node.val)\n",
    "                \n",
    "                q.append((node.left, col - 1))\n",
    "                q.append((node.right, col + 1))\n",
    "\n",
    "        return [columnTable[key] for key in sorted(columnTable.keys())]"
   ]
  },
  {
   "cell_type": "markdown",
   "metadata": {},
   "source": [
    "##### Edge Cases\n",
    "- "
   ]
  },
  {
   "cell_type": "markdown",
   "metadata": {},
   "source": [
    "##### Optimizations\n",
    "- "
   ]
  },
  {
   "cell_type": "markdown",
   "metadata": {},
   "source": [
    "##### Learnings\n",
    "- For BFS implementation, it is better (solution 2) to add None nodes into queue but only do something if node is not None as opposed to checking if node.left and node.right are both valid nodes. This allows for the root node to be None, less edge case handling, no need to pre-initialize columnTable, etc. Same thing for Leetcode 102. Binary Tree Level Order Traversal and Leetcode 104 Maximium Depth of Binary Tree\n"
   ]
  },
  {
   "cell_type": "markdown",
   "metadata": {},
   "source": []
  }
 ],
 "metadata": {
  "kernelspec": {
   "display_name": "base",
   "language": "python",
   "name": "python3"
  },
  "language_info": {
   "codemirror_mode": {
    "name": "ipython",
    "version": 3
   },
   "file_extension": ".py",
   "mimetype": "text/x-python",
   "name": "python",
   "nbconvert_exporter": "python",
   "pygments_lexer": "ipython3",
   "version": "3.9.7"
  }
 },
 "nbformat": 4,
 "nbformat_minor": 2
}
