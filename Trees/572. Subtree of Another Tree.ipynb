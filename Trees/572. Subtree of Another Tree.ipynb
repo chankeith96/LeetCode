{
 "cells": [
  {
   "cell_type": "markdown",
   "metadata": {},
   "source": [
    "[572. Subtree of Another Tree](https://leetcode.com/problems/subtree-of-another-tree/)"
   ]
  },
  {
   "cell_type": "code",
   "execution_count": null,
   "metadata": {},
   "outputs": [],
   "source": [
    "# Definition for a binary tree node.\n",
    "# class TreeNode:\n",
    "#     def __init__(self, val=0, left=None, right=None):\n",
    "#         self.val = val\n",
    "#         self.left = left\n",
    "#         self.right = right\n",
    "class Solution:\n",
    "    def isSubtree(self, root: Optional[TreeNode], subRoot: Optional[TreeNode]) -> bool:\n",
    "        # Solution 1:  \n",
    "        # - start at root. Check if subRoot is same tree as root. If yes, return True.\n",
    "        # - If no, iterate through child nodes (recursive DFS) and check if subRoot is same tree\n",
    "        # Time: O(t*s) where t=size of tree and s=size of subtree. For each node in tree, we need to check against the s nodes in subtree\n",
    "        # Space: O(t)\n",
    "\n",
    "        # Base case\n",
    "        if subRoot and root == None:\n",
    "            return False\n",
    "        \n",
    "        # Recursive case\n",
    "        if self.isSameTree(root, subRoot):\n",
    "            return True\n",
    "        else:\n",
    "            return (self.isSubtree(root.left, subRoot) or\n",
    "                    self.isSubtree(root.right, subRoot)) \n",
    "        \n",
    "\n",
    "    def isSameTree(self, p: Optional[TreeNode], q: Optional[TreeNode]) -> bool:\n",
    "        # Solution 1: Recursive check\n",
    "        # Time: O(p + q) need to traverse through all nodes\n",
    "        # Space: O(p + q) recursive call stack is logp + logq for balanced tree but p + q for worst case \n",
    "\n",
    "        # Base case\n",
    "        if not p and not q:\n",
    "            return True\n",
    "        if not p or not q: \n",
    "            return False\n",
    "\n",
    "        # Recursive case\n",
    "        if p.val == q.val:\n",
    "            return (self.isSameTree(p.left, q.left) and self.isSameTree(p.right, q.right))\n",
    "        else:\n",
    "            return False"
   ]
  },
  {
   "cell_type": "markdown",
   "metadata": {},
   "source": [
    "##### Edge Cases\n",
    "- root is null\n",
    "- subRoot is null"
   ]
  },
  {
   "cell_type": "markdown",
   "metadata": {},
   "source": [
    "##### Optimizations\n",
    "- "
   ]
  },
  {
   "cell_type": "markdown",
   "metadata": {},
   "source": [
    "##### Learnings\n",
    "- "
   ]
  },
  {
   "cell_type": "markdown",
   "metadata": {},
   "source": []
  }
 ],
 "metadata": {
  "kernelspec": {
   "display_name": "base",
   "language": "python",
   "name": "python3"
  },
  "language_info": {
   "codemirror_mode": {
    "name": "ipython",
    "version": 3
   },
   "file_extension": ".py",
   "mimetype": "text/x-python",
   "name": "python",
   "nbconvert_exporter": "python",
   "pygments_lexer": "ipython3",
   "version": "3.9.7"
  }
 },
 "nbformat": 4,
 "nbformat_minor": 2
}
