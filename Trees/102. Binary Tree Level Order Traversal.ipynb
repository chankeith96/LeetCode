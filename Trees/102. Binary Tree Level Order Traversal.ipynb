{
 "cells": [
  {
   "cell_type": "markdown",
   "metadata": {},
   "source": [
    "[102. Binary Tree Level Order Traversal](https://leetcode.com/problems/binary-tree-level-order-traversal/)"
   ]
  },
  {
   "cell_type": "code",
   "execution_count": null,
   "metadata": {},
   "outputs": [],
   "source": [
    "# Definition for a binary tree node.\n",
    "# class TreeNode:\n",
    "#     def __init__(self, val=0, left=None, right=None):\n",
    "#         self.val = val\n",
    "#         self.left = left\n",
    "#         self.right = right\n",
    "class Solution:\n",
    "    def levelOrder(self, root: Optional[TreeNode]) -> List[List[int]]:\n",
    "        # Solution 1: BFS using queue\n",
    "        # - initialize queue with root \n",
    "        # - take leftmost node/level and append node to a list corresponding to level\n",
    "        # - when level switches, append the level list to answer list and start a new list\n",
    "        # - return answer list\n",
    "        # Time: O(n) traverse each node once\n",
    "        # Space: O(n) for the queue\n",
    "        print(root)\n",
    "        queue = collections.deque([root])\n",
    "        answer = []\n",
    "        while queue:\n",
    "            level = []\n",
    "            queue_len = len(queue)\n",
    "            for i in range(queue_len):\n",
    "                node = queue.popleft()\n",
    "                if node:\n",
    "                    level.append(node.val)\n",
    "                    queue.append(node.left)\n",
    "                    queue.append(node.right)\n",
    "            if level:\n",
    "                answer.append(level)\n",
    "        return answer"
   ]
  },
  {
   "cell_type": "markdown",
   "metadata": {},
   "source": [
    "##### Edge Cases\n",
    "- "
   ]
  },
  {
   "cell_type": "markdown",
   "metadata": {},
   "source": [
    "##### Optimizations\n",
    "- "
   ]
  },
  {
   "cell_type": "markdown",
   "metadata": {},
   "source": [
    "##### Learnings\n",
    "- It was key to recognize that you can use len(queue) to know when you're still on a certain level.\n",
    "- Must store queue length in a variable if used in a for loop like `for i in range(queue_len):` rather than `for i in range(len(queue))` "
   ]
  },
  {
   "cell_type": "markdown",
   "metadata": {},
   "source": []
  }
 ],
 "metadata": {
  "kernelspec": {
   "display_name": "base",
   "language": "python",
   "name": "python3"
  },
  "language_info": {
   "codemirror_mode": {
    "name": "ipython",
    "version": 3
   },
   "file_extension": ".py",
   "mimetype": "text/x-python",
   "name": "python",
   "nbconvert_exporter": "python",
   "pygments_lexer": "ipython3",
   "version": "3.9.7"
  }
 },
 "nbformat": 4,
 "nbformat_minor": 2
}
