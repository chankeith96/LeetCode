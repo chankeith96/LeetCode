{
 "cells": [
  {
   "cell_type": "markdown",
   "metadata": {},
   "source": [
    "[104. Maximum Depth of Binary Tree](https://leetcode.com/problems/maximum-depth-of-binary-tree/)"
   ]
  },
  {
   "cell_type": "code",
   "execution_count": null,
   "metadata": {},
   "outputs": [],
   "source": [
    "# Definition for a binary tree node.\n",
    "# class TreeNode:\n",
    "#     def __init__(self, val=0, left=None, right=None):\n",
    "#         self.val = val\n",
    "#         self.left = left\n",
    "#         self.right = right\n",
    "class Solution:\n",
    "    def maxDepth(self, root: Optional[TreeNode]) -> int:\n",
    "        # Solution 1: Recursive DFS \n",
    "        # Time: O(n) need to traverse through all nodes\n",
    "        # Space: O(n) recursive call stack is logn for balanced tree but n for worst case \n",
    "\n",
    "        # Base case\n",
    "        if root == None:\n",
    "            return 0\n",
    "\n",
    "        # Recursive case\n",
    "        return 1 + max(self.maxDepth(root.left), self.maxDepth(root.right))\n",
    "\n",
    "        # # Solution 2: Iterative BFS (BFS uses queue)\n",
    "        # # Time: O(n)\n",
    "        # # Space: O(n)\n",
    "\n",
    "        # # Base case\n",
    "        # if root == None:\n",
    "        #     return 0\n",
    "\n",
    "        # level = 0\n",
    "        # queue = deque([root])\n",
    "        \n",
    "        # while queue:\n",
    "        #     for i in range(len(queue)):\n",
    "        #         node = queue.popleft()\n",
    "        #         if node.left:\n",
    "        #             queue.append(node.left)\n",
    "        #         if node.right: \n",
    "        #             queue.append(node.right)\n",
    "        #     level += 1\n",
    "        # return level\n",
    "\n",
    "\n",
    "        # Solution 3: Iterative DFS (DFS uses stack)\n",
    "        # Time: O(n)\n",
    "        # Space: O(n)\n",
    "\n",
    "        # # Base case\n",
    "        # if root == None:\n",
    "        #     return 0\n",
    "\n",
    "        # level = 1\n",
    "        # max_level = 1\n",
    "        # stack = list([(root, level)])\n",
    "        # while stack:\n",
    "        #     node, level = stack.pop()\n",
    "        #     max_level = max(max_level, level)\n",
    "        #     level += 1\n",
    "        #     if node.left:\n",
    "        #         stack.append((node.left, level))\n",
    "        #     if node.right: \n",
    "        #         stack.append((node.right, level))\n",
    "        # return max_level\n"
   ]
  },
  {
   "cell_type": "markdown",
   "metadata": {},
   "source": [
    "##### Edge Cases\n",
    "- "
   ]
  },
  {
   "cell_type": "markdown",
   "metadata": {},
   "source": [
    "##### Optimizations\n",
    "- "
   ]
  },
  {
   "cell_type": "markdown",
   "metadata": {},
   "source": [
    "##### Learnings\n",
    "- Originally I changed the function signature by adding a 'level=0' parameter to pass in depth level, but can do without this. \n",
    "- Why use Python's deque? Deque = double-ended queue. Deques are a generalization of stacks and queues and support efficient append and pop operations on both ends of the data structure. Deques are implemented as a doubly linked list\n",
    "    - Python lists also have .append() and .pop(), so technically they’re usable as stacks and queues. However, appending and popping items on the left end of a Python list are known to be inefficient operations with O(n) speed.\n",
    "    - import from collections module using `from collections import deque`\n",
    "    - [Source](https://realpython.com/python-deque/#:~:text=Again%2C%20deque%20is%20faster%20than,either%20end%20of%20the%20sequence)\n",
    "    - know the main methods of deque like how to initialize (i.e. `queue = deque(['name','age','DOB'])`), `.append()`, `.appendleft()`, `.pop()`, `.popleft()`\n",
    "        - [Source](https://www.geeksforgeeks.org/deque-in-python/)\n",
    "- All three solutions have same time/space complexity but good to know how to implement each. Recursive DFS was easiest\n"
   ]
  },
  {
   "cell_type": "markdown",
   "metadata": {},
   "source": []
  }
 ],
 "metadata": {
  "kernelspec": {
   "display_name": "base",
   "language": "python",
   "name": "python3"
  },
  "language_info": {
   "codemirror_mode": {
    "name": "ipython",
    "version": 3
   },
   "file_extension": ".py",
   "mimetype": "text/x-python",
   "name": "python",
   "nbconvert_exporter": "python",
   "pygments_lexer": "ipython3",
   "version": "3.9.7"
  }
 },
 "nbformat": 4,
 "nbformat_minor": 2
}
