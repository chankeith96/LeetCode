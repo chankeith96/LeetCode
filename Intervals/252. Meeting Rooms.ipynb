{
 "cells": [
  {
   "cell_type": "markdown",
   "metadata": {},
   "source": [
    "[252. Meeting Rooms](https://neetcode.io/problems/meeting-schedule)"
   ]
  },
  {
   "cell_type": "code",
   "execution_count": null,
   "metadata": {},
   "outputs": [],
   "source": [
    "\"\"\"\n",
    "Definition of Interval:\n",
    "class Interval(object):\n",
    "    def __init__(self, start, end):\n",
    "        self.start = start\n",
    "        self.end = end\n",
    "\"\"\"\n",
    "\n",
    "class Solution:\n",
    "    def canAttendMeetings(self, intervals: List[Interval]) -> bool:\n",
    "        # Solution 1:\n",
    "        # - sort the intervals by the starting index\n",
    "        # - iterate through all intervals and check adjacent intervals for overlap\n",
    "        #     - overlap if start_2 < end_1\n",
    "        #     - return false if overlap\n",
    "        #     - else continue\n",
    "        # Time: O(nlogn) + O(n) = O(nlogn)\n",
    "        # Space: O(1)\n",
    "        intervals.sort(key = lambda x : x.start)\n",
    "\n",
    "        # Edge case: 0 or 1 intervals\n",
    "        if not intervals or len(intervals) == 1:\n",
    "            return True\n",
    "\n",
    "        prev_end = intervals[0].end\n",
    "        for i in intervals[1:]:\n",
    "            # Check overlap\n",
    "            if i.start < prev_end:\n",
    "                return False\n",
    "            else:\n",
    "                prev_end = i.end\n",
    "        return True\n"
   ]
  },
  {
   "cell_type": "markdown",
   "metadata": {},
   "source": [
    "##### Edge Cases\n",
    "- "
   ]
  },
  {
   "cell_type": "markdown",
   "metadata": {},
   "source": [
    "##### Optimizations\n",
    "- "
   ]
  },
  {
   "cell_type": "markdown",
   "metadata": {},
   "source": [
    "##### Learnings\n",
    "- \n"
   ]
  },
  {
   "cell_type": "markdown",
   "metadata": {},
   "source": []
  }
 ],
 "metadata": {
  "kernelspec": {
   "display_name": "base",
   "language": "python",
   "name": "python3"
  },
  "language_info": {
   "codemirror_mode": {
    "name": "ipython",
    "version": 3
   },
   "file_extension": ".py",
   "mimetype": "text/x-python",
   "name": "python",
   "nbconvert_exporter": "python",
   "pygments_lexer": "ipython3",
   "version": "3.9.7"
  }
 },
 "nbformat": 4,
 "nbformat_minor": 2
}
