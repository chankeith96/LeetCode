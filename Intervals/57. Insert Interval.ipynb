{
 "cells": [
  {
   "cell_type": "markdown",
   "metadata": {},
   "source": [
    "[57. Insert Interval](https://leetcode.com/problems/insert-interval/description/)"
   ]
  },
  {
   "cell_type": "code",
   "execution_count": null,
   "metadata": {},
   "outputs": [],
   "source": [
    "class Solution:\n",
    "    def insert(self, intervals: List[List[int]], newInterval: List[int]) -> List[List[int]]:\n",
    "        # Solution 1: \n",
    "        # - create results list\n",
    "        # - iterate through start indices until start_i is greater than new_start\n",
    "        # - add intervals to results as you go\n",
    "        # - new interval will be inserted at i-1\n",
    "        # - if new_start > end_i-1. \n",
    "        #     If yes, then no overlap. next_interval_start = new_start\n",
    "        #     Else, there is overlap and next_interval_start = start_i-1\n",
    "        # - iterate through end indices until end_j is greater than new_end\n",
    "        # - new interval will be inserted at j-1\n",
    "        # - if new_end > start_j\n",
    "        #     if yes, there is overlap and next_interval_end = end_j\n",
    "        #     if no, then no overlap and next_interval_end = new_end\n",
    "        # - add next_interval\n",
    "        # - add the rest of intervals\n",
    "        # Time: O(n)\n",
    "        # Space: O(n)\n",
    "\n",
    "        # Solution 2:\n",
    "        # - create results list\n",
    "        # - iterate through intervals and find insertion point. Check if start_new < start_i\n",
    "        # - check if overlap with interval_i-1\n",
    "        # - check new_start > end_i-1. \n",
    "        #     If yes, then no overlap. next_interval_start = new_start\n",
    "        #     Else, there is overlap. Create merged interval [min(new_start, start_i-1), max(new_end, end_i-1)]\n",
    "        # - check if merged interval overlaps next intervals and merge as needed\n",
    "        # - add the rest of intervals to results\n",
    "        # Time: O(n)\n",
    "        # Space: O(n)\n",
    "\n",
    "        # Solution 3: Neetcode\n",
    "        # - create results list\n",
    "        # - iterate through intervals and check 3 cases\n",
    "        #       1. newInterval lies completely before interval\n",
    "        #       2. newInterval lies completely after interval\n",
    "        #       3. newInterval overlaps the interval\n",
    "        # Time: O(n)\n",
    "        # Space: O(n)\n",
    "        result = []\n",
    "        \n",
    "        for i in range(len(intervals)):\n",
    "            # newInterval lies completely before interval\n",
    "            if newInterval[1] < intervals[i][0]: \n",
    "                result.append(newInterval)\n",
    "                return result + intervals[i:]\n",
    "            # newInterval lies completely after interval\n",
    "            elif newInterval[0] > intervals[i][1]:\n",
    "                result.append(intervals[i])\n",
    "            # newInterval overlaps interval \n",
    "            else:\n",
    "                newInterval = [min(newInterval[0], intervals[i][0]), max(newInterval[1], intervals[i][1])]\n",
    "        result.append(newInterval)\n",
    "        \n",
    "        return result\n"
   ]
  },
  {
   "cell_type": "markdown",
   "metadata": {},
   "source": [
    "##### Edge Cases\n",
    "- "
   ]
  },
  {
   "cell_type": "markdown",
   "metadata": {},
   "source": [
    "##### Optimizations\n",
    "- "
   ]
  },
  {
   "cell_type": "markdown",
   "metadata": {},
   "source": [
    "##### Learnings\n",
    "- sorting the intervals always comes in handy for interval problems\n",
    "- Solutions 1&2: I thought of two similar solutions that were awful to implement. I would try to find an insertion point, then check overlap with previous interval, check overlap with next interval, and so on. This means I need to compare NewInterval with 2 intervals. \n",
    "- Solution 3: Is more elegant, and only need to compare newInterval with 1 interval at a time. \n",
    "- There are 6 cases that can happen\n",
    "    1. newInterval lies completely before interval\n",
    "    2. newInterval lies completely after interval\n",
    "    3. newInterval overlaps the beginning of interval\n",
    "    4. newInterval lies completely within interval\n",
    "    5. Interval lies completely within newInterval\n",
    "    6. newInterval overlaps the end of interval\n",
    "- Cases 3-6 can be lumped together into one category as \"intervals overlap\", meaning we only need to check of 3 cases \n"
   ]
  },
  {
   "cell_type": "markdown",
   "metadata": {},
   "source": []
  }
 ],
 "metadata": {
  "kernelspec": {
   "display_name": "base",
   "language": "python",
   "name": "python3"
  },
  "language_info": {
   "codemirror_mode": {
    "name": "ipython",
    "version": 3
   },
   "file_extension": ".py",
   "mimetype": "text/x-python",
   "name": "python",
   "nbconvert_exporter": "python",
   "pygments_lexer": "ipython3",
   "version": "3.9.7"
  }
 },
 "nbformat": 4,
 "nbformat_minor": 2
}
