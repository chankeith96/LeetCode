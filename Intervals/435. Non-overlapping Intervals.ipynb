{
 "cells": [
  {
   "cell_type": "markdown",
   "metadata": {},
   "source": [
    "[435. Non-overlapping Intervals](https://leetcode.com/problems/non-overlapping-intervals/description/)"
   ]
  },
  {
   "cell_type": "code",
   "execution_count": null,
   "metadata": {},
   "outputs": [],
   "source": [
    "class Solution:\n",
    "    def eraseOverlapIntervals(self, intervals: List[List[int]]) -> int:\n",
    "        # Solution 1: Brute force\n",
    "        # - Decide either to remove or not remove each interval\n",
    "        # - create all the combos in O(2^n) time\n",
    "        \n",
    "        # # Solution 2: \n",
    "        # # - sort intervals by starting index\n",
    "        # # - iterate through intervals and check if adjacent intervals overlap\n",
    "        # #       - overlap if start_2 < end_1\n",
    "        # # - if overlap, we have to make a choice of which interval to remove \n",
    "        # # - remove the overlapping interval that ends later (i.e. end index is higher)\n",
    "        # # - compare next_interval with prev_interval\n",
    "        # # Time: O(n)\n",
    "        # # Space: O(1) \n",
    "        # intervals.sort(key = lambda i: i[0])\n",
    "\n",
    "        # # TODO: Handle case - only 1 interval in intervals\n",
    "        # if len(intervals) == 1:\n",
    "        #     return 0\n",
    "\n",
    "        # prev_interval = intervals[0]\n",
    "        # counter = 0 \n",
    "        # for i in range(1, len(intervals)):\n",
    "        #     next_interval = intervals[i]\n",
    "        #     # Check overlap\n",
    "        #     if next_interval[0] < prev_interval[1]:\n",
    "        #         # Remove interval with higher end index\n",
    "        #         if prev_interval[1] > next_interval[1]:\n",
    "        #             prev_interval = next_interval\n",
    "        #         counter += 1\n",
    "        #     else:\n",
    "        #         prev_interval = next_interval\n",
    "        # return counter\n",
    "\n",
    "        # Solution 3: Neetcode - Same as #2 but cleaner\n",
    "        # Time: O(n)\n",
    "        # Space: O(1) \n",
    "        intervals.sort() #In python, .sort() already sorts interval from start index\n",
    "\n",
    "        prev_end = intervals[0][1]\n",
    "        counter = 0 \n",
    "        for start, end in intervals[1:]:\n",
    "            # Check overlap\n",
    "            if start < prev_end: \n",
    "                counter += 1\n",
    "                prev_end = min(end, prev_end)\n",
    "            else:\n",
    "                prev_end = end\n",
    "        return counter"
   ]
  },
  {
   "cell_type": "markdown",
   "metadata": {},
   "source": [
    "##### Edge Cases\n",
    "- "
   ]
  },
  {
   "cell_type": "markdown",
   "metadata": {},
   "source": [
    "##### Optimizations\n",
    "- "
   ]
  },
  {
   "cell_type": "markdown",
   "metadata": {},
   "source": [
    "##### Learnings\n",
    "- I couldn't think of a solution at first. Totally forgot that: sorting the intervals always comes in handy for interval problems! \n",
    "- Solutions 3 is the Neetcode/better way compared to solution 2. Solution 2 is just how it made sense in my head, and it's good to know that I can make it work.\n",
    "- Solution 3 is clever. Instead of comparing whole intervals, it keeps track of just the previous end (prev_end) \n"
   ]
  },
  {
   "cell_type": "markdown",
   "metadata": {},
   "source": []
  }
 ],
 "metadata": {
  "kernelspec": {
   "display_name": "base",
   "language": "python",
   "name": "python3"
  },
  "language_info": {
   "codemirror_mode": {
    "name": "ipython",
    "version": 3
   },
   "file_extension": ".py",
   "mimetype": "text/x-python",
   "name": "python",
   "nbconvert_exporter": "python",
   "pygments_lexer": "ipython3",
   "version": "3.9.7"
  }
 },
 "nbformat": 4,
 "nbformat_minor": 2
}
