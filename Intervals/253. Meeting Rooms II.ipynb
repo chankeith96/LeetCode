{
 "cells": [
  {
   "cell_type": "markdown",
   "metadata": {},
   "source": [
    "[253. Meeting Rooms II](https://neetcode.io/problems/meeting-schedule-ii)"
   ]
  },
  {
   "cell_type": "code",
   "execution_count": null,
   "metadata": {},
   "outputs": [],
   "source": [
    "\"\"\"\n",
    "Definition of Interval:\n",
    "class Interval(object):\n",
    "    def __init__(self, start, end):\n",
    "        self.start = start\n",
    "        self.end = end\n",
    "\"\"\"\n",
    "\n",
    "class Solution:\n",
    "    def minMeetingRooms(self, intervals: List[Interval]) -> int:\n",
    "    # # Solution 1 (doesn't work):\n",
    "        # # - sort the intervals by start index\n",
    "        # # - initialize next_day array\n",
    "        # # - iterate through intervals and check for overlaps\n",
    "        # #     - if overlap, then add the interval with greater end index to next_day array\n",
    "        # # - increment day_counter\n",
    "        # # - if next_day array is not empty, then repeats steps \n",
    "        # # - return day_counter\n",
    "        # # Time: O(nlogn)\n",
    "        # # Space: O(n)\n",
    "        # day_counter = 1\n",
    "\n",
    "        # if len(intervals) == 1:\n",
    "        #     return 1\n",
    "        # while len(intervals) > 1:\n",
    "        #     day_counter += 1\n",
    "        #     intervals.sort(key = lambda x : x.start)\n",
    "        #     next_day = []\n",
    "\n",
    "        #     prev_end = intervals[0].end\n",
    "        #     for i in range(1, len(intervals)):\n",
    "        #         # Check overlap\n",
    "        #         if intervals[i].start < prev_end:\n",
    "        #             if prev_end > intervals[i].end:\n",
    "        #                 next_day.append(intervals[i-1])\n",
    "        #             else:\n",
    "        #                 next_day.append(intervals[i])\n",
    "        #             prev_end = min(prev_end, intervals[i].end)\n",
    "        #         else: \n",
    "        #             prev_end = intervals[i].end\n",
    "        #     intervals = next_day\n",
    "\n",
    "        # return day_counter \n",
    "\n",
    "    # # Solution 1: Neetcode\n",
    "        # # - The idea is to keep track of how many meetings are happening at the same time\n",
    "        # # - Create two sorted arrays, one for start times and one for end times\n",
    "        # # - iterate through both array in sorted order. \n",
    "        # #     - If meeting starts, then increment counter\n",
    "        # #     - If meeting ends, then decrement. \n",
    "        # # - return max value of counter \n",
    "        # # Time: O(nlogn)\n",
    "        # # Space: O(n)\n",
    "        # starts = sorted([interval.start for interval in intervals])\n",
    "        # ends = sorted([interval.end for interval in intervals])\n",
    "        # max_count = 0\n",
    "        # counter = 0\n",
    "        # s, e = 0, 0\n",
    "        # while s < len(starts):\n",
    "        #     if starts[s] < ends[e]:\n",
    "        #         counter += 1\n",
    "        #         s += 1\n",
    "        #     else:\n",
    "        #         counter -= 1\n",
    "        #         e += 1\n",
    "        #     max_count = max(max_count, counter)\n",
    "        # return max_count\n",
    "\n",
    "    # Solution 2: Heap\n",
    "        # Time: O(nlogn)\n",
    "        # Space: O(n)\n",
    "\n",
    "        intervals.sort()\n",
    "        heap = []\n",
    "        max_rooms = 0\n",
    "        \n",
    "        for start, end in intervals:\n",
    "            while heap and heap[0] <= start:\n",
    "                heapq.heappop(heap)\n",
    "            heapq.heappush(heap, end)\n",
    "\n",
    "            max_rooms = max(max_rooms, len(heap))\n",
    "        return max_rooms"
   ]
  },
  {
   "cell_type": "markdown",
   "metadata": {},
   "source": [
    "##### Edge Cases\n",
    "- "
   ]
  },
  {
   "cell_type": "markdown",
   "metadata": {},
   "source": [
    "##### Optimizations\n",
    "- "
   ]
  },
  {
   "cell_type": "markdown",
   "metadata": {},
   "source": [
    "##### Learnings\n",
    "- requires a somewhat clever solution that is hard to think of during a short interview.\n"
   ]
  },
  {
   "cell_type": "markdown",
   "metadata": {},
   "source": []
  }
 ],
 "metadata": {
  "kernelspec": {
   "display_name": "base",
   "language": "python",
   "name": "python3"
  },
  "language_info": {
   "codemirror_mode": {
    "name": "ipython",
    "version": 3
   },
   "file_extension": ".py",
   "mimetype": "text/x-python",
   "name": "python",
   "nbconvert_exporter": "python",
   "pygments_lexer": "ipython3",
   "version": "3.9.7"
  }
 },
 "nbformat": 4,
 "nbformat_minor": 2
}
