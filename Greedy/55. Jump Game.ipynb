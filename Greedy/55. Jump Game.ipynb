{
 "cells": [
  {
   "cell_type": "markdown",
   "metadata": {},
   "source": [
    "[55. Jump Game](https://leetcode.com/problems/jump-game/description/)"
   ]
  },
  {
   "cell_type": "code",
   "execution_count": null,
   "metadata": {},
   "outputs": [],
   "source": [
    "class Solution:\n",
    "    def canJump(self, nums: List[int]) -> bool:\n",
    "        # # Solution 1: DFS\n",
    "        # # - starting at first index, see which index positions you can access. \n",
    "        # # - Recursively keep jumping until you hit goal\n",
    "        # # - Base cases: if position = goal, return True\n",
    "        # #     - if can't jump anymore or out of bounds, return false\n",
    "        # # Time: max(nums)^len(nums) \n",
    "        # # Space: O(len(nums))\n",
    "        # goal = len(nums) - 1\n",
    "\n",
    "        # def dfs(position): \n",
    "        #     # Base case:\n",
    "        #     if position == goal:\n",
    "        #         return True\n",
    "        #     if position > goal or nums[position] == 0:\n",
    "        #         return False\n",
    "\n",
    "        #     # Recursive case:\n",
    "        #     for i in reversed(range(nums[position])):\n",
    "        #         if dfs(position + i + 1):\n",
    "        #             return True\n",
    "        #     return False\n",
    "        \n",
    "        # return dfs(0)\n",
    "\n",
    "        # Solution 2: Greedy\n",
    "        # - work backwards. Originally the goal is last index, but if you can reach the goal from \n",
    "        # - second to last index, then shift the goal to that index. Then see if can reach new goal\n",
    "        # - Start w 2nd to last index. If can reach goal, shift goal left. If can't, then try next index\n",
    "        # - At the end, if goal == 0, return True\n",
    "        # Time: O(n)\n",
    "        # Space: O(1)\n",
    "        goal = len(nums) - 1\n",
    "        if goal == 0:\n",
    "            return True\n",
    "\n",
    "        cur = len(nums) - 2\n",
    "        while cur >= 0:\n",
    "            if cur + nums[cur] >= goal:\n",
    "                goal = cur\n",
    "            # Alternative solution (I had this first)\n",
    "            # for i in range(nums[cur]):\n",
    "            #     if cur + i + 1 == goal:\n",
    "            #         goal = cur\n",
    "            #         break\n",
    "            cur -= 1\n",
    "        if goal == 0:\n",
    "            return True\n",
    "        return False"
   ]
  },
  {
   "cell_type": "markdown",
   "metadata": {},
   "source": [
    "##### Edge Cases\n",
    "- "
   ]
  },
  {
   "cell_type": "markdown",
   "metadata": {},
   "source": [
    "##### Optimizations\n",
    "- "
   ]
  },
  {
   "cell_type": "markdown",
   "metadata": {},
   "source": [
    "##### Learnings\n",
    "- I got the brute force solution, even drew out the recursion tree, but I forgot to optimize using cache! This problem can use recursion with cache or DP. Need to remember caching when I see recursive problems\n",
    "- Optimal solution requires a clever idea to work backwards"
   ]
  }
 ],
 "metadata": {
  "kernelspec": {
   "display_name": "base",
   "language": "python",
   "name": "python3"
  },
  "language_info": {
   "codemirror_mode": {
    "name": "ipython",
    "version": 3
   },
   "file_extension": ".py",
   "mimetype": "text/x-python",
   "name": "python",
   "nbconvert_exporter": "python",
   "pygments_lexer": "ipython3",
   "version": "3.9.7"
  }
 },
 "nbformat": 4,
 "nbformat_minor": 2
}
