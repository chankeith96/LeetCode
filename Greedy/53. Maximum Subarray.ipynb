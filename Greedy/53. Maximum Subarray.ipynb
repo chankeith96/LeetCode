{
 "cells": [
  {
   "cell_type": "markdown",
   "metadata": {},
   "source": [
    "[53. Maximum Subarray](https://leetcode.com/problems/maximum-subarray/description/)"
   ]
  },
  {
   "cell_type": "code",
   "execution_count": null,
   "metadata": {},
   "outputs": [],
   "source": [
    "class Solution:\n",
    "    def maxSubArray(self, nums: List[int]) -> int:\n",
    "        # Solution 1: Brute Force - create all subarray combos \n",
    "        # - double for loop to create all combos, O(n^2)\n",
    "        # Time: O(n^2)\n",
    "        # Space: O(1) \n",
    "\n",
    "\n",
    "        # Solution 2: similar to Sliding Window\n",
    "        # - iterate through the whole array. \n",
    "        # - At each number, if the previous sum is negative then disgard everything prior \n",
    "        # - and set current sum to current number\n",
    "        # - If the current sum is positive, then add current number to current sum\n",
    "        # - keep track of max sum \n",
    "        # - rationale: you never need to keep anything that sums up to negative\n",
    "        # Time: O(n)\n",
    "        # Space: O(1)\n",
    "        max_sum = nums[0]\n",
    "        prefix = 0\n",
    "\n",
    "        for right in nums:\n",
    "            if prefix < 0:\n",
    "                prefix = right\n",
    "            else:\n",
    "                prefix = right + prefix \n",
    "            max_sum = max(max_sum, prefix)\n",
    "        return max_sum"
   ]
  },
  {
   "cell_type": "markdown",
   "metadata": {},
   "source": [
    "##### Edge Cases\n",
    "- "
   ]
  },
  {
   "cell_type": "markdown",
   "metadata": {},
   "source": [
    "##### Optimizations\n",
    "- "
   ]
  },
  {
   "cell_type": "markdown",
   "metadata": {},
   "source": [
    "##### Learnings\n",
    "- As usual, thinking of the approach is the hard part. Yes I can just do a ton of problems and gain familiarity, but better to be able to manually walk through an example and notice patterns. "
   ]
  }
 ],
 "metadata": {
  "kernelspec": {
   "display_name": "base",
   "language": "python",
   "name": "python3"
  },
  "language_info": {
   "codemirror_mode": {
    "name": "ipython",
    "version": 3
   },
   "file_extension": ".py",
   "mimetype": "text/x-python",
   "name": "python",
   "nbconvert_exporter": "python",
   "pygments_lexer": "ipython3",
   "version": "3.9.7"
  }
 },
 "nbformat": 4,
 "nbformat_minor": 2
}
