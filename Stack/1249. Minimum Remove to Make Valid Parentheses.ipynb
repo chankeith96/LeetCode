{
 "cells": [
  {
   "cell_type": "markdown",
   "metadata": {},
   "source": [
    "[1249. Minimum Remove to Make Valid Parentheses](https://leetcode.com/problems/minimum-remove-to-make-valid-parentheses/description/)"
   ]
  },
  {
   "cell_type": "code",
   "execution_count": null,
   "metadata": {},
   "outputs": [],
   "source": [
    "class Solution:\n",
    "    def minRemoveToMakeValid(self, s: str) -> str:\n",
    "        # Solution 1: stack\n",
    "        # - store string in list bc strings are immutable and every string change is O(n)\n",
    "        # - iterate through string_list and put \"(\" into a stack\n",
    "        # - at every \")\", if stack, then pop stack. Else, need to remove\n",
    "        # Time: O(n) \n",
    "        # Space: O(n)\n",
    "\n",
    "        str_list = list(s) # O(n) | O(n)\n",
    "        stack = []\n",
    "        idx_to_remove = set()\n",
    "\n",
    "        for i, char in enumerate(str_list): # O(n)\n",
    "            if char == \"(\":\n",
    "                stack.append(i)\n",
    "            elif char == \")\":\n",
    "                if len(stack) != 0:\n",
    "                    stack.pop()\n",
    "                else:\n",
    "                    idx_to_remove.add(i)\n",
    "            else:\n",
    "                continue\n",
    "        \n",
    "        idx_to_remove = idx_to_remove.union(set(stack)) # O(n) \n",
    "\n",
    "        for idx in idx_to_remove: # O(n)\n",
    "            str_list[idx] = \"\"\n",
    "        \n",
    "        return \"\".join(str_list)"
   ]
  },
  {
   "cell_type": "markdown",
   "metadata": {},
   "source": [
    "##### Edge Cases\n",
    "- "
   ]
  },
  {
   "cell_type": "markdown",
   "metadata": {},
   "source": [
    "##### Optimizations\n",
    "- "
   ]
  },
  {
   "cell_type": "markdown",
   "metadata": {},
   "source": [
    "##### Learnings\n",
    "- "
   ]
  }
 ],
 "metadata": {
  "kernelspec": {
   "display_name": "base",
   "language": "python",
   "name": "python3"
  },
  "language_info": {
   "codemirror_mode": {
    "name": "ipython",
    "version": 3
   },
   "file_extension": ".py",
   "mimetype": "text/x-python",
   "name": "python",
   "nbconvert_exporter": "python",
   "pygments_lexer": "ipython3",
   "version": "3.9.7"
  }
 },
 "nbformat": 4,
 "nbformat_minor": 2
}
