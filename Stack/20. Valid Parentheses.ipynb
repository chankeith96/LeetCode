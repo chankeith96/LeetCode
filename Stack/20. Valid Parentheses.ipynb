{
 "cells": [
  {
   "cell_type": "markdown",
   "metadata": {},
   "source": [
    "[20. Valid Parentheses](https://leetcode.com/problems/valid-parentheses/)"
   ]
  },
  {
   "cell_type": "code",
   "execution_count": null,
   "metadata": {},
   "outputs": [],
   "source": [
    "class Solution:\n",
    "    def isValid(self, s: str) -> bool:\n",
    "        # Solution 1: use a stack\n",
    "        # - iterate through the string s\n",
    "        # - for every open bracket, add to the top of stack\n",
    "        # - for every close bracket, pop top of stack and check if matches\n",
    "        # - there needs to be a map for each closing bracket to open bracket\n",
    "        # Time: O(n) where n is len(s)\n",
    "        # Space: O(n) \n",
    "        bracket_map = {\")\": \"(\", \n",
    "                        \"]\": \"[\", \n",
    "                        \"}\": \"{\"\n",
    "                        }\n",
    "        stack = []\n",
    "        for item in s:\n",
    "            if item in bracket_map:\n",
    "                if stack:\n",
    "                    if bracket_map[item] != stack.pop():\n",
    "                        return False\n",
    "                else:\n",
    "                    return False\n",
    "            else:\n",
    "                stack.append(item)\n",
    "        if stack:\n",
    "            return False\n",
    "        return True"
   ]
  },
  {
   "cell_type": "markdown",
   "metadata": {},
   "source": [
    "##### Edge Cases\n",
    "- close bracket before open i.e. \"][\"\n",
    "- no closing bracket i.e. \"((((\"\n",
    "- mismatch i.e. \"(]\"\n",
    "- out of order i.e. \"([)]\""
   ]
  },
  {
   "cell_type": "markdown",
   "metadata": {},
   "source": [
    "##### Optimizations\n",
    "- "
   ]
  },
  {
   "cell_type": "markdown",
   "metadata": {},
   "source": [
    "##### Learnings\n",
    "- "
   ]
  }
 ],
 "metadata": {
  "kernelspec": {
   "display_name": "base",
   "language": "python",
   "name": "python3"
  },
  "language_info": {
   "codemirror_mode": {
    "name": "ipython",
    "version": 3
   },
   "file_extension": ".py",
   "mimetype": "text/x-python",
   "name": "python",
   "nbconvert_exporter": "python",
   "pygments_lexer": "ipython3",
   "version": "3.9.7"
  }
 },
 "nbformat": 4,
 "nbformat_minor": 2
}
