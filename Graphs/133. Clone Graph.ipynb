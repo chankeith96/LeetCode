{
 "cells": [
  {
   "cell_type": "markdown",
   "metadata": {},
   "source": [
    "[133. Clone Graph](https://leetcode.com/problems/clone-graph/description/)"
   ]
  },
  {
   "cell_type": "code",
   "execution_count": null,
   "metadata": {},
   "outputs": [],
   "source": [
    "\"\"\"\n",
    "# Definition for a Node.\n",
    "class Node:\n",
    "    def __init__(self, val = 0, neighbors = None):\n",
    "        self.val = val\n",
    "        self.neighbors = neighbors if neighbors is not None else []\n",
    "\"\"\"\n",
    "\n",
    "from typing import Optional\n",
    "class Solution:\n",
    "    def cloneGraph(self, node: Optional['Node']) -> Optional['Node']:\n",
    "        # Solution 1:\n",
    "        # - use hashmap to store mapping of old nodes to clone nodes\n",
    "        # - For each node, make a clone of it then clone all its neighbors\n",
    "        # Time: O(n+m) where n = # vertices and m = # edges\n",
    "        # Space: O(n) \n",
    "        oldToNew = {}\n",
    "\n",
    "        def dfs(node):\n",
    "            # Base case\n",
    "            if node in oldToNew:\n",
    "                return oldToNew[node]\n",
    "\n",
    "            # Recursive case\n",
    "            clone_node = Node(node.val)\n",
    "            oldToNew[node] = clone_node\n",
    "            for nei in node.neighbors:\n",
    "                clone_node.neighbors.append(dfs(nei))\n",
    "            return clone_node\n",
    "\n",
    "        return dfs(node) if node else None\n"
   ]
  },
  {
   "cell_type": "markdown",
   "metadata": {},
   "source": [
    "##### Edge Cases\n",
    "- "
   ]
  },
  {
   "cell_type": "markdown",
   "metadata": {},
   "source": [
    "##### Optimizations\n",
    "- "
   ]
  },
  {
   "cell_type": "markdown",
   "metadata": {},
   "source": [
    "##### Learnings\n",
    "- "
   ]
  }
 ],
 "metadata": {
  "kernelspec": {
   "display_name": "base",
   "language": "python",
   "name": "python3"
  },
  "language_info": {
   "codemirror_mode": {
    "name": "ipython",
    "version": 3
   },
   "file_extension": ".py",
   "mimetype": "text/x-python",
   "name": "python",
   "nbconvert_exporter": "python",
   "pygments_lexer": "ipython3",
   "version": "3.9.7"
  }
 },
 "nbformat": 4,
 "nbformat_minor": 2
}
