{
 "cells": [
  {
   "cell_type": "markdown",
   "metadata": {},
   "source": [
    "[200. Number of Islands](https://leetcode.com/problems/number-of-islands/)"
   ]
  },
  {
   "cell_type": "code",
   "execution_count": null,
   "metadata": {},
   "outputs": [],
   "source": [
    "class Solution:\n",
    "    def numIslands(self, grid: List[List[str]]) -> int:\n",
    "        # Solution 1: BFS \n",
    "        # - iterate through all cells in grid\n",
    "        # - at each starting cell, run BFS to search for contiguous \"1\"s\n",
    "        # - store visited 1s in a set\n",
    "        # - use a counter to track number of islands\n",
    "        # Time: O(m*n*BFS)\n",
    "        # Space: O(min(n, m))\n",
    "            \n",
    "        rows, cols = len(grid), len(grid[0])\n",
    "        result = 0 \n",
    "        visited = set()\n",
    "\n",
    "        def bfs(r,c):\n",
    "            visited.add((r,c))\n",
    "            q = collections.deque([(r,c)])\n",
    "            while q:\n",
    "                row, col = q.popleft()\n",
    "                # add neighbors\n",
    "                directions = [(1,0), (0,1), (-1,0), (0,-1)]\n",
    "                for dr, dc in directions:\n",
    "                    new_row = row + dr\n",
    "                    new_col = col + dc\n",
    "\n",
    "                    if (new_row >= 0 and new_col >= 0 and \n",
    "                        new_row < rows and new_col < cols and \n",
    "                        grid[new_row][new_col] == \"1\" and \n",
    "                        (new_row, new_col) not in visited):\n",
    "                            q.append((new_row, new_col))\n",
    "                            visited.add((new_row,new_col))\n",
    "\n",
    "        for r in range(rows):\n",
    "            for c in range(cols):\n",
    "                if grid[r][c] == \"1\" and (r,c) not in visited:\n",
    "                    bfs(r,c)\n",
    "                    result += 1\n",
    "        return result"
   ]
  },
  {
   "cell_type": "markdown",
   "metadata": {},
   "source": [
    "##### Edge Cases\n",
    "- "
   ]
  },
  {
   "cell_type": "markdown",
   "metadata": {},
   "source": [
    "##### Optimizations\n",
    "- "
   ]
  },
  {
   "cell_type": "markdown",
   "metadata": {},
   "source": [
    "##### Learnings\n",
    "- "
   ]
  },
  {
   "cell_type": "markdown",
   "metadata": {},
   "source": []
  }
 ],
 "metadata": {
  "kernelspec": {
   "display_name": "base",
   "language": "python",
   "name": "python3"
  },
  "language_info": {
   "codemirror_mode": {
    "name": "ipython",
    "version": 3
   },
   "file_extension": ".py",
   "mimetype": "text/x-python",
   "name": "python",
   "nbconvert_exporter": "python",
   "pygments_lexer": "ipython3",
   "version": "3.9.7"
  }
 },
 "nbformat": 4,
 "nbformat_minor": 2
}
