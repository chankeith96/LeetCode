{
 "cells": [
  {
   "cell_type": "markdown",
   "metadata": {},
   "source": [
    "[269. Alien Dictionary](https://neetcode.io/problems/foreign-dictionary)"
   ]
  },
  {
   "cell_type": "code",
   "execution_count": null,
   "metadata": {},
   "outputs": [],
   "source": [
    "class Solution:\n",
    "    def foreignDictionary(self, words: List[str]) -> str:\n",
    "        # Solution 1: topological sort using post-order dfs\n",
    "        # Time: O(c) where c = num of chars in words? \n",
    "        # Space: \n",
    "        adj_list = {c:set() for w in words for c in w}\n",
    "\n",
    "        # Go through all pairs of words and populate adj_list\n",
    "        for i in range(len(words) - 1):\n",
    "            w1, w2 = words[i], words[i+1]\n",
    "            min_len = min(len(w1), len(w2))\n",
    "            # edge case \n",
    "            if len(w1) > len(w2) and w1[:min_len] == w2[:min_len]:\n",
    "                return \"\"\n",
    "            # Store first differing char in adj_list\n",
    "            for j in range(min_len):\n",
    "                if w1[j] != w2[j]:\n",
    "                    adj_list[w1[j]].add(w2[j])\n",
    "                    break\n",
    "\n",
    "        visited = {} #False=visited, True=visited & current path\n",
    "        res = []\n",
    "\n",
    "        # post-order DFS\n",
    "        def dfs(c):\n",
    "            # Base case\n",
    "            if c in visited:\n",
    "                return visited[c]\n",
    "            # Recursive case\n",
    "            visited[c] = True\n",
    "            for nei in adj_list[c]:\n",
    "                if dfs(nei):\n",
    "                    return True\n",
    "\n",
    "            visited[c] = False #kinda backtracking? \n",
    "            res.append(c)\n",
    "        \n",
    "        for c in adj_list:\n",
    "            if dfs(c):\n",
    "                return \"\"\n",
    "        res.reverse()\n",
    "        return \"\".join(res)\n",
    "            "
   ]
  },
  {
   "cell_type": "markdown",
   "metadata": {},
   "source": [
    "##### Edge Cases\n",
    "- Multiple edge cases to think about \n",
    "- disconnected DAG\n",
    "- graph with a cycle\n",
    "- source node reaches multiple nodes further down"
   ]
  },
  {
   "cell_type": "markdown",
   "metadata": {},
   "source": [
    "##### Optimizations\n",
    "- "
   ]
  },
  {
   "cell_type": "markdown",
   "metadata": {},
   "source": [
    "##### Learnings\n",
    "- Topological sorting means doing post-order DFS, and then sorting by decreasing post-order number\n"
   ]
  }
 ],
 "metadata": {
  "kernelspec": {
   "display_name": "base",
   "language": "python",
   "name": "python3"
  },
  "language_info": {
   "codemirror_mode": {
    "name": "ipython",
    "version": 3
   },
   "file_extension": ".py",
   "mimetype": "text/x-python",
   "name": "python",
   "nbconvert_exporter": "python",
   "pygments_lexer": "ipython3",
   "version": "3.9.7"
  }
 },
 "nbformat": 4,
 "nbformat_minor": 2
}
