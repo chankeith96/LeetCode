{
 "cells": [
  {
   "cell_type": "markdown",
   "metadata": {},
   "source": [
    "[323. Number of Connected Components In An Undirected Graph](https://neetcode.io/problems/count-connected-components)"
   ]
  },
  {
   "cell_type": "code",
   "execution_count": null,
   "metadata": {},
   "outputs": [],
   "source": [
    "class Solution:\n",
    "    def countComponents(self, n: int, edges: List[List[int]]) -> int:\n",
    "        # # Solution 1:\n",
    "        # # - Create adjacency list, make sure to add edges in both \"directions\"\n",
    "        # # - Run DFS from each node and increment counter at the end\n",
    "        # # - Keep track of visited nodes\n",
    "        # # Time: O(e+v)\n",
    "        # # Space: O(v) \n",
    "        # adj_list = {i : [] for i in range(n)}\n",
    "        # visited = set()\n",
    "\n",
    "        # # Create adjacency list\n",
    "        # for u, v in edges:\n",
    "        #     adj_list[u].append(v)\n",
    "        #     adj_list[v].append(u)\n",
    "        \n",
    "        # def dfs(node):\n",
    "        #     # Base case\n",
    "        #     if node in visited:\n",
    "        #         return\n",
    "        #     if not adj_list[node]:\n",
    "        #         return \n",
    "\n",
    "        #     # Recursive case\n",
    "        #     visited.add(node)\n",
    "        #     for nei in adj_list[node]:\n",
    "        #         dfs(nei)\n",
    "\n",
    "        # counter = 0\n",
    "        # for node in range(n):\n",
    "        #     if node not in visited:\n",
    "        #         dfs(node)\n",
    "        #         counter += 1\n",
    "        # return counter\n",
    "\n",
    "        # Solution 2: Union Find data structure\n",
    "        # Time: w/o compression optimization, runtime of union and find are both O(logn). With compression, runtime becomes O(1)?\n",
    "        # Space: O(n) \n",
    "        uf = UnionFind(n)\n",
    "        for v1, v2 in edges:\n",
    "            uf.union(v1, v2)\n",
    "        return len(set(uf.find(x) for x in range(n)))\n",
    "        \n",
    "class UnionFind:\n",
    "    def __init__(self, n):\n",
    "        self.parent = [i for i in range(n)]\n",
    "        self.rank = [0 for i in range(n)]\n",
    "\n",
    "    def union(self, u, v):\n",
    "        root_u = self.find(u)\n",
    "        root_v = self.find(v)\n",
    "\n",
    "        if root_u == root_v: # in same component\n",
    "            return\n",
    "        if self.rank[root_u] > self.rank[root_v]:\n",
    "            self.parent[root_v] = root_u\n",
    "        else:\n",
    "            self.parent[root_u] = root_v\n",
    "            if self.rank[root_u] == self.rank[root_v]:\n",
    "                self.rank[root_v] += 1\n",
    "                \n",
    "    def find(self, n):\n",
    "        if self.parent[n] != n:\n",
    "            self.parent[n] = self.find(self.parent[n])\n",
    "        return self.parent[n]"
   ]
  },
  {
   "cell_type": "markdown",
   "metadata": {},
   "source": [
    "##### Edge Cases\n",
    "- "
   ]
  },
  {
   "cell_type": "markdown",
   "metadata": {},
   "source": [
    "##### Optimizations\n",
    "- compression optimization is used for Union Find data structure"
   ]
  },
  {
   "cell_type": "markdown",
   "metadata": {},
   "source": [
    "##### Learnings\n",
    "- UnionFind data structure is used to determine if vertices are in the same connected component\n",
    "- it is initialized with 2 arrays. The parent array essentially stores the connected component that each vertex is part of (identified by a root node)\n",
    "- The rank array is used to determine the size of each connected component, which affects the union() method\n",
    "- the find() method returns the root node (aka the connected component) that a node is part of \n",
    "- the union() method combines two connected components\n",
    "\n",
    "- Implementing UnionFind from scratch had lots of errors. \n",
    "- Use OMSCS GA textbook sections 5.1.3 & 5.1.4 for details on UnionFind. UnionFind was implemented in project 3"
   ]
  }
 ],
 "metadata": {
  "kernelspec": {
   "display_name": "base",
   "language": "python",
   "name": "python3"
  },
  "language_info": {
   "codemirror_mode": {
    "name": "ipython",
    "version": 3
   },
   "file_extension": ".py",
   "mimetype": "text/x-python",
   "name": "python",
   "nbconvert_exporter": "python",
   "pygments_lexer": "ipython3",
   "version": "3.9.7"
  }
 },
 "nbformat": 4,
 "nbformat_minor": 2
}
