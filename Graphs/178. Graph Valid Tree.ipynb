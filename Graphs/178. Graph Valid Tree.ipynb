{
 "cells": [
  {
   "cell_type": "markdown",
   "metadata": {},
   "source": [
    "[178. Graph Valid Tree](https://neetcode.io/problems/valid-tree)"
   ]
  },
  {
   "cell_type": "code",
   "execution_count": null,
   "metadata": {},
   "outputs": [],
   "source": [
    "class Solution:\n",
    "    def validTree(self, n: int, edges: List[List[int]]) -> bool:\n",
    "        # Solution 1: DFS from all nodes\n",
    "        # - Create adjacency list, make sure to add edges in both \"directions\"\n",
    "        # - DFS starting from 0 node\n",
    "        # - Keep track of visited nodes in a set\n",
    "        # - If in any DFS, a visited node is revisited, then the tree is not valid\n",
    "        # - need to store the prev node as well to prevent false cycles\n",
    "        # - At the end of DFS, if len(visited) == n, then return True\n",
    "        # Time: O(v+e)\n",
    "        # Space: O(v)\n",
    "        visited = set()\n",
    "        # Create adjacency list\n",
    "        adj_list = {i : [] for i in range(n)}\n",
    "        for u, v in edges:\n",
    "            adj_list[u].append(v)\n",
    "            adj_list[v].append(u)\n",
    "        \n",
    "        def dfs(node, prev):\n",
    "            # Base case\n",
    "            if node in visited:\n",
    "                return False\n",
    "\n",
    "            # Recursive case\n",
    "            visited.add(node)\n",
    "            for nei in adj_list[node]:\n",
    "                if nei == prev:\n",
    "                    continue\n",
    "                if not dfs(nei, node):\n",
    "                    return False\n",
    "            return True\n",
    "\n",
    "        if dfs(0, -1) and len(visited) == n:\n",
    "            return True\n",
    "        return False\n"
   ]
  },
  {
   "cell_type": "markdown",
   "metadata": {},
   "source": [
    "##### Edge Cases\n",
    "- "
   ]
  },
  {
   "cell_type": "markdown",
   "metadata": {},
   "source": [
    "##### Optimizations\n",
    "- Not shown, but you could use the property of a tree \"Tree with n vertices has n-1 edges\" as a checker before code starts. This also shows understanding of trees"
   ]
  },
  {
   "cell_type": "markdown",
   "metadata": {},
   "source": [
    "##### Learnings\n",
    "- For undirected graphs, you have to add edges into adjacency list in both \"directions\" \n",
    "- remember the property of a tree that All vertices are connected. It's not enough to check that there are no cycles, but also need len(visited)==n\n"
   ]
  }
 ],
 "metadata": {
  "kernelspec": {
   "display_name": "base",
   "language": "python",
   "name": "python3"
  },
  "language_info": {
   "codemirror_mode": {
    "name": "ipython",
    "version": 3
   },
   "file_extension": ".py",
   "mimetype": "text/x-python",
   "name": "python",
   "nbconvert_exporter": "python",
   "pygments_lexer": "ipython3",
   "version": "3.9.7"
  }
 },
 "nbformat": 4,
 "nbformat_minor": 2
}
