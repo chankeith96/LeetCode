{
 "cells": [
  {
   "cell_type": "markdown",
   "metadata": {},
   "source": [
    "[207. Course Schedule](https://leetcode.com/problems/course-schedule/description/)"
   ]
  },
  {
   "cell_type": "code",
   "execution_count": null,
   "metadata": {},
   "outputs": [],
   "source": [
    "class Solution:\n",
    "    def canFinish(self, numCourses: int, prerequisites: List[List[int]]) -> bool:\n",
    "        # # Solution 1:  DFS post-order numbers to find cycle (from GA)\n",
    "        # # - Run DFS algorithm starting at any vertex to create a DFS tree \n",
    "        # # - (or DFS forest in the case of disconnected graphs)\n",
    "        # # - keep track of post-order numbers of each vertex \n",
    "        # # - Iterate through all edges in the graph. If for any edge u->v, the post-order[u] < post-order[v] then there is a back edge aka cycle\n",
    "        # # Time:\n",
    "        # # O(n+m) for DFS were n = |V| and m = |E|\n",
    "        # # O(m) to check all edges\n",
    "        # # O(n+m) overall to detect a cycle in a directed graph.\n",
    "        # # Space: O(n)\n",
    "        # post_order_nums = {}\n",
    "        # nodes = [i for i in range(numCourses)]\n",
    "        # visited = set() \n",
    "        # clock = [0] \n",
    "        # adj_list = {}\n",
    "\n",
    "        # # create adjacency list\n",
    "        # for i in range(numCourses):\n",
    "        #     adj_list[i] = []\n",
    "        # for crs, pre in prerequisites:\n",
    "        #     adj_list[crs].append(pre)\n",
    "\n",
    "        # def dfs(start_node):\n",
    "        #     # Base case\n",
    "        #     if start_node in visited:\n",
    "        #         return \n",
    "\n",
    "        #     # Recursive case\n",
    "        #     visited.add(start_node)\n",
    "        #     for pre in adj_list[start_node]:\n",
    "        #         dfs(pre)\n",
    "        #     post_order_nums[start_node] = clock[0]\n",
    "        #     clock[0] = max(clock[0], clock[0]+1)\n",
    "        #     return \n",
    "        \n",
    "        # while nodes:\n",
    "        #     dfs(nodes.pop(0))\n",
    "\n",
    "        # for crs, pre in prerequisites:\n",
    "        #     if post_order_nums[pre] >= post_order_nums[crs]:\n",
    "        #         return False\n",
    "        # return True\n",
    "\n",
    "\n",
    "        # Solution 2: \n",
    "        # - create adjacency list \n",
    "        # - run DFS recursively from every node. From every node bc graph might be disconnected\n",
    "        # - need a set to store visited nodes. Check this set to see if a node has been visited already. If yes, then there is a cycle\n",
    "        # Time: \n",
    "        # O(m) to create adjacency list\n",
    "        # O(n+m) to run DFS from every node. It would usually take O(n)*O(n+m) time but we optimize by deleting nodes from adjacency list as we go\n",
    "        # Space: O(n)\n",
    "        adj_list = {}\n",
    "        visited = set()\n",
    "\n",
    "        # create adjacency list\n",
    "        for i in range(numCourses):\n",
    "            adj_list[i] = []\n",
    "        for crs, pre in prerequisites:\n",
    "            adj_list[crs].append(pre)\n",
    "        \n",
    "        def dfs(start_node):\n",
    "            # Base case\n",
    "            if start_node in visited:\n",
    "                return False\n",
    "            if not adj_list[start_node]:\n",
    "                return True\n",
    "\n",
    "            # Recursive case\n",
    "            visited.add(start_node)\n",
    "            for prereq in adj_list[start_node]:                \n",
    "                if not dfs(prereq):\n",
    "                    return False\n",
    "            visited.remove(start_node)\n",
    "            adj_list[start_node] = []\n",
    "            return True\n",
    "\n",
    "        for i in range(numCourses):\n",
    "            if not dfs(i):\n",
    "                return False\n",
    "        return True\n"
   ]
  },
  {
   "cell_type": "markdown",
   "metadata": {},
   "source": [
    "##### Edge Cases\n",
    "- "
   ]
  },
  {
   "cell_type": "markdown",
   "metadata": {},
   "source": [
    "##### Optimizations\n",
    "- It would usually take O(n)*O(n+m) time but we optimize by deleting nodes from adjacency list as we go"
   ]
  },
  {
   "cell_type": "markdown",
   "metadata": {},
   "source": [
    "##### Learnings\n",
    "- no matter the approach, you'll need to create an adjacency list to represent a graph\n",
    "- An adjacency list is a data structure that represents a graph as an array of linked lists.\n",
    "- Solution 1 is the textbook way (from GA) to find a cycle in directed graph, but solution 2 is more practical and efficient\n",
    "- In interview, I would start by explaining solutuion 1 but say solution 2 is better bc (see next point)\n",
    "- Both solutions have same time complexity, but solution 1 takes longer bc you have to run DFS on all nodes first, whereas solution 2 stops right when a cycle is detected. "
   ]
  }
 ],
 "metadata": {
  "kernelspec": {
   "display_name": "base",
   "language": "python",
   "name": "python3"
  },
  "language_info": {
   "codemirror_mode": {
    "name": "ipython",
    "version": 3
   },
   "file_extension": ".py",
   "mimetype": "text/x-python",
   "name": "python",
   "nbconvert_exporter": "python",
   "pygments_lexer": "ipython3",
   "version": "3.9.7"
  }
 },
 "nbformat": 4,
 "nbformat_minor": 2
}
