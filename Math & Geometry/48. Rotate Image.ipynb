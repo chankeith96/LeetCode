{
 "cells": [
  {
   "cell_type": "markdown",
   "metadata": {},
   "source": [
    "[48. Rotate Image](https://leetcode.com/problems/rotate-image/description/)"
   ]
  },
  {
   "cell_type": "code",
   "execution_count": null,
   "metadata": {},
   "outputs": [],
   "source": [
    "class Solution:\n",
    "    def rotate(self, matrix: List[List[int]]) -> None:\n",
    "        \"\"\"\n",
    "        Do not return anything, modify matrix in-place instead.\n",
    "        \"\"\"\n",
    "        # Solution 1: \n",
    "        # - rotate outer ring of matrix then work your way inwards\n",
    "        # - use left, right, top, and bot pointers\n",
    "        # Time: O(n*n)\n",
    "        # Space: O(1) \n",
    "        l, r = 0, len(matrix) - 1\n",
    "\n",
    "        while l < r:\n",
    "            top = l\n",
    "            bot = r\n",
    "            for i in range(r-l):\n",
    "                temp1 = matrix[top][l + i]\n",
    "                temp2 = matrix[top + i][r]\n",
    "                temp3 = matrix[bot][r - i]\n",
    "                matrix[top][l + i] = matrix[bot - i][l]\n",
    "                matrix[top + i][r] = temp1\n",
    "                matrix[bot][r - i] = temp2\n",
    "                matrix[bot - i][l] = temp3\n",
    "                \n",
    "            l += 1\n",
    "            r -= 1\n",
    "\n",
    "        "
   ]
  },
  {
   "cell_type": "markdown",
   "metadata": {},
   "source": [
    "##### Edge Cases\n",
    "- "
   ]
  },
  {
   "cell_type": "markdown",
   "metadata": {},
   "source": [
    "##### Optimizations\n",
    "- "
   ]
  },
  {
   "cell_type": "markdown",
   "metadata": {},
   "source": [
    "##### Learnings\n",
    "- Useful to keep track of left, right, top, and bot pointers. \n"
   ]
  },
  {
   "cell_type": "markdown",
   "metadata": {},
   "source": []
  }
 ],
 "metadata": {
  "kernelspec": {
   "display_name": "base",
   "language": "python",
   "name": "python3"
  },
  "language_info": {
   "codemirror_mode": {
    "name": "ipython",
    "version": 3
   },
   "file_extension": ".py",
   "mimetype": "text/x-python",
   "name": "python",
   "nbconvert_exporter": "python",
   "pygments_lexer": "ipython3",
   "version": "3.9.7"
  }
 },
 "nbformat": 4,
 "nbformat_minor": 2
}
