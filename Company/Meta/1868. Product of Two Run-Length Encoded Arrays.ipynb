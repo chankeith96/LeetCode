{
 "cells": [
  {
   "cell_type": "markdown",
   "metadata": {},
   "source": [
    "[1868. Product of Two Run-Length Encoded Arrays](https://leetcode.com/problems/product-of-two-run-length-encoded-arrays/description/)"
   ]
  },
  {
   "cell_type": "code",
   "execution_count": null,
   "metadata": {},
   "outputs": [],
   "source": [
    "class Solution:\n",
    "    def findRLEArray(self, encoded1: List[List[int]], encoded2: List[List[int]]) -> List[List[int]]:\n",
    "    # # Solution 1: Brute Force (Memory limit exceeded)\n",
    "        # # Expand encoded 1 & 2\n",
    "        # # Element wise multiplication\n",
    "        # # encode it and return result\n",
    "        # # Time: O()\n",
    "        # # Space: \n",
    "\n",
    "        # # - expand encoded1 and encoded 2 into arrays\n",
    "        # nums1 = []\n",
    "        # nums2 = []\n",
    "        # for val, freq in encoded1:\n",
    "        #     nums1.extend([val] * freq)\n",
    "        # for val, freq in encoded2:\n",
    "        #     nums2.extend([val] * freq)\n",
    "\n",
    "        # # create product of array\n",
    "        # prodNums = [0] * len(nums1)\n",
    "        # for i in range(len(nums1)):\n",
    "        #     prodNums[i] = nums1[i] * nums2[i]\n",
    "        \n",
    "        # # Compress prodNums \n",
    "        # result = []\n",
    "        # i = 0\n",
    "        # while i < len(prodNums):\n",
    "        #     val = prodNums[i]\n",
    "        #     freq = 1\n",
    "        #     j = i + 1\n",
    "        #     while j < len(prodNums) and prodNums[j] == val: \n",
    "        #         freq += 1\n",
    "        #         j += 1\n",
    "        #     result.append([val, freq])\n",
    "            \n",
    "        #     i += freq\n",
    "        \n",
    "        # return result\n",
    "        # # i: 0, 3\n",
    "        # # j: 1,2,34\n",
    "        # # val: 1, 2\n",
    "        # # freq: 1,2,3,1...5,\n",
    "        # # res = [[1,3], ]\n",
    "\n",
    "    # Solution 2: Editorial Two Pointer\n",
    "        # iterate through encoded 1 & 2 with left and right pointer\n",
    "        # Build the output list \n",
    "        # Handle repeated cases \n",
    "        # Time: O(max(m,n)), m = len(encoded1) n=len(encoded2)\n",
    "        # Space: O(max(m,n))\n",
    "        l = r = 0\n",
    "        output = [] \n",
    "        while l < len(encoded1) and r < len(encoded2): \n",
    "            left = encoded1[l]\n",
    "            right = encoded2[r]\n",
    "            if left[1] < right[1]: \n",
    "                output.append([left[0]*right[0], left[1]])\n",
    "                encoded2[r][1] -= left[1]\n",
    "                l += 1\n",
    "            elif left[1] > right[1]: \n",
    "                output.append([left[0]*right[0], right[1]])\n",
    "                encoded1[l][1] -= right[1]\n",
    "                r += 1\n",
    "            else:\n",
    "                 output.append([left[0]*right[0], left[1]])\n",
    "                 l += 1 \n",
    "                 r += 1\n",
    "\n",
    "        # Handle repeated vals\n",
    "        stack = []\n",
    "        for item in output: \n",
    "            if stack and stack[-1][0] == item[0]: \n",
    "                stack[-1][1] += item[1]\n",
    "            else:\n",
    "                stack.append(item)\n",
    "        return stack\n"
   ]
  },
  {
   "cell_type": "markdown",
   "metadata": {},
   "source": [
    "##### Edge Cases\n",
    "- "
   ]
  },
  {
   "cell_type": "markdown",
   "metadata": {},
   "source": [
    "##### Optimizations\n",
    "- "
   ]
  },
  {
   "cell_type": "markdown",
   "metadata": {},
   "source": [
    "##### Learnings\n",
    "- "
   ]
  }
 ],
 "metadata": {
  "kernelspec": {
   "display_name": "base",
   "language": "python",
   "name": "python3"
  },
  "language_info": {
   "codemirror_mode": {
    "name": "ipython",
    "version": 3
   },
   "file_extension": ".py",
   "mimetype": "text/x-python",
   "name": "python",
   "nbconvert_exporter": "python",
   "pygments_lexer": "ipython3",
   "version": "3.9.7"
  }
 },
 "nbformat": 4,
 "nbformat_minor": 2
}
