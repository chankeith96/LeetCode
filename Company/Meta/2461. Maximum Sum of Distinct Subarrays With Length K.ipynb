{
 "cells": [
  {
   "cell_type": "markdown",
   "metadata": {},
   "source": [
    "[2461. Maximum Sum of Distinct Subarrays With Length K](https://leetcode.com/problems/maximum-sum-of-distinct-subarrays-with-length-k/description/)"
   ]
  },
  {
   "cell_type": "code",
   "execution_count": null,
   "metadata": {},
   "outputs": [],
   "source": [
    "class Solution:\n",
    "    def maximumSubarraySum(self, nums: List[int], k: int) -> int:\n",
    "        # # Solution 1: Brute Force\n",
    "        # # - create every subarray combo of length k, O(n)\n",
    "        # # - Check all elements in each subarray are distinct, O(1)\n",
    "        # # - sum up subarray, O(k) but at worst O(n)\n",
    "        # # - return max sum\n",
    "        # # Time: O(n*k)\n",
    "        # # Space: O(k) \n",
    "        # max_sum = 0\n",
    "\n",
    "        # for i in range(len(nums) - k + 1):\n",
    "        #     subarray = nums[i:i+k]\n",
    "        #     vals = set()\n",
    "        #     invalid = False\n",
    "\n",
    "        #     for num in subarray:\n",
    "        #         if num in vals:\n",
    "        #             invalid = True\n",
    "        #         vals.add(num)\n",
    "\n",
    "        #     if invalid:\n",
    "        #         continue\n",
    "\n",
    "        #     max_sum = max(max_sum, sum(subarray))\n",
    "\n",
    "        # return max_sum\n",
    "\n",
    "        # # Solution 2: prefix sums\n",
    "        # # Time: O(n*k)\n",
    "        # # Space: O(n+k)\n",
    "\n",
    "        # cum_sums = [0]\n",
    "        # cum_sum = 0\n",
    "        # for num in nums: # O(n)\n",
    "        #     cum_sum += num\n",
    "        #     cum_sums.append(cum_sum)\n",
    "        \n",
    "        # max_sum = 0\n",
    "        # for i in range(k - 1, len(cum_sums)): # O(n-k)\n",
    "        #     invalid = False\n",
    "        #     subarray = nums[i-k+1:i+1]\n",
    "        #     vals = set() \n",
    "\n",
    "        #     for num in subarray: # O(k)\n",
    "        #         if num in vals:\n",
    "        #             invalid = True\n",
    "        #         vals.add(num)\n",
    "            \n",
    "        #     if not invalid:\n",
    "        #         max_sum = max(max_sum, cum_sums[i+1] - cum_sums[i-k+1])\n",
    "        # return max_sum\n",
    "\n",
    "        # # Solution 3: Editorial - sliding window + hashmap\n",
    "        # # Time: O(n+k)\n",
    "        # # Space: O(k)\n",
    "        # counter = Counter(nums[:k])\n",
    "        # cumsum = sum(nums[:k])\n",
    "\n",
    "        # max_sum = 0\n",
    "        # if len(counter) == k:\n",
    "        #     max_sum = cumsum\n",
    "\n",
    "        # for i in range(k, len(nums)):\n",
    "        #     counter[nums[i]] = counter.get(nums[i], 0) + 1\n",
    "        #     cumsum += nums[i]\n",
    "        #     counter[nums[i-k]] -= 1\n",
    "        #     cumsum -= nums[i-k]\n",
    "\n",
    "        #     if counter[nums[i-k]] == 0:\n",
    "        #         counter.pop(nums[i-k])\n",
    "            \n",
    "        #     if len(counter) == k:\n",
    "        #         max_sum = max(max_sum, cumsum)\n",
    "\n",
    "        # return max_sum\n",
    "\n",
    "        # Solution 4: Editorial - sliding window + hashmap\n",
    "        # Time: O(n)\n",
    "        # Space: O(k)\n",
    "        max_sum = 0\n",
    "        cumsum = 0\n",
    "        counter = {}\n",
    "\n",
    "        for i in range(len(nums)): #O(n)\n",
    "            counter[nums[i]] = counter.get(nums[i], 0) + 1\n",
    "            cumsum += nums[i]\n",
    "\n",
    "            if i >= k:\n",
    "                counter[nums[i-k]] -= 1\n",
    "                cumsum -= nums[i-k]\n",
    "\n",
    "                if counter[nums[i-k]] == 0:\n",
    "                    counter.pop(nums[i-k])\n",
    "            \n",
    "            if len(counter) == k:\n",
    "                max_sum = max(max_sum, cumsum)\n",
    "\n",
    "        return max_sum"
   ]
  },
  {
   "cell_type": "markdown",
   "metadata": {},
   "source": [
    "##### Edge Cases\n",
    "- "
   ]
  },
  {
   "cell_type": "markdown",
   "metadata": {},
   "source": [
    "##### Optimizations\n",
    "- "
   ]
  },
  {
   "cell_type": "markdown",
   "metadata": {},
   "source": [
    "##### Learnings\n",
    "- In interview, go from Solution 1 to 4. There's a lot of ways to solve this problem, but solution 1 & 4 is all you need."
   ]
  }
 ],
 "metadata": {
  "kernelspec": {
   "display_name": "base",
   "language": "python",
   "name": "python3"
  },
  "language_info": {
   "codemirror_mode": {
    "name": "ipython",
    "version": 3
   },
   "file_extension": ".py",
   "mimetype": "text/x-python",
   "name": "python",
   "nbconvert_exporter": "python",
   "pygments_lexer": "ipython3",
   "version": "3.9.7"
  }
 },
 "nbformat": 4,
 "nbformat_minor": 2
}
