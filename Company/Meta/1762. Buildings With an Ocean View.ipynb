{
 "cells": [
  {
   "cell_type": "markdown",
   "metadata": {},
   "source": [
    "[1762. Buildings With an Ocean View](https://leetcode.com/problems/buildings-with-an-ocean-view/description/)"
   ]
  },
  {
   "cell_type": "code",
   "execution_count": null,
   "metadata": {},
   "outputs": [],
   "source": [
    "class Solution:\n",
    "    def findBuildings(self, heights: List[int]) -> List[int]:\n",
    "        # Solution 1: \n",
    "        # Time: O(n)\n",
    "        # Space: O(n)\n",
    "        result = []\n",
    "        max_height = 0\n",
    "        \n",
    "        for i in reversed(range(len(heights))): # O(n) \n",
    "            # Check ocean view\n",
    "            if heights[i] > max_height:\n",
    "                result.append(i)\n",
    "                max_height = max(max_height, heights[i])\n",
    "\n",
    "        return reversed(result)\n",
    "\n",
    "        # Solution 2: Monotonic stack solution\n",
    "        # - if for some reason you're forced to iterate from right to left\n",
    "        # Time: O(n)\n",
    "        # Space: O(n)\n",
    "        st = []\n",
    "        for i, ele in enumerate(arr):\n",
    "            while st and ele >= arr[st[-1]]:\n",
    "                st.pop()\n",
    "            st.append(i)\n",
    "        return st"
   ]
  },
  {
   "cell_type": "markdown",
   "metadata": {},
   "source": [
    "##### Edge Cases\n",
    "- "
   ]
  },
  {
   "cell_type": "markdown",
   "metadata": {},
   "source": [
    "##### Optimizations\n",
    "- "
   ]
  },
  {
   "cell_type": "markdown",
   "metadata": {},
   "source": [
    "##### Learnings\n",
    "- "
   ]
  }
 ],
 "metadata": {
  "kernelspec": {
   "display_name": "base",
   "language": "python",
   "name": "python3"
  },
  "language_info": {
   "codemirror_mode": {
    "name": "ipython",
    "version": 3
   },
   "file_extension": ".py",
   "mimetype": "text/x-python",
   "name": "python",
   "nbconvert_exporter": "python",
   "pygments_lexer": "ipython3",
   "version": "3.9.7"
  }
 },
 "nbformat": 4,
 "nbformat_minor": 2
}
