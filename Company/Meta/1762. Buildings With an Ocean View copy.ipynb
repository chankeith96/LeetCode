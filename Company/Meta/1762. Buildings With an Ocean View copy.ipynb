{
 "cells": [
  {
   "cell_type": "markdown",
   "metadata": {},
   "source": [
    "[348. Design Tic-Tac-Toe](https://leetcode.com/problems/design-tic-tac-toe/description/)"
   ]
  },
  {
   "cell_type": "code",
   "execution_count": null,
   "metadata": {},
   "outputs": [],
   "source": [
    "class TicTacToe:\n",
    "    # Solution 1: Brute Force Optimized\n",
    "    # Brute force solution would be to check every row, col, diag, and anti-diag after every move O(2n^2)\n",
    "    # Optimized solution is to check only the row, col the move is in, plus the diags if applicable\n",
    "    # Time: O(4n)\n",
    "    # Space: O(n^2) to save the board\n",
    "    def __init__(self, n: int):\n",
    "        self.board = [[0] * n for i in range(n)]\n",
    "        self.size = n\n",
    "\n",
    "    def move(self, row: int, col: int, player: int) -> int:\n",
    "        self.board[row][col] = player\n",
    "        if (self.check_row(row, player) or\n",
    "            self.check_col(col, player) or\n",
    "            (row == col and self.check_diag(player)) or\n",
    "            (col == self.size - row - 1 and self.check_anti_diag(player))):\n",
    "            return player\n",
    "        return 0\n",
    "\n",
    "    def check_row(self, row, player):\n",
    "        for i in range(self.size):\n",
    "            if self.board[row][i] != player:\n",
    "                return False\n",
    "        return True\n",
    "\n",
    "    def check_col(self, col, player):\n",
    "        for i in range(self.size):\n",
    "            if self.board[i][col] != player:\n",
    "                return False\n",
    "        return True\n",
    "\n",
    "    def check_diag(self, player):\n",
    "        for i in range(self.size):\n",
    "            if self.board[i][i] != player:\n",
    "                return False\n",
    "        return True\n",
    "\n",
    "    def check_anti_diag(self, player):\n",
    "        for i in range(self.size):\n",
    "            if self.board[i][self.size - i - 1] != player:\n",
    "                return False\n",
    "        return True\n",
    "\n",
    "    # # Solution 2: Editorial Optimized\n",
    "    # # Time: O(1) \n",
    "    # # Space: O(n)\n",
    "    # def __init__(self, n: int):\n",
    "    #     self.n = n\n",
    "    #     self.rows = [0] * n\n",
    "    #     self.cols = [0] * n\n",
    "    #     self.diagonal = 0\n",
    "    #     self.anti_diagonal = 0\n",
    "    #     # self.player1_rows = [0] * n\n",
    "    #     # self.player1_cols = [0] * n\n",
    "    #     # self.player2_rows = [0] * n\n",
    "    #     # self.player2_cols = [0] * n\n",
    "    #     # self.player1_diagonal = 0\n",
    "    #     # self.player1_anti_diagonal = 0\n",
    "    #     # self.player2_diagonal = 0\n",
    "    #     # self.player2_anti_diagonal = 0\n",
    "\n",
    "    # def move(self, row: int, col: int, player: int) -> int:\n",
    "    #     p = 1 if player == 1 else -1\n",
    "        \n",
    "    #     self.rows[row] += p\n",
    "    #     self.cols[col] += p\n",
    "        \n",
    "    #     if row == col:\n",
    "    #         self.diagonal += p\n",
    "        \n",
    "    #     if row + col == self.n - 1:\n",
    "    #         self.anti_diagonal += p\n",
    "\n",
    "    #     if abs(self.rows[row]) == self.n or abs(self.cols[col]) == self.n or abs(self.diagonal) == self.n or abs(self.anti_diagonal) == self.n:\n",
    "    #         return player\n",
    "        \n",
    "    #     return 0"
   ]
  },
  {
   "cell_type": "markdown",
   "metadata": {},
   "source": [
    "##### Edge Cases\n",
    "- "
   ]
  },
  {
   "cell_type": "markdown",
   "metadata": {},
   "source": [
    "##### Optimizations\n",
    "- "
   ]
  },
  {
   "cell_type": "markdown",
   "metadata": {},
   "source": [
    "##### Learnings\n",
    "- "
   ]
  }
 ],
 "metadata": {
  "kernelspec": {
   "display_name": "base",
   "language": "python",
   "name": "python3"
  },
  "language_info": {
   "codemirror_mode": {
    "name": "ipython",
    "version": 3
   },
   "file_extension": ".py",
   "mimetype": "text/x-python",
   "name": "python",
   "nbconvert_exporter": "python",
   "pygments_lexer": "ipython3",
   "version": "3.9.7"
  }
 },
 "nbformat": 4,
 "nbformat_minor": 2
}
