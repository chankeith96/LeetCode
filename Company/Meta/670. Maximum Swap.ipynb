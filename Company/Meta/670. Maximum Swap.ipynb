{
 "cells": [
  {
   "cell_type": "markdown",
   "metadata": {},
   "source": [
    "[670. Maximum Swap](https://leetcode.com/problems/maximum-swap/description/)"
   ]
  },
  {
   "cell_type": "code",
   "execution_count": null,
   "metadata": {},
   "outputs": [],
   "source": [
    "class Solution:\n",
    "    def maximumSwap(self, num: int) -> int:\n",
    "        # Solution 1:\n",
    "        # Time: O(n)\n",
    "        # Space: O(n)\n",
    "        nums = [int(x) for x in str(num)]\n",
    "        max_idx = len(nums) - 1\n",
    "        low_idx = 0\n",
    "        high_idx = 0\n",
    "\n",
    "        for i in range(len(nums) - 1, -1, -1): # reversed(range(len(nums)))\n",
    "            if nums[i] > nums[max_idx]:\n",
    "                max_idx = i\n",
    "            elif nums[i] < nums[max_idx]:\n",
    "                low_idx = i\n",
    "                high_idx = max_idx\n",
    "        \n",
    "        nums[low_idx], nums[high_idx] = nums[high_idx], nums[low_idx]\n",
    "        return int(\"\".join([str(x) for x in nums]))"
   ]
  },
  {
   "cell_type": "markdown",
   "metadata": {},
   "source": [
    "##### Edge Cases\n",
    "- "
   ]
  },
  {
   "cell_type": "markdown",
   "metadata": {},
   "source": [
    "##### Optimizations\n",
    "- "
   ]
  },
  {
   "cell_type": "markdown",
   "metadata": {},
   "source": [
    "##### Learnings\n",
    "- Solution is a little tricky. Need to update high_idx separately from max_idx "
   ]
  }
 ],
 "metadata": {
  "kernelspec": {
   "display_name": "base",
   "language": "python",
   "name": "python3"
  },
  "language_info": {
   "codemirror_mode": {
    "name": "ipython",
    "version": 3
   },
   "file_extension": ".py",
   "mimetype": "text/x-python",
   "name": "python",
   "nbconvert_exporter": "python",
   "pygments_lexer": "ipython3",
   "version": "3.9.7"
  }
 },
 "nbformat": 4,
 "nbformat_minor": 2
}
