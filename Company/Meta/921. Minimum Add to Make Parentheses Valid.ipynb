{
 "cells": [
  {
   "cell_type": "markdown",
   "metadata": {},
   "source": [
    "[921. Minimum Add to Make Parentheses Valid](https://leetcode.com/problems/minimum-add-to-make-parentheses-valid/description/)"
   ]
  },
  {
   "cell_type": "code",
   "execution_count": null,
   "metadata": {},
   "outputs": [],
   "source": [
    "class Solution:\n",
    "    def minAddToMakeValid(self, s: str) -> int:\n",
    "        # Solution 1: Just count open and closed parenthesis\n",
    "        # Time: O(n)\n",
    "        # Space: O(1)\n",
    "        count_open = 0\n",
    "        count_closed = 0 \n",
    "\n",
    "        for c in s:\n",
    "            if c == \"(\":\n",
    "                count_open += 1\n",
    "            else:\n",
    "                if count_open:\n",
    "                    count_open -= 1\n",
    "                else:\n",
    "                    count_closed += 1\n",
    "        \n",
    "        return count_open + count_closed"
   ]
  },
  {
   "cell_type": "markdown",
   "metadata": {},
   "source": [
    "##### Edge Cases\n",
    "- "
   ]
  },
  {
   "cell_type": "markdown",
   "metadata": {},
   "source": [
    "##### Optimizations\n",
    "- "
   ]
  },
  {
   "cell_type": "markdown",
   "metadata": {},
   "source": [
    "##### Learnings\n",
    "- "
   ]
  }
 ],
 "metadata": {
  "kernelspec": {
   "display_name": "base",
   "language": "python",
   "name": "python3"
  },
  "language_info": {
   "codemirror_mode": {
    "name": "ipython",
    "version": 3
   },
   "file_extension": ".py",
   "mimetype": "text/x-python",
   "name": "python",
   "nbconvert_exporter": "python",
   "pygments_lexer": "ipython3",
   "version": "3.9.7"
  }
 },
 "nbformat": 4,
 "nbformat_minor": 2
}
