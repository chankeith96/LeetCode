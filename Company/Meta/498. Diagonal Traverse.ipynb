{
 "cells": [
  {
   "cell_type": "markdown",
   "metadata": {},
   "source": [
    "[498. Diagonal Traverse](https://leetcode.com/problems/diagonal-traverse/description/)"
   ]
  },
  {
   "cell_type": "code",
   "execution_count": null,
   "metadata": {},
   "outputs": [],
   "source": [
    "class Solution:\n",
    "    def findDiagonalOrder(self, mat: List[List[int]]) -> List[int]:\n",
    "        # # Solution\n",
    "        # # - treat everything like a downwards diagonal\n",
    "        # # - reverse even-numbered diagonals (0-indexed)\n",
    "        # # Time: O(n*m)\n",
    "        # # Space: O(min(n, m)) if we don't count result\n",
    "        # ROWS, COLS = len(mat), len(mat[0])\n",
    "        # result = []\n",
    "        # diag = 0\n",
    "\n",
    "        # def get_diagonal(r, c):\n",
    "        #     res = []\n",
    "        #     while c >= 0 and r < ROWS:\n",
    "        #         res.append(mat[r][c])\n",
    "        #         r += 1\n",
    "        #         c -= 1\n",
    "        #     return res\n",
    "\n",
    "        # # Iterate first row\n",
    "        # for c in range(COLS):\n",
    "        #     intermediate = get_diagonal(0, c)\n",
    "        #     # Even numbered diagonals need to be reversed\n",
    "        #     if diag % 2 == 0:\n",
    "        #         result.extend(intermediate[::-1])\n",
    "        #     else:\n",
    "        #         result.extend(intermediate)\n",
    "        #     diag += 1\n",
    "        \n",
    "        # # Iterate last col\n",
    "        # for r in range(1, ROWS):\n",
    "        #     intermediate = get_diagonal(r, COLS - 1)\n",
    "        #     if diag % 2 == 0:\n",
    "        #         result.extend(intermediate[::-1])\n",
    "        #     else:\n",
    "        #         result.extend(intermediate)\n",
    "        #     diag += 1\n",
    "\n",
    "        # return result\n",
    "\n",
    "        # Solution 2: https://leetcode.com/problems/diagonal-traverse/solutions/581868/Easy-Python-NO-DIRECTION-CHECKING/\n",
    "        # Cool idea is to notice Diagonals are defined by the sum of indicies in a 2 dimensional array\n",
    "        # Same time and space\n",
    "        d={}\n",
    "\t\t#loop through matrix\n",
    "        for i in range(len(mat)):\n",
    "            for j in range(len(mat[i])):\n",
    "                d[i+j] = d.get(i+j, [])\n",
    "                d[i+j].append(mat[i][j]) \n",
    "                \n",
    "        ans= []\n",
    "        for entry in d.items():\n",
    "            if entry[0] % 2 == 0:\n",
    "                ans.extend(entry[1][::-1])\n",
    "            else:\n",
    "                ans.extend(entry[1])\n",
    "        return ans"
   ]
  },
  {
   "cell_type": "markdown",
   "metadata": {},
   "source": [
    "##### Edge Cases\n",
    "- "
   ]
  },
  {
   "cell_type": "markdown",
   "metadata": {},
   "source": [
    "##### Optimizations\n",
    "- "
   ]
  },
  {
   "cell_type": "markdown",
   "metadata": {},
   "source": [
    "##### Learnings\n",
    "- Solution 2 uses clever trick: Diagonals are defined by the sum of indicies in a 2 dimensional array\n",
    "- Editorial provides a O(1) space solution but seems too complicated"
   ]
  }
 ],
 "metadata": {
  "kernelspec": {
   "display_name": "base",
   "language": "python",
   "name": "python3"
  },
  "language_info": {
   "codemirror_mode": {
    "name": "ipython",
    "version": 3
   },
   "file_extension": ".py",
   "mimetype": "text/x-python",
   "name": "python",
   "nbconvert_exporter": "python",
   "pygments_lexer": "ipython3",
   "version": "3.9.7"
  }
 },
 "nbformat": 4,
 "nbformat_minor": 2
}
