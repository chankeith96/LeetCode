{
 "cells": [
  {
   "cell_type": "markdown",
   "metadata": {},
   "source": [
    "[215. Kth Largest Element in an Array](https://leetcode.com/problems/kth-largest-element-in-an-array/description/)"
   ]
  },
  {
   "cell_type": "code",
   "execution_count": null,
   "metadata": {},
   "outputs": [],
   "source": [
    "import heapq\n",
    "\n",
    "class Solution:\n",
    "    def findKthLargest(self, nums: List[int], k: int) -> int:\n",
    "    # # Solution 0: sort\n",
    "        # # Time: O(nlogn)\n",
    "        # # Space: O(1) \n",
    "        # nums.sort(reverse=True)\n",
    "        # return nums[k - 1]\n",
    "        \n",
    "    # Solution 1: min-heap\n",
    "        # Can optimize by checking 2 conditions. If heap is full, then\n",
    "        # just check min value in heap. If value is <= heap[0], then don't\n",
    "        # need to do unnecessary push and pop\n",
    "        # Time: O(nlogk)\n",
    "        # Space: O(k)\n",
    "\n",
    "        heap = []\n",
    "        for n in nums: # O(n) \n",
    "            heapq.heappush(heap, n) # O(logk)\n",
    "\n",
    "            if len(heap) > k:\n",
    "                heapq.heappop(heap) # O(logk)\n",
    "        \n",
    "        return heapq.heappop(heap)\n",
    "\n",
    "    # Solution 2: Quickselect + median of medians"
   ]
  },
  {
   "cell_type": "markdown",
   "metadata": {},
   "source": [
    "##### Edge Cases\n",
    "- "
   ]
  },
  {
   "cell_type": "markdown",
   "metadata": {},
   "source": [
    "##### Optimizations\n",
    "- There's a solution in editorial to use quickselect to reduce to O(n) Time and O(n) space"
   ]
  },
  {
   "cell_type": "markdown",
   "metadata": {},
   "source": [
    "##### Learnings\n",
    "- "
   ]
  }
 ],
 "metadata": {
  "kernelspec": {
   "display_name": "base",
   "language": "python",
   "name": "python3"
  },
  "language_info": {
   "codemirror_mode": {
    "name": "ipython",
    "version": 3
   },
   "file_extension": ".py",
   "mimetype": "text/x-python",
   "name": "python",
   "nbconvert_exporter": "python",
   "pygments_lexer": "ipython3",
   "version": "3.9.7"
  }
 },
 "nbformat": 4,
 "nbformat_minor": 2
}
