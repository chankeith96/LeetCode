{
 "cells": [
  {
   "cell_type": "markdown",
   "metadata": {},
   "source": [
    "[346. Moving Average from Data Stream](https://leetcode.com/problems/moving-average-from-data-stream/description/)"
   ]
  },
  {
   "cell_type": "code",
   "execution_count": null,
   "metadata": {},
   "outputs": [],
   "source": [
    "class MovingAverage:\n",
    "    # Solution 1: Store everything in List and return window avg\n",
    "    # Time: O(window size)\n",
    "    # Space: O(stream size)\n",
    "    \n",
    "    # # Solution 2: Queue\n",
    "    # # Use a queue but must sum() queue \n",
    "    # # Time: O(window size)\n",
    "    # # Space: O(window size)\n",
    "    # def __init__(self, size: int):\n",
    "    #     self.size = size\n",
    "    #     self.q = deque([])\n",
    "    \n",
    "    # def next(self, val: int) -> float:\n",
    "    #     self.q.append(val)\n",
    "        \n",
    "    #     while len(self.q) > self.size:\n",
    "    #         self.q.pop(0)\n",
    "    #     return sum(self.q)/len(self.q)\n",
    "\n",
    "    # Solution 2: Queue + running total\n",
    "    # Time: O(1)\n",
    "    # Space: O(window size)\n",
    "    def __init__(self, size: int):\n",
    "        self.size = size\n",
    "        self.total = 0\n",
    "        self.q = deque([])\n",
    "        \n",
    "    def next(self, val: int) -> float:\n",
    "        self.q.append(val)\n",
    "        self.total += val\n",
    "        while len(self.q) > self.size:\n",
    "            self.total -= self.q.popleft()\n",
    "            \n",
    "        return self.total/len(self.q)\n",
    "\n",
    "# Your MovingAverage object will be instantiated and called as such:\n",
    "# obj = MovingAverage(size)\n",
    "# param_1 = obj.next(val)"
   ]
  },
  {
   "cell_type": "markdown",
   "metadata": {},
   "source": [
    "##### Edge Cases\n",
    "- "
   ]
  },
  {
   "cell_type": "markdown",
   "metadata": {},
   "source": [
    "##### Optimizations\n",
    "- "
   ]
  },
  {
   "cell_type": "markdown",
   "metadata": {},
   "source": [
    "##### Learnings\n",
    "- "
   ]
  }
 ],
 "metadata": {
  "kernelspec": {
   "display_name": "base",
   "language": "python",
   "name": "python3"
  },
  "language_info": {
   "codemirror_mode": {
    "name": "ipython",
    "version": 3
   },
   "file_extension": ".py",
   "mimetype": "text/x-python",
   "name": "python",
   "nbconvert_exporter": "python",
   "pygments_lexer": "ipython3",
   "version": "3.9.7"
  }
 },
 "nbformat": 4,
 "nbformat_minor": 2
}
