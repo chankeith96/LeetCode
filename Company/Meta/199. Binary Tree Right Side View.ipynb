{
 "cells": [
  {
   "cell_type": "markdown",
   "metadata": {},
   "source": [
    "[199. Binary Tree Right Side View](https://leetcode.com/problems/binary-tree-right-side-view/description/)"
   ]
  },
  {
   "cell_type": "code",
   "execution_count": null,
   "metadata": {},
   "outputs": [],
   "source": [
    "# Definition for a binary tree node.\n",
    "# class TreeNode:\n",
    "#     def __init__(self, val=0, left=None, right=None):\n",
    "#         self.val = val\n",
    "#         self.left = left\n",
    "#         self.right = right\n",
    "class Solution:\n",
    "    def rightSideView(self, root: Optional[TreeNode]) -> List[int]:\n",
    "        # Solution 1\n",
    "        # - BFS for level by level traversal and store last nodes\n",
    "        # Time: O(n)\n",
    "        # Space: O(n) worst case, O(diameter) avg, diameter = n/2 on avg\n",
    "        if not root:\n",
    "            return []\n",
    "        \n",
    "        right_nodes = []\n",
    "        q = deque([root])\n",
    "\n",
    "        while q:\n",
    "            level_length = len(q)\n",
    "            for i in range(len(q)):\n",
    "                node = q.popleft()\n",
    "                \n",
    "                if i == level_length - 1:\n",
    "                    right_nodes.append(node.val)\n",
    "                \n",
    "                if node.left:\n",
    "                    q.append(node.left)\n",
    "                if node.right: \n",
    "                    q.append(node.right)\n",
    "\n",
    "        return right_nodes"
   ]
  },
  {
   "cell_type": "markdown",
   "metadata": {},
   "source": [
    "##### Edge Cases\n",
    "- "
   ]
  },
  {
   "cell_type": "markdown",
   "metadata": {},
   "source": [
    "##### Optimizations\n",
    "- "
   ]
  },
  {
   "cell_type": "markdown",
   "metadata": {},
   "source": [
    "##### Learnings\n",
    "- Usually it is better to add None nodes into queue but only do something if node is not None, but for this problem we don't want None nodes since they are not \"visible\" from the right\n",
    "- variation: double view, left from bottom to top, right"
   ]
  }
 ],
 "metadata": {
  "kernelspec": {
   "display_name": "base",
   "language": "python",
   "name": "python3"
  },
  "language_info": {
   "codemirror_mode": {
    "name": "ipython",
    "version": 3
   },
   "file_extension": ".py",
   "mimetype": "text/x-python",
   "name": "python",
   "nbconvert_exporter": "python",
   "pygments_lexer": "ipython3",
   "version": "3.9.7"
  }
 },
 "nbformat": 4,
 "nbformat_minor": 2
}
