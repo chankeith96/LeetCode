{
 "cells": [
  {
   "cell_type": "markdown",
   "metadata": {},
   "source": [
    "[973. K Closest Points to Origin](https://leetcode.com/problems/k-closest-points-to-origin/description/)"
   ]
  },
  {
   "cell_type": "code",
   "execution_count": null,
   "metadata": {},
   "outputs": [],
   "source": [
    "class Solution:\n",
    "    def kClosest(self, points: List[List[int]], k: int) -> List[List[int]]:\n",
    "        # Solution 1\n",
    "        # Time: O(nlogk)\n",
    "        # Space: O(k)\n",
    "        \n",
    "        heap = []\n",
    "\n",
    "        for x, y in points: #O(n)\n",
    "            dist = x**2 + y**2\n",
    "            heapq.heappush(heap, [-dist, x, y]) #O(logk)\n",
    "\n",
    "            if len(heap) > k:\n",
    "                heapq.heappop(heap) # O(1) \n",
    "\n",
    "        return [item[1:] for item in heap] # O(k)"
   ]
  },
  {
   "cell_type": "markdown",
   "metadata": {},
   "source": [
    "##### Edge Cases\n",
    "- "
   ]
  },
  {
   "cell_type": "markdown",
   "metadata": {},
   "source": [
    "##### Optimizations\n",
    "- "
   ]
  },
  {
   "cell_type": "markdown",
   "metadata": {},
   "source": [
    "##### Learnings\n",
    "- "
   ]
  }
 ],
 "metadata": {
  "kernelspec": {
   "display_name": "base",
   "language": "python",
   "name": "python3"
  },
  "language_info": {
   "codemirror_mode": {
    "name": "ipython",
    "version": 3
   },
   "file_extension": ".py",
   "mimetype": "text/x-python",
   "name": "python",
   "nbconvert_exporter": "python",
   "pygments_lexer": "ipython3",
   "version": "3.9.7"
  }
 },
 "nbformat": 4,
 "nbformat_minor": 2
}
