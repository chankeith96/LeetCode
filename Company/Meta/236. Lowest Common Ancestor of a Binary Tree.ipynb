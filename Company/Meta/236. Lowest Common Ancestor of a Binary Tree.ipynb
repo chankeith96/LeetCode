{
 "cells": [
  {
   "cell_type": "markdown",
   "metadata": {},
   "source": [
    "[236. Lowest Common Ancestor of a Binary Tree](https://leetcode.com/problems/lowest-common-ancestor-of-a-binary-tree/)"
   ]
  },
  {
   "cell_type": "code",
   "execution_count": null,
   "metadata": {},
   "outputs": [],
   "source": [
    "# Definition for a binary tree node.\n",
    "# class TreeNode:\n",
    "#     def __init__(self, x):\n",
    "#         self.val = x\n",
    "#         self.left = None\n",
    "#         self.right = None\n",
    "\n",
    "class Solution:\n",
    "    def lowestCommonAncestor(self, root: 'TreeNode', p: 'TreeNode', q: 'TreeNode') -> 'TreeNode':\n",
    "        # Solution 1: DFS\n",
    "        # Time: O(n) \n",
    "        # Space: O(n) \n",
    "\n",
    "        ans = [None]\n",
    "\n",
    "        def dfs(root):\n",
    "            left = False\n",
    "            mid = False\n",
    "            right = False\n",
    "\n",
    "            # Base case\n",
    "            if not root:\n",
    "                return False\n",
    "            \n",
    "            # Recursive case\n",
    "            left = dfs(root.left)\n",
    "            right = dfs(root.right) \n",
    "            if root == p or root == q:\n",
    "                mid = True\n",
    "\n",
    "            if left + mid + right >= 2:\n",
    "                ans[0] = root\n",
    "            \n",
    "            return mid or left or right\n",
    "\n",
    "        dfs(root)\n",
    "        return ans[0]"
   ]
  },
  {
   "cell_type": "markdown",
   "metadata": {},
   "source": [
    "##### Edge Cases\n",
    "- "
   ]
  },
  {
   "cell_type": "markdown",
   "metadata": {},
   "source": [
    "##### Optimizations\n",
    "- "
   ]
  },
  {
   "cell_type": "markdown",
   "metadata": {},
   "source": [
    "##### Learnings\n",
    "- "
   ]
  }
 ],
 "metadata": {
  "kernelspec": {
   "display_name": "base",
   "language": "python",
   "name": "python3"
  },
  "language_info": {
   "codemirror_mode": {
    "name": "ipython",
    "version": 3
   },
   "file_extension": ".py",
   "mimetype": "text/x-python",
   "name": "python",
   "nbconvert_exporter": "python",
   "pygments_lexer": "ipython3",
   "version": "3.9.7"
  }
 },
 "nbformat": 4,
 "nbformat_minor": 2
}
