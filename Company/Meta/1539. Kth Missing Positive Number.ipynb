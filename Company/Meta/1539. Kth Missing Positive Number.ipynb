{
 "cells": [
  {
   "cell_type": "markdown",
   "metadata": {},
   "source": [
    "[1539. Kth Missing Positive Number](https://leetcode.com/problems/kth-missing-positive-number/description/)"
   ]
  },
  {
   "cell_type": "code",
   "execution_count": null,
   "metadata": {},
   "outputs": [],
   "source": [
    "class Solution:\n",
    "    def findKthPositive(self, arr: List[int], k: int) -> int:\n",
    "        # Solution 1: Brute force\n",
    "        # - iterate through positive integers, check if in arr\n",
    "        # - if not, add to missing list\n",
    "        # Time: O(n+k) worst\n",
    "        # Space: O(k)\n",
    "\n",
    "        # Solution 2: Better brute force\n",
    "        # - iterate through arr\n",
    "        # - count number of missing integers \n",
    "        # Time: O(n)\n",
    "        # Space: O(1) \n",
    "\n",
    "        if k < arr[0]:\n",
    "            return k\n",
    "        k -= arr[0] - 1\n",
    "        \n",
    "        for i in range(len(arr) - 1):\n",
    "            num_missing = arr[i+1] - arr[i] - 1\n",
    "            if k <= num_missing:\n",
    "                return arr[i] + k\n",
    "            else:\n",
    "                k -= num_missing\n",
    "\n",
    "        return arr[-1] + k\n",
    "\n",
    "        # Solution 3: Binary Search\n",
    "        # - Requires trick: The number of missing positive integers before the arr[idx] equals arr[idx] - idx - 1\n",
    "        # Time: O(logn)\n",
    "        # Space: O(1) \n",
    "        left = 0\n",
    "        right = len(arr) - 1\n",
    "\n",
    "        while left <= right:\n",
    "            mid = left + (right - left) // 2\n",
    "            num_missing_before_idx = arr[mid] - mid - 1\n",
    "            if num_missing_before_idx < k:\n",
    "                left = mid + 1\n",
    "            else:\n",
    "                right = mid - 1\n",
    "        \n",
    "        # At the end of the loop, left = right + 1,\n",
    "        return left + k"
   ]
  },
  {
   "cell_type": "markdown",
   "metadata": {},
   "source": [
    "##### Edge Cases\n",
    "- "
   ]
  },
  {
   "cell_type": "markdown",
   "metadata": {},
   "source": [
    "##### Optimizations\n",
    "- "
   ]
  },
  {
   "cell_type": "markdown",
   "metadata": {},
   "source": [
    "##### Learnings\n",
    "- Solution 3 Requires trick: The number of missing positive integers before the arr[idx] equals arr[idx] - idx - 1"
   ]
  }
 ],
 "metadata": {
  "kernelspec": {
   "display_name": "base",
   "language": "python",
   "name": "python3"
  },
  "language_info": {
   "codemirror_mode": {
    "name": "ipython",
    "version": 3
   },
   "file_extension": ".py",
   "mimetype": "text/x-python",
   "name": "python",
   "nbconvert_exporter": "python",
   "pygments_lexer": "ipython3",
   "version": "3.9.7"
  }
 },
 "nbformat": 4,
 "nbformat_minor": 2
}
