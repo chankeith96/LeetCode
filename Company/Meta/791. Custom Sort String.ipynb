{
 "cells": [
  {
   "cell_type": "markdown",
   "metadata": {},
   "source": [
    "[791. Custom Sort String](https://leetcode.com/problems/custom-sort-string/description/)"
   ]
  },
  {
   "cell_type": "code",
   "execution_count": null,
   "metadata": {},
   "outputs": [],
   "source": [
    "class Solution:\n",
    "    def customSortString(self, order: str, s: str) -> str:\n",
    "        # Time: O(s + o)\n",
    "        # Space: O(s)\n",
    "        \n",
    "        char_freq = {}\n",
    "        result = []\n",
    "\n",
    "        for char in s: \n",
    "            char_freq[char] = char_freq.get(char, 0)\n",
    "            char_freq[char] += 1\n",
    "        \n",
    "        # iterate through order\n",
    "        for char in order:\n",
    "            if char in char_freq:\n",
    "                result.append(char * char_freq[char])\n",
    "                char_freq.pop(char) \n",
    "\n",
    "        for char, freq in char_freq.items():\n",
    "            result.append(char * freq)\n",
    "        \n",
    "        return \"\".join(result)"
   ]
  },
  {
   "cell_type": "markdown",
   "metadata": {},
   "source": [
    "##### Edge Cases\n",
    "- "
   ]
  },
  {
   "cell_type": "markdown",
   "metadata": {},
   "source": [
    "##### Optimizations\n",
    "- "
   ]
  },
  {
   "cell_type": "markdown",
   "metadata": {},
   "source": [
    "##### Learnings\n",
    "- "
   ]
  }
 ],
 "metadata": {
  "kernelspec": {
   "display_name": "base",
   "language": "python",
   "name": "python3"
  },
  "language_info": {
   "codemirror_mode": {
    "name": "ipython",
    "version": 3
   },
   "file_extension": ".py",
   "mimetype": "text/x-python",
   "name": "python",
   "nbconvert_exporter": "python",
   "pygments_lexer": "ipython3",
   "version": "3.9.7"
  }
 },
 "nbformat": 4,
 "nbformat_minor": 2
}
