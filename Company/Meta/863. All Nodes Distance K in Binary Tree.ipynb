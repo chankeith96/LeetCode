{
 "cells": [
  {
   "cell_type": "markdown",
   "metadata": {},
   "source": [
    "[863. All Nodes Distance K in Binary Tree](https://leetcode.com/problems/all-nodes-distance-k-in-binary-tree/description/)"
   ]
  },
  {
   "cell_type": "code",
   "execution_count": null,
   "metadata": {},
   "outputs": [],
   "source": [
    "# Definition for a binary tree node.\n",
    "# class TreeNode:\n",
    "#     def __init__(self, x):\n",
    "#         self.val = x\n",
    "#         self.left = None\n",
    "#         self.right = None\n",
    "\n",
    "class Solution:\n",
    "    def distanceK(self, root: TreeNode, target: TreeNode, k: int) -> List[int]:\n",
    "        # Solution\n",
    "        # - Create undirected graph using adjacency list\n",
    "        # - Use BFS to find nodes distance k away\n",
    "        # Time: O(n)\n",
    "        # Space: O(n)\n",
    "        graph = {}\n",
    "\n",
    "        # def build_graph(cur, parent):\n",
    "        #     if cur and parent:\n",
    "        #         graph[cur] = graph.get(cur, [])\n",
    "        #         graph[cur].append(parent)\n",
    "        #         graph[parent] = graph.get(parent, [])\n",
    "        #         graph[parent].append(cur)\n",
    "        #     if cur.left:\n",
    "        #         build_graph(cur.left, cur)\n",
    "        #     if cur.right:\n",
    "        #         build_graph(cur.right, cur) \n",
    "        # build_graph(root, None)\n",
    "\n",
    "        def build_graph(root):\n",
    "            # Base case\n",
    "            node = root\n",
    "            if not node:\n",
    "                return \n",
    "            \n",
    "            # Recursive case\n",
    "            if node.left:\n",
    "                graph[node] = graph.get(node, []) + [node.left]\n",
    "                graph[node.left] = graph.get(node.left, []) + [node]\n",
    "                build_graph(node.left)\n",
    "            if node.right:\n",
    "                graph[node] = graph.get(node, []) + [node.right]\n",
    "                graph[node.right] = graph.get(node.right, []) + [node]\n",
    "                build_graph(node.right)\n",
    "\n",
    "        build_graph(root)\n",
    "\n",
    "        result = []\n",
    "        visited = set()\n",
    "        def bfs(target, k):\n",
    "            visited.add(target)\n",
    "            q = deque([(target, 0)])\n",
    "\n",
    "            while q:\n",
    "                for i in range(len(q)): # level scan\n",
    "                    node, distance = q.popleft()\n",
    "                    \n",
    "                    if distance == k:\n",
    "                        result.append(node.val)\n",
    "                        continue\n",
    "\n",
    "                    for nei in graph.get(node, []):\n",
    "                        if nei not in visited:\n",
    "                            q.append((nei, distance + 1))\n",
    "                            visited.add(nei)\n",
    "                    \n",
    "        bfs(target, k)\n",
    "        return result\n",
    "\n",
    "        # visited: (5, 0), \n",
    "        # q: (7,2), (4,2), (1,2), \n"
   ]
  },
  {
   "cell_type": "markdown",
   "metadata": {},
   "source": [
    "##### Edge Cases\n",
    "- "
   ]
  },
  {
   "cell_type": "markdown",
   "metadata": {},
   "source": [
    "##### Optimizations\n",
    "- "
   ]
  },
  {
   "cell_type": "markdown",
   "metadata": {},
   "source": [
    "##### Learnings\n",
    "- The editorial solution's function build_graph was cleaner than mine"
   ]
  }
 ],
 "metadata": {
  "kernelspec": {
   "display_name": "base",
   "language": "python",
   "name": "python3"
  },
  "language_info": {
   "codemirror_mode": {
    "name": "ipython",
    "version": 3
   },
   "file_extension": ".py",
   "mimetype": "text/x-python",
   "name": "python",
   "nbconvert_exporter": "python",
   "pygments_lexer": "ipython3",
   "version": "3.9.7"
  }
 },
 "nbformat": 4,
 "nbformat_minor": 2
}
