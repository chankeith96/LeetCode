{
 "cells": [
  {
   "cell_type": "markdown",
   "metadata": {},
   "source": [
    "[31. Next Permutation](https://leetcode.com/problems/next-permutation/description/)"
   ]
  },
  {
   "cell_type": "code",
   "execution_count": null,
   "metadata": {},
   "outputs": [],
   "source": [
    "class Solution:\n",
    "    def nextPermutation(self, nums: List[int]) -> None:\n",
    "        \"\"\"\n",
    "        Do not return anything, modify nums in-place instead.\n",
    "        \"\"\"\n",
    "        # Solution 1: Brute Force\n",
    "        # Create all permutations, then sort them, and return next permutation\n",
    "        # Time: O(n!)\n",
    "        # Space: O(n!)\n",
    "\n",
    "        # Solution 2: My version of Search-swap-sort (messier than editorial)\n",
    "        # Example: 12345, 12354, 12435, 12453, 12534, 12543 ... 54321\n",
    "        # Time: O(n)\n",
    "        # Space: O(1)\n",
    "\n",
    "        # NOTE: iterating using for loop is much harder than while for this case\n",
    "        # for i in reversed(1, range(len(nums))):\n",
    "        #     if i == 1 and nums[i] < nums[i - 1]:\n",
    "        #         i = 0\n",
    "        #     if nums[i] > nums[i - 1]: \n",
    "        #         break\n",
    "\n",
    "        # Iterate from end to find first non-increasing value\n",
    "        i = len(nums) - 1\n",
    "        while i > 0:\n",
    "            if nums[i] > nums[i - 1]: \n",
    "                break\n",
    "            else:\n",
    "                i -= 1\n",
    "\n",
    "        # Two cases:\n",
    "        # 1) i == 0, meaning all of nums is decreasing (aka last permutation)\n",
    "        # 2) decreasing value was found\n",
    "        if i == 0:\n",
    "            nums.reverse()\n",
    "            return\n",
    "        else:\n",
    "            # search for first element larger than the i-1 element to swap\n",
    "            j = len(nums) - 1\n",
    "            while j > 0:\n",
    "                if nums[j] > nums[i - 1]:\n",
    "                    break\n",
    "                else:\n",
    "                    j -= 1\n",
    "            \n",
    "            # Swap positions i-1 and j\n",
    "            nums[i-1], nums[j] = nums[j], nums[i-1]\n",
    "\n",
    "            # Reverse everything right of i-1\n",
    "            nums[i:] = nums[len(nums)-1 : i-1 : -1]\n",
    "            # Since we know everything right of i-1 is decreasing, reversing is faster than sorting\n",
    "            # nums[i:] = sorted(nums[i:])\n",
    "        \n",
    "        # Solution 3: Editorial Search-swap-sort\n",
    "        # Time: same \n",
    "        # Space: same\n",
    "\n",
    "        # i = j = len(nums)-1\n",
    "        # # First we'll find the first non-increasing element starting from the end\n",
    "        # while i > 0 and nums[i-1] >= nums[i]:\n",
    "        #     i -= 1\n",
    "        # # After completion of the first loop, there will be two cases\n",
    "        # # 1. Our i becomes zero (This will happen if the given array is sorted decreasingly). In this case, we'll simply reverse the sequence and will return \n",
    "        # if i == 0:\n",
    "        #     nums.reverse()\n",
    "        #     return \n",
    "        # # 2. If it's not zero then we'll find the first number greater then nums[i-1] starting from end\n",
    "        # while nums[j] <= nums[i-1]:\n",
    "        #     j -= 1\n",
    "        # # Now out pointer is pointing at two different positions\n",
    "        # # i. first non-assending number from end\n",
    "        # # j. first number greater than nums[i-1]\n",
    "        \n",
    "        # # We'll swap these two numbers\n",
    "        # nums[i-1], nums[j] = nums[j], nums[i-1]\n",
    "        \n",
    "        # # We'll reverse a sequence strating from i to end\n",
    "        # nums[i:]= nums[len(nums)-1:i-1:-1]"
   ]
  },
  {
   "cell_type": "markdown",
   "metadata": {},
   "source": [
    "##### Edge Cases\n",
    "- "
   ]
  },
  {
   "cell_type": "markdown",
   "metadata": {},
   "source": [
    "##### Optimizations\n",
    "- "
   ]
  },
  {
   "cell_type": "markdown",
   "metadata": {},
   "source": [
    "##### Learnings\n",
    "- Thought process: the requirements of in-place replacement and constant space should immediately indicate swapping (this goes for other questions too). Secondly, it should be obvious that if the elements are increasing from the right, they are currently at their largest possible permutation, so nothing can be done. "
   ]
  }
 ],
 "metadata": {
  "kernelspec": {
   "display_name": "base",
   "language": "python",
   "name": "python3"
  },
  "language_info": {
   "codemirror_mode": {
    "name": "ipython",
    "version": 3
   },
   "file_extension": ".py",
   "mimetype": "text/x-python",
   "name": "python",
   "nbconvert_exporter": "python",
   "pygments_lexer": "ipython3",
   "version": "3.9.7"
  }
 },
 "nbformat": 4,
 "nbformat_minor": 2
}
