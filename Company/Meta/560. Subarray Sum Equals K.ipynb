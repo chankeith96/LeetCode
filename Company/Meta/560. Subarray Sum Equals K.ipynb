{
 "cells": [
  {
   "cell_type": "markdown",
   "metadata": {},
   "source": [
    "[560. Subarray Sum Equals K](https://leetcode.com/problems/subarray-sum-equals-k/description/)"
   ]
  },
  {
   "cell_type": "code",
   "execution_count": null,
   "metadata": {},
   "outputs": [],
   "source": [
    "class Solution:\n",
    "    def subarraySum(self, nums: List[int], k: int) -> int:\n",
    "        # Edge cases: \n",
    "        # negative numbers! \n",
    "        \n",
    "        # Solution 1: Brute Force\n",
    "        # - take sum of every possible subarray\n",
    "        # Time: O(n^3) bc O(n^2) combos and sum is O(n) \n",
    "        # Space: O(1) \n",
    "\n",
    "        # Solution 2: hashmap and prefix sums\n",
    "        # Time: O(n)\n",
    "        # Space: O(n)\n",
    "        sum_to_count = {0:1}\n",
    "        cum_sum = 0\n",
    "        counter = 0\n",
    "\n",
    "        for i, num in enumerate(nums):\n",
    "            cum_sum += num\n",
    "            if cum_sum - k in sum_to_count:\n",
    "                counter += sum_to_count[cum_sum - k]\n",
    "\n",
    "            sum_to_count[cum_sum] = sum_to_count.get(cum_sum, 0) + 1\n",
    "\n",
    "        return counter\n",
    "\n",
    "        # cache: 0, 1, 3, \n",
    "        # cum_sum: 1,3,6\n",
    "        # coutner; 1\n",
    "\n",
    "# From the Discussions \n",
    "# Took me a bit of time to figure out, but I found this thinking is helpful, hopefully this will be helpful to someone else:\n",
    "\n",
    "# For each index i of array A we store cumulative sums sum(A[:i]) in a hash table\n",
    "\n",
    "# We know that sum(A[:j]) = sum(A[:i]) + sum(A[i:j]) for some j > i\n",
    "\n",
    "# Let's assume that there is some contiguous subarray A[i:j] which sum is equal to k: sum(A[i:j]) == k\n",
    "\n",
    "# If sum(A[i:j]) == k, then we can rewrite previous equality in the following ways:\n",
    "\n",
    "# sum(A[:j]) = sum(A[:i]) + k \n",
    "# sum(A[:j]) - k = sum(A[:i])\n",
    "# Therefore, if we already saw value of sum(A[:j]) - k as a cumulative sum sum(A[:i]) for some previous i (which we can check by looking at the hash table), then it means that sum of the subarrary A[i:j] is equal to k and we can increment the counter."
   ]
  },
  {
   "cell_type": "markdown",
   "metadata": {},
   "source": [
    "##### Edge Cases\n",
    "- "
   ]
  },
  {
   "cell_type": "markdown",
   "metadata": {},
   "source": [
    "##### Optimizations\n",
    "- "
   ]
  },
  {
   "cell_type": "markdown",
   "metadata": {},
   "source": [
    "##### Learnings\n",
    "- variation: all positive, return True/False. (Use sliding window)"
   ]
  }
 ],
 "metadata": {
  "kernelspec": {
   "display_name": "base",
   "language": "python",
   "name": "python3"
  },
  "language_info": {
   "codemirror_mode": {
    "name": "ipython",
    "version": 3
   },
   "file_extension": ".py",
   "mimetype": "text/x-python",
   "name": "python",
   "nbconvert_exporter": "python",
   "pygments_lexer": "ipython3",
   "version": "3.9.7"
  }
 },
 "nbformat": 4,
 "nbformat_minor": 2
}
