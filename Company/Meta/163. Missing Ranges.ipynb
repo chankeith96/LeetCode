{
 "cells": [
  {
   "cell_type": "markdown",
   "metadata": {},
   "source": [
    "[163. Missing Ranges](https://leetcode.com/problems/missing-ranges/description/)"
   ]
  },
  {
   "cell_type": "code",
   "execution_count": null,
   "metadata": {},
   "outputs": [],
   "source": [
    "class Solution:\n",
    "    def findMissingRanges(self, nums: List[int], lower: int, upper: int) -> List[List[int]]:\n",
    "    # Solution 1: Iterate through the range from lower to upper\n",
    "        # Time: O(upper - lower), probably greater than n\n",
    "        # Space: \n",
    "\n",
    "    # # Solution 2: Two pointer\n",
    "    #     # Case 1: diff = 0 or 1, do nothing\n",
    "    #     # Case 2: diff = 2, return interval of single number\n",
    "    #     # Case 3: diff > 2, add interval\n",
    "    #     # Time: O(n) where n is len(nums)\n",
    "    #     # Space: O(1) \n",
    "\n",
    "    #     # TODO: check if empty nums\n",
    "    #     if not nums:\n",
    "    #         return [[lower, upper]]\n",
    "\n",
    "    #     left = lower - 1\n",
    "    #     result = []\n",
    "\n",
    "    #     for right in nums:\n",
    "    #         diff = right - left\n",
    "    #         # if diff == 0 or diff == 1:\n",
    "    #         #     left = right\n",
    "    #         #     continue\n",
    "    #         if diff >= 2:\n",
    "    #             interval = [left + 1, right - 1]\n",
    "    #             result.append(interval)\n",
    "    #         left = right\n",
    "\n",
    "    #     right = upper + 1\n",
    "    #     diff = right - left\n",
    "    #     if diff >= 2:\n",
    "    #         interval = [left + 1, right - 1]\n",
    "    #         result.append(interval)\n",
    "    #     left = right\n",
    "\n",
    "    #     return result\n",
    "    #     # left: 0, 0, 1, 3, 50, 75\n",
    "    #     # right: 0, 1, 3, 50, 75\n",
    "    #     # diff: 0, 1, 2, 47, 25\n",
    "    #     # result: [[2,2], [4, 49], [51, 74], ]\n",
    "\n",
    "    # Solution 3: Editorial: iterate nums and check next neighbor\n",
    "        # Similar logic to Solution 2 but handles edge cases better? \n",
    "        # Time: O(n) where n is len(nums)\n",
    "        # Space: O(1) \n",
    "        n = len(nums)\n",
    "        result = []\n",
    "        if n == 0:\n",
    "            result.append([lower, upper])\n",
    "            return result\n",
    "\n",
    "        # Check for any missing numbers between the lower bound and nums[0].\n",
    "        if lower < nums[0]:\n",
    "            result.append([lower, nums[0] - 1])\n",
    "\n",
    "        # Check for any missing numbers between successive elements of nums.\n",
    "        for i in range(n - 1):\n",
    "            if nums[i + 1] - nums[i] <= 1:\n",
    "                continue\n",
    "            result.append([nums[i] + 1, nums[i + 1] - 1])\n",
    "\n",
    "        # Check for any missing numbers between the last element of nums and the upper bound.\n",
    "        if upper > nums[n - 1]:\n",
    "            result.append([nums[n - 1] + 1, upper])\n"
   ]
  },
  {
   "cell_type": "markdown",
   "metadata": {},
   "source": [
    "##### Edge Cases\n",
    "- "
   ]
  },
  {
   "cell_type": "markdown",
   "metadata": {},
   "source": [
    "##### Optimizations\n",
    "- "
   ]
  },
  {
   "cell_type": "markdown",
   "metadata": {},
   "source": [
    "##### Learnings\n",
    "- there are two edge cases:\n",
    "    1. If we don't start with lower as the first element of the array, we will need to include [lower, num[0] - 1] as a missing range as well.\n",
    "    2. if we don't end with upper as the last element of the array, we will need to include [nums[n - 1] + 1, upper] as a missing range as well \n",
    "- Solution 3 handles edges cases slightly better\n",
    "- Simple Variation: If the number of missing numbers is <= 2, append them as a number else, append the range of missing numbers"
   ]
  }
 ],
 "metadata": {
  "kernelspec": {
   "display_name": "base",
   "language": "python",
   "name": "python3"
  },
  "language_info": {
   "codemirror_mode": {
    "name": "ipython",
    "version": 3
   },
   "file_extension": ".py",
   "mimetype": "text/x-python",
   "name": "python",
   "nbconvert_exporter": "python",
   "pygments_lexer": "ipython3",
   "version": "3.9.7"
  }
 },
 "nbformat": 4,
 "nbformat_minor": 2
}
