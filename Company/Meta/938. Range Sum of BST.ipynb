{
 "cells": [
  {
   "cell_type": "markdown",
   "metadata": {},
   "source": [
    "[938. Range Sum of BST](https://leetcode.com/problems/range-sum-of-bst/description/)"
   ]
  },
  {
   "cell_type": "code",
   "execution_count": null,
   "metadata": {},
   "outputs": [],
   "source": [
    "# Definition for a binary tree node.\n",
    "# class TreeNode:\n",
    "#     def __init__(self, val=0, left=None, right=None):\n",
    "#         self.val = val\n",
    "#         self.left = left\n",
    "#         self.right = right\n",
    "class Solution:\n",
    "    def rangeSumBST(self, root: Optional[TreeNode], low: int, high: int) -> int:\n",
    "        # Time: O(n)\n",
    "        # Space: O(n) for call stack \n",
    "        \n",
    "        # Edge cases: unbalanced tree, Null root node, \n",
    "        total = [0]\n",
    "\n",
    "        def dfs(root): # O(n)\n",
    "            # base cases:\n",
    "            if not root:\n",
    "                return\n",
    "            \n",
    "            # recursive case\n",
    "            if root.val >= low and root.val <= high:\n",
    "                total[0] += root.val\n",
    "                dfs(root.left)\n",
    "                dfs(root.right) \n",
    "            elif root.val < low:\n",
    "                dfs(root.right) \n",
    "            else:\n",
    "                dfs(root.left) \n",
    "\n",
    "        dfs(root)\n",
    "        return total[0]"
   ]
  },
  {
   "cell_type": "markdown",
   "metadata": {},
   "source": [
    "##### Edge Cases\n",
    "- "
   ]
  },
  {
   "cell_type": "markdown",
   "metadata": {},
   "source": [
    "##### Optimizations\n",
    "- "
   ]
  },
  {
   "cell_type": "markdown",
   "metadata": {},
   "source": [
    "##### Learnings\n",
    "- "
   ]
  }
 ],
 "metadata": {
  "kernelspec": {
   "display_name": "base",
   "language": "python",
   "name": "python3"
  },
  "language_info": {
   "codemirror_mode": {
    "name": "ipython",
    "version": 3
   },
   "file_extension": ".py",
   "mimetype": "text/x-python",
   "name": "python",
   "nbconvert_exporter": "python",
   "pygments_lexer": "ipython3",
   "version": "3.9.7"
  }
 },
 "nbformat": 4,
 "nbformat_minor": 2
}
