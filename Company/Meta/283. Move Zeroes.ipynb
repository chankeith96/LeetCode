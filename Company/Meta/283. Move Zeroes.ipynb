{
 "cells": [
  {
   "cell_type": "markdown",
   "metadata": {},
   "source": [
    "[283. Move Zeroes](https://leetcode.com/problems/move-zeroes/description/)"
   ]
  },
  {
   "cell_type": "code",
   "execution_count": null,
   "metadata": {},
   "outputs": [],
   "source": [
    "class Solution:\n",
    "    def moveZeroes(self, nums: List[int]) -> None:\n",
    "        \"\"\"\n",
    "        Do not return anything, modify nums in-place instead.\n",
    "        \"\"\"\n",
    "    # # Solution #1: Bubble sort O(n^2) exceeds Time \n",
    "        # for i in range(len(nums)-1):\n",
    "        #     for j in range(len(nums)-1-i):\n",
    "        #         if nums[j] == 0:\n",
    "        #             nums[j] = nums[j+1]\n",
    "        #             nums[j+1] = 0\n",
    "        # print(nums)\n",
    "            \n",
    "    # Solution #2: \n",
    "        # Keep non-zeroes\n",
    "        # Count number of zeroes and append to end\n",
    "        # Uses extra array \n",
    "        # Time: O(n)\n",
    "        # Space: O(n) \n",
    "        # size = len(nums)\n",
    "        # nonzeros = [x for x in nums if x!=0]\n",
    "\n",
    "        # for i in range(size-len(nonzeros)):\n",
    "            # nonzeros.append(0)\n",
    "\n",
    "        # for i in range(size):\n",
    "            # nums[i] = nonzeros[i]\n",
    "\n",
    "    # Solution 3: two-pointer/sliding window\n",
    "        # lastNonZero pointer = everything before it is non-zero\n",
    "        # current pointer = all elems between lastNonZero and current are zeros\n",
    "        # Time: O(n)\n",
    "        # Space: O(1)\n",
    "        lastNonZeroFoundAt = 0\n",
    "        for cur in range(len(nums)):\n",
    "            if nums[cur] != 0:\n",
    "                nums[lastNonZeroFoundAt], nums[cur] = nums[cur], nums[lastNonZeroFoundAt]\n",
    "                lastNonZeroFoundAt += 1\n",
    "\n",
    "\n",
    "\n",
    "\n"
   ]
  },
  {
   "cell_type": "markdown",
   "metadata": {},
   "source": [
    "##### Edge Cases\n",
    "- "
   ]
  },
  {
   "cell_type": "markdown",
   "metadata": {},
   "source": [
    "##### Optimizations\n",
    "- "
   ]
  },
  {
   "cell_type": "markdown",
   "metadata": {},
   "source": [
    "##### Learnings\n",
    "- "
   ]
  }
 ],
 "metadata": {
  "kernelspec": {
   "display_name": "base",
   "language": "python",
   "name": "python3"
  },
  "language_info": {
   "codemirror_mode": {
    "name": "ipython",
    "version": 3
   },
   "file_extension": ".py",
   "mimetype": "text/x-python",
   "name": "python",
   "nbconvert_exporter": "python",
   "pygments_lexer": "ipython3",
   "version": "3.9.7"
  }
 },
 "nbformat": 4,
 "nbformat_minor": 2
}
