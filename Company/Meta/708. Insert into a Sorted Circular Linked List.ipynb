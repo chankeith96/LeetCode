{
 "cells": [
  {
   "cell_type": "markdown",
   "metadata": {},
   "source": [
    "[708. Insert into a Sorted Circular Linked List](https://leetcode.com/problems/insert-into-a-sorted-circular-linked-list/description/)"
   ]
  },
  {
   "cell_type": "code",
   "execution_count": null,
   "metadata": {},
   "outputs": [],
   "source": [
    "\"\"\"\n",
    "# Definition for a Node.\n",
    "class Node:\n",
    "    def __init__(self, val=None, next=None):\n",
    "        self.val = val\n",
    "        self.next = next\n",
    "\"\"\"\n",
    "\n",
    "class Solution:\n",
    "    def insert(self, head: 'Optional[Node]', insertVal: int) -> 'Node':\n",
    "        # Solution 1\n",
    "        # - case: current_node <= insertVal <= current_node.next, insert it\n",
    "        # - case: insertVal > max_val, add after max_val\n",
    "        # - case: insertVal < min_val, add after max_val\n",
    "        # - case: every value is the same\n",
    "        # - case: empty list\n",
    "        # Time: O(n)\n",
    "        # Space: O(1) \n",
    "\n",
    "        if not head:\n",
    "            new_node = Node(insertVal, None)\n",
    "            new_node.next = new_node\n",
    "            return new_node\n",
    "\n",
    "        curr = head\n",
    "\n",
    "        while True:\n",
    "            if curr.val <= insertVal <= curr.next.val:\n",
    "                break\n",
    "            \n",
    "            # last element\n",
    "            if curr.val > curr.next.val:\n",
    "                # insertVal > max_val\n",
    "                if curr.val <= insertVal >= curr.next.val:\n",
    "                    break\n",
    "                # insertVal < min_val\n",
    "                elif curr.val >= insertVal <= curr.next.val:\n",
    "                    break\n",
    "            \n",
    "            curr = curr.next\n",
    "\n",
    "            # all elements are equal\n",
    "            if curr == head:\n",
    "                break\n",
    "            \n",
    "        new_node = Node(insertVal)\n",
    "        temp = curr.next\n",
    "        curr.next = new_node\n",
    "        new_node.next = temp\n",
    "        return head\n"
   ]
  },
  {
   "cell_type": "markdown",
   "metadata": {},
   "source": [
    "##### Edge Cases\n",
    "- "
   ]
  },
  {
   "cell_type": "markdown",
   "metadata": {},
   "source": [
    "##### Optimizations\n",
    "- "
   ]
  },
  {
   "cell_type": "markdown",
   "metadata": {},
   "source": [
    "##### Learnings\n",
    "- "
   ]
  }
 ],
 "metadata": {
  "kernelspec": {
   "display_name": "base",
   "language": "python",
   "name": "python3"
  },
  "language_info": {
   "codemirror_mode": {
    "name": "ipython",
    "version": 3
   },
   "file_extension": ".py",
   "mimetype": "text/x-python",
   "name": "python",
   "nbconvert_exporter": "python",
   "pygments_lexer": "ipython3",
   "version": "3.9.7"
  }
 },
 "nbformat": 4,
 "nbformat_minor": 2
}
