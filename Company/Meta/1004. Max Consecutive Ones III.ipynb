{
 "cells": [
  {
   "cell_type": "markdown",
   "metadata": {},
   "source": [
    "[1004. Max Consecutive Ones III](https://leetcode.com/problems/max-consecutive-ones-iii/description/)"
   ]
  },
  {
   "cell_type": "code",
   "execution_count": null,
   "metadata": {},
   "outputs": [],
   "source": [
    "class Solution:\n",
    "    def longestOnes(self, nums: List[int], k: int) -> int:\n",
    "        # Solution 1: Normal Sliding Window\n",
    "        # Time: O(n)\n",
    "        # Space: O(1)\n",
    "        left = 0 \n",
    "        max_len = 0\n",
    "\n",
    "        # for right in range(len(nums)):\n",
    "        #     while nums[right] == 0 and k <= 0:\n",
    "        #         if nums[left] == 0:\n",
    "        #             k += 1\n",
    "        #         left += 1\n",
    "        #     if nums[right] == 0:\n",
    "        #         k -= 1\n",
    "        #     max_len = max(max_len, right - left + 1)\n",
    "\n",
    "        # return max_len\n",
    "\n",
    "        # left: 0,1,2,3,4\n",
    "        # right: 0,1,2,3,4,5\n",
    "        # k: 2,1,0,1,0\n",
    "        # max_len: 1,2,3,4,5\n",
    "\n",
    "        for right in range(len(nums)):\n",
    "            # handle right pointer\n",
    "            if nums[right] == 0:\n",
    "                k -= 1\n",
    "            # shift left pointer\n",
    "            while k < 0:\n",
    "                if nums[left] == 0:\n",
    "                    k += 1\n",
    "                left += 1\n",
    "            max_len = max(max_len, right - left + 1)\n",
    "\n",
    "        return max_len\n",
    "\n",
    "        # for right in range(len(nums)):\n",
    "        #     if nums[right] == 0 and k >= 0:\n",
    "        #         k -= 1\n",
    "        #     if nums[right] == 0 and k < 0:\n",
    "        #         while nums[left] != 0: \n",
    "        #             left += 1\n",
    "        #         left += 1\n",
    "        #         k += 1\n",
    "        #     max_len = max(max_len, right - left + 1)\n",
    "        # return max_len\n",
    "\n",
    "        # Solution 2: Editorial Non-shrinking sliding window\n",
    "        # we don't contract the window since it's not needed and thus save on some computation.\n",
    "        # Time: O(n)\n",
    "        # Space: O(1)\n",
    "        left = 0\n",
    "        for right in range(len(nums)):\n",
    "            # If we included a zero in the window we reduce the value of k.\n",
    "            if nums[right] == 0:\n",
    "                k -= 1\n",
    "\n",
    "            # increment left pointer by 1 to keep the window size same.\n",
    "            if k < 0:\n",
    "                # If the left element to be thrown out is zero we increase k.\n",
    "                if nums[left] == 0:\n",
    "                    k += 1\n",
    "                left += 1\n",
    "        return right - left + 1"
   ]
  },
  {
   "cell_type": "markdown",
   "metadata": {},
   "source": [
    "##### Edge Cases\n",
    "- "
   ]
  },
  {
   "cell_type": "markdown",
   "metadata": {},
   "source": [
    "##### Optimizations\n",
    "- "
   ]
  },
  {
   "cell_type": "markdown",
   "metadata": {},
   "source": [
    "##### Learnings\n",
    "- I initially struggled with multiple ways to implement, but finally found the most clean implementation\n",
    "- Solution 2: We can solve this problem a little more efficiently. Since we have to find the MAXIMUM window, we never reduce the size of the window. We either increase the size of the window or remain same but never reduce the size. Doesn't affect time complexity so i think Solution 1 is sufficient\n",
    "\n"
   ]
  }
 ],
 "metadata": {
  "kernelspec": {
   "display_name": "base",
   "language": "python",
   "name": "python3"
  },
  "language_info": {
   "codemirror_mode": {
    "name": "ipython",
    "version": 3
   },
   "file_extension": ".py",
   "mimetype": "text/x-python",
   "name": "python",
   "nbconvert_exporter": "python",
   "pygments_lexer": "ipython3",
   "version": "3.9.7"
  }
 },
 "nbformat": 4,
 "nbformat_minor": 2
}
