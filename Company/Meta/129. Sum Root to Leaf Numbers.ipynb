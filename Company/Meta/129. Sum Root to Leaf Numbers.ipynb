{
 "cells": [
  {
   "cell_type": "markdown",
   "metadata": {},
   "source": [
    "[129. Sum Root to Leaf Numbers](https://leetcode.com/problems/sum-root-to-leaf-numbers/description/)"
   ]
  },
  {
   "cell_type": "code",
   "execution_count": null,
   "metadata": {},
   "outputs": [],
   "source": [
    "# Definition for a binary tree node.\n",
    "# class TreeNode:\n",
    "#     def __init__(self, val=0, left=None, right=None):\n",
    "#         self.val = val\n",
    "#         self.left = left\n",
    "#         self.right = right\n",
    "class Solution:\n",
    "    def sumNumbers(self, root: Optional[TreeNode]) -> int:\n",
    "        # Solution 1\n",
    "        # - use dfs to store each number\n",
    "        # - add number to total_sum \n",
    "        # Time: O(n)\n",
    "        # Space: O(n) worst case, O(logn) avg for call stack\n",
    "        total_sum = 0 \n",
    "\n",
    "        def dfs(root, cur_num):\n",
    "            nonlocal total_sum\n",
    "\n",
    "            # Base case:\n",
    "            if not root:\n",
    "                # total_sum += cur_num\n",
    "                return\n",
    "            \n",
    "            # Recursive case:\n",
    "            cur_num = cur_num * 10 + root.val\n",
    "            if not (root.left or root.right):\n",
    "                total_sum += cur_num\n",
    "            dfs(root.left, cur_num)\n",
    "            dfs(root.right, cur_num)\n",
    "\n",
    "        dfs(root, 0)\n",
    "        return total_sum\n",
    "            "
   ]
  },
  {
   "cell_type": "markdown",
   "metadata": {},
   "source": [
    "##### Edge Cases\n",
    "- "
   ]
  },
  {
   "cell_type": "markdown",
   "metadata": {},
   "source": [
    "##### Optimizations\n",
    "- "
   ]
  },
  {
   "cell_type": "markdown",
   "metadata": {},
   "source": [
    "##### Learnings\n",
    "- "
   ]
  }
 ],
 "metadata": {
  "kernelspec": {
   "display_name": "base",
   "language": "python",
   "name": "python3"
  },
  "language_info": {
   "codemirror_mode": {
    "name": "ipython",
    "version": 3
   },
   "file_extension": ".py",
   "mimetype": "text/x-python",
   "name": "python",
   "nbconvert_exporter": "python",
   "pygments_lexer": "ipython3",
   "version": "3.9.7"
  }
 },
 "nbformat": 4,
 "nbformat_minor": 2
}
