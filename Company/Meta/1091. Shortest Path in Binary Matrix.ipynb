{
 "cells": [
  {
   "cell_type": "markdown",
   "metadata": {},
   "source": [
    "[1091. Shortest Path in Binary Matrix](https://leetcode.com/problems/shortest-path-in-binary-matrix/description/)"
   ]
  },
  {
   "cell_type": "code",
   "execution_count": null,
   "metadata": {},
   "outputs": [],
   "source": [
    "class Solution:\n",
    "    def shortestPathBinaryMatrix(self, grid: List[List[int]]) -> int:\n",
    "        # Solution 1:\n",
    "        # Time: O(N) where N = num cells in grid = n*n\n",
    "        # Space: O(N)\n",
    "        visited = set()\n",
    "        level = 0\n",
    "\n",
    "        if not grid:\n",
    "            return -1 \n",
    "\n",
    "        ROWS, COLS = len(grid), len(grid[0])\n",
    "\n",
    "        # TODO: check if (0,0) and (n-1, n-1) are 0\n",
    "        if grid[0][0] == 1 or grid[ROWS-1][COLS-1] == 1:\n",
    "            return -1\n",
    "\n",
    "        def bfs(r, c):\n",
    "            nonlocal level\n",
    "            visited.add((r, c))\n",
    "            q = deque([(r, c)])\n",
    "            while q:\n",
    "                level += 1\n",
    "                for i in range(len(q)): # level sweep\n",
    "                    row, col = q.popleft()\n",
    "\n",
    "                    if row == ROWS - 1 and col == COLS - 1:\n",
    "                        return level\n",
    "\n",
    "                    # Check neighbors\n",
    "                    directions = [(1,0), (0,1), (-1,0), (0,-1), (1,1), (1,-1), (-1,1), (-1,-1)]\n",
    "                    for dr, dc in directions:\n",
    "                        new_row = row + dr\n",
    "                        new_col = col + dc\n",
    "                        \n",
    "                        if (new_row >= 0 and new_col >=0 and\n",
    "                            new_row < ROWS and new_col < COLS and\n",
    "                            (new_row, new_col) not in visited and\n",
    "                            grid[new_row][new_col] == 0):\n",
    "                            q.append((new_row, new_col))\n",
    "                            visited.add((new_row, new_col))\n",
    "            return -1\n",
    "\n",
    "        return bfs(0, 0)\n"
   ]
  },
  {
   "cell_type": "markdown",
   "metadata": {},
   "source": [
    "##### Edge Cases\n",
    "- "
   ]
  },
  {
   "cell_type": "markdown",
   "metadata": {},
   "source": [
    "##### Optimizations\n",
    "- "
   ]
  },
  {
   "cell_type": "markdown",
   "metadata": {},
   "source": [
    "##### Learnings\n",
    "- "
   ]
  }
 ],
 "metadata": {
  "kernelspec": {
   "display_name": "base",
   "language": "python",
   "name": "python3"
  },
  "language_info": {
   "codemirror_mode": {
    "name": "ipython",
    "version": 3
   },
   "file_extension": ".py",
   "mimetype": "text/x-python",
   "name": "python",
   "nbconvert_exporter": "python",
   "pygments_lexer": "ipython3",
   "version": "3.9.7"
  }
 },
 "nbformat": 4,
 "nbformat_minor": 2
}
