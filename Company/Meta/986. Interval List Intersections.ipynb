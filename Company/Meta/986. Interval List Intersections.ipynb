{
 "cells": [
  {
   "cell_type": "markdown",
   "metadata": {},
   "source": [
    "[986. Interval List Intersections](https://leetcode.com/problems/interval-list-intersections/description/)"
   ]
  },
  {
   "cell_type": "code",
   "execution_count": null,
   "metadata": {},
   "outputs": [],
   "source": [
    "class Solution:\n",
    "    def intervalIntersection(self, firstList: List[List[int]], secondList: List[List[int]]) -> List[List[int]]:\n",
    "        # # Solution 1: My own effort\n",
    "        # # A[0] vs B[0]\n",
    "        # # Check overlap B0_start < A0_end\n",
    "        # # store the overlap into result\n",
    "        # # iterate the list that has a smaller end value\n",
    "        # # B0 vs A1\n",
    "        # # Check overlap \n",
    "\n",
    "        # # edge cases: if either list is empty\n",
    "        # if not firstList:\n",
    "        #     return secondList\n",
    "        # if not secondList: \n",
    "        #     return firstList\n",
    "        \n",
    "        # if firstList[0][0] < secondList[0][0]:\n",
    "        #     a = firstList\n",
    "        #     b = secondList\n",
    "        # else:\n",
    "        #     a = secondList\n",
    "        #     b = firstList\n",
    "\n",
    "        # i = 0\n",
    "        # j = 0\n",
    "        # result = []\n",
    "        # while i < len(a) and j < len(b):\n",
    "        #     # If overlap\n",
    "        #     if b[j][0] <= a[i][1]:\n",
    "        #         result.append([max(a[i][0], b[j][0]), min(b[j][1], a[i][1]) ])\n",
    "        #     if b[j][1] < a[i][1]:\n",
    "        #         j += 1\n",
    "        #     else:\n",
    "        #         i += 1\n",
    "        # return result\n",
    "\n",
    "        # # Solution 2: Combine lists then iterate\n",
    "        # # Time: O((m+n)log(m+n))\n",
    "        #     # If I take advantage that lists are already sorted, I can \n",
    "        #     # merge 2 sorted lists in O(m+n)\n",
    "        # # Space: O(m+n) \n",
    "        # combinedList = firstList + secondList\n",
    "        # combinedList.sort()\n",
    "        # prev_end = combinedList[0][1]\n",
    "        # result = []\n",
    "\n",
    "        # for start, end in combinedList[1:]:\n",
    "        #     # Check overlap\n",
    "        #     if start <= prev_end:\n",
    "        #         result.append([start, min(prev_end, end)])\n",
    "        #     prev_end = max(prev_end, end)\n",
    "        # return result\n",
    "\n",
    "        # Solution 3: Editorial\n",
    "        # - similar idea to solution 1 but I don't care which interval is \"first\"\n",
    "        # Time: O(m+n)\n",
    "        # Space: O(m+n) \n",
    "        i = 0\n",
    "        j = 0\n",
    "        result = []\n",
    "        while i < len(firstList) and j < len(secondList):\n",
    "            lo = max(firstList[i][0], secondList[j][0])\n",
    "            hi = min(firstList[i][1], secondList[j][1])\n",
    "            # If overlap\n",
    "            if lo <= hi:\n",
    "                result.append([lo, hi])\n",
    "            \n",
    "            # Increment list with lower endpoint\n",
    "            if secondList[j][1] < firstList[i][1]:\n",
    "                j += 1\n",
    "            else:\n",
    "                i += 1\n",
    "            \n",
    "        return result\n"
   ]
  },
  {
   "cell_type": "markdown",
   "metadata": {},
   "source": [
    "##### Edge Cases\n",
    "- "
   ]
  },
  {
   "cell_type": "markdown",
   "metadata": {},
   "source": [
    "##### Optimizations\n",
    "- "
   ]
  },
  {
   "cell_type": "markdown",
   "metadata": {},
   "source": [
    "##### Learnings\n",
    "- "
   ]
  }
 ],
 "metadata": {
  "kernelspec": {
   "display_name": "base",
   "language": "python",
   "name": "python3"
  },
  "language_info": {
   "codemirror_mode": {
    "name": "ipython",
    "version": 3
   },
   "file_extension": ".py",
   "mimetype": "text/x-python",
   "name": "python",
   "nbconvert_exporter": "python",
   "pygments_lexer": "ipython3",
   "version": "3.9.7"
  }
 },
 "nbformat": 4,
 "nbformat_minor": 2
}
