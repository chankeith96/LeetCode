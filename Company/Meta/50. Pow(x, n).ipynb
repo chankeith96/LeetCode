{
 "cells": [
  {
   "cell_type": "markdown",
   "metadata": {},
   "source": [
    "[50. Pow(x, n)](https://leetcode.com/problems/powx-n/description/)"
   ]
  },
  {
   "cell_type": "code",
   "execution_count": null,
   "metadata": {},
   "outputs": [],
   "source": [
    "class Solution:\n",
    "    def myPow(self, x: float, n: int) -> float:\n",
    "        # # Solution 1: Brute force\n",
    "        # # Time: O(n)\n",
    "        # # Space: O(1)\n",
    "        # currentNum = x\n",
    "        # abs_n = abs(n)\n",
    "\n",
    "        # if n == 0:\n",
    "        #     return 1.0\n",
    "\n",
    "        # for i in range(abs_n - 1):\n",
    "        #     currentNum *= x\n",
    "\n",
    "        # if n < 0: \n",
    "        #     result = 1 / currentNum\n",
    "        # else:\n",
    "        #     result = currentNum\n",
    "        # return result\n",
    "\n",
    "        # # Solution 2: Brute force - Recursion\n",
    "        # # Time: O(n)\n",
    "        # # Space: O(n)\n",
    "        \n",
    "        # # Base case\n",
    "        # if n == 0:\n",
    "        #     return 1.0\n",
    "        # if n < 0: \n",
    "        #     return 1 / self.myPow(x, -n)\n",
    "        # return x * self.myPow(x, n-1)\n",
    "\n",
    "        # Solution 3: Binary Exponentiation - Recursion\n",
    "        # Time: O(logn)\n",
    "        # Space: O(logn)\n",
    "        \n",
    "        # Base case\n",
    "        if n == 0:\n",
    "            return 1.0\n",
    "        if n < 0: \n",
    "            return 1 / self.myPow(x, -1 * n)\n",
    "            \n",
    "        if n % 2 == 0:\n",
    "            return self.myPow(x * x, n//2)\n",
    "        else:\n",
    "            return x * self.myPow(x*x, (n - 1) // 2)"
   ]
  },
  {
   "cell_type": "markdown",
   "metadata": {},
   "source": [
    "##### Edge Cases\n",
    "- "
   ]
  },
  {
   "cell_type": "markdown",
   "metadata": {},
   "source": [
    "##### Optimizations\n",
    "- "
   ]
  },
  {
   "cell_type": "markdown",
   "metadata": {},
   "source": [
    "##### Learnings\n",
    "- "
   ]
  }
 ],
 "metadata": {
  "kernelspec": {
   "display_name": "base",
   "language": "python",
   "name": "python3"
  },
  "language_info": {
   "codemirror_mode": {
    "name": "ipython",
    "version": 3
   },
   "file_extension": ".py",
   "mimetype": "text/x-python",
   "name": "python",
   "nbconvert_exporter": "python",
   "pygments_lexer": "ipython3",
   "version": "3.9.7"
  }
 },
 "nbformat": 4,
 "nbformat_minor": 2
}
