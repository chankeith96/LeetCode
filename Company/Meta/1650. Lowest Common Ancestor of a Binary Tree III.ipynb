{
 "cells": [
  {
   "cell_type": "markdown",
   "metadata": {},
   "source": [
    "[1650. Lowest Common Ancestor of a Binary Tree III](https://leetcode.com/problems/lowest-common-ancestor-of-a-binary-tree-iii/description/)"
   ]
  },
  {
   "cell_type": "code",
   "execution_count": null,
   "metadata": {},
   "outputs": [],
   "source": [
    "\"\"\"\n",
    "# Definition for a Node.\n",
    "class Node:\n",
    "    def __init__(self, val):\n",
    "        self.val = val\n",
    "        self.left = None\n",
    "        self.right = None\n",
    "        self.parent = None\n",
    "\"\"\"\n",
    "\n",
    "class Solution:\n",
    "    def lowestCommonAncestor(self, p: 'Node', q: 'Node') -> 'Node':\n",
    "        # # Solution 1: hashset\n",
    "        # # Time: O(n) \n",
    "        # # Space: O(n) \n",
    "\n",
    "        # visit = set()\n",
    "\n",
    "        # node = p\n",
    "        # while node:\n",
    "        #     visit.add(node.val) \n",
    "        #     node = node.parent\n",
    "        \n",
    "        # node = q\n",
    "        # while node:\n",
    "        #     if node.val in visit:\n",
    "        #         return node\n",
    "        #     node = node.parent\n",
    "\n",
    "        # Solution 2: common starting depth\n",
    "        # Time: O(n) \n",
    "        # Space: O(1) \n",
    "\n",
    "        def distToTop(node):\n",
    "            depth = 0 \n",
    "            while node:\n",
    "                depth += 1\n",
    "                node = node.parent\n",
    "            return depth\n",
    "        \n",
    "        p_depth = distToTop(p)\n",
    "        q_depth = distToTop(q)\n",
    "\n",
    "        # Take the lower node and traverse upwards until even with other node\n",
    "        while p_depth != q_depth:\n",
    "            if p_depth > q_depth:\n",
    "                p = p.parent\n",
    "                p_depth -= 1\n",
    "            else:\n",
    "                q = q.parent\n",
    "                q_depth -= 1\n",
    "        \n",
    "        # p & q are on same level, traverse both upwards until LCA\n",
    "        while p.val != q.val:\n",
    "            p = p.parent\n",
    "            q = q.parent\n",
    "        return p"
   ]
  },
  {
   "cell_type": "markdown",
   "metadata": {},
   "source": [
    "##### Edge Cases\n",
    "- "
   ]
  },
  {
   "cell_type": "markdown",
   "metadata": {},
   "source": [
    "##### Optimizations\n",
    "- "
   ]
  },
  {
   "cell_type": "markdown",
   "metadata": {},
   "source": [
    "##### Learnings\n",
    "- "
   ]
  }
 ],
 "metadata": {
  "kernelspec": {
   "display_name": "base",
   "language": "python",
   "name": "python3"
  },
  "language_info": {
   "codemirror_mode": {
    "name": "ipython",
    "version": 3
   },
   "file_extension": ".py",
   "mimetype": "text/x-python",
   "name": "python",
   "nbconvert_exporter": "python",
   "pygments_lexer": "ipython3",
   "version": "3.9.7"
  }
 },
 "nbformat": 4,
 "nbformat_minor": 2
}
