{
 "cells": [
  {
   "cell_type": "markdown",
   "metadata": {},
   "source": [
    "[173. Binary Search Tree Iterator](https://leetcode.com/problems/binary-search-tree-iterator/description/)"
   ]
  },
  {
   "cell_type": "code",
   "execution_count": null,
   "metadata": {},
   "outputs": [],
   "source": [
    "# Definition for a binary tree node.\n",
    "# class TreeNode:\n",
    "#     def __init__(self, val=0, left=None, right=None):\n",
    "#         self.val = val\n",
    "#         self.left = left\n",
    "#         self.right = right\n",
    "class BSTIterator:\n",
    "    # Solution 1: Brute Force - Recursive in-order DFS and store in flat array\n",
    "    # Time: O(n)\n",
    "    # Space: O(n)\n",
    "    \n",
    "    # Solution 2: Iterative DFS using stack\n",
    "    # Time: O(n)\n",
    "    # Space: O(logn) avg, n worst\n",
    "    def __init__(self, root: Optional[TreeNode]):\n",
    "        self.stack = []\n",
    "        node = root\n",
    "        self._process_left_branch(node)\n",
    "    \n",
    "    def _process_left_branch(self, node):\n",
    "        # Process left subtree\n",
    "        while node:\n",
    "            self.stack.append(node)\n",
    "            node = node.left\n",
    "\n",
    "    def next(self) -> int:\n",
    "        '''pop from stack and add right subtree to stack'''\n",
    "        next_node = self.stack.pop()\n",
    "\n",
    "        # process right subtree\n",
    "        if next_node.right:\n",
    "            self._process_left_branch(next_node.right)\n",
    "\n",
    "        return next_node.val\n",
    "\n",
    "    def hasNext(self) -> bool:\n",
    "        '''look at stack is empty or not'''\n",
    "        if self.stack:\n",
    "            return True\n",
    "        return False\n",
    "\n",
    "\n",
    "# Your BSTIterator object will be instantiated and called as such:\n",
    "# obj = BSTIterator(root)\n",
    "# param_1 = obj.next()\n",
    "# param_2 = obj.hasNext()"
   ]
  },
  {
   "cell_type": "markdown",
   "metadata": {},
   "source": [
    "##### Edge Cases\n",
    "- "
   ]
  },
  {
   "cell_type": "markdown",
   "metadata": {},
   "source": [
    "##### Optimizations\n",
    "- "
   ]
  },
  {
   "cell_type": "markdown",
   "metadata": {},
   "source": [
    "##### Learnings\n",
    "- "
   ]
  }
 ],
 "metadata": {
  "kernelspec": {
   "display_name": "base",
   "language": "python",
   "name": "python3"
  },
  "language_info": {
   "codemirror_mode": {
    "name": "ipython",
    "version": 3
   },
   "file_extension": ".py",
   "mimetype": "text/x-python",
   "name": "python",
   "nbconvert_exporter": "python",
   "pygments_lexer": "ipython3",
   "version": "3.9.7"
  }
 },
 "nbformat": 4,
 "nbformat_minor": 2
}
