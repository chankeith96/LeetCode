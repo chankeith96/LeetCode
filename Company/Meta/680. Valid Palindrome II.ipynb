{
 "cells": [
  {
   "cell_type": "markdown",
   "metadata": {},
   "source": [
    "[680. Valid Palindrome II](https://leetcode.com/problems/valid-palindrome-ii/description/)"
   ]
  },
  {
   "cell_type": "code",
   "execution_count": null,
   "metadata": {},
   "outputs": [],
   "source": [
    "class Solution:\n",
    "    def validPalindrome(self, s: str) -> bool:\n",
    "        # Solution 1:\n",
    "        # case 1: if a palindrome --> return True\n",
    "        # if not palidrome, then need to check if can delete one char\n",
    "            # remove left and right chars until they're different\n",
    "            # check both options - if deleting left char or right char leaves valid palindrome\n",
    "        # Time: O(n)\n",
    "        # Space: O(1) \n",
    "\n",
    "        def isValid(s, i, j): # O(n)\n",
    "            while i < j:\n",
    "                if s[i] != s[j]:\n",
    "                    return False\n",
    "                i += 1\n",
    "                j -= 1\n",
    "            return True\n",
    "        \n",
    "        left = 0\n",
    "        right = len(s) - 1\n",
    "\n",
    "        # if isValid(s, left, right): # O(n)\n",
    "        #     return True\n",
    "        # else:\n",
    "        #     while s[left] == s[right]: # O(n)\n",
    "        #         left += 1\n",
    "        #         right -= 1\n",
    "        # if isValid(s, left+1, right) or isValid(s, left, right-1):\n",
    "        #     return True\n",
    "        # return False\n",
    "\n",
    "        while left <= right: \n",
    "            if s[left] != s[right]: # mismatch \n",
    "                return isValid(s, left, right-1) or isValid(s, left+1, right)\n",
    "            left += 1\n",
    "            right -= 1\n",
    "        return True "
   ]
  },
  {
   "cell_type": "markdown",
   "metadata": {},
   "source": [
    "##### Edge Cases\n",
    "- "
   ]
  },
  {
   "cell_type": "markdown",
   "metadata": {},
   "source": [
    "##### Optimizations\n",
    "- I realized I didn't need to check if s is already a palindrome (commented out code) "
   ]
  },
  {
   "cell_type": "markdown",
   "metadata": {},
   "source": [
    "##### Learnings\n",
    "- Follow up question on a Meta phone screen was asked to explain how I will extend this to work for n changes. Call this function recursively with a counter."
   ]
  }
 ],
 "metadata": {
  "kernelspec": {
   "display_name": "base",
   "language": "python",
   "name": "python3"
  },
  "language_info": {
   "codemirror_mode": {
    "name": "ipython",
    "version": 3
   },
   "file_extension": ".py",
   "mimetype": "text/x-python",
   "name": "python",
   "nbconvert_exporter": "python",
   "pygments_lexer": "ipython3",
   "version": "3.9.7"
  }
 },
 "nbformat": 4,
 "nbformat_minor": 2
}
