{
 "cells": [
  {
   "cell_type": "markdown",
   "metadata": {},
   "source": [
    "[146. LRU Cache](https://leetcode.com/problems/lru-cache/description/)"
   ]
  },
  {
   "cell_type": "code",
   "execution_count": null,
   "metadata": {},
   "outputs": [],
   "source": [
    "class ListNode:\n",
    "    def __init__(self, key, val):\n",
    "        self.key = key\n",
    "        self.val = val\n",
    "        self.next = None\n",
    "        self.prev = None\n",
    "\n",
    "\n",
    "class LRUCache:\n",
    "\n",
    "    def __init__(self, capacity: int):\n",
    "        self.capacity = capacity\n",
    "        self.dic = {}\n",
    "        self.head = ListNode(-1, -1)\n",
    "        self.tail = ListNode(-1, -1)\n",
    "        self.head.next = self.tail\n",
    "        self.tail.prev = self.head\n",
    "\n",
    "    def get(self, key: int) -> int:\n",
    "        if key not in self.dic:\n",
    "            return -1\n",
    "        \n",
    "        node = self.dic[key]\n",
    "        self.remove(node)\n",
    "        self.add(node) \n",
    "        return node.val\n",
    "\n",
    "    def put(self, key: int, value: int) -> None:\n",
    "        if key in self.dic:\n",
    "            node = self.dic[key]\n",
    "            self.remove(node) \n",
    "            node.val = value\n",
    "            self.add(node) \n",
    "        else:\n",
    "            node = ListNode(key, value)\n",
    "            self.dic[key] = node\n",
    "            self.add(node)\n",
    "        if len(self.dic) > self.capacity:   \n",
    "            self.dic.pop(self.head.next.key)\n",
    "            self.remove(self.head.next)\n",
    "\n",
    "    def add(self, node):\n",
    "        '''add node to end of linked list''' \n",
    "        # previous_end = self.tail.prev\n",
    "        self.tail.prev.next = node\n",
    "        node.prev = self.tail.prev\n",
    "        node.next = self.tail\n",
    "        self.tail.prev = node\n",
    "\n",
    "    def remove(self, node):\n",
    "        '''remove node from linked list'''\n",
    "        node.prev.next = node.next\n",
    "        node.next.prev = node.prev\n",
    "\n",
    "# Your LRUCache object will be instantiated and called as such:\n",
    "# obj = LRUCache(capacity)\n",
    "# param_1 = obj.get(key)\n",
    "# obj.put(key,value)"
   ]
  },
  {
   "cell_type": "markdown",
   "metadata": {},
   "source": [
    "##### Edge Cases\n",
    "- "
   ]
  },
  {
   "cell_type": "markdown",
   "metadata": {},
   "source": [
    "##### Optimizations\n",
    "- "
   ]
  },
  {
   "cell_type": "markdown",
   "metadata": {},
   "source": [
    "##### Learnings\n",
    "- The Editorial description is nice to explain thought process behind using hashmap + doubly linked list.\n",
    "- Remember to use \"sentinel\" (aka dummy) nodes for head and tail. "
   ]
  }
 ],
 "metadata": {
  "kernelspec": {
   "display_name": "base",
   "language": "python",
   "name": "python3"
  },
  "language_info": {
   "codemirror_mode": {
    "name": "ipython",
    "version": 3
   },
   "file_extension": ".py",
   "mimetype": "text/x-python",
   "name": "python",
   "nbconvert_exporter": "python",
   "pygments_lexer": "ipython3",
   "version": "3.9.7"
  }
 },
 "nbformat": 4,
 "nbformat_minor": 2
}
