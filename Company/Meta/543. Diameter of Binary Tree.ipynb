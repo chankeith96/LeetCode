{
 "cells": [
  {
   "cell_type": "markdown",
   "metadata": {},
   "source": [
    "[543. Diameter of Binary Tree](https://leetcode.com/problems/diameter-of-binary-tree/description/)"
   ]
  },
  {
   "cell_type": "code",
   "execution_count": null,
   "metadata": {},
   "outputs": [],
   "source": [
    "# Definition for a binary tree node.\n",
    "# class TreeNode:\n",
    "#     def __init__(self, val=0, left=None, right=None):\n",
    "#         self.val = val\n",
    "#         self.left = left\n",
    "#         self.right = right\n",
    "class Solution:\n",
    "    def diameterOfBinaryTree(self, root: Optional[TreeNode]) -> int:\n",
    "        # Time: O(n)\n",
    "        # Space: O(logn) avg, O(n) worst case\n",
    "\n",
    "        diameter = 0\n",
    "\n",
    "        def helper(node): \n",
    "            nonlocal diameter \n",
    "\n",
    "            # Base case\n",
    "            if not node:\n",
    "                return 0\n",
    "\n",
    "            # Recursive case\n",
    "            leftPath = helper(node.left)\n",
    "            rightPath = helper(node.right)\n",
    "            diameter = max(diameter, leftPath + rightPath)\n",
    "            return 1 + max(leftPath, rightPath)\n",
    "\n",
    "        helper(root)\n",
    "        return diameter"
   ]
  },
  {
   "cell_type": "markdown",
   "metadata": {},
   "source": [
    "##### Edge Cases\n",
    "- "
   ]
  },
  {
   "cell_type": "markdown",
   "metadata": {},
   "source": [
    "##### Optimizations\n",
    "- "
   ]
  },
  {
   "cell_type": "markdown",
   "metadata": {},
   "source": [
    "##### Learnings\n",
    "- "
   ]
  }
 ],
 "metadata": {
  "kernelspec": {
   "display_name": "base",
   "language": "python",
   "name": "python3"
  },
  "language_info": {
   "codemirror_mode": {
    "name": "ipython",
    "version": 3
   },
   "file_extension": ".py",
   "mimetype": "text/x-python",
   "name": "python",
   "nbconvert_exporter": "python",
   "pygments_lexer": "ipython3",
   "version": "3.9.7"
  }
 },
 "nbformat": 4,
 "nbformat_minor": 2
}
