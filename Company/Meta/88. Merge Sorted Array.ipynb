{
 "cells": [
  {
   "cell_type": "markdown",
   "metadata": {},
   "source": [
    "[88. Merge Sorted Array](https://leetcode.com/problems/merge-sorted-array/description/)"
   ]
  },
  {
   "cell_type": "code",
   "execution_count": null,
   "metadata": {},
   "outputs": [],
   "source": [
    "class Solution:\n",
    "    def merge(self, nums1: List[int], m: int, nums2: List[int], n: int) -> None:\n",
    "        \"\"\"\n",
    "        Do not return anything, modify nums1 in-place instead.\n",
    "        \"\"\"\n",
    "        # # Solution 1: merge lists, then sort\n",
    "        # # Time: O( (m+n)log(m+n) )\n",
    "        # # Space: O(m+n) bc .sort() is O(n) space complexity\n",
    "        # nums1[m:] = nums2\n",
    "        # nums1.sort()\n",
    "\n",
    "        # # Solution 2: two read pointers and 1 write pointer\n",
    "        # # Time: O(m+n)\n",
    "        # # Space: O(m)\n",
    "        # p1 = 0\n",
    "        # p2 = 0 \n",
    "        # w = 0\n",
    "        # nums1_copy = nums1[:m]\n",
    "\n",
    "        # for w in range(m + n):\n",
    "        #     if (p1 < m and p2 < n) and nums1_copy[p1] < nums2[p2]:\n",
    "        #         nums1[w] = nums1_copy[p1]\n",
    "        #         p1 += 1\n",
    "        #     elif (p1 < m and p2 < n) and nums1_copy[p1] >= nums2[p2]:\n",
    "        #         nums1[w] = nums2[p2]\n",
    "        #         p2 += 1\n",
    "        #     elif (p1 < m and p2 >= n):\n",
    "        #         nums1[w] = nums1_copy[p1]\n",
    "        #         p1 += 1\n",
    "        #     else:\n",
    "        #         nums1[w] = nums2[p2]\n",
    "        #         p2 += 1\n",
    "        #     w += 1\n",
    "\n",
    "        # Solution 3: Work backwards\n",
    "        # Time: O(m+n)\n",
    "        # Space: O(m)\n",
    "        p1 = m - 1\n",
    "        p2 = n - 1\n",
    "    \n",
    "        for p in range(n + m - 1, -1, -1):\n",
    "            if p2 < 0:\n",
    "                break\n",
    "            if p1 >= 0 and nums1[p1] > nums2[p2]:\n",
    "                nums1[p] = nums1[p1]\n",
    "                p1 -= 1\n",
    "            else:\n",
    "                nums1[p] = nums2[p2]\n",
    "                p2 -= 1\n",
    "                "
   ]
  },
  {
   "cell_type": "markdown",
   "metadata": {},
   "source": [
    "##### Edge Cases\n",
    "- "
   ]
  },
  {
   "cell_type": "markdown",
   "metadata": {},
   "source": [
    "##### Optimizations\n",
    "- "
   ]
  },
  {
   "cell_type": "markdown",
   "metadata": {},
   "source": [
    "##### Learnings\n",
    "- Tip: Whenever you're trying to solve an array problem in place, always consider the possibility of iterating backwards instead of forwards through the array. It can completely change the problem, and make it a lot easier."
   ]
  }
 ],
 "metadata": {
  "kernelspec": {
   "display_name": "base",
   "language": "python",
   "name": "python3"
  },
  "language_info": {
   "codemirror_mode": {
    "name": "ipython",
    "version": 3
   },
   "file_extension": ".py",
   "mimetype": "text/x-python",
   "name": "python",
   "nbconvert_exporter": "python",
   "pygments_lexer": "ipython3",
   "version": "3.9.7"
  }
 },
 "nbformat": 4,
 "nbformat_minor": 2
}
