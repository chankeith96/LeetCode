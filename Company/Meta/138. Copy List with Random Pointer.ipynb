{
 "cells": [
  {
   "cell_type": "markdown",
   "metadata": {},
   "source": [
    "[138. Copy List with Random Pointer](https://leetcode.com/problems/copy-list-with-random-pointer/description/)"
   ]
  },
  {
   "cell_type": "code",
   "execution_count": null,
   "metadata": {},
   "outputs": [],
   "source": [
    "\"\"\"\n",
    "# Definition for a Node.\n",
    "class Node:\n",
    "    def __init__(self, x: int, next: 'Node' = None, random: 'Node' = None):\n",
    "        self.val = int(x)\n",
    "        self.next = next\n",
    "        self.random = random\n",
    "\"\"\"\n",
    "\n",
    "class Solution:\n",
    "    def copyRandomList(self, head: 'Optional[Node]') -> 'Optional[Node]':\n",
    "        # - create hashmap of OG node to copy node\n",
    "        # - at each node, create copy node if not exist.\n",
    "        # - go to node.next. Again create copy node if not exist. Repeat for entire linked list\n",
    "        # - iterate through LL again to set copynode.next and copynode.random\n",
    "        # - \n",
    "        # Time: O(n) \n",
    "        # Space: O(n)\n",
    "        old_to_new = {}\n",
    "        old_to_new[None] = None\n",
    "        node = head\n",
    "\n",
    "        while node:\n",
    "            if node not in old_to_new: \n",
    "                old_to_new[node] = Node(node.val, node.next, node.random)\n",
    "            node = node.next\n",
    "            \n",
    "        node = head\n",
    "        while node:\n",
    "            old_to_new[node].next = old_to_new[node.next]\n",
    "            old_to_new[node].random = old_to_new[node.random]\n",
    "            node = node.next\n",
    "        return old_to_new[head]\n",
    "\n",
    "        "
   ]
  },
  {
   "cell_type": "markdown",
   "metadata": {},
   "source": [
    "##### Edge Cases\n",
    "- "
   ]
  },
  {
   "cell_type": "markdown",
   "metadata": {},
   "source": [
    "##### Optimizations\n",
    "- "
   ]
  },
  {
   "cell_type": "markdown",
   "metadata": {},
   "source": [
    "##### Learnings\n",
    "- "
   ]
  }
 ],
 "metadata": {
  "kernelspec": {
   "display_name": "base",
   "language": "python",
   "name": "python3"
  },
  "language_info": {
   "codemirror_mode": {
    "name": "ipython",
    "version": 3
   },
   "file_extension": ".py",
   "mimetype": "text/x-python",
   "name": "python",
   "nbconvert_exporter": "python",
   "pygments_lexer": "ipython3",
   "version": "3.9.7"
  }
 },
 "nbformat": 4,
 "nbformat_minor": 2
}
