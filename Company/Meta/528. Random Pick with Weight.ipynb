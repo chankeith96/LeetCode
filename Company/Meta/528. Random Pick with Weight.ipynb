{
 "cells": [
  {
   "cell_type": "markdown",
   "metadata": {},
   "source": [
    "[528. Random Pick with Weight](https://leetcode.com/problems/random-pick-with-weight/description/)"
   ]
  },
  {
   "cell_type": "code",
   "execution_count": null,
   "metadata": {},
   "outputs": [],
   "source": [
    "import random\n",
    "class Solution:\n",
    "\n",
    "    def __init__(self, w: List[int]):\n",
    "        # Solution 1: prefix sum\n",
    "        # Time: O(n)\n",
    "        # Space: O(n)\n",
    "        self.cum_sum = []\n",
    "        pre_sum = 0\n",
    "        for num in w:\n",
    "            pre_sum = pre_sum + num\n",
    "            self.cum_sum.append(pre_sum)\n",
    "\n",
    "        self.total_sum = pre_sum \n",
    "\n",
    "    def pickIndex(self) -> int:\n",
    "        # # Solution 1: linear search\n",
    "        # # Time: O(n)\n",
    "        # # Space: O(1)\n",
    "        # target = random.random() * self.total_sum\n",
    "        # for i in range(len(self.cum_sum)):\n",
    "        #     if self.cum_sum[i] > target:\n",
    "        #         return i\n",
    "        \n",
    "        # Solution 2: Binary search (since cum_sum is sorted)\n",
    "        # Time: O(n)\n",
    "        # Space: O(1)\n",
    "        target = random.random() * self.total_sum\n",
    "        low, high = 0, len(self.cum_sum)\n",
    "        while low < high:\n",
    "            mid = low + (high - low) // 2\n",
    "            if target > self.cum_sum[mid]:\n",
    "                low = mid + 1\n",
    "            else:\n",
    "                high = mid\n",
    "        return low\n",
    "# Your Solution object will be instantiated and called as such:\n",
    "# obj = Solution(w)\n",
    "# param_1 = obj.pickIndex()"
   ]
  },
  {
   "cell_type": "markdown",
   "metadata": {},
   "source": [
    "##### Edge Cases\n",
    "- "
   ]
  },
  {
   "cell_type": "markdown",
   "metadata": {},
   "source": [
    "##### Optimizations\n",
    "- "
   ]
  },
  {
   "cell_type": "markdown",
   "metadata": {},
   "source": [
    "##### Learnings\n",
    "- The Editorial pointed me to the Leetcode [Explore card of Binary Search algorithm](https://leetcode.com/explore/learn/card/binary-search/126/template-ii/937/) which was really helpful to understand the different Binary Search templates."
   ]
  },
  {
   "cell_type": "markdown",
   "metadata": {},
   "source": []
  }
 ],
 "metadata": {
  "kernelspec": {
   "display_name": "base",
   "language": "python",
   "name": "python3"
  },
  "language_info": {
   "codemirror_mode": {
    "name": "ipython",
    "version": 3
   },
   "file_extension": ".py",
   "mimetype": "text/x-python",
   "name": "python",
   "nbconvert_exporter": "python",
   "pygments_lexer": "ipython3",
   "version": "3.9.7"
  }
 },
 "nbformat": 4,
 "nbformat_minor": 2
}
