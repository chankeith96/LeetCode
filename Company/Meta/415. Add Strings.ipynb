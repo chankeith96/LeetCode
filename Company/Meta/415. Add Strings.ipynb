{
 "cells": [
  {
   "cell_type": "markdown",
   "metadata": {},
   "source": [
    "[415. Add Strings](https://leetcode.com/problems/add-strings/description/)"
   ]
  },
  {
   "cell_type": "code",
   "execution_count": null,
   "metadata": {},
   "outputs": [],
   "source": [
    "class Solution:\n",
    "    def addStrings(self, num1: str, num2: str) -> str:\n",
    "        # Solution 1: \n",
    "        # Time: O(max(n1, n2))\n",
    "        # Space: O(max(n1, n2))\n",
    "        res = []\n",
    "        carry = 0\n",
    "        p1 = len(num1) - 1\n",
    "        p2 = len(num2) - 1\n",
    "\n",
    "        while p1 >= 0 or p2 >= 0:\n",
    "            if p1 < 0:\n",
    "                x1 = 0\n",
    "            else:\n",
    "                x1 = int(num1[p1])\n",
    "            if p2 < 0:\n",
    "                x2 = 0\n",
    "            else: \n",
    "                x2 = int(num2[p2])\n",
    "            \n",
    "            res.append((x1 + x2 + carry) % 10)\n",
    "            carry = (x1 + x2 + carry) // 10\n",
    "\n",
    "            p1 -= 1\n",
    "            p2 -= 1\n",
    "\n",
    "        if carry:\n",
    "            res.append(carry)\n",
    "        return \"\".join([str(x) for x in res[::-1]])"
   ]
  },
  {
   "cell_type": "markdown",
   "metadata": {},
   "source": [
    "##### Edge Cases\n",
    "- "
   ]
  },
  {
   "cell_type": "markdown",
   "metadata": {},
   "source": [
    "##### Optimizations\n",
    "- "
   ]
  },
  {
   "cell_type": "markdown",
   "metadata": {},
   "source": [
    "##### Learnings\n",
    "- "
   ]
  }
 ],
 "metadata": {
  "kernelspec": {
   "display_name": "base",
   "language": "python",
   "name": "python3"
  },
  "language_info": {
   "codemirror_mode": {
    "name": "ipython",
    "version": 3
   },
   "file_extension": ".py",
   "mimetype": "text/x-python",
   "name": "python",
   "nbconvert_exporter": "python",
   "pygments_lexer": "ipython3",
   "version": "3.9.7"
  }
 },
 "nbformat": 4,
 "nbformat_minor": 2
}
