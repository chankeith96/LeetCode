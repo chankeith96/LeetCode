{
 "cells": [
  {
   "cell_type": "markdown",
   "metadata": {},
   "source": [
    "[249. Group Shifted Strings](https://leetcode.com/problems/group-shifted-strings/description/)"
   ]
  },
  {
   "cell_type": "code",
   "execution_count": null,
   "metadata": {},
   "outputs": [],
   "source": [
    "class Solution:\n",
    "    def groupStrings(self, strings: List[str]) -> List[List[str]]:\n",
    "        # Time: O(n*k) \n",
    "        # Space: O(n*k)\n",
    "        key_to_group = {}\n",
    "        for string in strings: #O(n)\n",
    "            shift = ord(string[0])\n",
    "            hash_key = []\n",
    "            for c in string: # O(k)\n",
    "                hash_key.append(chr((ord(c) - shift) % 26 + ord('a'))) \n",
    "            hash_key = \"\".join(hash_key)\n",
    "            key_to_group[hash_key] = key_to_group.get(hash_key, [])\n",
    "            key_to_group[hash_key].append(string)\n",
    "            \n",
    "        return list(key_to_group.values())"
   ]
  },
  {
   "cell_type": "markdown",
   "metadata": {},
   "source": [
    "##### Edge Cases\n",
    "- "
   ]
  },
  {
   "cell_type": "markdown",
   "metadata": {},
   "source": [
    "##### Optimizations\n",
    "- "
   ]
  },
  {
   "cell_type": "markdown",
   "metadata": {},
   "source": [
    "##### Learnings\n",
    "- "
   ]
  }
 ],
 "metadata": {
  "kernelspec": {
   "display_name": "base",
   "language": "python",
   "name": "python3"
  },
  "language_info": {
   "codemirror_mode": {
    "name": "ipython",
    "version": 3
   },
   "file_extension": ".py",
   "mimetype": "text/x-python",
   "name": "python",
   "nbconvert_exporter": "python",
   "pygments_lexer": "ipython3",
   "version": "3.9.7"
  }
 },
 "nbformat": 4,
 "nbformat_minor": 2
}
