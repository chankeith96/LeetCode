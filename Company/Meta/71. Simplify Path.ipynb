{
 "cells": [
  {
   "cell_type": "markdown",
   "metadata": {},
   "source": [
    "[71. Simplify Path](https://leetcode.com/problems/simplify-path/description/)"
   ]
  },
  {
   "cell_type": "code",
   "execution_count": null,
   "metadata": {},
   "outputs": [],
   "source": [
    "class Solution:\n",
    "    def simplifyPath(self, path: str) -> str:\n",
    "        # \"/home//../\"  -->>> [\"\", \"home\", \"\", \"..\"]\n",
    "        # \"/\"\n",
    "\n",
    "        # Time: O(n)\n",
    "        # Space: O(n)\n",
    "\n",
    "        stack = []\n",
    "        path_list = path.split(\"/\") # O(n)\n",
    "\n",
    "        for obj in path_list: #O(n)\n",
    "            if obj == \"\" or obj == \".\":\n",
    "                continue\n",
    "            elif obj == \"..\":\n",
    "                if stack:\n",
    "                    stack.pop()\n",
    "            else:\n",
    "                stack.append(obj) #stack =[\"home\", \"foo\"]\n",
    "        \n",
    "        return \"/\" + \"/\".join(stack)\n"
   ]
  },
  {
   "cell_type": "markdown",
   "metadata": {},
   "source": [
    "##### Edge Cases\n",
    "- "
   ]
  },
  {
   "cell_type": "markdown",
   "metadata": {},
   "source": [
    "##### Optimizations\n",
    "- "
   ]
  },
  {
   "cell_type": "markdown",
   "metadata": {},
   "source": [
    "##### Learnings\n",
    "- "
   ]
  }
 ],
 "metadata": {
  "kernelspec": {
   "display_name": "base",
   "language": "python",
   "name": "python3"
  },
  "language_info": {
   "codemirror_mode": {
    "name": "ipython",
    "version": 3
   },
   "file_extension": ".py",
   "mimetype": "text/x-python",
   "name": "python",
   "nbconvert_exporter": "python",
   "pygments_lexer": "ipython3",
   "version": "3.9.7"
  }
 },
 "nbformat": 4,
 "nbformat_minor": 2
}
