{
 "cells": [
  {
   "cell_type": "markdown",
   "metadata": {},
   "source": [
    "[636. Exclusive Time of Functions](https://leetcode.com/problems/exclusive-time-of-functions/description/)"
   ]
  },
  {
   "cell_type": "code",
   "execution_count": null,
   "metadata": {},
   "outputs": [],
   "source": [
    "class Solution:\n",
    "    def exclusiveTime(self, n: int, logs: List[str]) -> List[int]:\n",
    "        # Solution 1 \n",
    "        # Time: O(n)\n",
    "        # Space: O(n)\n",
    "        stack = []\n",
    "        ans = [0] * n\n",
    "\n",
    "        for log in logs:\n",
    "            log_id, action, timestamp = log.split(\":\")\n",
    "            log_id, timestamp = int(log_id), int(timestamp)\n",
    "\n",
    "            if action == 'start':\n",
    "                if stack: \n",
    "                    ans[stack[-1][0]] += timestamp - stack[-1][1]\n",
    "                    # stack[-1][1] = timestamp\n",
    "                stack.append([log_id, timestamp])\n",
    "            else:\n",
    "                id, initTime = stack.pop()\n",
    "                elapsedTime = timestamp + 1 - initTime\n",
    "                ans[id]+= elapsedTime\n",
    "                if stack: # update the start time of previous record\n",
    "                    stack[-1][1] = timestamp+1    \n",
    "\n",
    "        return ans\n",
    "\n",
    "        # # Solution 2: More elegant\n",
    "        # # Time: O(n)\n",
    "        # # Space: O(n)\n",
    "        # stack = []\n",
    "        # ans = [0] * n\n",
    "\n",
    "        # for log in logs:\n",
    "        #     log_id, action, timestamp = log.split(\":\")\n",
    "        #     log_id, timestamp = int(log_id), int(timestamp)\n",
    "\n",
    "        #     if action == 'start':\n",
    "        #         stack.append((log_id, timestamp))\n",
    "        #     else:\n",
    "        #         id, initTime = stack.pop()\n",
    "        #         elapsedTime = timestamp + 1 - initTime\n",
    "        #         ans[id]+= elapsedTime\n",
    "\n",
    "        #         if stack: \n",
    "        #             ans[stack[-1][0]]-= elapsedTime\n",
    "        # return ans"
   ]
  },
  {
   "cell_type": "markdown",
   "metadata": {},
   "source": [
    "##### Edge Cases\n",
    "- "
   ]
  },
  {
   "cell_type": "markdown",
   "metadata": {},
   "source": [
    "##### Optimizations\n",
    "- "
   ]
  },
  {
   "cell_type": "markdown",
   "metadata": {},
   "source": [
    "##### Learnings\n",
    "- Solution 1 is more intuitive and what I originally thought of, but couldn't execute. Trick is to update the start time from the top of the stack. Also helpful to check if something is in the stack (\"if stack\") instead of trying to store prev_end\n",
    "- Solution 2 subtracts the elapsed time from the original thread\n"
   ]
  }
 ],
 "metadata": {
  "kernelspec": {
   "display_name": "base",
   "language": "python",
   "name": "python3"
  },
  "language_info": {
   "codemirror_mode": {
    "name": "ipython",
    "version": 3
   },
   "file_extension": ".py",
   "mimetype": "text/x-python",
   "name": "python",
   "nbconvert_exporter": "python",
   "pygments_lexer": "ipython3",
   "version": "3.9.7"
  }
 },
 "nbformat": 4,
 "nbformat_minor": 2
}
