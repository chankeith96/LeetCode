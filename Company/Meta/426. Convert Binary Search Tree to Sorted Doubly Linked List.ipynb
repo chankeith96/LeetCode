{
 "cells": [
  {
   "cell_type": "markdown",
   "metadata": {},
   "source": [
    "[426. Convert Binary Search Tree to Sorted Doubly Linked List](https://leetcode.com/problems/convert-binary-search-tree-to-sorted-doubly-linked-list/description/)"
   ]
  },
  {
   "cell_type": "code",
   "execution_count": null,
   "metadata": {},
   "outputs": [],
   "source": [
    "\"\"\"\n",
    "# Definition for a Node.\n",
    "class Node:\n",
    "    def __init__(self, val, left=None, right=None):\n",
    "        self.val = val\n",
    "        self.left = left\n",
    "        self.right = right\n",
    "\"\"\"\n",
    "\n",
    "class Solution:\n",
    "    def treeToDoublyList(self, root: 'Optional[Node]') -> 'Optional[Node]':\n",
    "        # Time: O(n)\n",
    "        # Space: O(n) worst case for call stack\n",
    "        \n",
    "        if not root:\n",
    "            return None\n",
    "        \n",
    "        def dfs(node):\n",
    "            nonlocal first, last\n",
    "\n",
    "            # base case\n",
    "            if not node:\n",
    "                return\n",
    "            \n",
    "            # recursive case\n",
    "            dfs(node.left)\n",
    "            if last:\n",
    "                last.right = node\n",
    "                node.left = last\n",
    "            else:\n",
    "                first = node\n",
    "            last = node\n",
    "\n",
    "            dfs(node.right)\n",
    "\n",
    "        first, last = None, None\n",
    "        dfs(root)\n",
    "\n",
    "        # Close the DLL\n",
    "        last.right = first\n",
    "        first.left = last\n",
    "        return first"
   ]
  },
  {
   "cell_type": "markdown",
   "metadata": {},
   "source": [
    "##### Edge Cases\n",
    "- "
   ]
  },
  {
   "cell_type": "markdown",
   "metadata": {},
   "source": [
    "##### Optimizations\n",
    "- "
   ]
  },
  {
   "cell_type": "markdown",
   "metadata": {},
   "source": [
    "##### Learnings\n",
    "- "
   ]
  }
 ],
 "metadata": {
  "kernelspec": {
   "display_name": "base",
   "language": "python",
   "name": "python3"
  },
  "language_info": {
   "codemirror_mode": {
    "name": "ipython",
    "version": 3
   },
   "file_extension": ".py",
   "mimetype": "text/x-python",
   "name": "python",
   "nbconvert_exporter": "python",
   "pygments_lexer": "ipython3",
   "version": "3.9.7"
  }
 },
 "nbformat": 4,
 "nbformat_minor": 2
}
