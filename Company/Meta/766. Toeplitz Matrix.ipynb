{
 "cells": [
  {
   "cell_type": "markdown",
   "metadata": {},
   "source": [
    "[766. Toeplitz Matrix](https://leetcode.com/problems/toeplitz-matrix/description/)"
   ]
  },
  {
   "cell_type": "code",
   "execution_count": null,
   "metadata": {},
   "outputs": [],
   "source": [
    "class Solution:\n",
    "    def isToeplitzMatrix(self, matrix: List[List[int]]) -> bool:\n",
    "        # Solution 1\n",
    "        # - iterate through first row. Check if diagonals are same\n",
    "        # - iterate through first col, check if diagonals are same\n",
    "        # Time: O(m*n)\n",
    "        # Space: O(1)\n",
    "        ROWS, COLS = len(matrix), len(matrix[0])\n",
    "\n",
    "        def check_diagonals(r, c):\n",
    "            prev = matrix[r][c]\n",
    "            while r < ROWS and c < COLS:\n",
    "                if matrix[r][c] != prev:\n",
    "                    return False\n",
    "                r += 1\n",
    "                c += 1\n",
    "            return True\n",
    "\n",
    "        for c in range(COLS):\n",
    "            if not check_diagonals(0, c): \n",
    "                return False\n",
    "        \n",
    "        for r in range(ROWS):\n",
    "            if not check_diagonals(r, 0): \n",
    "                return False\n",
    "        \n",
    "        return True"
   ]
  },
  {
   "cell_type": "markdown",
   "metadata": {},
   "source": [
    "##### Edge Cases\n",
    "- "
   ]
  },
  {
   "cell_type": "markdown",
   "metadata": {},
   "source": [
    "##### Optimizations\n",
    "- "
   ]
  },
  {
   "cell_type": "markdown",
   "metadata": {},
   "source": [
    "##### Learnings\n",
    "- The follow up question/solution is interesting (shown below)\n",
    "- Two coordinates are on the same diagonal if and only if `r1 - c1 == r2 - c2`"
   ]
  },
  {
   "cell_type": "code",
   "execution_count": null,
   "metadata": {},
   "outputs": [],
   "source": [
    "# Solution 2:\n",
    "# What if the matrix is stored on disk, and the memory is limited such\n",
    "# that you can only load at most one row of the matrix into the memory at once?\n",
    "# Answer: use hashmap\n",
    "# Time: O(m*n)\n",
    "# Space: O(m*n)\n",
    "ROWS, COLS = len(matrix), len(matrix[0])\n",
    "groups = {}\n",
    "for r in range(ROWS):\n",
    "    for c in range(COLS):\n",
    "        if r - c not in groups:\n",
    "            groups[r-c] = matrix[r][c]\n",
    "        elif groups[r-c] != matrix[r][c]:\n",
    "            return False\n",
    "return True\n"
   ]
  },
  {
   "cell_type": "markdown",
   "metadata": {},
   "source": []
  }
 ],
 "metadata": {
  "kernelspec": {
   "display_name": "base",
   "language": "python",
   "name": "python3"
  },
  "language_info": {
   "codemirror_mode": {
    "name": "ipython",
    "version": 3
   },
   "file_extension": ".py",
   "mimetype": "text/x-python",
   "name": "python",
   "nbconvert_exporter": "python",
   "pygments_lexer": "ipython3",
   "version": "3.9.7"
  }
 },
 "nbformat": 4,
 "nbformat_minor": 2
}
