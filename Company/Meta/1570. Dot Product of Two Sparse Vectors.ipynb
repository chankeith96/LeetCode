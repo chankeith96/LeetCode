{
 "cells": [
  {
   "cell_type": "markdown",
   "metadata": {},
   "source": [
    "[1570. Dot Product of Two Sparse Vectors](https://leetcode.com/problems/dot-product-of-two-sparse-vectors/description/)"
   ]
  },
  {
   "cell_type": "code",
   "execution_count": null,
   "metadata": {},
   "outputs": [],
   "source": [
    "class SparseVector:\n",
    "    # Solution: hashmap\n",
    "    # Time: O(n)\n",
    "    # Space: O(n)\n",
    "\n",
    "    def __init__(self, nums: List[int]):\n",
    "        self.idx_to_val = {}\n",
    "        for i, val in enumerate(nums): # O(n) | O(n) \n",
    "            if val != 0:\n",
    "                self.idx_to_val[i] = val\n",
    "\n",
    "    # Return the dotProduct of two sparse vectors\n",
    "    def dotProduct(self, vec: 'SparseVector') -> int:\n",
    "        if len(self.idx_to_val) < len(vec.idx_to_val):\n",
    "            smaller_hashmap = self.idx_to_val\n",
    "            bigger_hashmap = vec.idx_to_val\n",
    "        else:\n",
    "            smaller_hashmap = vec.idx_to_val\n",
    "            bigger_hashmap = self.idx_to_val\n",
    "\n",
    "        result = 0\n",
    "\n",
    "        for idx in smaller_hashmap.keys(): # O(s) | O(1) \n",
    "            if idx in bigger_hashmap:\n",
    "                result += smaller_hashmap[idx] * bigger_hashmap[idx]\n",
    "        return result\n",
    "\n",
    "# Your SparseVector object will be instantiated and called as such:\n",
    "# v1 = SparseVector(nums1)\n",
    "# v2 = SparseVector(nums2)\n",
    "# ans = v1.dotProduct(v2)\n",
    "\n",
    "# Solution 2: Editorial - Two pointer\n",
    "# We can also represent elements of a sparse vector as a list of <index, value> pairs. \n",
    "# We use two pointers to iterate through the two vectors to calculate the dot product.\n",
    "# Time: O(n)\n",
    "# Space: O(n)\n",
    "# class SparseVector:\n",
    "#     def __init__(self, nums: List[int]):\n",
    "#         self.pairs = []\n",
    "#         for index, value in enumerate(nums):\n",
    "#             if value != 0:\n",
    "#                 self.pairs.append([index, value])\n",
    "\n",
    "#     def dotProduct(self, vec: 'SparseVector') -> int:\n",
    "#         result = 0\n",
    "#         p, q = 0, 0\n",
    "\n",
    "#         while p < len(self.pairs) and q < len(vec.pairs):\n",
    "#             if self.pairs[p][0] == vec.pairs[q][0]:\n",
    "#                 result += self.pairs[p][1] * vec.pairs[q][1]\n",
    "#                 p += 1\n",
    "#                 q += 1\n",
    "#             elif self.pairs[p][0] < vec.pairs[q][0]:\n",
    "#                 p += 1\n",
    "#             else:\n",
    "#                 q += 1\n",
    "\n",
    "#         return result\n"
   ]
  },
  {
   "cell_type": "markdown",
   "metadata": {},
   "source": [
    "##### Edge Cases\n",
    "- "
   ]
  },
  {
   "cell_type": "markdown",
   "metadata": {},
   "source": [
    "##### Optimizations\n",
    "- "
   ]
  },
  {
   "cell_type": "markdown",
   "metadata": {},
   "source": [
    "##### Learnings\n",
    "- Check Editorial for two pointer solution. \n",
    "- People mention recent FB onsite, interviewer didn't accept the HASHMAP solution and wanted to see the 2 pointers solution, in addition he also came up with a follow up question, what would you do if one of the vectors werent fully \"sparse\" -> hint use binary search\n",
    "- binary search leads to O(L1 + L1*Log(L2)), since we have to search L2 exactly L1 times."
   ]
  }
 ],
 "metadata": {
  "kernelspec": {
   "display_name": "base",
   "language": "python",
   "name": "python3"
  },
  "language_info": {
   "codemirror_mode": {
    "name": "ipython",
    "version": 3
   },
   "file_extension": ".py",
   "mimetype": "text/x-python",
   "name": "python",
   "nbconvert_exporter": "python",
   "pygments_lexer": "ipython3",
   "version": "3.9.7"
  }
 },
 "nbformat": 4,
 "nbformat_minor": 2
}
