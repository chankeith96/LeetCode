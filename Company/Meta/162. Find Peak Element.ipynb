{
 "cells": [
  {
   "cell_type": "markdown",
   "metadata": {},
   "source": [
    "[162. Find Peak Element](https://leetcode.com/problems/find-peak-element/description/)"
   ]
  },
  {
   "cell_type": "code",
   "execution_count": null,
   "metadata": {},
   "outputs": [],
   "source": [
    "class Solution:\n",
    "    def findPeakElement(self, nums: List[int]) -> int:\n",
    "        # Solution 1: Binary Search\n",
    "        # Time: O(logn)\n",
    "        # Space: O(1) \n",
    "        left = 0\n",
    "        right = len(nums) - 1\n",
    "        \n",
    "        # while left != right:\n",
    "        #     mid = left + (right - left) // 2\n",
    "        #     if mid - 1 >= 0 and nums[mid - 1] > nums[mid]:\n",
    "        #         right = mid - 1\n",
    "        #     elif mid + 1 < len(nums) and nums[mid + 1] > nums[mid]:\n",
    "        #         left = mid + 1\n",
    "        #     else:\n",
    "        #         return mid\n",
    "        # return left \n",
    "        \n",
    "        while left < right:\n",
    "            mid = left + (right - left) // 2\n",
    "            \n",
    "            if nums[mid] > nums[mid + 1]:\n",
    "                right = mid\n",
    "            else:\n",
    "                left = mid + 1\n",
    "        return left\n",
    "\n"
   ]
  },
  {
   "cell_type": "markdown",
   "metadata": {},
   "source": [
    "##### Edge Cases\n",
    "- "
   ]
  },
  {
   "cell_type": "markdown",
   "metadata": {},
   "source": [
    "##### Optimizations\n",
    "- "
   ]
  },
  {
   "cell_type": "markdown",
   "metadata": {},
   "source": [
    "##### Learnings\n",
    "- Tricky problem, still not fully understanding the logic about when to use \"left < right\" and why right = mid vs when left = mid + 1 \n",
    "- variation: find min element instead of peak. Solution is as easy as flipping the \">\" sign in \"nums[mid] < nums[right]\" to \"<\""
   ]
  }
 ],
 "metadata": {
  "kernelspec": {
   "display_name": "base",
   "language": "python",
   "name": "python3"
  },
  "language_info": {
   "codemirror_mode": {
    "name": "ipython",
    "version": 3
   },
   "file_extension": ".py",
   "mimetype": "text/x-python",
   "name": "python",
   "nbconvert_exporter": "python",
   "pygments_lexer": "ipython3",
   "version": "3.9.7"
  }
 },
 "nbformat": 4,
 "nbformat_minor": 2
}
