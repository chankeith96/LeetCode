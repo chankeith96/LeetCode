{
 "cells": [
  {
   "cell_type": "markdown",
   "metadata": {},
   "source": [
    "[721. Accounts Merge](https://leetcode.com/problems/accounts-merge/description/)"
   ]
  },
  {
   "cell_type": "code",
   "execution_count": null,
   "metadata": {},
   "outputs": [],
   "source": [
    "class Solution:\n",
    "    def accountsMerge(self, accounts: List[List[str]]) -> List[List[str]]:\n",
    "        # Solution 1: email represented as nodes, accounts represented as connected component\n",
    "        # Then use DFS on all nodes to find all CC\n",
    "        # Create node for each email\n",
    "        # store emails in hashmap (email to account)\n",
    "        # run DFS\n",
    "        # Time: O(NKlogNK) worst case, N= # accounts, K= max length of account\n",
    "        # Space: O(NK), graph and visited both take NK, DFS call stack NK worst\n",
    "        graph = {}\n",
    "        visited = set()\n",
    "        email_to_account = {} # a way to store all nodes for DFS\n",
    "\n",
    "        # set up graph\n",
    "        for account in accounts:\n",
    "            name = account[0]\n",
    "            first_email = account[1]\n",
    "            # Emails need to be in same CC, but not a complete graph. Here we make star graph\n",
    "            for email in account[1:]:     \n",
    "                graph[first_email] = graph.get(first_email, []) + [email]\n",
    "                graph[email] = graph.get(email, []) + [first_email]\n",
    "                email_to_account[email] = name\n",
    "\n",
    "        def dfs(node, component): # O(NK)\n",
    "            # Base case\n",
    "            if node in visited:\n",
    "                return \n",
    "            \n",
    "            # Recursive case \n",
    "            visited.add(node)\n",
    "            component.append(node)\n",
    "            for nei in graph[node]:\n",
    "                dfs(nei, component)\n",
    "\n",
    "        result = []\n",
    "        for email, account in email_to_account.items():\n",
    "            if email in visited:\n",
    "                continue\n",
    "            \n",
    "            nodes = []\n",
    "            dfs(email, nodes)\n",
    "            result.append([account] + sorted(nodes))\n",
    "\n",
    "        return result\n",
    "        "
   ]
  },
  {
   "cell_type": "markdown",
   "metadata": {},
   "source": [
    "##### Edge Cases\n",
    "- "
   ]
  },
  {
   "cell_type": "markdown",
   "metadata": {},
   "source": [
    "##### Optimizations\n",
    "- "
   ]
  },
  {
   "cell_type": "markdown",
   "metadata": {},
   "source": [
    "##### Learnings\n",
    "- "
   ]
  }
 ],
 "metadata": {
  "kernelspec": {
   "display_name": "base",
   "language": "python",
   "name": "python3"
  },
  "language_info": {
   "codemirror_mode": {
    "name": "ipython",
    "version": 3
   },
   "file_extension": ".py",
   "mimetype": "text/x-python",
   "name": "python",
   "nbconvert_exporter": "python",
   "pygments_lexer": "ipython3",
   "version": "3.9.7"
  }
 },
 "nbformat": 4,
 "nbformat_minor": 2
}
