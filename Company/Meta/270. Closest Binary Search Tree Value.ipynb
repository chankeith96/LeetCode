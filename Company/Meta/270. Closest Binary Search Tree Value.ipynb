{
 "cells": [
  {
   "cell_type": "markdown",
   "metadata": {},
   "source": [
    "[270. Closest Binary Search Tree Value](https://leetcode.com/problems/closest-binary-search-tree-value/description/)"
   ]
  },
  {
   "cell_type": "code",
   "execution_count": null,
   "metadata": {},
   "outputs": [],
   "source": [
    "# Definition for a binary tree node.\n",
    "# class TreeNode:\n",
    "#     def __init__(self, val=0, left=None, right=None):\n",
    "#         self.val = val\n",
    "#         self.left = left\n",
    "#         self.right = right\n",
    "class Solution:\n",
    "    def closestValue(self, root: Optional[TreeNode], target: float) -> int:\n",
    "        # Solution 1:\n",
    "        # at each node, go left or right\n",
    "        # keep track of closest node \n",
    "        # Time: O(logn) avg, but O(n) worst \n",
    "        # Space: O(1)\n",
    "        closest_val = root.val\n",
    "\n",
    "        while root:\n",
    "            if abs(target - root.val) < abs(target - closest_val):\n",
    "                closest_val = root.val\n",
    "            elif abs(target - root.val) == abs(target - closest_val):\n",
    "                closest_val = min(root.val, closest_val)\n",
    "            if target < root.val:\n",
    "                root = root.left\n",
    "            elif target > root.val:\n",
    "                root = root.right\n",
    "            else:\n",
    "                return root.val\n",
    "        return closest_val"
   ]
  },
  {
   "cell_type": "markdown",
   "metadata": {},
   "source": [
    "##### Edge Cases\n",
    "- "
   ]
  },
  {
   "cell_type": "markdown",
   "metadata": {},
   "source": [
    "##### Optimizations\n",
    "- "
   ]
  },
  {
   "cell_type": "markdown",
   "metadata": {},
   "source": [
    "##### Learnings\n",
    "- "
   ]
  }
 ],
 "metadata": {
  "kernelspec": {
   "display_name": "base",
   "language": "python",
   "name": "python3"
  },
  "language_info": {
   "codemirror_mode": {
    "name": "ipython",
    "version": 3
   },
   "file_extension": ".py",
   "mimetype": "text/x-python",
   "name": "python",
   "nbconvert_exporter": "python",
   "pygments_lexer": "ipython3",
   "version": "3.9.7"
  }
 },
 "nbformat": 4,
 "nbformat_minor": 2
}
