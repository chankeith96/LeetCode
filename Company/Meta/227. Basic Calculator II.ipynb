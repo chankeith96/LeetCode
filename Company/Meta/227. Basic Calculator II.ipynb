{
 "cells": [
  {
   "cell_type": "markdown",
   "metadata": {},
   "source": [
    "[227. Basic Calculator II](https://leetcode.com/problems/basic-calculator-ii/description/)"
   ]
  },
  {
   "cell_type": "code",
   "execution_count": null,
   "metadata": {},
   "outputs": [],
   "source": [
    "class Solution:\n",
    "    def calculate(self, s: str) -> int:\n",
    "        # Edge cases:\n",
    "        #     - both multiplication and division in same s\n",
    "        #     - mult/div occurs after +\n",
    "        #     - multi-digit numbers \n",
    "        # Notes\n",
    "        #     - round down division using //\n",
    "        # Solution 1: stack\n",
    "        # - keep track of currentNumber and operation\n",
    "        # - if currentChar is digit, then concat to currentNumber\n",
    "        # - if char is +/- then push currentNumber and operation to stack\n",
    "        # - if char is mult/div then pop from stack and perform the operation\n",
    "        # - add everything in stack together at the end\n",
    "        # Time: O(n) where n is len(s)\n",
    "        # Space: O(n)\n",
    "\n",
    "        currentNumber = 0\n",
    "        operation = \"+\"\n",
    "        stack = []\n",
    "        \n",
    "        for currentChar in s + '+':\n",
    "            if currentChar == \" \":\n",
    "                continue\n",
    "            if currentChar.isdigit():\n",
    "                currentNumber = currentNumber * 10 + int(currentChar)\n",
    "            else:\n",
    "                if operation == \"+\":\n",
    "                    stack.append(int(currentNumber))\n",
    "                elif operation == \"-\":\n",
    "                    stack.append(-int(currentNumber))\n",
    "                elif operation == \"*\":\n",
    "                    stack.append(stack.pop()*currentNumber)\n",
    "                else:\n",
    "                    stack.append(math.trunc(stack.pop()/currentNumber))\n",
    "\n",
    "                operation = currentChar\n",
    "                currentNumber = 0\n",
    "        \n",
    "        return sum(stack)"
   ]
  },
  {
   "cell_type": "markdown",
   "metadata": {},
   "source": [
    "##### Edge Cases\n",
    "- "
   ]
  },
  {
   "cell_type": "markdown",
   "metadata": {},
   "source": [
    "##### Optimizations\n",
    "- In the previous approach, we used a stack to track the values of the evaluated expressions. In the end, we pop all the values from the stack and add to the result. Instead of that, we could add the values to the result beforehand and keep track of the last calculated number, thus eliminating the need for the stack. Let's understand the algorithm in detail.\n",
    "\n",
    "Algorithm\n",
    "The approach works similar to Approach 1 with the following differences :\n",
    "\n",
    "Instead of using a stack, we use a variable lastNumber to track the value of the last evaluated expression.\n",
    "If the operation is Addition (+) or Subtraction (-), add the lastNumber to the result instead of pushing it to the stack. The currentNumber would be updated to lastNumber for the next iteration.\n",
    "If the operation is Multiplication (*) or Division (/), we must evaluate the expression lastNumber * currentNumber and update the lastNumber with the result of the expression. This would be added to the result after the entire string is scanned.\n",
    "\n",
    "Time: O(n)\n",
    "Space: O(1)"
   ]
  },
  {
   "cell_type": "markdown",
   "metadata": {},
   "source": [
    "##### Learnings\n",
    "- Requires a clever trick of appending a \"+\" to string s\n",
    "- Requires math.trunc() bc division using // for negative numbers rounds down. (i.e. -3//2 = -2)"
   ]
  }
 ],
 "metadata": {
  "kernelspec": {
   "display_name": "base",
   "language": "python",
   "name": "python3"
  },
  "language_info": {
   "codemirror_mode": {
    "name": "ipython",
    "version": 3
   },
   "file_extension": ".py",
   "mimetype": "text/x-python",
   "name": "python",
   "nbconvert_exporter": "python",
   "pygments_lexer": "ipython3",
   "version": "3.9.7"
  }
 },
 "nbformat": 4,
 "nbformat_minor": 2
}
