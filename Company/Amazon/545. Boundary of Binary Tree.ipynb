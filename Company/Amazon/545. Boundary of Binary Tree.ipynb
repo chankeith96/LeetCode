{
 "cells": [
  {
   "cell_type": "markdown",
   "metadata": {},
   "source": [
    "[545. Boundary of Binary Tree](https://leetcode.com/problems/boundary-of-binary-tree/description/)"
   ]
  },
  {
   "cell_type": "code",
   "execution_count": null,
   "metadata": {},
   "outputs": [],
   "source": [
    "# Definition for a binary tree node.\n",
    "# class TreeNode:\n",
    "#     def __init__(self, val=0, left=None, right=None):\n",
    "#         self.val = val\n",
    "#         self.left = left\n",
    "#         self.right = right\n",
    "class Solution:\n",
    "    def boundaryOfBinaryTree(self, root: Optional[TreeNode]) -> List[int]:\n",
    "        # Solution 1:\n",
    "        # Use DFS to get left boundary\n",
    "        # for any node that has no children, append to leaves list\n",
    "        # Do a DFS from right side to get right boundary. Exit early once hit leaf\n",
    "        # Time: O(d+n+d)-->O(n), d=depth, n=total nodes\n",
    "        # Space: O(n) recursive call stack\n",
    "        res = []\n",
    "        res.append(root.val)\n",
    "\n",
    "        # Edge case: only root node\n",
    "        if not root.left and not root.right:\n",
    "            return [root.val]\n",
    "\n",
    "        # Get left bound\n",
    "        left_bound = []\n",
    "        def dfs_left(node):\n",
    "            # Base Case: hit leaf node\n",
    "            if not node.left and not node.right:\n",
    "                return \n",
    "\n",
    "            # Recursive case\n",
    "            left_bound.append(node.val)\n",
    "            if node.left:\n",
    "                dfs_left(node.left)\n",
    "            else:\n",
    "                dfs_left(node.right)\n",
    "\n",
    "        # Get leaves\n",
    "        leaves = []\n",
    "        def dfs(node):\n",
    "            # Base Case\n",
    "            if not node:\n",
    "                return \n",
    "\n",
    "            # Recursive case\n",
    "            if not node.left and not node.right:\n",
    "                leaves.append(node.val)\n",
    "            dfs(node.left)\n",
    "            dfs(node.right) \n",
    "        dfs(root)\n",
    "\n",
    "        # Get right bound\n",
    "        right_bound = []\n",
    "        def dfs_right(node):\n",
    "            # Base Case\n",
    "            if not node.left and not node.right:\n",
    "                return \n",
    "\n",
    "            # Recursive case\n",
    "            right_bound.append(node.val)\n",
    "            if node.right:\n",
    "                dfs_right(node.right)\n",
    "            else:\n",
    "                dfs_right(node.left)\n",
    "\n",
    "        if root.left:\n",
    "            dfs_left(root.left)\n",
    "        if root.right:\n",
    "            dfs_right(root.right)\n",
    "            right_bound = right_bound[::-1]\n",
    "        \n",
    "        return(res + left_bound + leaves + right_bound)"
   ]
  },
  {
   "cell_type": "markdown",
   "metadata": {},
   "source": [
    "##### Edge Cases\n",
    "- "
   ]
  },
  {
   "cell_type": "markdown",
   "metadata": {},
   "source": [
    "##### Optimizations\n",
    "- "
   ]
  },
  {
   "cell_type": "markdown",
   "metadata": {},
   "source": [
    "##### Learnings\n",
    "- "
   ]
  },
  {
   "cell_type": "markdown",
   "metadata": {},
   "source": []
  }
 ],
 "metadata": {
  "kernelspec": {
   "display_name": "base",
   "language": "python",
   "name": "python3"
  },
  "language_info": {
   "codemirror_mode": {
    "name": "ipython",
    "version": 3
   },
   "file_extension": ".py",
   "mimetype": "text/x-python",
   "name": "python",
   "nbconvert_exporter": "python",
   "pygments_lexer": "ipython3",
   "version": "3.9.7"
  }
 },
 "nbformat": 4,
 "nbformat_minor": 2
}
