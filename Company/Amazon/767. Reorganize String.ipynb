{
 "cells": [
  {
   "cell_type": "markdown",
   "metadata": {},
   "source": [
    "[767. Reorganize String](https://leetcode.com/problems/reorganize-string/description/)"
   ]
  },
  {
   "cell_type": "code",
   "execution_count": null,
   "metadata": {},
   "outputs": [],
   "source": [
    "class Solution:\n",
    "    def reorganizeString(self, s: str) -> str:\n",
    "        # Solution 1: Greedy\n",
    "        # get freq counter of string\n",
    "        # sort counter from highest freq to lowest\n",
    "        # build string using an array\n",
    "        # start w highest freq char - pop from heap? \n",
    "        # trick is ensure that the selected character is different from the last character appended, avoiding any adjacent repetitions.\n",
    "        # Time: O(nlogk) --> technically O(n) bc k is <=26, n = total char in string, k=total unique chars in string\n",
    "        # Space: O(k) --> technically O(1) bc k is <=26\n",
    "        ans = []\n",
    "        char_freq = Counter(s) # O(n) \n",
    "        freq_char = [[-1 * freq, char] for char, freq in char_freq.items()] # O(k)\n",
    "        heapq.heapify(freq_char) # O(k)\n",
    "\n",
    "        # build string\n",
    "        prev_char = \"\"\n",
    "        while freq_char: # O(n)\n",
    "            freq1, c1 = heapq.heappop(freq_char) # O(logk)\n",
    "            if c1 == prev_char:\n",
    "                if not freq_char:\n",
    "                    return \"\"\n",
    "                freq2, c2 = heapq.heappop(freq_char) # O(logk)\n",
    "                ans.append(c2)\n",
    "                freq2 += 1\n",
    "                prev_char = c2\n",
    "                if freq2 < 0:\n",
    "                    heapq.heappush(freq_char, [freq2, c2]) # O(logk)\n",
    "                heapq.heappush(freq_char, [freq1, c1])\n",
    "            else: \n",
    "                ans.append(c1)\n",
    "                freq1 += 1\n",
    "                prev_char = c1\n",
    "                if freq1 < 0:\n",
    "                    heapq.heappush(freq_char, [freq1, c1])\n",
    "\n",
    "        return \"\".join(ans)\n",
    "\n",
    "        # freq_char: [-2, a], [-1,b]\n",
    "\n",
    "        # Solution 2: Editorial\n",
    "        # Time: O(n)\n",
    "        # Space: O(k)\n",
    "        "
   ]
  },
  {
   "cell_type": "markdown",
   "metadata": {},
   "source": [
    "##### Edge Cases\n",
    "- "
   ]
  },
  {
   "cell_type": "markdown",
   "metadata": {},
   "source": [
    "##### Optimizations\n",
    "- A time optimization: ensure that the frequency of the most frequent letter does not exceed half the length of s, rounded up ceil(length/2). If it does, it implies that it is not possible to arrange the string without adjacent repetitions, and we can return an empty string as the result."
   ]
  },
  {
   "cell_type": "markdown",
   "metadata": {},
   "source": [
    "##### Learnings\n",
    "- # trick is ensure that the selected character is different from the last character appended, avoiding any adjacent repetitions.\n",
    "        "
   ]
  },
  {
   "cell_type": "markdown",
   "metadata": {},
   "source": []
  }
 ],
 "metadata": {
  "kernelspec": {
   "display_name": "base",
   "language": "python",
   "name": "python3"
  },
  "language_info": {
   "codemirror_mode": {
    "name": "ipython",
    "version": 3
   },
   "file_extension": ".py",
   "mimetype": "text/x-python",
   "name": "python",
   "nbconvert_exporter": "python",
   "pygments_lexer": "ipython3",
   "version": "3.9.7"
  }
 },
 "nbformat": 4,
 "nbformat_minor": 2
}
