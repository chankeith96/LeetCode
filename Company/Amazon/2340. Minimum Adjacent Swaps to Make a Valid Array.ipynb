{
 "cells": [
  {
   "cell_type": "markdown",
   "metadata": {},
   "source": [
    "[2340. Minimum Adjacent Swaps to Make a Valid Array](https://leetcode.com/problems/minimum-adjacent-swaps-to-make-a-valid-array/description/)"
   ]
  },
  {
   "cell_type": "code",
   "execution_count": null,
   "metadata": {},
   "outputs": [],
   "source": [
    "class Solution:\n",
    "    def minimumSwaps(self, nums: List[int]) -> int:\n",
    "        # Solution 1:\n",
    "        # Find max elem from right\n",
    "        # Find min elem from left\n",
    "        # min swaps = distance of max elem from right + min elem from left\n",
    "        # Case: min element index > max element index\n",
    "        # Case: min idx < max idx\n",
    "        # Time: O(n)\n",
    "        # Space: O(1)\n",
    "        max_elem = float(\"-inf\")\n",
    "        min_elem = float(\"inf\")\n",
    "        max_idx = len(nums) \n",
    "        min_idx = -1\n",
    "\n",
    "        # Find max elem from right\n",
    "        for i in range(len(nums) - 1, -1, -1):\n",
    "            if nums[i] > max_elem:\n",
    "                max_idx = i\n",
    "                max_elem = nums[i]\n",
    "\n",
    "        # Find min elem from left\n",
    "        for i in range(len(nums)):\n",
    "            if nums[i] < min_elem:\n",
    "                min_elem = nums[i]\n",
    "                min_idx = i\n",
    "\n",
    "        ans = min_idx + (len(nums) - 1 - max_idx)\n",
    "        \n",
    "        if min_idx > max_idx:\n",
    "            ans -= 1\n",
    "        \n",
    "        return ans"
   ]
  },
  {
   "cell_type": "markdown",
   "metadata": {},
   "source": [
    "##### Edge Cases\n",
    "- "
   ]
  },
  {
   "cell_type": "markdown",
   "metadata": {},
   "source": [
    "##### Optimizations\n",
    "- "
   ]
  },
  {
   "cell_type": "markdown",
   "metadata": {},
   "source": [
    "##### Learnings\n",
    "- "
   ]
  }
 ],
 "metadata": {
  "kernelspec": {
   "display_name": "base",
   "language": "python",
   "name": "python3"
  },
  "language_info": {
   "codemirror_mode": {
    "name": "ipython",
    "version": 3
   },
   "file_extension": ".py",
   "mimetype": "text/x-python",
   "name": "python",
   "nbconvert_exporter": "python",
   "pygments_lexer": "ipython3",
   "version": "3.9.7"
  }
 },
 "nbformat": 4,
 "nbformat_minor": 2
}
