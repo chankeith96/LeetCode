{
 "cells": [
  {
   "cell_type": "markdown",
   "metadata": {},
   "source": [
    "[2288. Apply Discount to Prices](https://leetcode.com/problems/apply-discount-to-prices/description/)"
   ]
  },
  {
   "cell_type": "code",
   "execution_count": null,
   "metadata": {},
   "outputs": [],
   "source": [
    "class Solution:\n",
    "    def discountPrices(self, sentence: str, discount: int) -> str:\n",
    "        # Solution 1:\n",
    "        # Split sentence into words\n",
    "        # identify prices in sentence, track indexes\n",
    "        # convert prices to integers. \n",
    "        # discounted_price = (100 - discount)/100 * price\n",
    "        # join sentence\n",
    "        # Edge cases: \"$\", no dollar sign, leading dollar sign, multiple dollar sign, $ + letters\n",
    "        # Time: O(n), n=num words\n",
    "        # Space: O(n)\n",
    "\n",
    "        # def is_price(word):\n",
    "        #     if word[0] == \"$\" and len(word) > 1:\n",
    "        #         for n in word[1:]:\n",
    "        #             if not n.isnumeric():\n",
    "        #                 return False\n",
    "        #     else:\n",
    "        #         return False\n",
    "\n",
    "        #     return True\n",
    "\n",
    "        def is_price(word):\n",
    "            if word[0] != \"$\" or not word[1:].isnumeric(): \n",
    "                return False\n",
    "            return True\n",
    "\n",
    "        split_sent = sentence.split(\" \")\n",
    "        for i, word in enumerate(split_sent): \n",
    "            # identify if price \n",
    "            if is_price(word):\n",
    "                price = float(word[1:])\n",
    "                discounted_price = (100 - discount)/100.00 * price\n",
    "                split_sent[i] = f\"${discounted_price:.2f}\"\n",
    "            \n",
    "        return \" \".join(split_sent)\n",
    "        \n",
    "        "
   ]
  },
  {
   "cell_type": "markdown",
   "metadata": {},
   "source": [
    "##### Edge Cases\n",
    "- "
   ]
  },
  {
   "cell_type": "markdown",
   "metadata": {},
   "source": [
    "##### Optimizations\n",
    "- "
   ]
  },
  {
   "cell_type": "markdown",
   "metadata": {},
   "source": [
    "##### Learnings\n",
    "- originally my is_price function iterates through all chars, but easier to just check if the whole thing is numeric"
   ]
  },
  {
   "cell_type": "markdown",
   "metadata": {},
   "source": []
  }
 ],
 "metadata": {
  "kernelspec": {
   "display_name": "base",
   "language": "python",
   "name": "python3"
  },
  "language_info": {
   "codemirror_mode": {
    "name": "ipython",
    "version": 3
   },
   "file_extension": ".py",
   "mimetype": "text/x-python",
   "name": "python",
   "nbconvert_exporter": "python",
   "pygments_lexer": "ipython3",
   "version": "3.9.7"
  }
 },
 "nbformat": 4,
 "nbformat_minor": 2
}
