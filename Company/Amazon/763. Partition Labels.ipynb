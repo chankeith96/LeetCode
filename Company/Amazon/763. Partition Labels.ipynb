{
 "cells": [
  {
   "cell_type": "markdown",
   "metadata": {},
   "source": [
    "[763. Partition Labels](https://leetcode.com/problems/partition-labels/description/)"
   ]
  },
  {
   "cell_type": "code",
   "execution_count": null,
   "metadata": {},
   "outputs": [],
   "source": [
    "class Solution:\n",
    "    def partitionLabels(self, s: str) -> List[int]:\n",
    "        # Approach 1:\n",
    "        # first pass: create last_seen dict {char: last_index}, O(n)\n",
    "        # greedily expand window to last index of first letter, O(n) \n",
    "        # add current window into a set - not needed\n",
    "        # move right ptr to largest last_index\n",
    "        # append right - left + 1 to results\n",
    "        # Time: O(n)\n",
    "        # Space: O(n) --> technically O(1) bc no more than 26 chars\n",
    "\n",
    "        # TODO: Edge case empty s - not needed\n",
    "\n",
    "        # Create last_seen dict\n",
    "        last_seen = {}\n",
    "        for i, c in enumerate(s):\n",
    "            last_seen[c] = i\n",
    "\n",
    "        # sliding window to create partitions\n",
    "        left = 0\n",
    "        right = 0 \n",
    "        result = []\n",
    "        max_idx = last_seen[s[left]]\n",
    "\n",
    "        for right in range(len(s)):\n",
    "            max_idx = max(max_idx, last_seen[s[right]])\n",
    "            if right == max_idx:\n",
    "                result.append(right - left + 1)\n",
    "                left = right + 1\n",
    "                \n",
    "        return result\n",
    "\n",
    "            \n",
    "        # right = 0,1,2...8,9,10\n",
    "        # left = 0,9\n",
    "        # max_idx = 8,14,15\n",
    "        # result = 9, \n",
    "\n"
   ]
  },
  {
   "cell_type": "markdown",
   "metadata": {},
   "source": [
    "##### Edge Cases\n",
    "- "
   ]
  },
  {
   "cell_type": "markdown",
   "metadata": {},
   "source": [
    "##### Optimizations\n",
    "- "
   ]
  },
  {
   "cell_type": "markdown",
   "metadata": {},
   "source": [
    "##### Learnings\n",
    "- "
   ]
  }
 ],
 "metadata": {
  "kernelspec": {
   "display_name": "base",
   "language": "python",
   "name": "python3"
  },
  "language_info": {
   "codemirror_mode": {
    "name": "ipython",
    "version": 3
   },
   "file_extension": ".py",
   "mimetype": "text/x-python",
   "name": "python",
   "nbconvert_exporter": "python",
   "pygments_lexer": "ipython3",
   "version": "3.9.7"
  }
 },
 "nbformat": 4,
 "nbformat_minor": 2
}
