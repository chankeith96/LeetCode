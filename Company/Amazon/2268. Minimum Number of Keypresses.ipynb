{
 "cells": [
  {
   "cell_type": "markdown",
   "metadata": {},
   "source": [
    "[2268. Minimum Number of Keypresses](https://leetcode.com/problems/minimum-number-of-keypresses/description/)"
   ]
  },
  {
   "cell_type": "code",
   "execution_count": null,
   "metadata": {},
   "outputs": [],
   "source": [
    "class Solution:\n",
    "    def minimumKeypresses(self, s: str) -> int:\n",
    "        # Solution 1:\n",
    "        # Use a counter for char frequency, O(n)\n",
    "        # choose 9 chars for single keypress, 9 chars for double, and 8 for triple\n",
    "        # choose in order of decreasing freq, O(mlogm) \n",
    "        # sum up keypresses, O(m)\n",
    "        # Time: O(n + mlogm) --> O(nlogn) worst case, n = len(s), m = unique chars\n",
    "        # Space: O(n) --> O(1) for 26 chars\n",
    "        \n",
    "        ans = 0\n",
    "\n",
    "        char_freq = Counter(s)\n",
    "        sorted_freq = sorted(char_freq.values(), reverse=True)\n",
    "\n",
    "        for i, freq in enumerate(sorted_freq):\n",
    "            if i < 9:\n",
    "                ans += freq\n",
    "            elif 9 <= i < 18:\n",
    "                ans += 2 * freq\n",
    "            else:\n",
    "                ans += 3 * freq\n",
    "        \n",
    "        # # Clever implementation\n",
    "        # if i%9==0:\n",
    "        #     counter += 1\n",
    "        # ans += freq*counter\n",
    "        \n",
    "        return ans"
   ]
  },
  {
   "cell_type": "markdown",
   "metadata": {},
   "source": [
    "##### Edge Cases\n",
    "- "
   ]
  },
  {
   "cell_type": "markdown",
   "metadata": {},
   "source": [
    "##### Optimizations\n",
    "- "
   ]
  },
  {
   "cell_type": "markdown",
   "metadata": {},
   "source": [
    "##### Learnings\n",
    "- "
   ]
  },
  {
   "cell_type": "markdown",
   "metadata": {},
   "source": []
  }
 ],
 "metadata": {
  "kernelspec": {
   "display_name": "base",
   "language": "python",
   "name": "python3"
  },
  "language_info": {
   "codemirror_mode": {
    "name": "ipython",
    "version": 3
   },
   "file_extension": ".py",
   "mimetype": "text/x-python",
   "name": "python",
   "nbconvert_exporter": "python",
   "pygments_lexer": "ipython3",
   "version": "3.9.7"
  }
 },
 "nbformat": 4,
 "nbformat_minor": 2
}
