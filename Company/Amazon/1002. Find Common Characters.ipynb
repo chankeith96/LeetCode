{
 "cells": [
  {
   "cell_type": "markdown",
   "metadata": {},
   "source": [
    "[1002. Find Common Characters](https://leetcode.com/problems/find-common-characters/description/)"
   ]
  },
  {
   "cell_type": "code",
   "execution_count": null,
   "metadata": {},
   "outputs": [],
   "source": [
    "class Solution:\n",
    "    def commonChars(self, words: List[str]) -> List[str]:\n",
    "        # Solution 1: \n",
    "        # make a freq dict for common chars, initializing with the first word\n",
    "        # for every word, compare freq_dict to common_dict\n",
    "        # store the minimum count (might be zero) in common_dict\n",
    "        # Time: O(m)*O(n), n = len(words), m = avg len of words\n",
    "        # Space: O(1) bc 26 chars\n",
    "\n",
    "        common_freq = Counter(words[0])\n",
    "\n",
    "        for word in words[1:]:\n",
    "            curr_freq = Counter(word)\n",
    "            for c in common_freq:\n",
    "                common_freq[c] = min(common_freq[c], curr_freq[c])\n",
    "\n",
    "\n",
    "        # return array of chars\n",
    "        res = []\n",
    "        for c, freq in common_freq.items():\n",
    "            res.extend([c] * freq)\n",
    "        return res"
   ]
  },
  {
   "cell_type": "markdown",
   "metadata": {},
   "source": [
    "##### Edge Cases\n",
    "- "
   ]
  },
  {
   "cell_type": "markdown",
   "metadata": {},
   "source": [
    "##### Optimizations\n",
    "- "
   ]
  },
  {
   "cell_type": "markdown",
   "metadata": {},
   "source": [
    "##### Learnings\n",
    "- "
   ]
  },
  {
   "cell_type": "markdown",
   "metadata": {},
   "source": []
  }
 ],
 "metadata": {
  "kernelspec": {
   "display_name": "base",
   "language": "python",
   "name": "python3"
  },
  "language_info": {
   "codemirror_mode": {
    "name": "ipython",
    "version": 3
   },
   "file_extension": ".py",
   "mimetype": "text/x-python",
   "name": "python",
   "nbconvert_exporter": "python",
   "pygments_lexer": "ipython3",
   "version": "3.9.7"
  }
 },
 "nbformat": 4,
 "nbformat_minor": 2
}
