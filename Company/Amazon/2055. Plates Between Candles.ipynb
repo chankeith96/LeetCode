{
 "cells": [
  {
   "cell_type": "markdown",
   "metadata": {},
   "source": [
    "[2055. Plates Between Candles](https://leetcode.com/problems/plates-between-candles/description/)"
   ]
  },
  {
   "cell_type": "code",
   "execution_count": null,
   "metadata": {},
   "outputs": [],
   "source": [
    "class Solution:\n",
    "    def platesBetweenCandles(self, s: str, queries: List[List[int]]) -> List[int]:\n",
    "        # Solution 1: Brute Force\n",
    "        # take each query's interval and iterate. Count plates between candles\n",
    "        # Append to results\n",
    "        # Time: O(q * n), q = len(queries), n = avg size of queries\n",
    "        # Space: O(q) \n",
    "\n",
    "        # # Solution 2: Binary search for left and right candles\n",
    "        # # Create list A with all indices of candles\n",
    "        # # For each query [a,b], find the first candle after a and first candle before b.\n",
    "        # # A[i] - A[j] + 1 is the length between two candies,\n",
    "        # # i - j + 1 is the number of candies.\n",
    "        # # (A[j] - A[i]) - (j - i) is the number of plates between two candies.\n",
    "        # # Time: O(N + QlogN)\n",
    "        # # Space: O(N + Q)\n",
    "        # candles = []\n",
    "        # for i, c in enumerate(s):\n",
    "        #     if c == \"|\":\n",
    "        #         candles.append(i)\n",
    "            \n",
    "        # res = []\n",
    "        # for left, right in queries:\n",
    "        #     # bisect returns the insertion point to maintain sorted list\n",
    "        #     # bisect_left --> if value found, return insertion index left of existing values (aka current candle index)\n",
    "        #     # bisect_right --> if value found, return insertion index right of existing values  (aka next candle index)\n",
    "        #     # both bisect_left and bisect_right --> if value not found, returns the next index (aka next candle index)\n",
    "        #     # reference: https://leetcode.com/problems/plates-between-candles/solutions/1549018/java-c-python-binary-search-and-o-q-n-solution/comments/1650548\n",
    "        #     # reference: https://docs.python.org/3/library/bisect.html\n",
    "        #     i = bisect.bisect_left(candles, left)        # returns first candle after left\n",
    "        #     j = bisect.bisect_right(candles, right) - 1  # returns first candle before right\n",
    "            \n",
    "        #     if i < j:\n",
    "        #         res.append((candles[j] - candles[i]) - (j - i))\n",
    "        #     else:\n",
    "        #         res.append(0)\n",
    "\n",
    "        # return res\n",
    "\n",
    "        # Solution 3: Prefix Sums - From solutions\n",
    "        # Time: O(N + Q)\n",
    "        # Space: O(N + Q)\n",
    "\n",
    "        nearestRight = []\n",
    "        nearestLeft = []\n",
    "        candleCount = []\n",
    "        \n",
    "        nearestCandle = -1\n",
    "        for i in range(len(s)):\n",
    "            if s[i]=='|':\n",
    "                nearestCandle = i\n",
    "            nearestLeft.append(nearestCandle)\n",
    "        \n",
    "        nearestCandle = -1\n",
    "        for i in range(len(s)-1,-1,-1):\n",
    "            if s[i]=='|':\n",
    "                nearestCandle = i\n",
    "            nearestRight.append(nearestCandle)\n",
    "        \n",
    "        nearestRight = nearestRight[::-1]\n",
    "\n",
    "        count = 0\n",
    "        for i in range(len(s)):\n",
    "            if s[i]==\"|\":\n",
    "                count += 1\n",
    "            candleCount.append(count)\n",
    "            \n",
    "        # print(nearestLeft)\n",
    "        # print(nearestRight)\n",
    "        # print(candleCount)\n",
    "        \n",
    "        ans = [0]*len(queries)\n",
    "        for i in range(len(ans)):\n",
    "            start = queries[i][0]\n",
    "            end = queries[i][1]\n",
    "            \n",
    "            left , right = nearestRight[start], nearestLeft[end]\n",
    "            dist = right - left\n",
    "            if left == -1 or right == -1:\n",
    "                ans[i] = 0\n",
    "            elif dist > 0:\n",
    "                ans[i] = right - left + 1 - (candleCount[right] - candleCount[left] +1)\n",
    "                # The count would be difference btn right and left nearest candle - number of candles in between.\n",
    "            else:\n",
    "                ans[i] = 0\n",
    "        return ans"
   ]
  },
  {
   "cell_type": "markdown",
   "metadata": {},
   "source": [
    "##### Edge Cases\n",
    "- "
   ]
  },
  {
   "cell_type": "markdown",
   "metadata": {},
   "source": [
    "##### Optimizations\n",
    "- "
   ]
  },
  {
   "cell_type": "markdown",
   "metadata": {},
   "source": [
    "##### Learnings\n",
    "- "
   ]
  },
  {
   "cell_type": "markdown",
   "metadata": {},
   "source": []
  }
 ],
 "metadata": {
  "kernelspec": {
   "display_name": "base",
   "language": "python",
   "name": "python3"
  },
  "language_info": {
   "codemirror_mode": {
    "name": "ipython",
    "version": 3
   },
   "file_extension": ".py",
   "mimetype": "text/x-python",
   "name": "python",
   "nbconvert_exporter": "python",
   "pygments_lexer": "ipython3",
   "version": "3.9.7"
  }
 },
 "nbformat": 4,
 "nbformat_minor": 2
}
