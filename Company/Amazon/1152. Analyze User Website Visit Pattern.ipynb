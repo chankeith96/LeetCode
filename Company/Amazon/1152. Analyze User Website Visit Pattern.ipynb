{
 "cells": [
  {
   "cell_type": "markdown",
   "metadata": {},
   "source": [
    "[1152. Analyze User Website Visit Pattern](https://leetcode.com/problems/analyze-user-website-visit-pattern/description/)"
   ]
  },
  {
   "cell_type": "code",
   "execution_count": null,
   "metadata": {},
   "outputs": [],
   "source": [
    "from collections import Counter\n",
    "from itertools import combinations\n",
    "\n",
    "class Solution:\n",
    "    def mostVisitedPattern(self, username: List[str], timestamp: List[int], website: List[str]) -> List[str]:\n",
    "        # Solution: https://leetcode.com/problems/analyze-user-website-visit-pattern/solutions/899805/detailed-easy-to-follow-python-solution-clearly-explained\n",
    "        # zip and sort lists by username, then timestamp to see websites visited by each user\n",
    "        # Create 3-website patterns for each user\n",
    "        # Count how many users used each pattern\n",
    "        # Time: \n",
    "        # Space:\n",
    "\n",
    "        user_to_websites = {}\n",
    "        for user, time, site in sorted(zip(username, timestamp, website), key = lambda x: (x[0], x[1])): #O(nlogn)\n",
    "            user_to_websites[user] = user_to_websites.get(user, [])\n",
    "            user_to_websites[user].append(site)\n",
    "\n",
    "        patterns = Counter()\n",
    "\n",
    "        # for user, sites in user_to_websites.items():\n",
    "            # patterns.update(Counter(set(combinations(sites, 3)))) \n",
    "\n",
    "        for user, sites in user_to_websites.items():\n",
    "            three_sequence_combos = combinations(sites, 3)\n",
    "            three_sequence_combos = set(three_sequence_combos)    # avoid counting repeats\n",
    "            three_sequence_combos = Counter(three_sequence_combos)     # convert to dictionary of counts\n",
    "\n",
    "            patterns.update(three_sequence_combos)    # count the number of users having the same 3-sequence\n",
    "\n",
    "        return max(sorted(patterns), key=patterns.get)"
   ]
  },
  {
   "cell_type": "markdown",
   "metadata": {},
   "source": [
    "##### Edge Cases\n",
    "- "
   ]
  },
  {
   "cell_type": "markdown",
   "metadata": {},
   "source": [
    "##### Optimizations\n",
    "- "
   ]
  },
  {
   "cell_type": "markdown",
   "metadata": {},
   "source": [
    "##### Learnings\n",
    "- Import common libararies \n",
    "    ```from collections import Counter``` ,\n",
    "    ```from itertools import combinations```\n",
    "- Important python syntax to know is that Counter.update() acts differently than a regular dictionary.update()\n",
    "    - regular dictionary.update() replaces the key-value pair. [Example](https://www.programiz.com/python-programming/methods/dictionary/update)\n",
    "    - Counter.update() adds the value to the key. [Example](https://www.geeksforgeeks.org/python-counter-update-method/)\n",
    "- If you use combinations, it maintains the order of the list. e.g for the list [1,2] the length one combinations will be [1], [2] and never [2], [1]\n",
    "- In this line max(sorted(patterns), key=patterns.get). max will take the first element with the max count. So if you sort by patterns first u get the lexicographically smallest pattern of the most common patterns"
   ]
  },
  {
   "cell_type": "markdown",
   "metadata": {},
   "source": []
  }
 ],
 "metadata": {
  "kernelspec": {
   "display_name": "base",
   "language": "python",
   "name": "python3"
  },
  "language_info": {
   "codemirror_mode": {
    "name": "ipython",
    "version": 3
   },
   "file_extension": ".py",
   "mimetype": "text/x-python",
   "name": "python",
   "nbconvert_exporter": "python",
   "pygments_lexer": "ipython3",
   "version": "3.9.7"
  }
 },
 "nbformat": 4,
 "nbformat_minor": 2
}
