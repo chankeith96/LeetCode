{
 "cells": [
  {
   "cell_type": "markdown",
   "metadata": {},
   "source": [
    "[42. Trapping Rain Water](https://leetcode.com/problems/trapping-rain-water/description/)"
   ]
  },
  {
   "cell_type": "code",
   "execution_count": null,
   "metadata": {},
   "outputs": [],
   "source": [
    "class Solution:\n",
    "    def trap(self, height: List[int]) -> int:\n",
    "        # # Solution 1: Brute Force\n",
    "        # # at each height, find the max water trapped by taking min(max_left, max_right) - height\n",
    "        # # Time: O(n^2)\n",
    "        # # Space: O(1)\n",
    "        # ans = 0\n",
    "\n",
    "        # for i in range(len(height)): \n",
    "        #     max_left = max(height[:i+1]) #include i \n",
    "        #     max_right = max(height[i:])\n",
    "        #     ans += min(max_left, max_right) - height[i]\n",
    "\n",
    "        # return ans\n",
    "\n",
    "        # Solution 3: Two pointers \n",
    "        # Intuition, instead of solution 1, let's try to store max_left and max_right instead of find it every iteration\n",
    "        # Need to notice that notice that as long as right_max[i]>left_max[i], the water trapped depends upon the left_max, and vice versa\n",
    "        # Time: O(n), one iteration\n",
    "        # Space: O(1)\n",
    "        left = 0\n",
    "        right = len(height) - 1\n",
    "        max_left = 0\n",
    "        max_right = 0\n",
    "        ans = 0\n",
    "\n",
    "        while left < right:\n",
    "            if height[left] < height[right]:\n",
    "                # update max_left if needed\n",
    "                max_left = max(max_left, height[left])\n",
    "\n",
    "                ans += max_left - height[left]\n",
    "                left += 1\n",
    "            else:\n",
    "                # update max_right if needed\n",
    "                max_right = max(max_right, height[right])\n",
    "\n",
    "                ans += max_right - height[right]\n",
    "                right -= 1\n",
    "\n",
    "        return ans"
   ]
  },
  {
   "cell_type": "markdown",
   "metadata": {},
   "source": [
    "##### Edge Cases\n",
    "- "
   ]
  },
  {
   "cell_type": "markdown",
   "metadata": {},
   "source": [
    "##### Optimizations\n",
    "- "
   ]
  },
  {
   "cell_type": "markdown",
   "metadata": {},
   "source": [
    "##### Learnings\n",
    "- "
   ]
  },
  {
   "cell_type": "markdown",
   "metadata": {},
   "source": []
  }
 ],
 "metadata": {
  "kernelspec": {
   "display_name": "base",
   "language": "python",
   "name": "python3"
  },
  "language_info": {
   "codemirror_mode": {
    "name": "ipython",
    "version": 3
   },
   "file_extension": ".py",
   "mimetype": "text/x-python",
   "name": "python",
   "nbconvert_exporter": "python",
   "pygments_lexer": "ipython3",
   "version": "3.9.7"
  }
 },
 "nbformat": 4,
 "nbformat_minor": 2
}
