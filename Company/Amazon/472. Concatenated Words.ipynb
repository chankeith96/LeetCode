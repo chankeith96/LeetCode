{
 "cells": [
  {
   "cell_type": "markdown",
   "metadata": {},
   "source": [
    "[472. Concatenated Words](https://leetcode.com/problems/concatenated-words/description/)"
   ]
  },
  {
   "cell_type": "code",
   "execution_count": null,
   "metadata": {},
   "outputs": [],
   "source": [
    "class Solution:\n",
    "    def findAllConcatenatedWordsInADict(self, words: List[str]) -> List[str]:\n",
    "        # Solution 1: Bottom-up DP\n",
    "        # Time: O(m^3*n) , n = len(words), m = length of longest string in words\n",
    "        # Space: O(n*m)\n",
    "        word_dict = set(words)\n",
    "        ans = []\n",
    "\n",
    "        for word in words:\n",
    "            word_len = len(word)\n",
    "            dp = [False] * (word_len + 1)\n",
    "            dp[0] = True\n",
    "\n",
    "            for i in range(1, word_len+1):\n",
    "                # for j in range(i - 1, max(i - word_len - 1, -1), -1): # O(k) \n",
    "                for j in range((i == word_len) and 1 or 0, i):\n",
    "                    if dp[j] and word[j:i] in word_dict: # O(m)?\n",
    "                        dp[i] = True\n",
    "\n",
    "            if dp[-1]:\n",
    "                ans.append(word)\n",
    "        \n",
    "        return ans"
   ]
  },
  {
   "cell_type": "markdown",
   "metadata": {},
   "source": [
    "##### Edge Cases\n",
    "- "
   ]
  },
  {
   "cell_type": "markdown",
   "metadata": {},
   "source": [
    "##### Optimizations\n",
    "- "
   ]
  },
  {
   "cell_type": "markdown",
   "metadata": {},
   "source": [
    "##### Learnings\n",
    "- Honestly didn't really grasp the solution"
   ]
  },
  {
   "cell_type": "markdown",
   "metadata": {},
   "source": []
  }
 ],
 "metadata": {
  "kernelspec": {
   "display_name": "base",
   "language": "python",
   "name": "python3"
  },
  "language_info": {
   "codemirror_mode": {
    "name": "ipython",
    "version": 3
   },
   "file_extension": ".py",
   "mimetype": "text/x-python",
   "name": "python",
   "nbconvert_exporter": "python",
   "pygments_lexer": "ipython3",
   "version": "3.9.7"
  }
 },
 "nbformat": 4,
 "nbformat_minor": 2
}
