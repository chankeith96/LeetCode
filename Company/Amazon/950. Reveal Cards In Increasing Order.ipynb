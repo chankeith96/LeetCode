{
 "cells": [
  {
   "cell_type": "markdown",
   "metadata": {},
   "source": [
    "[950. Reveal Cards In Increasing Order](https://leetcode.com/problems/reveal-cards-in-increasing-order/description/)"
   ]
  },
  {
   "cell_type": "code",
   "execution_count": null,
   "metadata": {},
   "outputs": [],
   "source": [
    "class Solution:\n",
    "    def deckRevealedIncreasing(self, deck: List[int]) -> List[int]:\n",
    "        # Solution 1: Simulation w Queue\n",
    "        # sort deck, and create result array\n",
    "        # Create a queue to simulate the shuffle pattern\n",
    "        # q represents which indexes are revealed first, sorted deck represents the desired result\n",
    "        # so we're trying to work backwards to get result\n",
    "        # Time: O(nlogn)\n",
    "        # Space: O(n) for queue\n",
    "\n",
    "        deck.sort()\n",
    "        N = len(deck)\n",
    "        result = [0] * N\n",
    "\n",
    "        # Create a queue of indexes\n",
    "        q = deque([i for i in range(N)])\n",
    "\n",
    "        # Put cards at correct index in result\n",
    "        for card in deck:\n",
    "            idx = q.popleft()\n",
    "            result[idx] = card\n",
    "\n",
    "            if q:\n",
    "                idx2 = q.popleft()\n",
    "                q.append(idx2)\n",
    "\n",
    "        return result"
   ]
  },
  {
   "cell_type": "markdown",
   "metadata": {},
   "source": [
    "##### Edge Cases\n",
    "- "
   ]
  },
  {
   "cell_type": "markdown",
   "metadata": {},
   "source": [
    "##### Optimizations\n",
    "- "
   ]
  },
  {
   "cell_type": "markdown",
   "metadata": {},
   "source": [
    "##### Learnings\n",
    "- "
   ]
  },
  {
   "cell_type": "markdown",
   "metadata": {},
   "source": []
  }
 ],
 "metadata": {
  "kernelspec": {
   "display_name": "base",
   "language": "python",
   "name": "python3"
  },
  "language_info": {
   "codemirror_mode": {
    "name": "ipython",
    "version": 3
   },
   "file_extension": ".py",
   "mimetype": "text/x-python",
   "name": "python",
   "nbconvert_exporter": "python",
   "pygments_lexer": "ipython3",
   "version": "3.9.7"
  }
 },
 "nbformat": 4,
 "nbformat_minor": 2
}
