{
 "cells": [
  {
   "cell_type": "markdown",
   "metadata": {},
   "source": [
    "[994. Rotting Oranges](https://leetcode.com/problems/rotting-oranges/description/)"
   ]
  },
  {
   "cell_type": "code",
   "execution_count": null,
   "metadata": {},
   "outputs": [],
   "source": [
    "class Solution:\n",
    "    def orangesRotting(self, grid: List[List[int]]) -> int:\n",
    "        # Solution 1: BFS\n",
    "        # Case 1: regular\n",
    "        # Case 2: unreachable fresh orange\n",
    "        # Case 3: multiple rotten oranges\n",
    "        # search grid for all rotten oranges and add to q, O(mn)\n",
    "        # use BFS to rot all fresh oranges. Keep track of iterations, O(mn) \n",
    "        # check if any fresh oranges left in grid , O(mn)\n",
    "        # Time: O(mn)\n",
    "        # Space: O(mn)\n",
    "        ROWS, COLS = len(grid), len(grid[0]) \n",
    "        q = deque([])\n",
    "        fresh_oranges = 0\n",
    "        ans = 0\n",
    "\n",
    "        for r in range(ROWS):\n",
    "            for c in range(COLS):\n",
    "                if grid[r][c] == 2:\n",
    "                    q.append((r,c))\n",
    "                if grid[r][c] == 1:\n",
    "                    fresh_oranges += 1\n",
    "\n",
    "        def bfs(q):\n",
    "            nonlocal ans\n",
    "            nonlocal fresh_oranges\n",
    "            while q and fresh_oranges > 0:\n",
    "                \n",
    "                for i in range(len(q)): # Iterate each level\n",
    "                    row, col = q.popleft()\n",
    "\n",
    "                    # add neighbors\n",
    "                    directions = [(1,0), (0,1), (-1,0), (0,-1)]\n",
    "                    for dr, dc in directions:\n",
    "                        new_row = row + dr\n",
    "                        new_col = col + dc\n",
    "\n",
    "                        if (new_row >= 0 and new_col >= 0 and\n",
    "                            new_row < ROWS and new_col < COLS and\n",
    "                            grid[new_row][new_col] == 1):\n",
    "                            q.append((new_row, new_col))\n",
    "                            grid[new_row][new_col] = 2\n",
    "                            fresh_oranges -= 1\n",
    "\n",
    "                # Keep track of minutes/iterations\n",
    "                ans += 1\n",
    "\n",
    "        bfs(q)\n",
    "\n",
    "        # Check if any fresh oranges left\n",
    "        for r in range(ROWS):\n",
    "            for c in range(COLS):\n",
    "                if grid[r][c] == 1:\n",
    "                    return -1\n",
    "        \n",
    "        return ans if fresh_oranges == 0 else -1 "
   ]
  },
  {
   "cell_type": "markdown",
   "metadata": {},
   "source": [
    "##### Edge Cases\n",
    "- "
   ]
  },
  {
   "cell_type": "markdown",
   "metadata": {},
   "source": [
    "##### Optimizations\n",
    "- "
   ]
  },
  {
   "cell_type": "markdown",
   "metadata": {},
   "source": [
    "##### Learnings\n",
    "- Tricky edge cases, trick might be to count number of fresh oranges before doing bfs. \n",
    "- This BFS question is a little different than others, bc you have to scan the entire grid and add to a queue before running BFS"
   ]
  }
 ],
 "metadata": {
  "kernelspec": {
   "display_name": "base",
   "language": "python",
   "name": "python3"
  },
  "language_info": {
   "codemirror_mode": {
    "name": "ipython",
    "version": 3
   },
   "file_extension": ".py",
   "mimetype": "text/x-python",
   "name": "python",
   "nbconvert_exporter": "python",
   "pygments_lexer": "ipython3",
   "version": "3.9.7"
  }
 },
 "nbformat": 4,
 "nbformat_minor": 2
}
