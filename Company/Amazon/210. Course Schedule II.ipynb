{
 "cells": [
  {
   "cell_type": "markdown",
   "metadata": {},
   "source": [
    "[210. Course Schedule II](https://leetcode.com/problems/course-schedule-ii/description/)"
   ]
  },
  {
   "cell_type": "code",
   "execution_count": null,
   "metadata": {},
   "outputs": [],
   "source": [
    "class Solution:\n",
    "    def findOrder(self, numCourses: int, prerequisites: List[List[int]]) -> List[int]:\n",
    "        # Solution 1: DFS \n",
    "        # Create adjacency list for prereqs\n",
    "        # Run DFS from each node (each node bc might be disjoint graph)\n",
    "        # Use visited set to make sure no cycles in graph. \n",
    "        # Time: O(V+E)\n",
    "        # Space: O(V+E)\n",
    "\n",
    "        # Create adjacency list\n",
    "        course_to_prereq = {i: [] for i in range(numCourses)}\n",
    "        for crs, prereq in prerequisites: \n",
    "            course_to_prereq[crs].append(prereq)\n",
    "\n",
    "\n",
    "        visited = {i: 0 for i in range(numCourses)}\n",
    "        cycle_found = False\n",
    "        res = []\n",
    "\n",
    "        def dfs(start_node):\n",
    "            nonlocal cycle_found\n",
    "            \n",
    "            # Base cases\n",
    "            if visited[start_node] == 1:\n",
    "                cycle_found = True\n",
    "                return\n",
    "            \n",
    "            # Recursive case\n",
    "            if visited[start_node] == 0:\n",
    "                visited[start_node] = 1\n",
    "                for prereq in course_to_prereq[start_node]:\n",
    "                    dfs(prereq)\n",
    "                \n",
    "                # mark node as \"completed\" after processing neighbors\n",
    "                visited[start_node] = 2\n",
    "                res.append(start_node)\n",
    "\n",
    "        # Call dfs on all unvisited nodes\n",
    "        for i in range(numCourses):\n",
    "            if visited[i] == 0:\n",
    "                dfs(i)\n",
    "\n",
    "        if cycle_found:\n",
    "            return []\n",
    "        else:\n",
    "            return res\n",
    "\n",
    "\n",
    "        # # Solution 2: Node Indegree\n",
    "        # # We use a graph, were prereq points to course\n",
    "        # # The idea is we process nodes with 0 in-degrees, meaning those are prereqs and have no dependencies  \n",
    "        # # Create adjacency list for prereqs\n",
    "        # # Keep track of in-degrees in a dict\n",
    "        # # Time: O(V+E)\n",
    "        # # Space: O(V+E)\n",
    "\n",
    "        # # Create adjacency list\n",
    "        # indegrees = {}\n",
    "        # course_to_prereq = {i: [] for i in range(numCourses)}\n",
    "        # for crs, prereq in prerequisites: \n",
    "        #     course_to_prereq[crs].append(prereq)\n",
    "        #     indegrees[prereq] = indegrees.get(prereq, 0) + 1\n",
    "\n",
    "\n",
    "        # # Create a queue of courses\n",
    "        # q = deque([k for k in range(numCourses) if k not in indegrees])\n",
    "        # res = []\n",
    "\n",
    "        # while q:\n",
    "        #     course = q.popleft()\n",
    "        #     for prereq in course_to_prereq[course]:\n",
    "        #         indegrees[prereq] -= 1\n",
    "        #         if indegrees[prereq] == 0:\n",
    "        #             q.append(prereq)\n",
    "        #     res.append(course)\n",
    "\n",
    "        # return res[::-1] if len(res) == numCourses else []"
   ]
  },
  {
   "cell_type": "markdown",
   "metadata": {},
   "source": [
    "##### Edge Cases\n",
    "- "
   ]
  },
  {
   "cell_type": "markdown",
   "metadata": {},
   "source": [
    "##### Optimizations\n",
    "- "
   ]
  },
  {
   "cell_type": "markdown",
   "metadata": {},
   "source": [
    "##### Learnings\n",
    "- Something different about this question from LC207 Course Schedule is that you have to keep track of multiple states of the nodes (not visited, visited, completed). \n",
    "- This is different than most DFS implementation with a 'visited' set()\n",
    "- Just bc you revisit a node that has already been \"completed\" before doesn't mean there's a cycle\n",
    "- I didn't spend much time trying to understand solution 2"
   ]
  },
  {
   "cell_type": "markdown",
   "metadata": {},
   "source": []
  }
 ],
 "metadata": {
  "kernelspec": {
   "display_name": "base",
   "language": "python",
   "name": "python3"
  },
  "language_info": {
   "codemirror_mode": {
    "name": "ipython",
    "version": 3
   },
   "file_extension": ".py",
   "mimetype": "text/x-python",
   "name": "python",
   "nbconvert_exporter": "python",
   "pygments_lexer": "ipython3",
   "version": "3.9.7"
  }
 },
 "nbformat": 4,
 "nbformat_minor": 2
}
