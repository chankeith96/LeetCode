{
 "cells": [
  {
   "cell_type": "markdown",
   "metadata": {},
   "source": [
    "[937. Reorder Data in Log Files](https://leetcode.com/problems/reorder-data-in-log-files/description/)"
   ]
  },
  {
   "cell_type": "code",
   "execution_count": null,
   "metadata": {},
   "outputs": [],
   "source": [
    "class Solution:\n",
    "    def reorderLogFiles(self, logs: List[str]) -> List[str]:\n",
    "        # 3 steps sort\n",
    "        # letter logs < dig logs\n",
    "        # Sort letter logs by content\n",
    "        # sort letter logs by identifier\n",
    "\n",
    "        # Solution 1: \n",
    "        # get tuples (content, id)\n",
    "        # separate into letter logs and dig logs. Store dig logs in separate list\n",
    "        # sort letter logs by content, then identifier\n",
    "        # append to results\n",
    "        # Time: O(nlogn)\n",
    "        # Space: O(n)\n",
    "\n",
    "        def get_content_tuples(log):\n",
    "            split = log.split(\" \", 1) # O(n)\n",
    "            identifier, content = split[0], split[1]\n",
    "            return (content, identifier)\n",
    "\n",
    "        tuples = [get_content_tuples(log) for log in logs] # O(n)\n",
    "        dig_logs = []\n",
    "        let_logs = []\n",
    "        for content, identifier in tuples: # O(n)\n",
    "            if content[0].isdigit():\n",
    "                dig_logs.append((content, identifier))\n",
    "            else:\n",
    "                let_logs.append((content, identifier))\n",
    "            \n",
    "        let_logs.sort() # O(nlogn)\n",
    "        return [ide + \" \" + content for content, ide in let_logs] + [ide + \" \" + content for content, ide in dig_logs]\n",
    "        \n",
    "        # Solution 2: Editorial - Python Syntax\n",
    "        # Time: (mnlogn), m = max length of log, n = number of logs\n",
    "        # Space: O(mn)\n",
    "        def get_key(log):\n",
    "            _id, rest = log.split(\" \", maxsplit=1)\n",
    "            return (0, rest, _id) if rest[0].isalpha() else (1, )\n",
    "\n",
    "        return sorted(logs, key=get_key)\n",
    "\n",
    "    "
   ]
  },
  {
   "cell_type": "markdown",
   "metadata": {},
   "source": [
    "##### Edge Cases\n",
    "- "
   ]
  },
  {
   "cell_type": "markdown",
   "metadata": {},
   "source": [
    "##### Optimizations\n",
    "- "
   ]
  },
  {
   "cell_type": "markdown",
   "metadata": {},
   "source": [
    "##### Learnings\n",
    "- "
   ]
  }
 ],
 "metadata": {
  "kernelspec": {
   "display_name": "base",
   "language": "python",
   "name": "python3"
  },
  "language_info": {
   "codemirror_mode": {
    "name": "ipython",
    "version": 3
   },
   "file_extension": ".py",
   "mimetype": "text/x-python",
   "name": "python",
   "nbconvert_exporter": "python",
   "pygments_lexer": "ipython3",
   "version": "3.9.7"
  }
 },
 "nbformat": 4,
 "nbformat_minor": 2
}
