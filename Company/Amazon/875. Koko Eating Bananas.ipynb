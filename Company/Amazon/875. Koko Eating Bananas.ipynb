{
 "cells": [
  {
   "cell_type": "markdown",
   "metadata": {},
   "source": [
    "[875. Koko Eating Bananas](https://leetcode.com/problems/koko-eating-bananas/description/)"
   ]
  },
  {
   "cell_type": "code",
   "execution_count": null,
   "metadata": {},
   "outputs": [],
   "source": [
    "class Solution:\n",
    "    def minEatingSpeed(self, piles: List[int], h: int) -> int:\n",
    "        # # Solution 1: Iterative Search - Time limit exceeded\n",
    "        # # Time: O(mn), n=len(piles) and m=max(piles)\n",
    "        # # Space: O(1)\n",
    "        # k = 1\n",
    "        # while True:\n",
    "        #     # hours_needed = sum([(pile // k) + (pile % k > 0) for pile in piles])\n",
    "        #     hours_needed = sum([math.ceil(pile / k) for pile in piles])\n",
    "        #     if hours_needed <= h:\n",
    "        #         return k\n",
    "        #     k += 1\n",
    "        \n",
    "        # Solution 2: Binary Search\n",
    "        # Time: n*log(m), n=len(piles) and m=max(piles)\n",
    "        # Space: O(1) \n",
    "\n",
    "        def binary_search(target):\n",
    "            left = 1\n",
    "            right = max(piles)\n",
    "\n",
    "            while left < right: \n",
    "                mid = (left + right) // 2\n",
    "                hours_needed = sum([math.ceil(pile / mid) for pile in piles])\n",
    "                if hours_needed <= target:\n",
    "                    right = mid\n",
    "                else:\n",
    "                    left = mid + 1\n",
    "            return left\n",
    "        return binary_search(h)\n",
    "\n"
   ]
  },
  {
   "cell_type": "markdown",
   "metadata": {},
   "source": [
    "##### Edge Cases\n",
    "- "
   ]
  },
  {
   "cell_type": "markdown",
   "metadata": {},
   "source": [
    "##### Optimizations\n",
    "- "
   ]
  },
  {
   "cell_type": "markdown",
   "metadata": {},
   "source": [
    "##### Learnings\n",
    "- "
   ]
  },
  {
   "cell_type": "markdown",
   "metadata": {},
   "source": []
  }
 ],
 "metadata": {
  "kernelspec": {
   "display_name": "base",
   "language": "python",
   "name": "python3"
  },
  "language_info": {
   "codemirror_mode": {
    "name": "ipython",
    "version": 3
   },
   "file_extension": ".py",
   "mimetype": "text/x-python",
   "name": "python",
   "nbconvert_exporter": "python",
   "pygments_lexer": "ipython3",
   "version": "3.9.7"
  }
 },
 "nbformat": 4,
 "nbformat_minor": 2
}
