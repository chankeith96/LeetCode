{
 "cells": [
  {
   "cell_type": "markdown",
   "metadata": {},
   "source": [
    "[273. Integer to English Words](https://leetcode.com/problems/integer-to-english-words/description/)"
   ]
  },
  {
   "cell_type": "code",
   "execution_count": null,
   "metadata": {},
   "outputs": [],
   "source": [
    "class Solution:\n",
    "    def numberToWords(self, num: int) -> str:\n",
    "        \"\"\"\n",
    "        Let me try to explain my intuition, suppose I give you a number 109,320 \n",
    "        you would tell me \"one hundred nine *thousand* three hundred twenty\", \n",
    "        now let us take another number 500,109,320, \n",
    "        ans is \"Five Hundred *Million* One Hundred Nine *Thousand* Three Hundred Twenty\", \n",
    "        do you see the pattern now? Suppose we had a function which would tell \n",
    "        the correct answer upto three digits, we are done except for the middle parts right? \n",
    "        This is where we use recursion, for example the answer for a number between \n",
    "        a million and a billion is \n",
    "        word(number divided by a million) + \"million\" + word(remainder part after dividing by a million).\n",
    "        \"\"\"\n",
    "\n",
    "        to19 = 'One Two Three Four Five Six Seven Eight Nine Ten Eleven Twelve ' \\\n",
    "        'Thirteen Fourteen Fifteen Sixteen Seventeen Eighteen Nineteen'.split()\n",
    "        tens = 'Twenty Thirty Forty Fifty Sixty Seventy Eighty Ninety'.split()\n",
    "        bigs = {1000000000:'Billion', 1000000:'Million', 1000:'Thousand'}\n",
    "\n",
    "        def words(n):\n",
    "            if n < 20:\n",
    "                return to19[n-1:n]\n",
    "            if n < 100:\n",
    "                return [tens[n//10-2]] + words(n%10)\n",
    "            if n < 1000:\n",
    "                return [to19[n//100-1]] + ['Hundred'] + words(n%100)\n",
    "            else:\n",
    "                for i in [1000000000, 1000000, 1000]: # for i in bigs.keys():\n",
    "                    if n//i > 0:\n",
    "                        return words(n//i) + [bigs[i]] + words(n%i)\n",
    "        return ' '.join(words(num)) or 'Zero'"
   ]
  },
  {
   "cell_type": "markdown",
   "metadata": {},
   "source": [
    "##### Edge Cases\n",
    "- "
   ]
  },
  {
   "cell_type": "markdown",
   "metadata": {},
   "source": [
    "##### Optimizations\n",
    "- "
   ]
  },
  {
   "cell_type": "markdown",
   "metadata": {},
   "source": [
    "##### Learnings\n",
    "- This is one of those not worth really learning.\n",
    "- Hint1: Did you see a pattern in dividing the number into chunk of words? For example, 123 and 123000.\n",
    "- Hint2: Group the number by thousands (3 digits). You can write a helper function that takes a number less than 1000 and convert just that chunk to words.\n",
    "- Hint3: There are many edge cases. What are some good test cases? Does your code work with input such as 0? Or 1000010? (middle chunk is zero and should not be printed out)"
   ]
  },
  {
   "cell_type": "markdown",
   "metadata": {},
   "source": []
  }
 ],
 "metadata": {
  "kernelspec": {
   "display_name": "base",
   "language": "python",
   "name": "python3"
  },
  "language_info": {
   "codemirror_mode": {
    "name": "ipython",
    "version": 3
   },
   "file_extension": ".py",
   "mimetype": "text/x-python",
   "name": "python",
   "nbconvert_exporter": "python",
   "pygments_lexer": "ipython3",
   "version": "3.9.7"
  }
 },
 "nbformat": 4,
 "nbformat_minor": 2
}
