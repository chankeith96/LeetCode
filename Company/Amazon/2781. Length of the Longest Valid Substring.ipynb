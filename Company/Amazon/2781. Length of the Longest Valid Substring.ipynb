{
 "cells": [
  {
   "cell_type": "markdown",
   "metadata": {},
   "source": [
    "[2781. Length of the Longest Valid Substring](https://leetcode.com/problems/length-of-the-longest-valid-substring/description/)"
   ]
  },
  {
   "cell_type": "code",
   "execution_count": null,
   "metadata": {},
   "outputs": [],
   "source": [
    "class Solution:\n",
    "    def longestValidSubstring(self, word: str, forbidden: List[str]) -> int:\n",
    "        # Solution 1: Brute force\n",
    "        # Create every substring combo, O(n^2)\n",
    "        # sort substrings by length, O(nlogn)\n",
    "        # check if each substring contains forbidden substrings, O(n^2*m)\n",
    "        # Time: O(n^2*m) , n = len(word), m = len(forbidden)\n",
    "\n",
    "        # Solution 2: Two-pointer\n",
    "        # Work backwards from word\n",
    "        # At each char, check max 10 substrings to see if substring contains forbidden strings\n",
    "        # If yes, you know the rest of the substrings won't be valid either so move right ptr\n",
    "        # Time: O(n), n = len(word)\n",
    "        # Space: O(m), m = len(forbidden)\n",
    "        forbidden = set(forbidden)\n",
    "        right = len(word) - 1\n",
    "        ans = 0 \n",
    "\n",
    "        for left in range(len(word) - 1, -1, -1):\n",
    "            for k in range(left, min(left + 10, right + 1)):\n",
    "                if word[left:k+1] in forbidden:\n",
    "                    right = k - 1\n",
    "                    break\n",
    "            ans = max(ans, right - left + 1)\n",
    "        \n",
    "        return ans\n",
    "\n",
    "        # right: 7\n",
    "        # left: 7,6,...3\n",
    "        # k: 7-8,6-8, ...3-8"
   ]
  },
  {
   "cell_type": "markdown",
   "metadata": {},
   "source": [
    "##### Edge Cases\n",
    "- "
   ]
  },
  {
   "cell_type": "markdown",
   "metadata": {},
   "source": [
    "##### Optimizations\n",
    "- "
   ]
  },
  {
   "cell_type": "markdown",
   "metadata": {},
   "source": [
    "##### Learnings\n",
    "- The key to this problem is to realize the following condition: 1 <= forbidden[i].length <= 10"
   ]
  }
 ],
 "metadata": {
  "kernelspec": {
   "display_name": "base",
   "language": "python",
   "name": "python3"
  },
  "language_info": {
   "codemirror_mode": {
    "name": "ipython",
    "version": 3
   },
   "file_extension": ".py",
   "mimetype": "text/x-python",
   "name": "python",
   "nbconvert_exporter": "python",
   "pygments_lexer": "ipython3",
   "version": "3.9.7"
  }
 },
 "nbformat": 4,
 "nbformat_minor": 2
}
