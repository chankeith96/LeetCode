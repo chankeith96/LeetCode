{
 "cells": [
  {
   "cell_type": "markdown",
   "metadata": {},
   "source": [
    "[1485. Clone Binary Tree With Random Pointer](https://leetcode.com/problems/clone-binary-tree-with-random-pointer/description/)"
   ]
  },
  {
   "cell_type": "code",
   "execution_count": null,
   "metadata": {},
   "outputs": [],
   "source": [
    "# Definition for Node.\n",
    "# class Node:\n",
    "#     def __init__(self, val=0, left=None, right=None, random=None):\n",
    "#         self.val = val\n",
    "#         self.left = left\n",
    "#         self.right = right\n",
    "#         self.random = random\n",
    "\n",
    "class Solution:\n",
    "    def copyRandomBinaryTree(self, root: 'Optional[Node]') -> 'Optional[NodeCopy]':\n",
    "        # # Solution 1: DFS 2-pass\n",
    "        # # First DFS to copy nodes\n",
    "        # # use hashmap to map old to new nodes\n",
    "        # # Second DFS to make the random connections\n",
    "        # # Time: O(2n)\n",
    "        # # Space: O(n) for recursive call stack and hashmap\n",
    "        # old_to_new = {}\n",
    "        # old_to_new[None] = None\n",
    "\n",
    "        # def dfs_copy(node):\n",
    "        #     # Base case\n",
    "        #     if not node:\n",
    "        #         return None\n",
    "\n",
    "        #     # Recursive case\n",
    "        #     old_to_new[node] = NodeCopy(node.val)\n",
    "        #     new_node = old_to_new[node]\n",
    "        #     new_node.left = dfs_copy(node.left)\n",
    "        #     new_node.right = dfs_copy(node.right)\n",
    "        #     return new_node\n",
    "\n",
    "        # def dfs_random_connections(node):  \n",
    "        #     # Base case\n",
    "        #     if not node:\n",
    "        #         return \n",
    "\n",
    "        #     # Recursive case\n",
    "        #     new_node = old_to_new[node]\n",
    "        #     new_node.random = old_to_new[node.random] \n",
    "        #     dfs_random_connections(node.left)\n",
    "        #     dfs_random_connections(node.right)\n",
    "\n",
    "        # dfs_copy(root)\n",
    "        # dfs_random_connections(root)\n",
    "        # return old_to_new[root]\n",
    "\n",
    "        # Solution 2: DFS 1-pass\n",
    "        # Imagine tree as a graph, where each node has up to 3 outgoing edges. \n",
    "        # DFS to traverse and copy nodes\n",
    "        # use hashmap to track seen nodes. If node is seen, then stop traversal\n",
    "        # Time: O(n)\n",
    "        # Space: O(n) for recursive call stack and hashmap\n",
    "        seen = {}\n",
    "\n",
    "        def dfs(node):\n",
    "            # Base case\n",
    "            if not node:\n",
    "                return None\n",
    "\n",
    "            # Recursive case\n",
    "            if not seen.get(node, None):\n",
    "                new_node = NodeCopy(node.val)\n",
    "                seen[node] = new_node # Important to put this before further traversal! \n",
    "                new_node.left = dfs(node.left)\n",
    "                new_node.right = dfs(node.right)\n",
    "                new_node.random = dfs(node.random)\n",
    "                # seen[node] = new_node\n",
    "            return seen[node]\n",
    "        \n",
    "        return dfs(root)"
   ]
  },
  {
   "cell_type": "markdown",
   "metadata": {},
   "source": [
    "##### Edge Cases\n",
    "- "
   ]
  },
  {
   "cell_type": "markdown",
   "metadata": {},
   "source": [
    "##### Optimizations\n",
    "- "
   ]
  },
  {
   "cell_type": "markdown",
   "metadata": {},
   "source": [
    "##### Learnings\n",
    "- "
   ]
  },
  {
   "cell_type": "markdown",
   "metadata": {},
   "source": []
  }
 ],
 "metadata": {
  "kernelspec": {
   "display_name": "base",
   "language": "python",
   "name": "python3"
  },
  "language_info": {
   "codemirror_mode": {
    "name": "ipython",
    "version": 3
   },
   "file_extension": ".py",
   "mimetype": "text/x-python",
   "name": "python",
   "nbconvert_exporter": "python",
   "pygments_lexer": "ipython3",
   "version": "3.9.7"
  }
 },
 "nbformat": 4,
 "nbformat_minor": 2
}
