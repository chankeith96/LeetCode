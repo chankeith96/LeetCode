{
 "cells": [
  {
   "cell_type": "markdown",
   "metadata": {},
   "source": [
    "[2870. Minimum Number of Operations to Make Array Empty](https://leetcode.com/problems/minimum-number-of-operations-to-make-array-empty/description/)"
   ]
  },
  {
   "cell_type": "code",
   "execution_count": null,
   "metadata": {},
   "outputs": [],
   "source": [
    "from math import ceil\n",
    "\n",
    "class Solution:\n",
    "    def minOperations(self, nums: List[int]) -> int:\n",
    "        # Solution 1:\n",
    "        # Create frequency counter \n",
    "        # For each unique int, check if freq is divisible by 2 or 3\n",
    "        # If not, return -1\n",
    "        # If divisible by 3, remove 3. Else remove 2. keep track of operations\n",
    "        # return res \n",
    "        # Time: O(n)\n",
    "        # Space: O(n)\n",
    "        from collections import Counter\n",
    "        \n",
    "        num_freq = Counter(nums)\n",
    "        res = 0\n",
    "\n",
    "        for freq in num_freq.values():\n",
    "            if freq == 1:\n",
    "                return -1\n",
    "            else:\n",
    "                res += ceil(freq / 3)\n",
    "            \n",
    "        return res\n",
    "\n"
   ]
  },
  {
   "cell_type": "markdown",
   "metadata": {},
   "source": [
    "##### Edge Cases\n",
    "- "
   ]
  },
  {
   "cell_type": "markdown",
   "metadata": {},
   "source": [
    "##### Optimizations\n",
    "- "
   ]
  },
  {
   "cell_type": "markdown",
   "metadata": {},
   "source": [
    "##### Learnings\n",
    "- Need to import: from math import ceil\n",
    "- Strange: This problem looks like DP or recursion (like the climbing stairs problem) but DP is overkill and greedy is enough"
   ]
  },
  {
   "cell_type": "markdown",
   "metadata": {},
   "source": []
  }
 ],
 "metadata": {
  "kernelspec": {
   "display_name": "base",
   "language": "python",
   "name": "python3"
  },
  "language_info": {
   "codemirror_mode": {
    "name": "ipython",
    "version": 3
   },
   "file_extension": ".py",
   "mimetype": "text/x-python",
   "name": "python",
   "nbconvert_exporter": "python",
   "pygments_lexer": "ipython3",
   "version": "3.9.7"
  }
 },
 "nbformat": 4,
 "nbformat_minor": 2
}
