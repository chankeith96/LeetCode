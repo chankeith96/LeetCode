{
 "cells": [
  {
   "cell_type": "markdown",
   "metadata": {},
   "source": [
    "[127. Word Ladder](https://leetcode.com/problems/word-ladder/description/)"
   ]
  },
  {
   "cell_type": "code",
   "execution_count": null,
   "metadata": {},
   "outputs": [],
   "source": [
    "class Solution:\n",
    "    def ladderLength(self, beginWord: str, endWord: str, wordList: List[str]) -> int:\n",
    "        # Solution\n",
    "        # Think of beginWord and endWord as the start and end nodes of a graph\n",
    "        # intermediate nodes are given in wordList. This becomes find shortest path question (i.e. BFS)\n",
    "        # Key part of the problem is how to find adjacent nodes (words differing by 1)\n",
    "        # We use a dict of generic transformations for preprocessing  \n",
    "        # Time: O(M^2 * N), M = length of each word, N = total number of words\n",
    "        # Space: O(M^2 * N)\n",
    "\n",
    "        # Preprocessing\n",
    "        all_combo_dict = {}\n",
    "        for word in wordList: # O(N)\n",
    "            for i in range(len(word)): # O(M) \n",
    "                generic_state = word[:i] + \"*\" + word[i+1:] # O(M)\n",
    "                # In Python, list slicing out of bounds doesn't give error\n",
    "                # if i+1 < len(word):\n",
    "                #     generic_state += word[i+1:]\n",
    "                # gen_state_str = \"\".join(generic_state) # unnecessary bc generic_state is already str \n",
    "                all_combo_dict[generic_state] = all_combo_dict.get(generic_state, [])\n",
    "                all_combo_dict[generic_state].append(word)\n",
    "\n",
    "        # print(all_combo_dict) \n",
    "\n",
    "        # BFS\n",
    "        visited = set()\n",
    "        def bfs(word, level): # O(V + e), (MN vertices, O(M) to build gen state)\n",
    "            visited.add(word)\n",
    "            q = deque([(word, level)])\n",
    "            \n",
    "            while q:\n",
    "                wrd, lvl = q.popleft()\n",
    "                if wrd == endWord:\n",
    "                    return lvl\n",
    "\n",
    "                neighbors = []\n",
    "                for i in range(len(wrd)): # O(M) \n",
    "                    generic_state = wrd[:i] + \"*\" + wrd[i+1:]\n",
    "                    neighbors.extend(all_combo_dict.get(generic_state, []))\n",
    "\n",
    "                    # # Time optimization \n",
    "                    # all_combo_dict[generic_state] = []\n",
    "\n",
    "                for nei in neighbors:\n",
    "                    if nei == endWord:\n",
    "                        return lvl + 1\n",
    "                        \n",
    "                    if nei not in visited:\n",
    "                        q.append((nei, lvl + 1))\n",
    "                        visited.add(nei)\n",
    "            return 0\n",
    "\n",
    "        return bfs(beginWord, 1)"
   ]
  },
  {
   "cell_type": "markdown",
   "metadata": {},
   "source": [
    "##### Edge Cases\n",
    "- "
   ]
  },
  {
   "cell_type": "markdown",
   "metadata": {},
   "source": [
    "##### Optimizations\n",
    "- "
   ]
  },
  {
   "cell_type": "markdown",
   "metadata": {},
   "source": [
    "##### Learnings\n",
    "- In Python, list slicing out of bounds doesn't give error"
   ]
  },
  {
   "cell_type": "markdown",
   "metadata": {},
   "source": []
  }
 ],
 "metadata": {
  "kernelspec": {
   "display_name": "base",
   "language": "python",
   "name": "python3"
  },
  "language_info": {
   "codemirror_mode": {
    "name": "ipython",
    "version": 3
   },
   "file_extension": ".py",
   "mimetype": "text/x-python",
   "name": "python",
   "nbconvert_exporter": "python",
   "pygments_lexer": "ipython3",
   "version": "3.9.7"
  }
 },
 "nbformat": 4,
 "nbformat_minor": 2
}
