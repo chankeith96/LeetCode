{
 "cells": [
  {
   "cell_type": "markdown",
   "metadata": {},
   "source": [
    "[39. Combination Sum](https://leetcode.com/problems/combination-sum/)"
   ]
  },
  {
   "cell_type": "code",
   "execution_count": null,
   "metadata": {},
   "outputs": [],
   "source": [
    "class Solution:\n",
    "    def combinationSum(self, candidates: List[int], target: int) -> List[List[int]]:\n",
    "        # Solution 1: Recursive backtracking \n",
    "        # Time: O(2^target), recursive tree shows you branches at each node and the depth of tree is \n",
    "        # - limited by number of candidates, which is bound by target. \n",
    "        # Space: O()\n",
    "        result = []\n",
    "\n",
    "        def combinationSum_helper(i, cur):\n",
    "            # Base case\n",
    "            if sum(cur) == target:\n",
    "                result.append(cur.copy())\n",
    "                return\n",
    "            if i >= len(candidates) or sum(cur) > target:\n",
    "                return\n",
    "\n",
    "            # Recursive case\n",
    "            cur.append(candidates[i])\n",
    "            combinationSum_helper(i, cur)\n",
    "            cur.pop()\n",
    "            combinationSum_helper(i+1, cur)\n",
    "\n",
    "        combinationSum_helper(0, cur=[])\n",
    "        return result"
   ]
  },
  {
   "cell_type": "markdown",
   "metadata": {},
   "source": [
    "##### Edge Cases\n",
    "- "
   ]
  },
  {
   "cell_type": "markdown",
   "metadata": {},
   "source": [
    "##### Optimizations\n",
    "- "
   ]
  },
  {
   "cell_type": "markdown",
   "metadata": {},
   "source": [
    "##### Learnings\n",
    "- I liked how the solution video walks through the naïve approach, and shows why it wouldn't work, before going into solution. \n",
    "- "
   ]
  },
  {
   "cell_type": "markdown",
   "metadata": {},
   "source": []
  }
 ],
 "metadata": {
  "kernelspec": {
   "display_name": "base",
   "language": "python",
   "name": "python3"
  },
  "language_info": {
   "codemirror_mode": {
    "name": "ipython",
    "version": 3
   },
   "file_extension": ".py",
   "mimetype": "text/x-python",
   "name": "python",
   "nbconvert_exporter": "python",
   "pygments_lexer": "ipython3",
   "version": "3.9.7"
  }
 },
 "nbformat": 4,
 "nbformat_minor": 2
}
