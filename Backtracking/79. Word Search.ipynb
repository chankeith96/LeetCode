{
 "cells": [
  {
   "cell_type": "markdown",
   "metadata": {},
   "source": [
    "[79. Word Search](https://leetcode.com/problems/word-search/)"
   ]
  },
  {
   "cell_type": "code",
   "execution_count": null,
   "metadata": {},
   "outputs": [],
   "source": [
    "class Solution:\n",
    "    def exist(self, board: List[List[str]], word: str) -> bool:\n",
    "        # # Solution 0: Iterative. DID NOT FIGURE OUT\n",
    "        # # - start in top left corner and iterate through all cells until find first letter\n",
    "        # # - after a letter is found, search neighbor cells for next letter. What if multiple neighbors with next letter?\n",
    "        # # - update current position to next letter, if found\n",
    "        # ROWS, COLS = len(board), len(board[0])\n",
    "\n",
    "        # i = 0\n",
    "        # while i < len(word):\n",
    "        #     next_letter = word[i]\n",
    "        #     for r in range(ROWS):\n",
    "        #         for c in range(COLS):\n",
    "        #             cur = board[r][c]\n",
    "        #             if cur == word[0]:\n",
    "        #                 # Find neighbors\n",
    "        #                 if c-1 < 0:\n",
    "        #                     left = None\n",
    "        #                 else:\n",
    "        #                     left = board[r][c-1]\n",
    "        #                 if c+1 >= COLS:\n",
    "        #                     right = None\n",
    "        #                 else:\n",
    "        #                     right = board[r][c+1]\n",
    "        #                 if r-1 < 0:\n",
    "        #                     top = None\n",
    "        #                 else:\n",
    "        #                     top = board[r-1][c]\n",
    "        #                 if r+1 >= ROWS:\n",
    "        #                     bot = None\n",
    "        #                 else:\n",
    "        #                     bot = board[r+1][c]\n",
    "\n",
    "        # Solution 1: Recursive\n",
    "        # - run DFS from every position on the grid\n",
    "        # Time: O(n * m * dfs) == O(n*m*4^len(word))\n",
    "        # Solution: O(len(word))\n",
    "        ROWS, COLS = len(board), len(board[0])\n",
    "        path = set() #makes sure we don't revist a cell more than once\n",
    "\n",
    "        def dfs(r, c, i):\n",
    "            # Base cases\n",
    "            if i == len(word):\n",
    "                return True\n",
    "            if ((r < 0 or c < 0) or\n",
    "                (r >= ROWS or c >= COLS) or\n",
    "                board[r][c] != word[i] or\n",
    "                (r,c) in path):\n",
    "                return False\n",
    "\n",
    "            # Recursive case\n",
    "            path.add((r,c))\n",
    "            res = (dfs(r-1, c, i+1) or\n",
    "                    dfs(r+1, c, i+1) or\n",
    "                    dfs(r, c-1, i+1) or\n",
    "                    dfs(r, c+1, i+1))\n",
    "            path.remove((r,c))\n",
    "            return res\n",
    "\n",
    "        for r in range(ROWS):\n",
    "            for c in range(COLS):\n",
    "                if dfs(r, c, 0):\n",
    "                    return True\n",
    "        return False"
   ]
  },
  {
   "cell_type": "markdown",
   "metadata": {},
   "source": [
    "##### Edge Cases\n",
    "- imagine if the word was very long and wrapped around into itself (like the game 'snake'). That's why we need to keep track of the whole path, not just the most recent position, to make sure one cell is not used multiple times. "
   ]
  },
  {
   "cell_type": "markdown",
   "metadata": {},
   "source": [
    "##### Optimizations\n",
    "- "
   ]
  },
  {
   "cell_type": "markdown",
   "metadata": {},
   "source": [
    "##### Learnings\n",
    "- took a LOT of time to understand this. I first tried solving it iteratively, but couldn't wrap my brain around it so just switched to recursive. I tried iterative bc that's how my brain first thought to solve this, but recursion was just easier. \n",
    "- There is a semi-standard [format](https://youtu.be/A80YzvNwqXA?si=hjDli-V-O5kc3so0&t=255) for backtracking problems. You need to keep track of 3 things: solutions, current state, and candidates (i.e. the branches in recursion tree).\n",
    "    - solution = True or False\n",
    "    - state = path\n",
    "    - candidates = left, right, top, bot "
   ]
  },
  {
   "cell_type": "markdown",
   "metadata": {},
   "source": []
  }
 ],
 "metadata": {
  "kernelspec": {
   "display_name": "base",
   "language": "python",
   "name": "python3"
  },
  "language_info": {
   "codemirror_mode": {
    "name": "ipython",
    "version": 3
   },
   "file_extension": ".py",
   "mimetype": "text/x-python",
   "name": "python",
   "nbconvert_exporter": "python",
   "pygments_lexer": "ipython3",
   "version": "3.9.7"
  }
 },
 "nbformat": 4,
 "nbformat_minor": 2
}
