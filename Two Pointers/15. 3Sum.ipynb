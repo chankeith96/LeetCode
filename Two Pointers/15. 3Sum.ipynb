{
 "cells": [
  {
   "cell_type": "markdown",
   "metadata": {},
   "source": [
    "[15. 3Sum](https://leetcode.com/problems/3sum/)"
   ]
  },
  {
   "cell_type": "code",
   "execution_count": null,
   "metadata": {},
   "outputs": [],
   "source": [
    "class Solution:\n",
    "    def threeSum(self, nums: List[int]) -> List[List[int]]:\n",
    "        # Solution 1: triple for loop to find every triplet combo\n",
    "        # Time: O(n^3)\n",
    "        # Space: O(1) \n",
    "\n",
    "\n",
    "        # Solution 2: sort list then two pointer\n",
    "        # - sort the list, O(nlogn)\n",
    "        # - iterate through the list with left_ptr on next smallest value and right_ptr on largest value, O(n)\n",
    "        # - move left and right pointers accordingly to find if equals to 0, O(n)\n",
    "        # - add triplet combos to results list \n",
    "        # - return results list\n",
    "        # Time: O(n^2) \n",
    "        # Space: O(n), i think i could make results a set to decrease to O(1)\n",
    "        nums.sort()\n",
    "        answer = []\n",
    "\n",
    "        # while num <= 0:\n",
    "        for i in range(len(nums)): \n",
    "            if i > 0 and nums[i] == nums[i-1]:\n",
    "                continue\n",
    "            # Optimization: if nums[i] >0, then threeSum can't == 0\n",
    "            if nums[i] > 0:\n",
    "                break\n",
    "\n",
    "            left_ptr = i + 1\n",
    "            right_ptr = len(nums) - 1\n",
    "            while left_ptr < right_ptr:\n",
    "                threeSum = nums[i] + nums[left_ptr] + nums[right_ptr]\n",
    "                if threeSum < 0:\n",
    "                    left_ptr += 1\n",
    "                elif threeSum > 0:\n",
    "                    right_ptr -= 1\n",
    "                else:\n",
    "                    answer.append([nums[i], nums[left_ptr], nums[right_ptr]])\n",
    "                    left_ptr += 1\n",
    "                    while nums[left_ptr] == nums[left_ptr - 1] and left_ptr < right_ptr:\n",
    "                        left_ptr += 1\n",
    "        return answer\n"
   ]
  },
  {
   "cell_type": "markdown",
   "metadata": {},
   "source": [
    "##### Edge Cases\n",
    "- len(nums) < 3\n",
    "- duplicate triplets\n",
    "- no possible triplets\n",
    "- [-2, -2, 0, 0, 2, 2] # Good test case from Neetcode"
   ]
  },
  {
   "cell_type": "markdown",
   "metadata": {},
   "source": [
    "##### Optimizations\n",
    "- if nums[i] >0, then threeSum can't == 0"
   ]
  },
  {
   "cell_type": "markdown",
   "metadata": {},
   "source": [
    "##### Learnings\n",
    "- good use of variable threeSum to clean up the code a tad. "
   ]
  },
  {
   "cell_type": "markdown",
   "metadata": {},
   "source": []
  }
 ],
 "metadata": {
  "kernelspec": {
   "display_name": "base",
   "language": "python",
   "name": "python3"
  },
  "language_info": {
   "codemirror_mode": {
    "name": "ipython",
    "version": 3
   },
   "file_extension": ".py",
   "mimetype": "text/x-python",
   "name": "python",
   "nbconvert_exporter": "python",
   "pygments_lexer": "ipython3",
   "version": "3.9.7"
  }
 },
 "nbformat": 4,
 "nbformat_minor": 2
}
