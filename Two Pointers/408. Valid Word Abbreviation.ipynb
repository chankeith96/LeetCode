{
 "cells": [
  {
   "cell_type": "markdown",
   "metadata": {},
   "source": [
    "[408. Valid Word Abbreviation](https://leetcode.com/problems/valid-word-abbreviation/description/)"
   ]
  },
  {
   "cell_type": "code",
   "execution_count": null,
   "metadata": {},
   "outputs": [],
   "source": [
    "class Solution:\n",
    "    def validWordAbbreviation(self, word: str, abbr: str) -> bool:\n",
    "        # Solution 1\n",
    "        # Time: O(n)\n",
    "        # Space: O(1)\n",
    "        \n",
    "        abbr_ptr = 0\n",
    "        word_ptr = 0 \n",
    "        word_len = len(word)\n",
    "        abbr_len = len(abbr)\n",
    "\n",
    "        while abbr_ptr < abbr_len and word_ptr < word_len:\n",
    "            # extract the number from abbr\n",
    "            if abbr[abbr_ptr].isdigit():\n",
    "                start = abbr_ptr\n",
    "                if abbr[start] == \"0\":\n",
    "                    return False\n",
    "                while abbr_ptr < abbr_len and abbr[abbr_ptr].isdigit():\n",
    "                    abbr_ptr += 1\n",
    "                end = abbr_ptr\n",
    "                num = int(abbr[start:end])\n",
    "                word_ptr += num\n",
    "\n",
    "            # not numeric \n",
    "            else: \n",
    "                if abbr[abbr_ptr] != word[word_ptr]:\n",
    "                    return False\n",
    "                abbr_ptr += 1\n",
    "                word_ptr += 1\n",
    "\n",
    "        return (abbr_ptr == abbr_len) and (word_ptr == word_len)"
   ]
  },
  {
   "cell_type": "markdown",
   "metadata": {},
   "source": [
    "##### Edge Cases\n",
    "- "
   ]
  },
  {
   "cell_type": "markdown",
   "metadata": {},
   "source": [
    "##### Optimizations\n",
    "- "
   ]
  },
  {
   "cell_type": "markdown",
   "metadata": {},
   "source": [
    "##### Learnings\n",
    "- Most solutions use another approach to shift the word pointer. \n",
    "    ```currentNumber = 0\n",
    "    while abbr_ptr < abbr_len and abbr[abbr_ptr].isdigit():\n",
    "        if currentChar.isdigit():\n",
    "        currentNumber = currentNumber * 10 + int(currentChar)\n",
    "    ```\n",
    "- Also I need to use easier variable names"
   ]
  },
  {
   "cell_type": "markdown",
   "metadata": {},
   "source": []
  }
 ],
 "metadata": {
  "kernelspec": {
   "display_name": "base",
   "language": "python",
   "name": "python3"
  },
  "language_info": {
   "codemirror_mode": {
    "name": "ipython",
    "version": 3
   },
   "file_extension": ".py",
   "mimetype": "text/x-python",
   "name": "python",
   "nbconvert_exporter": "python",
   "pygments_lexer": "ipython3",
   "version": "3.9.7"
  }
 },
 "nbformat": 4,
 "nbformat_minor": 2
}
