{
 "cells": [
  {
   "cell_type": "markdown",
   "metadata": {},
   "source": [
    "[LeetCode 217. Contains Duplicate](https://leetcode.com/problems/contains-duplicate/)"
   ]
  },
  {
   "cell_type": "markdown",
   "metadata": {},
   "source": [
    "Edge Cases:\n",
    "- nums is empty\n",
    "- nums contains only 1 int"
   ]
  },
  {
   "cell_type": "code",
   "execution_count": null,
   "metadata": {},
   "outputs": [],
   "source": [
    "class Solution:\n",
    "    def containsDuplicate(self, nums: List[int]) -> bool:\n",
    "        # Edge case: only <2 int in nums\n",
    "        if len(nums) == 0 or len(nums) == 1:\n",
    "            return False\n",
    "        \n",
    "        # # Solution 1: Brute Force\n",
    "        # Time Complexity: O(n^2) where n is length of nums\n",
    "        # Space Complexity: O(1)\n",
    "        # for i in range(len(nums)):\n",
    "        #     for j in range(i+1, len(nums)):\n",
    "        #         if nums[i] == nums[j]:\n",
    "        #             return True\n",
    "        # return False\n",
    "\n",
    "        # # Solution 2: Sort first\n",
    "        # Time Complexity: O(nlogn)\n",
    "        # Space Complexity: O(1)\n",
    "        # nums_sorted = nums.sort()\n",
    "        # left_ptr = 0\n",
    "        # right_ptr = 1\n",
    "        # while right_ptr < len(nums):\n",
    "        #     if nums[left_ptr] == nums[right_ptr]:\n",
    "        #         return True\n",
    "        #     else:\n",
    "        #         left_ptr += 1\n",
    "        #         right_ptr += 1\n",
    "        # return False\n",
    "\n",
    "        # # Solution 3: Hashmap (dict in Python)\n",
    "        # Time Complexity: O(n)\n",
    "        # Space Complexity: O(n)\n",
    "        # hashmap = {}\n",
    "        # for num in nums:\n",
    "        #     if num not in hashmap.keys(): # can just use if num not in hashmap\n",
    "        #         hashmap[num] = True\n",
    "        #     else:\n",
    "        #         return True\n",
    "        # return False\n",
    "\n",
    "        # Solution 4: Hashset (set in Python)\n",
    "        # Time Complexity: O(n)\n",
    "        # Space Complexity: O(n)\n",
    "        hashset = set()\n",
    "        for num in nums:\n",
    "            if num in hashset:\n",
    "                return True\n",
    "            else:\n",
    "                hashset.add(num)\n",
    "        return False\n",
    "\n",
    "            "
   ]
  },
  {
   "cell_type": "markdown",
   "metadata": {},
   "source": [
    "Notes\n",
    "- Solution 1 obviously not ideal, but still need to be comfortable coding this. As easy as it looks, I did not implement the double for loop as quickly as I should've.\n",
    "- first for loop should actually have \"-1\" like ```for i in range(len(nums) - 1):``` so that j is never an out-of-bounds index, but luckily Python's range function handles the case where i+1 is > len(nums) by returning empty list. \n",
    "- My best solution was Solution 3, but it makes more sense to use hash set instead of hashmap bc there are no associated values with each key\n",
    "- can just use ```if num not in hashmap``` instead of iterating through hashmap.keys"
   ]
  }
 ],
 "metadata": {
  "kernelspec": {
   "display_name": "base",
   "language": "python",
   "name": "python3"
  },
  "language_info": {
   "codemirror_mode": {
    "name": "ipython",
    "version": 3
   },
   "file_extension": ".py",
   "mimetype": "text/x-python",
   "name": "python",
   "nbconvert_exporter": "python",
   "pygments_lexer": "ipython3",
   "version": "3.9.7"
  }
 },
 "nbformat": 4,
 "nbformat_minor": 2
}
