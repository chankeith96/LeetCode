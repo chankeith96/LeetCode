{
 "cells": [
  {
   "cell_type": "markdown",
   "metadata": {},
   "source": [
    "[242. Valid Anagram](https://leetcode.com/problems/valid-anagram/description/)"
   ]
  },
  {
   "cell_type": "code",
   "execution_count": null,
   "metadata": {},
   "outputs": [],
   "source": [
    "class Solution:\n",
    "    def isAnagram(self, s: str, t: str) -> bool:\n",
    "        # Optimization\n",
    "        if len(s) != len(t):\n",
    "            return False\n",
    "        \n",
    "        # # Solution 1: Sorting\n",
    "        # # Time Complexity: O(nlogn) where n = length of s&t\n",
    "        # # Space Complexity: O(1)\n",
    "        # if sorted(s) == sorted(t):\n",
    "        #     return True\n",
    "        # return False\n",
    "\n",
    "\n",
    "        # Solution 2: Hashmap \n",
    "        # Time Complexity: O(n)\n",
    "        # Space Complexity: O(n) \n",
    "        hashmap = {}\n",
    "        for char in s:\n",
    "            if char in hashmap:\n",
    "                hashmap[char] += 1\n",
    "            else:\n",
    "                hashmap[char] = 1\n",
    "        \n",
    "        for char in t:\n",
    "            if char in hashmap:\n",
    "                hashmap[char] -= 1\n",
    "                if hashmap[char] < 0:\n",
    "                    return False\n",
    "            else:\n",
    "                return False\n",
    "\n",
    "        for val in hashmap.values():\n",
    "            if val > 0:\n",
    "                return False\n",
    "        return True\n",
    "        "
   ]
  }
 ],
 "metadata": {
  "language_info": {
   "name": "python"
  }
 },
 "nbformat": 4,
 "nbformat_minor": 2
}
