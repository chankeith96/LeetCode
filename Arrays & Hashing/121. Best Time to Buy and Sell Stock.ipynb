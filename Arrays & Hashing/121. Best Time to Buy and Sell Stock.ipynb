{
 "cells": [
  {
   "cell_type": "markdown",
   "metadata": {},
   "source": [
    "[11. Container With Most Water](https://leetcode.com/problems/container-with-most-water/)"
   ]
  },
  {
   "cell_type": "code",
   "execution_count": null,
   "metadata": {},
   "outputs": [],
   "source": [
    "class Solution:\n",
    "    def maxArea(self, height: List[int]) -> int:\n",
    "        # # Solution 1: calculate area for every combination of height\n",
    "        # # - double for loop and iterate through all combos\n",
    "        # # Time: O(n^2)\n",
    "        # # Space: O(1) \n",
    "        # max_area = 0\n",
    "        # for i in range(len(height) - 1): \n",
    "        #     for j in range(i+1, len(height)):\n",
    "        #         area = (j - i) * min(height[i], height[j])\n",
    "        #         max_area = max(max_area, area)\n",
    "        \n",
    "        # return max_area\n",
    "\n",
    "        # Solution 2: two pointer\n",
    "        # - use left and right pointers at beginning and end or array, respectively\n",
    "        # - shift whichever pointer is at lower height until pointers cross \n",
    "        # Time: O(n)\n",
    "        # Space: O(1)\n",
    "        left_ptr = 0\n",
    "        right_ptr = len(height) - 1\n",
    "        max_area = 0\n",
    "        while left_ptr < right_ptr:\n",
    "            area = (right_ptr - left_ptr) * min(height[left_ptr], height[right_ptr])\n",
    "            max_area = max(max_area, area)\n",
    "            if height[left_ptr] <= height[right_ptr]:\n",
    "                left_ptr += 1\n",
    "            else:\n",
    "                right_ptr -= 1\n",
    "        return max_area"
   ]
  },
  {
   "cell_type": "markdown",
   "metadata": {},
   "source": [
    "##### Edge Cases\n",
    "- len(height) == 1\n",
    "- max(height) == 0 \n",
    "- "
   ]
  },
  {
   "cell_type": "markdown",
   "metadata": {},
   "source": [
    "##### Optimizations\n",
    "- "
   ]
  },
  {
   "cell_type": "markdown",
   "metadata": {},
   "source": [
    "##### Learnings\n",
    "- The key to the two pointer solution is: shift whichever pointer is at lower height until pointers cross. I was originally thinking along the lines of whichever pointer would increase in height. "
   ]
  }
 ],
 "metadata": {
  "kernelspec": {
   "display_name": "base",
   "language": "python",
   "name": "python3"
  },
  "language_info": {
   "codemirror_mode": {
    "name": "ipython",
    "version": 3
   },
   "file_extension": ".py",
   "mimetype": "text/x-python",
   "name": "python",
   "nbconvert_exporter": "python",
   "pygments_lexer": "ipython3",
   "version": "3.9.7"
  }
 },
 "nbformat": 4,
 "nbformat_minor": 2
}
