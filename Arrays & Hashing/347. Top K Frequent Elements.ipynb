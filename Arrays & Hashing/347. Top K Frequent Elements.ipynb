{
 "cells": [
  {
   "cell_type": "markdown",
   "metadata": {},
   "source": [
    "[347. Top K Frequent Elements](https://leetcode.com/problems/top-k-frequent-elements/)"
   ]
  },
  {
   "cell_type": "code",
   "execution_count": null,
   "metadata": {},
   "outputs": [],
   "source": [
    "from collections import Counter\n",
    "\n",
    "class Solution:\n",
    "    def topKFrequent(self, nums: List[int], k: int) -> List[int]:\n",
    "        # # Solution 1:\n",
    "        # # - iterate through nums O(n) \n",
    "        # # - keep a hashmap of each element and frequency O(1)\n",
    "        # # - sort hashmap by frequency O(nlogn)\n",
    "        # # - return k most frequent \n",
    "        # # Time: O(nlogn)\n",
    "        # # Space: O(n)\n",
    "        # hashmap = {} \n",
    "        # for num in nums:\n",
    "        #     if num in hashmap:\n",
    "        #         hashmap[num] += 1\n",
    "        #     else:\n",
    "        #         hashmap[num] = 1\n",
    "        \n",
    "        # # Sort hashmap\n",
    "        # sorted_hashmap = sorted(hashmap.items(), key=lambda x: x[1], reverse=True)\n",
    "        # return [x[0] for x in sorted_hashmap[:k]]\n",
    "\n",
    "        # Solution 2: Heap\n",
    "        # Similar idea to Solution 1 but uses heap for time optimization\n",
    "        # Time: O(Nlogk)\n",
    "        # Space: \n",
    "        min_heap = []\n",
    "        # build a hash map element -> its frequency\n",
    "        counter = Counter(nums)\n",
    "\n",
    "        for value, frequency in dic_map.items(): # O(N)\n",
    "            heapq.heappush(min_heap, (frequency, value)) # O(logk)\n",
    "\n",
    "            if len(min_heap) > k:\n",
    "                heapq.heappop(min_heap) # O(logk)\n",
    "\n",
    "        # return the values of the final heap in a list\n",
    "        return [num for freq, num in min_heap]\n",
    "\n",
    "        # Solution 2: \n",
    "        # - iterate through nums O(n) \n",
    "        # - keep a hashmap of each element and frequency O(1)\n",
    "        # - create a list with len(nums) O(1) \n",
    "        #     - each index position represents the frequency\n",
    "        # - iterate hashmap and store each key in the list of lists O(n) \n",
    "        # - iterate through the list backwards O(n)\n",
    "        # - return k most frequent\n",
    "        # Time: O(n)\n",
    "        # Space: O(n)\n",
    "        hashmap = {} \n",
    "        for num in nums:\n",
    "            if num in hashmap:\n",
    "                hashmap[num] += 1\n",
    "            else:\n",
    "                hashmap[num] = 1\n",
    "        \n",
    "        # Create list of lists \n",
    "        freq_list = [[] for x in range(len(nums)+1)]\n",
    "        for key, value in hashmap.items():\n",
    "            freq_list[value].append(key)\n",
    "        \n",
    "        answer = []\n",
    "        counter = 0\n",
    "        freq_list.reverse()\n",
    "        for item in freq_list:\n",
    "            if len(item) > 0:\n",
    "                for num in item:\n",
    "                    if counter < k:\n",
    "                        answer.append(num)\n",
    "                        counter += 1\n",
    "        return answer"
   ]
  },
  {
   "cell_type": "markdown",
   "metadata": {},
   "source": [
    "##### Edge Cases\n",
    "- k > nunique values in nums\n",
    "- nums is empty\n",
    "- "
   ]
  },
  {
   "cell_type": "markdown",
   "metadata": {},
   "source": [
    "##### Optimizations"
   ]
  },
  {
   "cell_type": "markdown",
   "metadata": {},
   "source": [
    "##### Learnings\n",
    "- Solution 1: You can sort a dict using syntax: sorted_hashmap = sorted(hashmap.items(), key=lambda x: x[1], reverse=True), but it returns a list bc dict can't be sorted.\n",
    "- Solution 2 is a unique approach/clever trick"
   ]
  }
 ],
 "metadata": {
  "kernelspec": {
   "display_name": "base",
   "language": "python",
   "name": "python3"
  },
  "language_info": {
   "codemirror_mode": {
    "name": "ipython",
    "version": 3
   },
   "file_extension": ".py",
   "mimetype": "text/x-python",
   "name": "python",
   "nbconvert_exporter": "python",
   "pygments_lexer": "ipython3",
   "version": "3.9.7"
  }
 },
 "nbformat": 4,
 "nbformat_minor": 2
}
