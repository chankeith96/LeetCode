{
 "cells": [
  {
   "cell_type": "markdown",
   "metadata": {},
   "source": [
    "[659. Encode and Decode Strings](https://www.lintcode.com/problem/659/)"
   ]
  },
  {
   "cell_type": "code",
   "execution_count": null,
   "metadata": {},
   "outputs": [],
   "source": [
    "class Solution:\n",
    "    \"\"\"\n",
    "    @param: strs: a list of strings\n",
    "    @return: encodes a list of strings to a single string.\n",
    "    \"\"\"\n",
    "    def encode(self, strs):\n",
    "        # write your code here\n",
    "        # Solution 1:\n",
    "        # - delimiter includes an integer for length of string plus \"#\" \n",
    "        # Time: O(n)\n",
    "        # Space: O(1)\n",
    "        encoded_str = \"\"\n",
    "        for s in strs:\n",
    "            encoded_str += str(len(s)) + \"#\" + s\n",
    "        return encoded_str\n",
    "        \n",
    "    \"\"\"\n",
    "    @param: str: A string\n",
    "    @return: decodes a single string to a list of strings\n",
    "    \"\"\"\n",
    "    def decode(self, str):\n",
    "        # write your code here\n",
    "        # Solution 1: \n",
    "        # Time: O(n)\n",
    "        # Space: O(1) \n",
    "        answer = []\n",
    "        i = 0\n",
    "        while i < len(str):\n",
    "            j = i \n",
    "            while str[j] != \"#\":\n",
    "                j += 1\n",
    "            str_length = int(str[i:j])\n",
    "            decoded_str = str[j+1: j+str_length+1]\n",
    "            answer.append(decoded_str)\n",
    "            i = j + 1 + str_length \n",
    "        return answer"
   ]
  },
  {
   "cell_type": "markdown",
   "metadata": {},
   "source": [
    "##### Edge Cases\n",
    "- "
   ]
  },
  {
   "cell_type": "markdown",
   "metadata": {},
   "source": [
    "##### Optimizations"
   ]
  },
  {
   "cell_type": "markdown",
   "metadata": {},
   "source": [
    "##### Learnings\n",
    "- good to understand why other simple delimiters don't work\n",
    "- i.e. why not just concatenate all strings without delimiter? Bc don't know where each string starts and ends\n",
    "- why not simple delimiter like \"#\"? Bc what if a string contains the delimiter like \"hello#world\", which would be decoded as two strings\n",
    "- concatenating strings using +=, not .append() like for lists\n"
   ]
  }
 ],
 "metadata": {
  "kernelspec": {
   "display_name": "base",
   "language": "python",
   "name": "python3"
  },
  "language_info": {
   "codemirror_mode": {
    "name": "ipython",
    "version": 3
   },
   "file_extension": ".py",
   "mimetype": "text/x-python",
   "name": "python",
   "nbconvert_exporter": "python",
   "pygments_lexer": "ipython3",
   "version": "3.9.7"
  }
 },
 "nbformat": 4,
 "nbformat_minor": 2
}
