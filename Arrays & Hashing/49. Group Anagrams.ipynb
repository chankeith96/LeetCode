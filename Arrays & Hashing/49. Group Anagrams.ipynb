{
 "cells": [
  {
   "cell_type": "markdown",
   "metadata": {},
   "source": [
    "[49. Group Anagrams](https://leetcode.com/problems/group-anagrams/)"
   ]
  },
  {
   "cell_type": "code",
   "execution_count": null,
   "metadata": {},
   "outputs": [],
   "source": [
    "class Solution:\n",
    "    def groupAnagrams(self, strs: List[str]) -> List[List[str]]:\n",
    "        # Solution 1: Brute Force - check if each word pair is anagram\n",
    "        # - pop out a string\n",
    "        # - check if each string is anagram\n",
    "            # - anagram checking will take O(m) time and O(m) space, where m = length of longest string\n",
    "        # - if yes, then store in a list with original word\n",
    "        # - if no, then leave it alone\n",
    "        # - after each pass, append list to result list\n",
    "        # - repeat until no more words in input list\n",
    "        # - return result list\n",
    "        # Time: O((n^2)*m) where n is length of input strs. n^2 to compare each string pair\n",
    "        # Space: O(n+m) \n",
    "        # result = []\n",
    "        # for string in strs:\n",
    "        #     strs.remove(string)\n",
    "        #     print(strs)\n",
    "        #     group = [string]\n",
    "        #     for string2 in strs:\n",
    "        #         if self.is_anagram(string, string2):\n",
    "        #             strs.remove(string2)\n",
    "        #             group.append(string2)\n",
    "        #     result.append(group)\n",
    "        # return result\n",
    "\n",
    "        # Solution 2: Brute Force - using extra index for tracking\n",
    "        # result = []\n",
    "        # processed_index = [False for i in strs]\n",
    "        \n",
    "        # for i in range(len(strs)):\n",
    "        #     if processed_index[i] == True:\n",
    "        #         continue\n",
    "        #     else:\n",
    "        #         group = [strs[i]]\n",
    "        #         for j in range(i+1, len(strs)):\n",
    "        #             if self.is_anagram(strs[i], strs[j]):\n",
    "        #                 group.append(strs[j])\n",
    "        #                 processed_index[j] = True\n",
    "        #         result.append(group)\n",
    "        # return result\n",
    "\n",
    "    # def is_anagram(self, str1, str2):\n",
    "    #     if len(str1) != len(str2):\n",
    "    #         return False\n",
    "        \n",
    "    #     hashmap = {}\n",
    "    #     for char in str1:\n",
    "    #         if char in hashmap:\n",
    "    #             hashmap[char] += 1\n",
    "    #         else:\n",
    "    #             hashmap[char] = 1\n",
    "        \n",
    "    #     for char in str2:\n",
    "    #         if char in hashmap:\n",
    "    #             hashmap[char] -= 1\n",
    "    #             if hashmap[char] < 0:\n",
    "    #                 return False\n",
    "    #         else:\n",
    "    #             return False\n",
    "    #     return True\n",
    "\n",
    "        # Solution 3: sort words + hashmap\n",
    "        # - iterate through input list and sort each string\n",
    "        # - check if sorted string is in hashmap\n",
    "        # - value of hashmap is a list of strings associated with the sorted key\n",
    "        # - iterate through hashmap and append each value to result list\n",
    "        # - return result list \n",
    "        # Time: O(n*mlogm)\n",
    "        # Space: O(n)\n",
    "        hashmap = {}\n",
    "        for string in strs:\n",
    "            sorted_string = ''.join(sorted(string))\n",
    "            # if sorted_string in hashmap:\n",
    "            #     # hashmap[sorted_string] = hashmap[sorted_string].append(string). Note: This doesn't work bc append() doesn't return anything\n",
    "            #     hashmap[sorted_string].append(string)\n",
    "            # else:\n",
    "            #     hashmap[sorted_string] = [string]\n",
    "            hashmap[sorted_string] = hashmap.get(sorted_string, [])\n",
    "            hashmap[sorted_string].append(string) \n",
    "\n",
    "        result = []\n",
    "        for value in hashmap.values():\n",
    "            result.append(value)\n",
    "\n",
    "        return result"
   ]
  },
  {
   "cell_type": "markdown",
   "metadata": {},
   "source": [
    "##### Edge Cases\n",
    "- input strs only contains 1 element\n",
    "- all input strings compose 1 anagram group\n",
    "- all input strings are not anagrams"
   ]
  },
  {
   "cell_type": "markdown",
   "metadata": {},
   "source": [
    "##### Optimizations"
   ]
  },
  {
   "cell_type": "markdown",
   "metadata": {},
   "source": [
    "##### Learnings\n",
    "- List.append() doesn't return any value (returns None). So can't use \"hashmap[sorted_string] = hashmap[sorted_string].append(string)\"\n",
    "- This is different than pandas df.append() which returns a new df that must be stored\n",
    "- Don't try to work with List.remove() in for loops? It gets pretty tricky \n",
    "- A sorted string becomes a list and needs to be joined to return a string"
   ]
  }
 ],
 "metadata": {
  "kernelspec": {
   "display_name": "base",
   "language": "python",
   "name": "python3"
  },
  "language_info": {
   "codemirror_mode": {
    "name": "ipython",
    "version": 3
   },
   "file_extension": ".py",
   "mimetype": "text/x-python",
   "name": "python",
   "nbconvert_exporter": "python",
   "pygments_lexer": "ipython3",
   "version": "3.9.7"
  }
 },
 "nbformat": 4,
 "nbformat_minor": 2
}
