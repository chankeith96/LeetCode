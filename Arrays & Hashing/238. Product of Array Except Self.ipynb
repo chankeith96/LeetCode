{
 "cells": [
  {
   "cell_type": "markdown",
   "metadata": {},
   "source": [
    "[238. Product of Array Except Self](https://leetcode.com/problems/product-of-array-except-self/)"
   ]
  },
  {
   "cell_type": "code",
   "execution_count": null,
   "metadata": {},
   "outputs": [],
   "source": [
    "class Solution:\n",
    "    def productExceptSelf(self, nums: List[int]) -> List[int]:\n",
    "        # # Solution 1: Prefix and postfix \n",
    "        # # - create prefix and postfix arrays with length = len(nums)\n",
    "        # # - result array is element-wise product of prefix and postfix array\n",
    "        # # Time: O(n) where n is length of nums\n",
    "        # # Space: O(n) \n",
    "        # prefix_array = [1 for i in range(len(nums))]\n",
    "        # postfix_array = [1 for i in range(len(nums))]\n",
    "\n",
    "        # for i in range(1, len(nums)):\n",
    "        #     prefix_array[i] = prefix_array[i-1] * nums[i-1]\n",
    "        # for j in reversed(range(len(nums) - 1)): # or range(len(nums) - 2, -1, -1)\n",
    "        #     postfix_array[j] = postfix_array[j+1] * nums[j+1] \n",
    "\n",
    "        # answer = []\n",
    "        # for idx in range(len(prefix_array)):\n",
    "        #     answer.append(prefix_array[idx] * postfix_array[idx])\n",
    "        \n",
    "        # return answer\n",
    "\n",
    "\n",
    "        # Solution 2: Prefix and postfix in place \n",
    "        # - create a result array of len(nums)\n",
    "        # - do a forward pass on nums to calculate prefixes and store in result\n",
    "        # - do a backward pass on nums to calculate postfix and multiple in result \n",
    "        # Time: O(n) where n is length of nums\n",
    "        # Space: O(1) \n",
    "        answer = [1 for i in range(len(nums))]\n",
    "        for i in range (1, len(nums)): \n",
    "            answer[i] =  answer[i-1] * nums[i-1]\n",
    "\n",
    "        postfix = nums[-1]\n",
    "        for j in reversed(range(len(nums) - 1)): # or range(len(nums) - 2, -1, -1)\n",
    "            answer[j] = answer[j] * postfix\n",
    "            postfix *= nums[j]\n",
    "\n",
    "        return answer"
   ]
  },
  {
   "cell_type": "markdown",
   "metadata": {},
   "source": [
    "##### Edge Cases\n",
    "- "
   ]
  },
  {
   "cell_type": "markdown",
   "metadata": {},
   "source": [
    "##### Optimizations"
   ]
  },
  {
   "cell_type": "markdown",
   "metadata": {},
   "source": [
    "##### Learnings\n",
    "- when working with reversed ranges, you can use either reversed() or negative step. In this case, using reversed() is more intuitive and simpler\n",
    "- reversed(range(len(nums) - 1)): # or range(len(nums) - 2, -1, -1)\n"
   ]
  }
 ],
 "metadata": {
  "kernelspec": {
   "display_name": "base",
   "language": "python",
   "name": "python3"
  },
  "language_info": {
   "codemirror_mode": {
    "name": "ipython",
    "version": 3
   },
   "file_extension": ".py",
   "mimetype": "text/x-python",
   "name": "python",
   "nbconvert_exporter": "python",
   "pygments_lexer": "ipython3",
   "version": "3.9.7"
  }
 },
 "nbformat": 4,
 "nbformat_minor": 2
}
