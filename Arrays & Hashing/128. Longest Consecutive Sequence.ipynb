{
 "cells": [
  {
   "cell_type": "markdown",
   "metadata": {},
   "source": [
    "[128. Longest Consecutive Sequence](https://leetcode.com/problems/longest-consecutive-sequence/)"
   ]
  },
  {
   "cell_type": "code",
   "execution_count": null,
   "metadata": {},
   "outputs": [],
   "source": [
    "class Solution:\n",
    "    def longestConsecutive(self, nums: List[int]) -> int:\n",
    "        # Solution 1: sort (doesn't quite work yet since apparently input=[0,1,1,2] has output=3, not 2)\n",
    "        # Time: O(nlogn) where n is len(nums)\n",
    "        # Space: O(1) \n",
    "        # nums.sort()\n",
    "        # max_consec_length = 0\n",
    "        # consec_length = 1\n",
    "        # if len(nums) == 1:\n",
    "        #     return consec_length\n",
    "\n",
    "        # for i in range(len(nums) - 1):\n",
    "        #     if nums[i+1] == nums[i] + 1:\n",
    "        #         consec_length += 1\n",
    "        #     else:\n",
    "        #         consec_length = 1\n",
    "        #     if consec_length > max_consec_length:\n",
    "        #         max_consec_length = consec_length\n",
    "        # return max_consec_length \n",
    "\n",
    "        # Solution 2: hashset\n",
    "        # Time: O(n)\n",
    "        # Space: O(n)\n",
    "        hashset = set(nums)\n",
    "        max_consec_length = 0\n",
    "\n",
    "        for num in hashset:\n",
    "            # num_copy = num\n",
    "            consec_length = 1\n",
    "            if (num - 1) not in hashset:\n",
    "                while num + consec_length in hashset:\n",
    "                    consec_length += 1    \n",
    "                    # num += 1\n",
    "            # if consec_length > max_consec_length:\n",
    "            #     max_consec_length = consec_length\n",
    "            max_consec_length = max(consec_length, max_consec_length)\n",
    "        return max_consec_length\n",
    "\n"
   ]
  },
  {
   "cell_type": "markdown",
   "metadata": {},
   "source": [
    "##### Edge Cases\n",
    "- no consecutive sequences\n",
    "- everything is one consecutive sequence\n",
    "- no numbers in nums\n",
    "- "
   ]
  },
  {
   "cell_type": "markdown",
   "metadata": {},
   "source": [
    "##### Optimizations"
   ]
  },
  {
   "cell_type": "markdown",
   "metadata": {},
   "source": [
    "##### Learnings\n",
    "- \n"
   ]
  }
 ],
 "metadata": {
  "kernelspec": {
   "display_name": "base",
   "language": "python",
   "name": "python3"
  },
  "language_info": {
   "codemirror_mode": {
    "name": "ipython",
    "version": 3
   },
   "file_extension": ".py",
   "mimetype": "text/x-python",
   "name": "python",
   "nbconvert_exporter": "python",
   "pygments_lexer": "ipython3",
   "version": "3.9.7"
  }
 },
 "nbformat": 4,
 "nbformat_minor": 2
}
