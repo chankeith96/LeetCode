{
 "cells": [
  {
   "cell_type": "markdown",
   "metadata": {},
   "source": [
    "[1. Two Sum](https://leetcode.com/problems/two-sum/)"
   ]
  },
  {
   "cell_type": "code",
   "execution_count": null,
   "metadata": {},
   "outputs": [],
   "source": [
    "class Solution:\n",
    "    def twoSum(self, nums: List[int], target: int) -> List[int]:\n",
    "        # # Solution 1: Brute Force\n",
    "\t\t# # Time Complexity: O(n^2) where n = length of nums\n",
    "\t\t# # Space Complexity: O(1)\n",
    "        # for i in range(len(nums)-1):\n",
    "        #     for j in range(i+1, len(nums)):\n",
    "        #         if nums[j] == target-nums[i]:\n",
    "        #             return [i,j]\n",
    "\n",
    "\n",
    "        # Solution 2: Hashmap \n",
    "        # Time Complexity: O(n)\n",
    "        # Space Complexity: O(n) \n",
    "        hashmap = {}\n",
    "        for i in range(len(nums)):\n",
    "            complement = target-nums[i]\n",
    "            if complement in hashmap:\n",
    "                return [hashmap[complement], i]\n",
    "            else:\n",
    "                hashmap[nums[i]] = i \n",
    "    "
   ]
  }
 ],
 "metadata": {
  "language_info": {
   "name": "python"
  }
 },
 "nbformat": 4,
 "nbformat_minor": 2
}
