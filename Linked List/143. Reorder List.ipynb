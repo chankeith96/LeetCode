{
 "cells": [
  {
   "cell_type": "markdown",
   "metadata": {},
   "source": [
    "[143. Reorder List](https://leetcode.com/problems/reorder-list/)"
   ]
  },
  {
   "cell_type": "code",
   "execution_count": null,
   "metadata": {},
   "outputs": [],
   "source": [
    "# Definition for singly-linked list.\n",
    "# class ListNode:\n",
    "#     def __init__(self, val=0, next=None):\n",
    "#         self.val = val\n",
    "#         self.next = next\n",
    "class Solution:\n",
    "    def reorderList(self, head: Optional[ListNode]) -> None:\n",
    "        \"\"\"\n",
    "        Do not return anything, modify head in-place instead.\n",
    "        \"\"\"\n",
    "        # Solution 0:\n",
    "        # - make a copy of linked list, O(n)\n",
    "        # - reverse the linked list, O(n)\n",
    "        # - iterate through both lists, O(n)\n",
    "\n",
    "        # Solution 1: Use external array\n",
    "        # - make an array using all of the nodes\n",
    "        # - use two pointers to iterate through the array from both ends\n",
    "        # - build the output list\n",
    "        # Time: O(n)\n",
    "        # Space: O(n) \n",
    "\n",
    "        # Solution 2: \n",
    "        # - Split the linked list into 2 halves using slow and fast pointer\n",
    "        # - Reverse the 2nd half of the linked list\n",
    "        # - Use two pointers to point to the heads of both half linked lists\n",
    "        # - reorder the list, making sure to store nodes in temp vars\n",
    "        # Time: O(n)\n",
    "        # Space: O(1)\n",
    "\n",
    "        # Find the middle\n",
    "        slow = head\n",
    "        fast = head.next\n",
    "        while (fast != None) and (fast.next != None):\n",
    "            slow = slow.next\n",
    "            fast = fast.next.next\n",
    "\n",
    "        # Reverse second half\n",
    "        second_head = slow.next\n",
    "        slow.next = None\n",
    "        second_head = self.reverseList(second_head)\n",
    "        first_head = head\n",
    "\n",
    "        # Merge two halves\n",
    "        while second_head:\n",
    "            first_temp = first_head.next\n",
    "            first_head.next = second_head\n",
    "            \n",
    "            second_temp = second_head.next\n",
    "            second_head.next = first_temp\n",
    "\n",
    "            first_head = first_temp\n",
    "            second_head = second_temp\n",
    "\n",
    "    def reverseList(self, head: Optional[ListNode]) -> Optional[ListNode]:\n",
    "        left = None\n",
    "        right = head\n",
    "\n",
    "        while right != None:\n",
    "            temp = right.next\n",
    "            right.next = left\n",
    "            left = right\n",
    "            right = temp\n",
    "        return left\n"
   ]
  },
  {
   "cell_type": "markdown",
   "metadata": {},
   "source": [
    "##### Edge Cases\n",
    "- odd number of nodes\n",
    "- even number of nodes\n",
    "- empty linked list\n",
    "- only 1 node"
   ]
  },
  {
   "cell_type": "markdown",
   "metadata": {},
   "source": [
    "##### Optimizations\n",
    "- "
   ]
  },
  {
   "cell_type": "markdown",
   "metadata": {},
   "source": [
    "##### Learnings\n",
    "- Important to know how to find the middle. Took me a while to implement\n",
    "- Use a slow and fast pointer to split linked list in half. Stop when fast pointer is at last node or is None. \n",
    "    - initialize slow = head, and fast = head.next\n",
    "- Need to make sure last node in first half points to None\n",
    "- "
   ]
  }
 ],
 "metadata": {
  "kernelspec": {
   "display_name": "base",
   "language": "python",
   "name": "python3"
  },
  "language_info": {
   "codemirror_mode": {
    "name": "ipython",
    "version": 3
   },
   "file_extension": ".py",
   "mimetype": "text/x-python",
   "name": "python",
   "nbconvert_exporter": "python",
   "pygments_lexer": "ipython3",
   "version": "3.9.7"
  }
 },
 "nbformat": 4,
 "nbformat_minor": 2
}
