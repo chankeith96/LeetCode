{
 "cells": [
  {
   "cell_type": "markdown",
   "metadata": {},
   "source": [
    "[206. Reverse Linked List](https://leetcode.com/problems/reverse-linked-list/)"
   ]
  },
  {
   "cell_type": "code",
   "execution_count": null,
   "metadata": {},
   "outputs": [],
   "source": [
    "# Definition for singly-linked list.\n",
    "# class ListNode:\n",
    "#     def __init__(self, val=0, next=None):\n",
    "#         self.val = val\n",
    "#         self.next = next\n",
    "class Solution:\n",
    "    def reverseList(self, head: Optional[ListNode]) -> Optional[ListNode]:\n",
    "        \n",
    "        # # Solution 1: Recursive\n",
    "        # # Time: O(n)\n",
    "        # # Space: O(n)\n",
    "        # node = head\n",
    "        # new_head = head\n",
    "\n",
    "        # # Edge case\n",
    "        # if node == None:\n",
    "        #   return None\n",
    "\n",
    "        # # Base case\n",
    "        # if node.next == None:\n",
    "        #   return new_head\n",
    "        # # Recursive case\n",
    "        # else:\n",
    "        #   new_head = self.reverseList(node.next)\n",
    "        #   node.next.next = node\n",
    "        #   node.next = None\n",
    "        # return new_head\n",
    "          \n",
    "        # Solution 2: Two Pointers\n",
    "        # - set left pointer to null, right pointer to head. \n",
    "        # - set right.next to left\n",
    "        # - move right pointer to right.next. This means we'll have to have stored righ.next \n",
    "        # Time: O(n) \n",
    "        # Space: O(1)\n",
    "        left = None\n",
    "        right = head\n",
    "\n",
    "        while right != None:\n",
    "            temp = right.next\n",
    "            right.next = left\n",
    "            left = right\n",
    "            right = temp\n",
    "        return left"
   ]
  },
  {
   "cell_type": "markdown",
   "metadata": {},
   "source": [
    "##### Edge Cases\n",
    "- \n"
   ]
  },
  {
   "cell_type": "markdown",
   "metadata": {},
   "source": [
    "##### Optimizations\n",
    "- "
   ]
  },
  {
   "cell_type": "markdown",
   "metadata": {},
   "source": [
    "##### Learnings\n",
    "- For linked lists, it's better to name the pointers as \"prev\" and \"curr\" rather than \"left\" and \"right\"\n",
    "- Remember to draw out a recursive tree to help you think through Time/Space complexity for recursion problems. It really helps! \n",
    "- Format your code with \"# Base case\" and \"# Recursive case\". Just a trick to help make stopping conditions clear in your head"
   ]
  }
 ],
 "metadata": {
  "kernelspec": {
   "display_name": "base",
   "language": "python",
   "name": "python3"
  },
  "language_info": {
   "codemirror_mode": {
    "name": "ipython",
    "version": 3
   },
   "file_extension": ".py",
   "mimetype": "text/x-python",
   "name": "python",
   "nbconvert_exporter": "python",
   "pygments_lexer": "ipython3",
   "version": "3.9.7"
  }
 },
 "nbformat": 4,
 "nbformat_minor": 2
}
