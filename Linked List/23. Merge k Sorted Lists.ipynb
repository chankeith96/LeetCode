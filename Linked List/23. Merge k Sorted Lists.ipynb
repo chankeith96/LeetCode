{
 "cells": [
  {
   "cell_type": "markdown",
   "metadata": {},
   "source": [
    "[23. Merge k Sorted Lists](https://leetcode.com/problems/merge-k-sorted-lists/)"
   ]
  },
  {
   "cell_type": "code",
   "execution_count": null,
   "metadata": {},
   "outputs": [],
   "source": [
    "# Definition for singly-linked list.\n",
    "# class ListNode:\n",
    "#     def __init__(self, val=0, next=None):\n",
    "#         self.val = val\n",
    "#         self.next = next\n",
    "class Solution:\n",
    "    def mergeKLists(self, lists: List[Optional[ListNode]]) -> Optional[ListNode]:\n",
    "        # # Solution 0: k-pointers\n",
    "        # # - create k heads for each linked list in lists\n",
    "        # # - take the min of all k heads and add to answer\n",
    "        # # - increment that head and repeat \n",
    "        # # Time: O(km) where k = # of linked-lists in lists, and m = avg length of linked list\n",
    "        # # Space: O(km)\n",
    "        # min_val = min([head.val for head in lists]) # nvm I don't know how to find the corresponding node\n",
    "\n",
    "        # # Solution 1: iterate lists and keep merging first two linked lists\n",
    "        # # Time: O(n*k) where k = # of linked-lists in lists, and n = total # nodes\n",
    "        # # Space: O(1)\n",
    "\n",
    "        # # Edge case: lists is empty\n",
    "        # if len(lists) == 0:\n",
    "        #     return None \n",
    "\n",
    "        # answer = lists[0] \n",
    "        # for i in range(1, len(lists)):\n",
    "        #     answer = self.mergeTwoLists(answer, lists[i])\n",
    "        # return answer\n",
    "\n",
    "        # Solution 2: mergesort approach\n",
    "        # Time: O(nlogk)\n",
    "        # Space: O(1)\n",
    "        # Edge case: lists is empty\n",
    "        if len(lists) == 0:\n",
    "            return None \n",
    "\n",
    "        while len(lists) > 1:\n",
    "            merged_lists = [] \n",
    "            for i in range(0, len(lists), 2):\n",
    "                list1 = lists[i]\n",
    "                list2 = None\n",
    "                if i + 1 < len(lists):\n",
    "                    list2 = lists[i+1]\n",
    "                \n",
    "                merged_lists.append(self.mergeTwoLists(list1, list2))\n",
    "            lists = merged_lists\n",
    "        return lists[0] \n",
    "        \n",
    "        \n",
    "    def mergeTwoLists(self, list1: Optional[ListNode], list2: Optional[ListNode]) -> Optional[ListNode]:\n",
    "        # Time: O(n + m) \n",
    "        # Space: O(1)\n",
    "        dummy = ListNode()\n",
    "        ptr1 = list1\n",
    "        ptr2 = list2\n",
    "        answer_curr = dummy\n",
    "        \n",
    "        while ptr1 and ptr2:\n",
    "            # compare head nodes\n",
    "            if ptr1.val <= ptr2.val:\n",
    "                answer_curr.next = ptr1\n",
    "                ptr1 = ptr1.next\n",
    "            else:\n",
    "                answer_curr.next = ptr2\n",
    "                ptr2 = ptr2.next\n",
    "            answer_curr = answer_curr.next\n",
    "        \n",
    "        # If either list is empty, insert the rest \n",
    "        if ptr2 and ptr1 == None:\n",
    "            answer_curr.next = ptr2\n",
    "        elif ptr1 and ptr2 == None:\n",
    "            answer_curr.next = ptr1\n",
    "        return dummy.next"
   ]
  },
  {
   "cell_type": "markdown",
   "metadata": {},
   "source": [
    "##### Edge Cases\n",
    "- "
   ]
  },
  {
   "cell_type": "markdown",
   "metadata": {},
   "source": [
    "##### Optimizations\n",
    "- "
   ]
  },
  {
   "cell_type": "markdown",
   "metadata": {},
   "source": [
    "##### Learnings\n",
    "- Still haven't fully wrapped my mind around the time complexities"
   ]
  }
 ],
 "metadata": {
  "kernelspec": {
   "display_name": "base",
   "language": "python",
   "name": "python3"
  },
  "language_info": {
   "codemirror_mode": {
    "name": "ipython",
    "version": 3
   },
   "file_extension": ".py",
   "mimetype": "text/x-python",
   "name": "python",
   "nbconvert_exporter": "python",
   "pygments_lexer": "ipython3",
   "version": "3.9.7"
  }
 },
 "nbformat": 4,
 "nbformat_minor": 2
}
