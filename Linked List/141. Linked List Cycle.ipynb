{
 "cells": [
  {
   "cell_type": "markdown",
   "metadata": {},
   "source": [
    "[141. Linked List Cycle](https://leetcode.com/problems/linked-list-cycle/)"
   ]
  },
  {
   "cell_type": "code",
   "execution_count": null,
   "metadata": {},
   "outputs": [],
   "source": [
    "# Definition for singly-linked list.\n",
    "# class ListNode:\n",
    "#     def __init__(self, x):\n",
    "#         self.val = x\n",
    "#         self.next = None\n",
    "\n",
    "class Solution:\n",
    "    def hasCycle(self, head: Optional[ListNode]) -> bool:\n",
    "        # # Solution 1: Hashset\n",
    "        # # - traverse through linked list until hit None and store each node in hashset\n",
    "        # # - if node already exists in set, then return True\n",
    "        # # Time: O(n)\n",
    "        # # Space: O(n)\n",
    "        # ptr = head\n",
    "        # hashset = set()\n",
    "        # while ptr:\n",
    "        #     if ptr not in hashset:\n",
    "        #         hashset.add(ptr)\n",
    "        #         ptr = ptr.next\n",
    "        #     else: \n",
    "        #         return True\n",
    "        # return False\n",
    "\n",
    "        # Solution 2: slow and fast pointer\n",
    "        # - initialize slow and fast pointer at head\n",
    "        # - move slow pointer by 1, fast by 2. \n",
    "        # - if fast pointer hits None, then no cycle exists\n",
    "        # - if fast pointer laps slow pointer, then cycle exists\n",
    "        # Time: O(n)\n",
    "        # Space: O(1)\n",
    "        slow = head\n",
    "        fast = head\n",
    "\n",
    "        while fast and fast.next:\n",
    "            slow = slow.next\n",
    "            fast = fast.next.next\n",
    "            if fast == slow:\n",
    "                return True\n",
    "        return False"
   ]
  },
  {
   "cell_type": "markdown",
   "metadata": {},
   "source": [
    "##### Edge Cases\n",
    "- "
   ]
  },
  {
   "cell_type": "markdown",
   "metadata": {},
   "source": [
    "##### Optimizations\n",
    "- "
   ]
  },
  {
   "cell_type": "markdown",
   "metadata": {},
   "source": [
    "##### Learnings\n",
    "- "
   ]
  }
 ],
 "metadata": {
  "kernelspec": {
   "display_name": "base",
   "language": "python",
   "name": "python3"
  },
  "language_info": {
   "codemirror_mode": {
    "name": "ipython",
    "version": 3
   },
   "file_extension": ".py",
   "mimetype": "text/x-python",
   "name": "python",
   "nbconvert_exporter": "python",
   "pygments_lexer": "ipython3",
   "version": "3.9.7"
  }
 },
 "nbformat": 4,
 "nbformat_minor": 2
}
