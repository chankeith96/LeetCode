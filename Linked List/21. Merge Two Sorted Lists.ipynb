{
 "cells": [
  {
   "cell_type": "markdown",
   "metadata": {},
   "source": [
    "[21. Merge Two Sorted Lists](https://leetcode.com/problems/merge-two-sorted-lists/)"
   ]
  },
  {
   "cell_type": "code",
   "execution_count": null,
   "metadata": {},
   "outputs": [],
   "source": [
    "# Definition for singly-linked list.\n",
    "# class ListNode:\n",
    "#     def __init__(self, val=0, next=None):\n",
    "#         self.val = val\n",
    "#         self.next = next\n",
    "class Solution:\n",
    "    def mergeTwoLists(self, list1: Optional[ListNode], list2: Optional[ListNode]) -> Optional[ListNode]:\n",
    "        # Solution 1\n",
    "        # - create a dummy head node for the answer.\n",
    "        # - Iterate through both linked lists and compare the head nodes of each\n",
    "        # - pop the head node that is smaller, and move the pointer to the next node\n",
    "        # - add the popped node to the answer list\n",
    "        # - return dummy.next\n",
    "        # Time: O(n + m) \n",
    "        # Space: O(1)\n",
    "        dummy = ListNode()\n",
    "        ptr1 = list1\n",
    "        ptr2 = list2\n",
    "        answer_curr = dummy\n",
    "\n",
    "        # # Edge cases\n",
    "        # if ptr1 == None and ptr2 == None:\n",
    "        #     return None\n",
    "        # if ptr2 and ptr1 == None:\n",
    "        #     return ptr2\n",
    "        # elif ptr1 and ptr2 == None:\n",
    "        #     return ptr1\n",
    "        \n",
    "        while ptr1 and ptr2:\n",
    "            # compare head nodes\n",
    "            if ptr1.val <= ptr2.val:\n",
    "                answer_curr.next = ptr1\n",
    "                ptr1 = ptr1.next\n",
    "            else:\n",
    "                answer_curr.next = ptr2\n",
    "                ptr2 = ptr2.next\n",
    "            answer_curr = answer_curr.next\n",
    "        \n",
    "        # If either list is empty, insert the rest \n",
    "        if ptr2 and ptr1 == None:\n",
    "            answer_curr.next = ptr2\n",
    "        elif ptr1 and ptr2 == None:\n",
    "            answer_curr.next = ptr1\n",
    "        return dummy.next\n",
    "        "
   ]
  },
  {
   "cell_type": "markdown",
   "metadata": {},
   "source": [
    "##### Edge Cases\n",
    "- one list is null/empty\n",
    "- both lists are null/empty\n",
    "- repeated nodes\n"
   ]
  },
  {
   "cell_type": "markdown",
   "metadata": {},
   "source": [
    "##### Optimizations\n",
    "- "
   ]
  },
  {
   "cell_type": "markdown",
   "metadata": {},
   "source": [
    "##### Learnings\n",
    "- It's common to use a dummy node to point to the head of the linked list that we return. Return dummy.next"
   ]
  }
 ],
 "metadata": {
  "kernelspec": {
   "display_name": "base",
   "language": "python",
   "name": "python3"
  },
  "language_info": {
   "codemirror_mode": {
    "name": "ipython",
    "version": 3
   },
   "file_extension": ".py",
   "mimetype": "text/x-python",
   "name": "python",
   "nbconvert_exporter": "python",
   "pygments_lexer": "ipython3",
   "version": "3.9.7"
  }
 },
 "nbformat": 4,
 "nbformat_minor": 2
}
